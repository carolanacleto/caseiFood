{
 "cells": [
  {
   "cell_type": "code",
   "execution_count": 0,
   "metadata": {
    "application/vnd.databricks.v1+cell": {
     "cellMetadata": {
      "byteLimit": 2048000,
      "rowLimit": 10000
     },
     "inputWidgets": {},
     "nuid": "779caa43-d9ce-4afb-b8f4-497ec2c59324",
     "showTitle": false,
     "tableResultSettingsMap": {},
     "title": ""
    }
   },
   "outputs": [
    {
     "output_type": "execute_result",
     "data": {
      "text/plain": [
       "<pyspark.sql.connect.session.SparkSession at 0xffeda579f290>"
      ]
     },
     "execution_count": 1,
     "metadata": {},
     "output_type": "execute_result"
    }
   ],
   "source": [
    "spark"
   ]
  },
  {
   "cell_type": "code",
   "execution_count": 0,
   "metadata": {
    "application/vnd.databricks.v1+cell": {
     "cellMetadata": {
      "byteLimit": 2048000,
      "rowLimit": 10000
     },
     "inputWidgets": {},
     "nuid": "3187d95d-e01f-40fc-99aa-5f9e2506904a",
     "showTitle": true,
     "tableResultSettingsMap": {},
     "title": "Imports"
    }
   },
   "outputs": [],
   "source": [
    "# Standard Libraries\n",
    "from datetime import date, timedelta\n",
    "\n",
    "# Spark\n",
    "import pyspark.sql.functions as F\n",
    "from pyspark.sql import Window\n",
    "from pyspark.sql.functions import lower, get_json_object, when, coalesce, length\n",
    "from pyspark.sql.utils import AnalysisException\n",
    "from pyspark.sql import SparkSession"
   ]
  },
  {
   "cell_type": "markdown",
   "metadata": {
    "application/vnd.databricks.v1+cell": {
     "cellMetadata": {
      "byteLimit": 2048000,
      "rowLimit": 10000
     },
     "inputWidgets": {},
     "nuid": "d4f0571f-b9dc-4b98-aa96-e7c40f0211ca",
     "showTitle": false,
     "tableResultSettingsMap": {},
     "title": ""
    }
   },
   "source": [
    "# Análise descritiva dos dados"
   ]
  },
  {
   "cell_type": "markdown",
   "metadata": {
    "application/vnd.databricks.v1+cell": {
     "cellMetadata": {
      "byteLimit": 2048000,
      "rowLimit": 10000
     },
     "inputWidgets": {},
     "nuid": "031e71d0-0983-46a5-8802-083bfa8d8387",
     "showTitle": false,
     "tableResultSettingsMap": {},
     "title": ""
    }
   },
   "source": [
    "**Indicadores relevantes**"
   ]
  },
  {
   "cell_type": "code",
   "execution_count": 0,
   "metadata": {
    "application/vnd.databricks.v1+cell": {
     "cellMetadata": {
      "byteLimit": 2048000,
      "rowLimit": 10000
     },
     "inputWidgets": {},
     "nuid": "c0c92df2-31a1-4d25-a0c6-1d82c5d77d11",
     "showTitle": true,
     "tableResultSettingsMap": {},
     "title": "Teste A/B por grupo"
    }
   },
   "outputs": [
    {
     "output_type": "display_data",
     "data": {
      "text/html": [
       "<style scoped>\n",
       "  .table-result-container {\n",
       "    max-height: 300px;\n",
       "    overflow: auto;\n",
       "  }\n",
       "  table, th, td {\n",
       "    border: 1px solid black;\n",
       "    border-collapse: collapse;\n",
       "  }\n",
       "  th, td {\n",
       "    padding: 5px;\n",
       "  }\n",
       "  th {\n",
       "    text-align: left;\n",
       "  }\n",
       "</style><div class='table-result-container'><table class='table-result'><thead style='background-color: white'><tr><th>is_target</th><th>Freq</th><th>Percent</th></tr></thead><tbody><tr><td>target</td><td>445925</td><td>55.29</td></tr><tr><td>control</td><td>360542</td><td>44.71</td></tr></tbody></table></div>"
      ]
     },
     "metadata": {
      "application/vnd.databricks.v1+output": {
       "addedWidgets": {},
       "aggData": [],
       "aggError": "",
       "aggOverflow": false,
       "aggSchema": [],
       "aggSeriesLimitReached": false,
       "aggType": "",
       "arguments": {},
       "columnCustomDisplayInfos": {},
       "data": [
        [
         "target",
         445925,
         55.29
        ],
        [
         "control",
         360542,
         44.71
        ]
       ],
       "datasetInfos": [],
       "dbfsResultPath": null,
       "isJsonSchema": true,
       "metadata": {},
       "overflow": false,
       "plotOptions": {
        "customPlotOptions": {},
        "displayType": "table",
        "pivotAggregation": null,
        "pivotColumns": null,
        "xColumns": null,
        "yColumns": null
       },
       "removedWidgets": [],
       "schema": [
        {
         "metadata": "{}",
         "name": "is_target",
         "type": "\"string\""
        },
        {
         "metadata": "{}",
         "name": "Freq",
         "type": "\"long\""
        },
        {
         "metadata": "{}",
         "name": "Percent",
         "type": "\"double\""
        }
       ],
       "type": "table"
      }
     },
     "output_type": "display_data"
    }
   ],
   "source": [
    "df_rest = (spark.table(\"workspace.default.ab_test_ref\")\n",
    "    .groupBy(\"is_target\")\n",
    "    .agg(\n",
    "        F.count(\"is_target\").alias(\"Freq\"),\n",
    "        (F.count(\"is_target\") * 1.0 / F.sum(F.count(\"is_target\")).over(Window.partitionBy(F.lit(1))) * 100).alias(\"Percent\")\n",
    "    )\n",
    "    .withColumn(\"Percent\", F.round(\"Percent\", 2)) \n",
    "    .orderBy(F.desc(\"Freq\"))\n",
    ")\n",
    "\n",
    "display(df_rest)"
   ]
  },
  {
   "cell_type": "code",
   "execution_count": 0,
   "metadata": {
    "application/vnd.databricks.v1+cell": {
     "cellMetadata": {
      "byteLimit": 2048000,
      "rowLimit": 10000
     },
     "inputWidgets": {},
     "nuid": "06b4133f-79d2-4099-b24d-3f482ebae5b3",
     "showTitle": true,
     "tableResultSettingsMap": {},
     "title": "Sistema operacional"
    }
   },
   "outputs": [
    {
     "output_type": "display_data",
     "data": {
      "text/html": [
       "<style scoped>\n",
       "  .table-result-container {\n",
       "    max-height: 300px;\n",
       "    overflow: auto;\n",
       "  }\n",
       "  table, th, td {\n",
       "    border: 1px solid black;\n",
       "    border-collapse: collapse;\n",
       "  }\n",
       "  th, td {\n",
       "    padding: 5px;\n",
       "  }\n",
       "  th {\n",
       "    text-align: left;\n",
       "  }\n",
       "</style><div class='table-result-container'><table class='table-result'><thead style='background-color: white'><tr><th>origin_platform</th><th>Freq</th><th>Percent</th></tr></thead><tbody><tr><td>IOS</td><td>6421698</td><td>44.64</td></tr><tr><td>ANDROID</td><td>5643736</td><td>39.23</td></tr><tr><td>DESKTOP</td><td>2213381</td><td>15.39</td></tr><tr><td>WINDOWS_PHONE</td><td>106245</td><td>0.74</td></tr><tr><td>null</td><td>0</td><td>0.0</td></tr></tbody></table></div>"
      ]
     },
     "metadata": {
      "application/vnd.databricks.v1+output": {
       "addedWidgets": {},
       "aggData": [],
       "aggError": "",
       "aggOverflow": false,
       "aggSchema": [],
       "aggSeriesLimitReached": false,
       "aggType": "",
       "arguments": {},
       "columnCustomDisplayInfos": {},
       "data": [
        [
         "IOS",
         6421698,
         44.64
        ],
        [
         "ANDROID",
         5643736,
         39.23
        ],
        [
         "DESKTOP",
         2213381,
         15.39
        ],
        [
         "WINDOWS_PHONE",
         106245,
         0.74
        ],
        [
         null,
         0,
         0.0
        ]
       ],
       "datasetInfos": [],
       "dbfsResultPath": null,
       "isJsonSchema": true,
       "metadata": {},
       "overflow": false,
       "plotOptions": {
        "customPlotOptions": {},
        "displayType": "table",
        "pivotAggregation": null,
        "pivotColumns": null,
        "xColumns": null,
        "yColumns": null
       },
       "removedWidgets": [],
       "schema": [
        {
         "metadata": "{}",
         "name": "origin_platform",
         "type": "\"string\""
        },
        {
         "metadata": "{}",
         "name": "Freq",
         "type": "\"long\""
        },
        {
         "metadata": "{}",
         "name": "Percent",
         "type": "\"double\""
        }
       ],
       "type": "table"
      }
     },
     "output_type": "display_data"
    }
   ],
   "source": [
    "df_rest = (spark.table(\"workspace.default.result_order\")\n",
    "    .groupBy(\"origin_platform\")\n",
    "    .agg(\n",
    "        F.count(\"origin_platform\").alias(\"Freq\"),\n",
    "        (F.count(\"origin_platform\") * 1.0 / F.sum(F.count(\"origin_platform\")).over(Window.partitionBy(F.lit(1))) * 100).alias(\"Percent\")\n",
    "    )\n",
    "    .withColumn(\"Percent\", F.round(\"Percent\", 2)) \n",
    "    .orderBy(F.desc(\"Freq\"))\n",
    ")\n",
    "\n",
    "display(df_rest)"
   ]
  },
  {
   "cell_type": "code",
   "execution_count": 0,
   "metadata": {
    "application/vnd.databricks.v1+cell": {
     "cellMetadata": {
      "byteLimit": 2048000,
      "rowLimit": 10000
     },
     "inputWidgets": {},
     "nuid": "94ab7036-9a49-4f32-85dd-7b829821475a",
     "showTitle": true,
     "tableResultSettingsMap": {},
     "title": "Sistema operacional  por grupo"
    }
   },
   "outputs": [
    {
     "output_type": "display_data",
     "data": {
      "text/html": [
       "<style scoped>\n",
       "  .table-result-container {\n",
       "    max-height: 300px;\n",
       "    overflow: auto;\n",
       "  }\n",
       "  table, th, td {\n",
       "    border: 1px solid black;\n",
       "    border-collapse: collapse;\n",
       "  }\n",
       "  th, td {\n",
       "    padding: 5px;\n",
       "  }\n",
       "  th {\n",
       "    text-align: left;\n",
       "  }\n",
       "</style><div class='table-result-container'><table class='table-result'><thead style='background-color: white'><tr><th>is_target</th><th>origin_platform</th><th>Freq</th><th>Percent</th></tr></thead><tbody><tr><td>control</td><td>IOS</td><td>2671309</td><td>44.64</td></tr><tr><td>control</td><td>ANDROID</td><td>2353152</td><td>39.32</td></tr><tr><td>control</td><td>DESKTOP</td><td>913916</td><td>15.27</td></tr><tr><td>control</td><td>WINDOWS_PHONE</td><td>45521</td><td>0.76</td></tr><tr><td>control</td><td>null</td><td>2</td><td>0.0</td></tr><tr><td>target</td><td>IOS</td><td>3737801</td><td>44.74</td></tr><tr><td>target</td><td>ANDROID</td><td>3269173</td><td>39.13</td></tr><tr><td>target</td><td>DESKTOP</td><td>1286671</td><td>15.4</td></tr><tr><td>target</td><td>WINDOWS_PHONE</td><td>60351</td><td>0.72</td></tr></tbody></table></div>"
      ]
     },
     "metadata": {
      "application/vnd.databricks.v1+output": {
       "addedWidgets": {},
       "aggData": [],
       "aggError": "",
       "aggOverflow": false,
       "aggSchema": [],
       "aggSeriesLimitReached": false,
       "aggType": "",
       "arguments": {},
       "columnCustomDisplayInfos": {},
       "data": [
        [
         "control",
         "IOS",
         2671309,
         44.64
        ],
        [
         "control",
         "ANDROID",
         2353152,
         39.32
        ],
        [
         "control",
         "DESKTOP",
         913916,
         15.27
        ],
        [
         "control",
         "WINDOWS_PHONE",
         45521,
         0.76
        ],
        [
         "control",
         null,
         2,
         0.0
        ],
        [
         "target",
         "IOS",
         3737801,
         44.74
        ],
        [
         "target",
         "ANDROID",
         3269173,
         39.13
        ],
        [
         "target",
         "DESKTOP",
         1286671,
         15.4
        ],
        [
         "target",
         "WINDOWS_PHONE",
         60351,
         0.72
        ]
       ],
       "datasetInfos": [],
       "dbfsResultPath": null,
       "isJsonSchema": true,
       "metadata": {},
       "overflow": false,
       "plotOptions": {
        "customPlotOptions": {},
        "displayType": "table",
        "pivotAggregation": null,
        "pivotColumns": null,
        "xColumns": null,
        "yColumns": null
       },
       "removedWidgets": [],
       "schema": [
        {
         "metadata": "{}",
         "name": "is_target",
         "type": "\"string\""
        },
        {
         "metadata": "{}",
         "name": "origin_platform",
         "type": "\"string\""
        },
        {
         "metadata": "{}",
         "name": "Freq",
         "type": "\"long\""
        },
        {
         "metadata": "{}",
         "name": "Percent",
         "type": "\"double\""
        }
       ],
       "type": "table"
      }
     },
     "output_type": "display_data"
    }
   ],
   "source": [
    "df_rest = (spark.table(\"workspace.default.result_order\")\n",
    "    .filter(F.col(\"is_target\").isNotNull())\n",
    "    .groupBy(\"is_target\", \"origin_platform\")\n",
    "    .agg(\n",
    "        F.count(\"is_target\").alias(\"Freq\"),\n",
    "        (F.count(\"is_target\") * 1.0 / F.sum(F.count(\"is_target\")).over(Window.partitionBy(\"is_target\")) * 100).alias(\"Percent\")\n",
    "    )\n",
    "    .withColumn(\"Percent\", F.round(\"Percent\", 2)) \n",
    "    .orderBy(F.col(\"is_target\"), F.desc(\"Freq\"))\n",
    ")\n",
    "\n",
    "display(df_rest)"
   ]
  },
  {
   "cell_type": "code",
   "execution_count": 0,
   "metadata": {
    "application/vnd.databricks.v1+cell": {
     "cellMetadata": {
      "byteLimit": 2048000,
      "rowLimit": 10000
     },
     "inputWidgets": {},
     "nuid": "766c5d99-fe2a-422c-93a1-e9372c0726e7",
     "showTitle": true,
     "tableResultSettingsMap": {},
     "title": "Classificação preço do restaurante"
    }
   },
   "outputs": [
    {
     "output_type": "display_data",
     "data": {
      "text/html": [
       "<style scoped>\n",
       "  .table-result-container {\n",
       "    max-height: 300px;\n",
       "    overflow: auto;\n",
       "  }\n",
       "  table, th, td {\n",
       "    border: 1px solid black;\n",
       "    border-collapse: collapse;\n",
       "  }\n",
       "  th, td {\n",
       "    padding: 5px;\n",
       "  }\n",
       "  th {\n",
       "    text-align: left;\n",
       "  }\n",
       "</style><div class='table-result-container'><table class='table-result'><thead style='background-color: white'><tr><th>price_range</th><th>Freq</th><th>Percent</th></tr></thead><tbody><tr><td>3</td><td>5291046</td><td>36.78</td></tr><tr><td>1</td><td>3019261</td><td>20.99</td></tr><tr><td>2</td><td>2922875</td><td>20.32</td></tr><tr><td>4</td><td>2377156</td><td>16.53</td></tr><tr><td>5</td><td>774724</td><td>5.39</td></tr></tbody></table></div>"
      ]
     },
     "metadata": {
      "application/vnd.databricks.v1+output": {
       "addedWidgets": {},
       "aggData": [],
       "aggError": "",
       "aggOverflow": false,
       "aggSchema": [],
       "aggSeriesLimitReached": false,
       "aggType": "",
       "arguments": {},
       "columnCustomDisplayInfos": {},
       "data": [
        [
         3,
         5291046,
         36.78
        ],
        [
         1,
         3019261,
         20.99
        ],
        [
         2,
         2922875,
         20.32
        ],
        [
         4,
         2377156,
         16.53
        ],
        [
         5,
         774724,
         5.39
        ]
       ],
       "datasetInfos": [],
       "dbfsResultPath": null,
       "isJsonSchema": true,
       "metadata": {},
       "overflow": false,
       "plotOptions": {
        "customPlotOptions": {},
        "displayType": "table",
        "pivotAggregation": null,
        "pivotColumns": null,
        "xColumns": null,
        "yColumns": null
       },
       "removedWidgets": [],
       "schema": [
        {
         "metadata": "{}",
         "name": "price_range",
         "type": "\"integer\""
        },
        {
         "metadata": "{}",
         "name": "Freq",
         "type": "\"long\""
        },
        {
         "metadata": "{}",
         "name": "Percent",
         "type": "\"double\""
        }
       ],
       "type": "table"
      }
     },
     "output_type": "display_data"
    }
   ],
   "source": [
    "df_rest = (spark.table(\"workspace.default.result_order\")\n",
    "    .groupBy(\"price_range\")\n",
    "    .agg(\n",
    "        F.count(\"price_range\").alias(\"Freq\"),\n",
    "        (F.count(\"price_range\") * 1.0 / F.sum(F.count(\"price_range\")).over(Window.partitionBy(F.lit(1))) * 100).alias(\"Percent\")\n",
    "    )\n",
    "    .withColumn(\"Percent\", F.round(\"Percent\", 2)) \n",
    "    .orderBy(F.desc(\"Freq\"))\n",
    ")\n",
    "\n",
    "display(df_rest)"
   ]
  },
  {
   "cell_type": "code",
   "execution_count": 0,
   "metadata": {
    "application/vnd.databricks.v1+cell": {
     "cellMetadata": {
      "byteLimit": 2048000,
      "rowLimit": 10000
     },
     "inputWidgets": {},
     "nuid": "55f64b52-6c3d-4b02-a087-fd89c0e8f64e",
     "showTitle": true,
     "tableResultSettingsMap": {},
     "title": "Summary dos dados"
    }
   },
   "outputs": [
    {
     "output_type": "display_data",
     "data": {
      "text/html": [
       "<style scoped>\n",
       "  .table-result-container {\n",
       "    max-height: 300px;\n",
       "    overflow: auto;\n",
       "  }\n",
       "  table, th, td {\n",
       "    border: 1px solid black;\n",
       "    border-collapse: collapse;\n",
       "  }\n",
       "  th, td {\n",
       "    padding: 5px;\n",
       "  }\n",
       "  th {\n",
       "    text-align: left;\n",
       "  }\n",
       "</style><div class='table-result-container'><table class='table-result'><thead style='background-color: white'><tr><th>is_target</th><th>volume_pedidos</th><th>media_pedidos</th><th>mediana_pedidos</th><th>total_valor_pedido</th><th>media_valor_pedido</th><th>mediana_valor_pedido</th><th>desvio_padrao_valor_pedido</th></tr></thead><tbody><tr><td>control</td><td>1010738</td><td>2.80</td><td>1.00</td><td>48,432,203.49</td><td>47.92</td><td>39.90</td><td>146.14</td></tr><tr><td>target</td><td>1416677</td><td>3.18</td><td>2.00</td><td>67,729,986.45</td><td>47.81</td><td>39.90</td><td>48.78</td></tr></tbody></table></div>"
      ]
     },
     "metadata": {
      "application/vnd.databricks.v1+output": {
       "addedWidgets": {},
       "aggData": [],
       "aggError": "",
       "aggOverflow": false,
       "aggSchema": [],
       "aggSeriesLimitReached": false,
       "aggType": "",
       "arguments": {},
       "columnCustomDisplayInfos": {},
       "data": [
        [
         "control",
         1010738,
         "2.80",
         "1.00",
         "48,432,203.49",
         "47.92",
         "39.90",
         "146.14"
        ],
        [
         "target",
         1416677,
         "3.18",
         "2.00",
         "67,729,986.45",
         "47.81",
         "39.90",
         "48.78"
        ]
       ],
       "datasetInfos": [],
       "dbfsResultPath": null,
       "isJsonSchema": true,
       "metadata": {},
       "overflow": false,
       "plotOptions": {
        "customPlotOptions": {},
        "displayType": "table",
        "pivotAggregation": null,
        "pivotColumns": null,
        "xColumns": null,
        "yColumns": null
       },
       "removedWidgets": [],
       "schema": [
        {
         "metadata": "{}",
         "name": "is_target",
         "type": "\"string\""
        },
        {
         "metadata": "{}",
         "name": "volume_pedidos",
         "type": "\"long\""
        },
        {
         "metadata": "{}",
         "name": "media_pedidos",
         "type": "\"string\""
        },
        {
         "metadata": "{}",
         "name": "mediana_pedidos",
         "type": "\"string\""
        },
        {
         "metadata": "{}",
         "name": "total_valor_pedido",
         "type": "\"string\""
        },
        {
         "metadata": "{}",
         "name": "media_valor_pedido",
         "type": "\"string\""
        },
        {
         "metadata": "{}",
         "name": "mediana_valor_pedido",
         "type": "\"string\""
        },
        {
         "metadata": "{}",
         "name": "desvio_padrao_valor_pedido",
         "type": "\"string\""
        }
       ],
       "type": "table"
      }
     },
     "output_type": "display_data"
    }
   ],
   "source": [
    "# Número de pedidos únicos por usuário\n",
    "df_user_order_counts = (\n",
    "    spark.table(\"workspace.default.result_order\")\n",
    "    .filter(F.col(\"customer_id_order\").isNotNull())\n",
    "    # .filter(F.col(\"order_total_amount\") <= 5000)  # Retirando outilers\n",
    "    .dropDuplicates([\"order_id\"])  \n",
    "    .groupBy(\"customer_id_order\", \"is_target\")\n",
    "    .agg(\n",
    "        F.count(\"order_id\").alias(\"num_pedidos\")  # Pedidos únicos por usuário\n",
    "    )\n",
    ")\n",
    "\n",
    "# Métricas descritivas por grupo A/B\n",
    "df_result_order_final = (\n",
    "    spark.table(\"workspace.default.result_order\")\n",
    "    .filter(F.col(\"customer_id_order\").isNotNull())\n",
    "    # .filter(F.col(\"order_total_amount\") <= 5000)  \n",
    "    .dropDuplicates([\"order_id\"])  \n",
    "    .groupBy(\"is_target\")\n",
    "    .agg(\n",
    "        F.countDistinct(\"order_id\").alias(\"volume_pedidos\"),\n",
    "        F.avg(\"order_total_amount\").alias(\"media_valor_pedido\"),\n",
    "        F.stddev(\"order_total_amount\").alias(\"desvio_padrao_valor_pedido\"),\n",
    "        F.sum(\"order_total_amount\").alias(\"total_valor_pedido\"),\n",
    "        F.expr(\"percentile_approx(order_total_amount, 0.5)\").alias(\"mediana_valor_pedido\")\n",
    "    )\n",
    "    # Join com a tabela de usuários para trazer média e mediana de pedidos por usuário\n",
    "    .join(\n",
    "        df_user_order_counts.groupBy(\"is_target\").agg(\n",
    "            F.avg(\"num_pedidos\").alias(\"media_pedidos\"),\n",
    "            F.expr(\"percentile_approx(num_pedidos, 0.5)\").alias(\"mediana_pedidos\")\n",
    "        ),\n",
    "        on=\"is_target\",\n",
    "        how=\"inner\"\n",
    "    )\n",
    "    # Formatação das colunas para 2 casas decimais\n",
    "    .withColumn(\"media_pedidos\", F.format_number(\"media_pedidos\", 2))\n",
    "    .withColumn(\"mediana_pedidos\", F.format_number(\"mediana_pedidos\", 2))\n",
    "    .withColumn(\"media_valor_pedido\", F.format_number(\"media_valor_pedido\", 2))\n",
    "    .withColumn(\"mediana_valor_pedido\", F.format_number(\"mediana_valor_pedido\", 2))\n",
    "    .withColumn(\"desvio_padrao_valor_pedido\", F.format_number(\"desvio_padrao_valor_pedido\", 2))\n",
    "    .withColumn(\"total_valor_pedido\", F.format_number(\"total_valor_pedido\", 2))\n",
    "    .select(\n",
    "        \"is_target\", \n",
    "        \"volume_pedidos\",\n",
    "        \"media_pedidos\",\n",
    "        \"mediana_pedidos\",\n",
    "        \"total_valor_pedido\",\n",
    "        \"media_valor_pedido\",\n",
    "        \"mediana_valor_pedido\",\n",
    "        \"desvio_padrao_valor_pedido\"\n",
    "    )\n",
    ")\n",
    "\n",
    "display(df_result_order_final)\n"
   ]
  },
  {
   "cell_type": "markdown",
   "metadata": {
    "application/vnd.databricks.v1+cell": {
     "cellMetadata": {
      "byteLimit": 2048000,
      "rowLimit": 10000
     },
     "inputWidgets": {},
     "nuid": "fdf9e6af-ce88-4ba2-8ee7-16fdf26f3294",
     "showTitle": false,
     "tableResultSettingsMap": {},
     "title": ""
    }
   },
   "source": [
    "**Análise Descritiva do Teste A/B de Cupons**\n",
    "\n",
    "A análise descritiva dos resultados do teste A/B, que avaliou o impacto de uma estratégia de cupons na retenção de usuários, revelou insights importantes:\n",
    "\n",
    "- O grupo de teste, que recebeu o cupom, apresentou um volume total de pedidos significativamente maior, com média e mediana também superiores ao grupo de controle. Isso indica que a oferta de cupons contribuiu para aumentar a recorrência de pedidos por usuário — alinhado com o objetivo da campanha.\n",
    "\n",
    "- Em termos de valor total dos pedidos, o grupo teste e controle apresentou valores muito parecidos na média e na mediana, sugerindo que a estratégia de cupons não gerou pedidos significativamente mais baratos, mas sim mais frequentes.\n",
    "\n",
    "- Um ponto de atenção é o desvio padrão do valor dos pedidos, muito mais alto no grupo controle (R$ 146,14). Isso pode indicar a presença de outliers ou maior variabilidade no comportamento de compra — o que, por sua vez, pode estar relacionado à ausência de incentivo, deixando o comportamento mais disperso.\n",
    "\n",
    "- Por fim, esses dados justificam a realização de testes estatísticos para confirmar a significância das diferenças. A análise inicial, porém, indica que o uso de cupons pode ser uma estratégia eficaz para aumentar a frequência de pedidos sem comprometer o valor médio de compra, com potencial impacto positivo no faturamento total da base.\n",
    "\n",
    "\n",
    "_Conceito de mediana: a mediana é uma medida de tendência central que representa o valor que divide os dados ordenados em duas metades iguais. Em outras palavras, quando os dados são organizados em ordem crescente ou decrescente, a mediana é o valor que está exatamente no meio da distribuição, de modo que 50% dos dados são menores ou iguais a ele e 50% dos dados são maiores ou iguais a ele. A principal vantagem da mediana em relação à média é que ela é robusta a outliers (valores extremos). Isso significa que valores atípicos de valor de pedido, por exemplo, tornando-a uma medida mais representativa para distribuições assimétricas._"
   ]
  },
  {
   "cell_type": "code",
   "execution_count": 0,
   "metadata": {
    "application/vnd.databricks.v1+cell": {
     "cellMetadata": {
      "byteLimit": 2048000,
      "rowLimit": 10000
     },
     "inputWidgets": {},
     "nuid": "a99bbcbd-b54d-4c48-a2d5-3516d815c064",
     "showTitle": true,
     "tableResultSettingsMap": {},
     "title": "Target - Volume pedidos por usuário"
    }
   },
   "outputs": [
    {
     "output_type": "display_data",
     "data": {
      "text/html": [
       "<style scoped>\n",
       "  .table-result-container {\n",
       "    max-height: 300px;\n",
       "    overflow: auto;\n",
       "  }\n",
       "  table, th, td {\n",
       "    border: 1px solid black;\n",
       "    border-collapse: collapse;\n",
       "  }\n",
       "  th, td {\n",
       "    padding: 5px;\n",
       "  }\n",
       "  th {\n",
       "    text-align: left;\n",
       "  }\n",
       "</style><div class='table-result-container'><table class='table-result'><thead style='background-color: white'><tr><th>faixa_pedidos</th><th>qtd_clientes</th><th>pct_clientes</th></tr></thead><tbody><tr><td>1.Entre 1 a 3</td><td>328913</td><td>73.79</td></tr><tr><td>2.Entre 4 e 5</td><td>52014</td><td>11.67</td></tr><tr><td>3.Entre 6 e 10</td><td>44086</td><td>9.89</td></tr><tr><td>4.Entre 11 e 20</td><td>17004</td><td>3.81</td></tr><tr><td>5.Entre 21 e 50</td><td>3619</td><td>0.81</td></tr><tr><td>6.Acima de 50</td><td>108</td><td>0.02</td></tr></tbody></table></div>"
      ]
     },
     "metadata": {
      "application/vnd.databricks.v1+output": {
       "addedWidgets": {},
       "aggData": [],
       "aggError": "",
       "aggOverflow": false,
       "aggSchema": [],
       "aggSeriesLimitReached": false,
       "aggType": "",
       "arguments": {},
       "columnCustomDisplayInfos": {},
       "data": [
        [
         "1.Entre 1 a 3",
         328913,
         73.79
        ],
        [
         "2.Entre 4 e 5",
         52014,
         11.67
        ],
        [
         "3.Entre 6 e 10",
         44086,
         9.89
        ],
        [
         "4.Entre 11 e 20",
         17004,
         3.81
        ],
        [
         "5.Entre 21 e 50",
         3619,
         0.81
        ],
        [
         "6.Acima de 50",
         108,
         0.02
        ]
       ],
       "datasetInfos": [],
       "dbfsResultPath": null,
       "isJsonSchema": true,
       "metadata": {},
       "overflow": false,
       "plotOptions": {
        "customPlotOptions": {},
        "displayType": "table",
        "pivotAggregation": null,
        "pivotColumns": null,
        "xColumns": null,
        "yColumns": null
       },
       "removedWidgets": [],
       "schema": [
        {
         "metadata": "{}",
         "name": "faixa_pedidos",
         "type": "\"string\""
        },
        {
         "metadata": "{}",
         "name": "qtd_clientes",
         "type": "\"long\""
        },
        {
         "metadata": "{}",
         "name": "pct_clientes",
         "type": "\"double\""
        }
       ],
       "type": "table"
      }
     },
     "output_type": "display_data"
    }
   ],
   "source": [
    "# Filtra apenas clientes do grupo 'target'\n",
    "df_filtrado = (\n",
    "    df.filter(F.col(\"is_target\") == \"target\")\n",
    "      .select(\"customer_id\", \"order_id\")\n",
    "      .dropDuplicates()\n",
    ")\n",
    "\n",
    "# Contando quantos pedidos distintos cada cliente fez\n",
    "df_qtd_pedidos = (\n",
    "    df_filtrado.groupBy(\"customer_id\")\n",
    "    .agg(F.countDistinct(\"order_id\").alias(\"qtd_pedidos\"))\n",
    ")\n",
    "\n",
    "# Classificando os clientes nas faixas de quantidade de pedidos\n",
    "df_faixas = df_qtd_pedidos.withColumn(\n",
    "    \"faixa_pedidos\",\n",
    "    F.when(F.col(\"qtd_pedidos\").between(1, 3), \"1.Entre 1 a 3\")\n",
    "     .when(F.col(\"qtd_pedidos\").between(4, 5), \"2.Entre 4 e 5\")\n",
    "     .when(F.col(\"qtd_pedidos\").between(6, 10), \"3.Entre 6 e 10\")\n",
    "     .when(F.col(\"qtd_pedidos\").between(11, 20), \"4.Entre 11 e 20\")\n",
    "     .when(F.col(\"qtd_pedidos\").between(21, 50), \"5.Entre 21 e 50\")\n",
    "     .when(F.col(\"qtd_pedidos\") > 50, \"6.Acima de 50\")\n",
    ")\n",
    "\n",
    "# Contando quantos clientes estão em cada faixa\n",
    "df_resultado = (\n",
    "    df_faixas.groupBy(\"faixa_pedidos\")\n",
    "    .agg(F.count(\"*\").alias(\"qtd_clientes\"))\n",
    ")\n",
    "\n",
    "# Calculo do percentual de clientes por faixa\n",
    "window_total = Window.rowsBetween(Window.unboundedPreceding, Window.unboundedFollowing)\n",
    "\n",
    "df_final = df_resultado.withColumn(\n",
    "    \"pct_clientes\",\n",
    "    F.round(\n",
    "        F.col(\"qtd_clientes\") * 100.0 / F.sum(\"qtd_clientes\").over(window_total), 2\n",
    "    )\n",
    ").orderBy(\"faixa_pedidos\")\n",
    "\n",
    "df_final.display()"
   ]
  },
  {
   "cell_type": "code",
   "execution_count": 0,
   "metadata": {
    "application/vnd.databricks.v1+cell": {
     "cellMetadata": {
      "byteLimit": 2048000,
      "rowLimit": 10000
     },
     "inputWidgets": {},
     "nuid": "6864c732-02aa-4842-8ffb-c93f0f8aa1cb",
     "showTitle": true,
     "tableResultSettingsMap": {},
     "title": "Control - Volume pedidos por usuário"
    }
   },
   "outputs": [
    {
     "output_type": "display_data",
     "data": {
      "text/html": [
       "<style scoped>\n",
       "  .table-result-container {\n",
       "    max-height: 300px;\n",
       "    overflow: auto;\n",
       "  }\n",
       "  table, th, td {\n",
       "    border: 1px solid black;\n",
       "    border-collapse: collapse;\n",
       "  }\n",
       "  th, td {\n",
       "    padding: 5px;\n",
       "  }\n",
       "  th {\n",
       "    text-align: left;\n",
       "  }\n",
       "</style><div class='table-result-container'><table class='table-result'><thead style='background-color: white'><tr><th>faixa_pedidos</th><th>qtd_clientes</th><th>pct_clientes</th></tr></thead><tbody><tr><td>1.Entre 1 a 3</td><td>281893</td><td>78.21</td></tr><tr><td>2.Entre 4 e 5</td><td>34981</td><td>9.71</td></tr><tr><td>3.Entre 6 e 10</td><td>29695</td><td>8.24</td></tr><tr><td>4.Entre 11 e 20</td><td>11395</td><td>3.16</td></tr><tr><td>5.Entre 21 e 50</td><td>2386</td><td>0.66</td></tr><tr><td>6.Acima de 50</td><td>64</td><td>0.02</td></tr></tbody></table></div>"
      ]
     },
     "metadata": {
      "application/vnd.databricks.v1+output": {
       "addedWidgets": {},
       "aggData": [],
       "aggError": "",
       "aggOverflow": false,
       "aggSchema": [],
       "aggSeriesLimitReached": false,
       "aggType": "",
       "arguments": {},
       "columnCustomDisplayInfos": {},
       "data": [
        [
         "1.Entre 1 a 3",
         281893,
         78.21
        ],
        [
         "2.Entre 4 e 5",
         34981,
         9.71
        ],
        [
         "3.Entre 6 e 10",
         29695,
         8.24
        ],
        [
         "4.Entre 11 e 20",
         11395,
         3.16
        ],
        [
         "5.Entre 21 e 50",
         2386,
         0.66
        ],
        [
         "6.Acima de 50",
         64,
         0.02
        ]
       ],
       "datasetInfos": [],
       "dbfsResultPath": null,
       "isJsonSchema": true,
       "metadata": {},
       "overflow": false,
       "plotOptions": {
        "customPlotOptions": {},
        "displayType": "table",
        "pivotAggregation": null,
        "pivotColumns": null,
        "xColumns": null,
        "yColumns": null
       },
       "removedWidgets": [],
       "schema": [
        {
         "metadata": "{}",
         "name": "faixa_pedidos",
         "type": "\"string\""
        },
        {
         "metadata": "{}",
         "name": "qtd_clientes",
         "type": "\"long\""
        },
        {
         "metadata": "{}",
         "name": "pct_clientes",
         "type": "\"double\""
        }
       ],
       "type": "table"
      }
     },
     "output_type": "display_data"
    }
   ],
   "source": [
    "# Filtra apenas clientes do grupo 'control'\n",
    "df_filtrado = (\n",
    "    df.filter(F.col(\"is_target\") == \"control\")\n",
    "      .select(\"customer_id\", \"order_id\")\n",
    "      .dropDuplicates()\n",
    ")\n",
    "\n",
    "# Contando quantos pedidos distintos cada cliente fez\n",
    "df_qtd_pedidos = (\n",
    "    df_filtrado.groupBy(\"customer_id\")\n",
    "    .agg(F.countDistinct(\"order_id\").alias(\"qtd_pedidos\"))\n",
    ")\n",
    "\n",
    "# Classificando os clientes nas faixas de quantidade de pedidos\n",
    "df_faixas = df_qtd_pedidos.withColumn(\n",
    "    \"faixa_pedidos\",\n",
    "    F.when(F.col(\"qtd_pedidos\").between(1, 3), \"1.Entre 1 a 3\")\n",
    "     .when(F.col(\"qtd_pedidos\").between(4, 5), \"2.Entre 4 e 5\")\n",
    "     .when(F.col(\"qtd_pedidos\").between(6, 10), \"3.Entre 6 e 10\")\n",
    "     .when(F.col(\"qtd_pedidos\").between(11, 20), \"4.Entre 11 e 20\")\n",
    "     .when(F.col(\"qtd_pedidos\").between(21, 50), \"5.Entre 21 e 50\")\n",
    "     .when(F.col(\"qtd_pedidos\") > 50, \"6.Acima de 50\")\n",
    ")\n",
    "\n",
    "# Contando quantos clientes estão em cada faixa\n",
    "df_resultado = (\n",
    "    df_faixas.groupBy(\"faixa_pedidos\")\n",
    "    .agg(F.count(\"*\").alias(\"qtd_clientes\"))\n",
    ")\n",
    "\n",
    "# Calculo do percentual de clientes por faixa\n",
    "window_total = Window.rowsBetween(Window.unboundedPreceding, Window.unboundedFollowing)\n",
    "\n",
    "df_final = df_resultado.withColumn(\n",
    "    \"pct_clientes\",\n",
    "    F.round(\n",
    "        F.col(\"qtd_clientes\") * 100.0 / F.sum(\"qtd_clientes\").over(window_total), 2\n",
    "    )\n",
    ").orderBy(\"faixa_pedidos\")\n",
    "\n",
    "df_final.display()"
   ]
  },
  {
   "cell_type": "markdown",
   "metadata": {
    "application/vnd.databricks.v1+cell": {
     "cellMetadata": {},
     "inputWidgets": {},
     "nuid": "43bff2f2-9b46-4120-b0a2-2f5bf077262a",
     "showTitle": false,
     "tableResultSettingsMap": {},
     "title": ""
    }
   },
   "source": [
    "Observa-se que a grande maioria dos usuários, tanto no grupo target quanto no control , realizou entre 1 e 3 pedidos, o que indica um comportamento de uso pontual ou ocasional do serviço.\n",
    "\n",
    "No entanto, o grupo target (que recebeu o cupom) apresentou maior volume de usuários que realizam entre 6 e 20 pedidos, se comparado ao grupo controle.\n",
    "\n",
    "\n",
    "Apesar de sutis, esses resultados sugerem que o cupom pode ter incentivado um maior engajamento de parte dos usuários, levando-os a realizar mais pedidos do que o grupo controle.\n",
    "\n",
    "Essa tendência, ainda que não drástica, pode indicar um potencial de impacto positivo do cupom sobre a frequência de compra."
   ]
  },
  {
   "cell_type": "code",
   "execution_count": 0,
   "metadata": {
    "application/vnd.databricks.v1+cell": {
     "cellMetadata": {
      "byteLimit": 2048000,
      "rowLimit": 10000
     },
     "inputWidgets": {},
     "nuid": "68124d58-c0c7-4142-a4ad-6c757c0bcd89",
     "showTitle": true,
     "tableResultSettingsMap": {},
     "title": "Target - Volume pedidos por usuário"
    }
   },
   "outputs": [
    {
     "output_type": "display_data",
     "data": {
      "text/html": [
       "<style scoped>\n",
       "  .table-result-container {\n",
       "    max-height: 300px;\n",
       "    overflow: auto;\n",
       "  }\n",
       "  table, th, td {\n",
       "    border: 1px solid black;\n",
       "    border-collapse: collapse;\n",
       "  }\n",
       "  th, td {\n",
       "    padding: 5px;\n",
       "  }\n",
       "  th {\n",
       "    text-align: left;\n",
       "  }\n",
       "</style><div class='table-result-container'><table class='table-result'><thead style='background-color: white'><tr><th>faixa_valor</th><th>qtd_pedidos</th><th>pct_pedidos</th></tr></thead><tbody><tr><td>1. Até 30</td><td>458867</td><td>32.39</td></tr><tr><td>2. Entre 31 e 50</td><td>491718</td><td>34.71</td></tr><tr><td>3. Entre 51 e 80</td><td>307993</td><td>21.74</td></tr><tr><td>4. Entre 81 e 100</td><td>69914</td><td>4.94</td></tr><tr><td>5. Entre 101 e 200</td><td>79170</td><td>5.59</td></tr><tr><td>6. Entre 201 e 500</td><td>8763</td><td>0.62</td></tr><tr><td>7. Acima de 500</td><td>252</td><td>0.02</td></tr></tbody></table></div>"
      ]
     },
     "metadata": {
      "application/vnd.databricks.v1+output": {
       "addedWidgets": {},
       "aggData": [],
       "aggError": "",
       "aggOverflow": false,
       "aggSchema": [],
       "aggSeriesLimitReached": false,
       "aggType": "",
       "arguments": {},
       "columnCustomDisplayInfos": {},
       "data": [
        [
         "1. Até 30",
         458867,
         32.39
        ],
        [
         "2. Entre 31 e 50",
         491718,
         34.71
        ],
        [
         "3. Entre 51 e 80",
         307993,
         21.74
        ],
        [
         "4. Entre 81 e 100",
         69914,
         4.94
        ],
        [
         "5. Entre 101 e 200",
         79170,
         5.59
        ],
        [
         "6. Entre 201 e 500",
         8763,
         0.62
        ],
        [
         "7. Acima de 500",
         252,
         0.02
        ]
       ],
       "datasetInfos": [],
       "dbfsResultPath": null,
       "isJsonSchema": true,
       "metadata": {},
       "overflow": false,
       "plotOptions": {
        "customPlotOptions": {},
        "displayType": "table",
        "pivotAggregation": null,
        "pivotColumns": null,
        "xColumns": null,
        "yColumns": null
       },
       "removedWidgets": [],
       "schema": [
        {
         "metadata": "{}",
         "name": "faixa_valor",
         "type": "\"string\""
        },
        {
         "metadata": "{}",
         "name": "qtd_pedidos",
         "type": "\"long\""
        },
        {
         "metadata": "{}",
         "name": "pct_pedidos",
         "type": "\"double\""
        }
       ],
       "type": "table"
      }
     },
     "output_type": "display_data"
    }
   ],
   "source": [
    "from pyspark.sql import functions as F\n",
    "from pyspark.sql import Window\n",
    "\n",
    "# Filtra pedidos distintos do grupo target\n",
    "df_pedidos = (\n",
    "    df.filter(F.col(\"is_target\") == \"target\")\n",
    "      .select(\"order_id\", \"order_total_amount\")\n",
    "      .dropDuplicates()\n",
    ")\n",
    "\n",
    "# Classificando cada pedido em uma faixa de valor\n",
    "df_faixas = df_pedidos.withColumn(\n",
    "    \"faixa_valor\",\n",
    "    F.when((F.col(\"order_total_amount\") >= 0) & (F.col(\"order_total_amount\") <= 30), \"1. Até 30\")\n",
    "     .when((F.col(\"order_total_amount\") > 30) & (F.col(\"order_total_amount\") <= 50), \"2. Entre 31 e 50\")\n",
    "     .when((F.col(\"order_total_amount\") > 50) & (F.col(\"order_total_amount\") <= 80), \"3. Entre 51 e 80\")\n",
    "     .when((F.col(\"order_total_amount\") > 80) & (F.col(\"order_total_amount\") <= 100), \"4. Entre 81 e 100\")\n",
    "     .when((F.col(\"order_total_amount\") > 100) & (F.col(\"order_total_amount\") <= 200), \"5. Entre 101 e 200\")\n",
    "     .when((F.col(\"order_total_amount\") > 200) & (F.col(\"order_total_amount\") <= 500), \"6. Entre 201 e 500\")\n",
    "     .when(F.col(\"order_total_amount\") > 500, \"7. Acima de 500\")\n",
    ")\n",
    "\n",
    "# Contando quantos pedidos distintos há por faixa\n",
    "df_grouped = df_faixas.groupBy(\"faixa_valor\").agg(\n",
    "    F.countDistinct(\"order_id\").alias(\"qtd_pedidos\")\n",
    ")\n",
    "\n",
    "# Calculo do percentual de pedidos por faixa\n",
    "window_total = Window.rowsBetween(Window.unboundedPreceding, Window.unboundedFollowing)\n",
    "\n",
    "df_final = df_grouped.withColumn(\n",
    "    \"pct_pedidos\",\n",
    "    F.round(\n",
    "        F.col(\"qtd_pedidos\") * 100.0 / F.sum(\"qtd_pedidos\").over(window_total),\n",
    "        2\n",
    "    )\n",
    ").orderBy(\"faixa_valor\")\n",
    "\n",
    "\n",
    "df_final.display()"
   ]
  },
  {
   "cell_type": "code",
   "execution_count": 0,
   "metadata": {
    "application/vnd.databricks.v1+cell": {
     "cellMetadata": {
      "byteLimit": 2048000,
      "rowLimit": 10000
     },
     "inputWidgets": {},
     "nuid": "b0be641d-5c99-47e7-8627-bdc27757f735",
     "showTitle": true,
     "tableResultSettingsMap": {},
     "title": "Control - Volume pedidos por usuário"
    }
   },
   "outputs": [
    {
     "output_type": "display_data",
     "data": {
      "text/html": [
       "<style scoped>\n",
       "  .table-result-container {\n",
       "    max-height: 300px;\n",
       "    overflow: auto;\n",
       "  }\n",
       "  table, th, td {\n",
       "    border: 1px solid black;\n",
       "    border-collapse: collapse;\n",
       "  }\n",
       "  th, td {\n",
       "    padding: 5px;\n",
       "  }\n",
       "  th {\n",
       "    text-align: left;\n",
       "  }\n",
       "</style><div class='table-result-container'><table class='table-result'><thead style='background-color: white'><tr><th>faixa_valor</th><th>qtd_pedidos</th><th>pct_pedidos</th></tr></thead><tbody><tr><td>1. Até 30</td><td>325938</td><td>32.25</td></tr><tr><td>2. Entre 31 e 50</td><td>352194</td><td>34.85</td></tr><tr><td>3. Entre 51 e 80</td><td>220267</td><td>21.79</td></tr><tr><td>4. Entre 81 e 100</td><td>49976</td><td>4.94</td></tr><tr><td>5. Entre 101 e 200</td><td>56098</td><td>5.55</td></tr><tr><td>6. Entre 201 e 500</td><td>6100</td><td>0.6</td></tr><tr><td>7. Acima de 500</td><td>165</td><td>0.02</td></tr></tbody></table></div>"
      ]
     },
     "metadata": {
      "application/vnd.databricks.v1+output": {
       "addedWidgets": {},
       "aggData": [],
       "aggError": "",
       "aggOverflow": false,
       "aggSchema": [],
       "aggSeriesLimitReached": false,
       "aggType": "",
       "arguments": {},
       "columnCustomDisplayInfos": {},
       "data": [
        [
         "1. Até 30",
         325938,
         32.25
        ],
        [
         "2. Entre 31 e 50",
         352194,
         34.85
        ],
        [
         "3. Entre 51 e 80",
         220267,
         21.79
        ],
        [
         "4. Entre 81 e 100",
         49976,
         4.94
        ],
        [
         "5. Entre 101 e 200",
         56098,
         5.55
        ],
        [
         "6. Entre 201 e 500",
         6100,
         0.6
        ],
        [
         "7. Acima de 500",
         165,
         0.02
        ]
       ],
       "datasetInfos": [],
       "dbfsResultPath": null,
       "isJsonSchema": true,
       "metadata": {},
       "overflow": false,
       "plotOptions": {
        "customPlotOptions": {},
        "displayType": "table",
        "pivotAggregation": null,
        "pivotColumns": null,
        "xColumns": null,
        "yColumns": null
       },
       "removedWidgets": [],
       "schema": [
        {
         "metadata": "{}",
         "name": "faixa_valor",
         "type": "\"string\""
        },
        {
         "metadata": "{}",
         "name": "qtd_pedidos",
         "type": "\"long\""
        },
        {
         "metadata": "{}",
         "name": "pct_pedidos",
         "type": "\"double\""
        }
       ],
       "type": "table"
      }
     },
     "output_type": "display_data"
    }
   ],
   "source": [
    "from pyspark.sql import functions as F\n",
    "from pyspark.sql import Window\n",
    "\n",
    "# Filtra pedidos distintos do grupo target\n",
    "df_pedidos = (\n",
    "    df.filter(F.col(\"is_target\") == \"control\")\n",
    "      .select(\"order_id\", \"order_total_amount\")\n",
    "      .dropDuplicates()\n",
    ")\n",
    "\n",
    "# Classificando cada pedido em uma faixa de valor\n",
    "df_faixas = df_pedidos.withColumn(\n",
    "    \"faixa_valor\",\n",
    "    F.when((F.col(\"order_total_amount\") >= 0) & (F.col(\"order_total_amount\") <= 30), \"1. Até 30\")\n",
    "     .when((F.col(\"order_total_amount\") > 30) & (F.col(\"order_total_amount\") <= 50), \"2. Entre 31 e 50\")\n",
    "     .when((F.col(\"order_total_amount\") > 50) & (F.col(\"order_total_amount\") <= 80), \"3. Entre 51 e 80\")\n",
    "     .when((F.col(\"order_total_amount\") > 80) & (F.col(\"order_total_amount\") <= 100), \"4. Entre 81 e 100\")\n",
    "     .when((F.col(\"order_total_amount\") > 100) & (F.col(\"order_total_amount\") <= 200), \"5. Entre 101 e 200\")\n",
    "     .when((F.col(\"order_total_amount\") > 200) & (F.col(\"order_total_amount\") <= 500), \"6. Entre 201 e 500\")\n",
    "     .when(F.col(\"order_total_amount\") > 500, \"7. Acima de 500\")\n",
    ")\n",
    "\n",
    "# Contando quantos pedidos distintos há por faixa\n",
    "df_grouped = df_faixas.groupBy(\"faixa_valor\").agg(\n",
    "    F.countDistinct(\"order_id\").alias(\"qtd_pedidos\")\n",
    ")\n",
    "\n",
    "# Calculo do percentual de pedidos por faixa\n",
    "window_total = Window.rowsBetween(Window.unboundedPreceding, Window.unboundedFollowing)\n",
    "\n",
    "df_final = df_grouped.withColumn(\n",
    "    \"pct_pedidos\",\n",
    "    F.round(\n",
    "        F.col(\"qtd_pedidos\") * 100.0 / F.sum(\"qtd_pedidos\").over(window_total),\n",
    "        2\n",
    "    )\n",
    ").orderBy(\"faixa_valor\")\n",
    "\n",
    "\n",
    "df_final.display()"
   ]
  },
  {
   "cell_type": "markdown",
   "metadata": {
    "application/vnd.databricks.v1+cell": {
     "cellMetadata": {},
     "inputWidgets": {},
     "nuid": "d657eb65-0ab8-462e-8b43-185b6b088ab2",
     "showTitle": false,
     "tableResultSettingsMap": {},
     "title": ""
    }
   },
   "source": [
    "A distribuição do valor total dos pedidos por faixa é praticamente idêntica entre os grupos target e control, o que indica que o envio do cupom não teve impacto significativo no ticket médio das compras.\n",
    "\n",
    "Em ambos os grupos, cerca de 67% do valor total está concentrado em pedidos de até R$ 50, sendo a faixa entre R$ 31 e R$ 50 a mais representativa (35%).\n",
    "\n",
    "As faixas de valor mais altas (acima de R$ 200) representam apenas 1% do total em cada grupo, reforçando o comportamento de pedidos de baixo valor na base analisada.\n",
    "\n",
    "Mesmo com uma base maior no grupo target, a distribuição percentual se manteve proporcional, sugerindo que o cupom não alterou o padrão de valor por pedido, mas possivelmente apenas o volume total de pedidos."
   ]
  },
  {
   "cell_type": "markdown",
   "metadata": {
    "application/vnd.databricks.v1+cell": {
     "cellMetadata": {
      "byteLimit": 2048000,
      "rowLimit": 10000
     },
     "inputWidgets": {},
     "nuid": "aa6c253c-bb9d-40d7-9e60-38c342c3a668",
     "showTitle": false,
     "tableResultSettingsMap": {},
     "title": ""
    }
   },
   "source": [
    "# Análise estatística - Parte I"
   ]
  },
  {
   "cell_type": "code",
   "execution_count": 0,
   "metadata": {
    "application/vnd.databricks.v1+cell": {
     "cellMetadata": {
      "byteLimit": 2048000,
      "rowLimit": 10000
     },
     "inputWidgets": {},
     "nuid": "6d480665-9d0a-4ce2-9b38-6357e178077d",
     "showTitle": true,
     "tableResultSettingsMap": {},
     "title": "Bibilotecas | Imports"
    },
    "jupyter": {
     "outputs_hidden": true
    }
   },
   "outputs": [
    {
     "output_type": "display_data",
     "data": {
      "application/vnd.databricks.v1+h3_hint": "",
      "text/plain": []
     },
     "metadata": {},
     "output_type": "display_data"
    }
   ],
   "source": [
    "import pandas as pd\n",
    "import seaborn as sns\n",
    "import matplotlib.pyplot as plt\n",
    "from pyspark.sql import SparkSession\n",
    "import numpy as np\n",
    "from plotnine import *\n",
    "import geopandas as gpd\n",
    "import plotly.express as px\n",
    "from scipy.stats import shapiro, mannwhitneyu\n",
    "from plotnine import *"
   ]
  },
  {
   "cell_type": "code",
   "execution_count": 0,
   "metadata": {
    "application/vnd.databricks.v1+cell": {
     "cellMetadata": {
      "byteLimit": 2048000,
      "rowLimit": 10000
     },
     "inputWidgets": {},
     "nuid": "c52261d9-1ca5-4d86-aa23-3382fbbef3c0",
     "showTitle": true,
     "tableResultSettingsMap": {},
     "title": "Boxplot valor total pedidos"
    }
   },
   "outputs": [
    {
     "output_type": "display_data",
     "data": {
      "image/png": "[encoded data removed]"
     },
     "metadata": {
      "image/png": {
       "height": 600,
       "width": 800
      }
     },
     "output_type": "display_data"
    }
   ],
   "source": [
    "# Preparando os dados (remover outliers e garantir 1 linha por pedido)\n",
    "df_pandas = (\n",
    "    spark.table(\"workspace.default.result_order\")\n",
    "    .filter(F.col(\"customer_id_order\").isNotNull())\n",
    "    .filter(F.col(\"order_total_amount\") <= 5000)\n",
    "    .dropDuplicates([\"order_id\"])\n",
    "    .select(\"is_target\", \"order_total_amount\")\n",
    "    .toPandas()\n",
    ")\n",
    "\n",
    "# Limite superior (P95), para melhor vizualização gráfica\n",
    "limite = np.percentile(df_pandas['order_total_amount'], 95)\n",
    "\n",
    "\n",
    "(\n",
    "    ggplot(df_pandas, aes(x='is_target', y='order_total_amount')) +\n",
    "    geom_boxplot(fill=\"skyblue\", color=\"black\", outlier_color=\"red\") +\n",
    "    coord_cartesian(ylim=(0, limite)) +\n",
    "    labs(\n",
    "        title=\"Boxplot do valor total dos pedidos (por grupo)\",\n",
    "        x=\"Grupo\",\n",
    "        y=\"Valor total dos pedidos (R$)\"\n",
    "    ) +\n",
    "    theme_minimal(base_size=12) +\n",
    "    theme(\n",
    "        figure_size=(8, 6),\n",
    "        panel_background=element_rect(fill='white', color='white'),\n",
    "        plot_background=element_rect(fill='white', color='white'),\n",
    "        panel_grid_major=element_line(color=\"gray\", size=0.25),\n",
    "        panel_grid_minor=element_line(color=\"lightgray\", size=0.1)\n",
    "    )\n",
    ")"
   ]
  },
  {
   "cell_type": "markdown",
   "metadata": {
    "application/vnd.databricks.v1+cell": {
     "cellMetadata": {
      "byteLimit": 2048000,
      "rowLimit": 10000
     },
     "inputWidgets": {},
     "nuid": "0b4cbf02-d845-456a-85c7-25cfbef34ac4",
     "showTitle": false,
     "tableResultSettingsMap": {},
     "title": ""
    }
   },
   "source": [
    "Analisando o gráfico acima podemos ver que:\n",
    "\n",
    "A mediana (linha preta central) dos dois grupos é praticamente igual, indicando que o valor mais comum dos pedidos não mudou significativamente com a aplicação do cupom.\n",
    "Os dois grupos apresentam faixas interquartis semelhantes (caixa azul), o que sugere que o comportamento de gasto é similar para a maioria dos usuários, com ou sem cupom.\n",
    "Os pontos vermelhos acima dos bigodes representam valores atípicos de pedido (acima de R$ 100). O número de outliers é similar, reforçando a ideia de comportamento de consumo comparável entre os grupos, mesmo nos extremos."
   ]
  },
  {
   "cell_type": "code",
   "execution_count": 0,
   "metadata": {
    "application/vnd.databricks.v1+cell": {
     "cellMetadata": {
      "byteLimit": 2048000,
      "rowLimit": 10000
     },
     "inputWidgets": {},
     "nuid": "dcc0d87e-51ba-4842-90b8-87b58c32f751",
     "showTitle": true,
     "tableResultSettingsMap": {},
     "title": "Boxplot pedidos por usuário"
    }
   },
   "outputs": [
    {
     "output_type": "display_data",
     "data": {
      "image/png": "[encoded data removed]"
     },
     "metadata": {
      "image/png": {
       "height": 600,
       "width": 800
      }
     },
     "output_type": "display_data"
    }
   ],
   "source": [
    "# Preparando os dados (remover outliers e garantir 1 linha por pedido)\n",
    "df_user_counts = (\n",
    "    spark.table(\"workspace.default.result_order\")\n",
    "    .filter(F.col(\"customer_id_order\").isNotNull())\n",
    "    .filter(F.col(\"order_total_amount\") <= 5000)\n",
    "    .dropDuplicates([\"order_id\"])\n",
    "    .groupBy(\"customer_id_order\", \"is_target\")\n",
    "    .agg(F.count(\"order_id\").alias(\"num_pedidos\"))\n",
    ").toPandas()\n",
    "\n",
    "# Limite superior (P80), para melhor vizualização gráfica\n",
    "limite = np.percentile(df_pandas['order_total_amount'], 80)\n",
    "\n",
    "\n",
    "(\n",
    "    ggplot(df_user_counts, aes(x='is_target', y='num_pedidos')) +\n",
    "    geom_boxplot(fill=\"skyblue\", color=\"black\", outlier_color=\"red\") +\n",
    "    coord_cartesian(ylim=(0, limite)) +\n",
    "    labs(\n",
    "        title=\"Boxplot da quantidade de pedidos por usuário (por grupo)\",\n",
    "        x=\"Grupo\",\n",
    "        y=\"Nº de pedidos por usuário\"\n",
    "    ) +\n",
    "    theme_minimal(base_size=12) +\n",
    "    theme(\n",
    "        figure_size=(8, 6),\n",
    "        panel_background=element_rect(fill='white', color='white'),\n",
    "        plot_background=element_rect(fill='white', color='white'),\n",
    "        panel_grid_major=element_line(color=\"gray\", size=0.25),\n",
    "        panel_grid_minor=element_line(color=\"lightgray\", size=0.1)\n",
    "    )\n",
    ")"
   ]
  },
  {
   "cell_type": "markdown",
   "metadata": {
    "application/vnd.databricks.v1+cell": {
     "cellMetadata": {
      "byteLimit": 2048000,
      "rowLimit": 10000
     },
     "inputWidgets": {},
     "nuid": "893d7b82-a6fc-49cf-98cd-35af636bbd64",
     "showTitle": false,
     "tableResultSettingsMap": {},
     "title": ""
    }
   },
   "source": []
  },
  {
   "cell_type": "markdown",
   "metadata": {
    "application/vnd.databricks.v1+cell": {
     "cellMetadata": {
      "byteLimit": 2048000,
      "rowLimit": 10000
     },
     "inputWidgets": {},
     "nuid": "928e416e-9bd2-46d0-839c-ecf1ef78e213",
     "showTitle": false,
     "tableResultSettingsMap": {},
     "title": ""
    }
   },
   "source": [
    "Analisando o boxplot, temos:\n",
    "\n",
    "- A maioria dos usuários em ambos os grupos realiza poucos pedidos — a mediana está em torno de 1 ou 2 pedidos, o que indica que 50% dos usuários fizeram no máximo essa quantidade.\n",
    "\n",
    "- Existe uma alta concentração de valores baixos (como 1, 2, 3 pedidos), e a distribuição é assimétrica à direita, ou seja, há poucos usuários com comportamento muito diferente do restante (os chamados outliers).\n",
    "\n",
    "- Os outliers, representados pelos pontos vermelhos, mostram usuários que fizeram um número de pedidos muito acima da média, chegando a mais de 60 pedidos em ambos os grupos.\n",
    "\n",
    "- Porém, o grupo target (teste) apresenta uma distribuição ligeiramente mais elevada, com outliers mais extremos do que no grupo controle, indicando que alguns usuários responderam fortemente ao cupom.\n",
    "Essa diferença de dispersão reforça o que vimos na análise descritiva: o cupom parece estimular maior engajamento em uma parte dos usuários.\n",
    "\n",
    "Para validar se essas diferenças observadas são estatisticamente significativas será necessário aplicar testes estatísticos apropriados."
   ]
  },
  {
   "cell_type": "code",
   "execution_count": 0,
   "metadata": {
    "application/vnd.databricks.v1+cell": {
     "cellMetadata": {
      "byteLimit": 2048000,
      "rowLimit": 10000
     },
     "inputWidgets": {},
     "nuid": "14a6bddd-66f2-4122-b54b-a8c6a205073a",
     "showTitle": true,
     "tableResultSettingsMap": {},
     "title": "Histograma valor total pedidos"
    }
   },
   "outputs": [
    {
     "output_type": "display_data",
     "data": {
      "image/png": "[encoded data removed]",
      "text/plain": [
       "<Figure size 1000x600 with 1 Axes>"
      ]
     },
     "metadata": {},
     "output_type": "display_data"
    }
   ],
   "source": [
    "df_valores_pedidos = (\n",
    "    spark.table(\"workspace.default.result_order\")\n",
    "    .filter(F.col(\"customer_id_order\").isNotNull())\n",
    "    .filter(F.col(\"order_total_amount\") <= 5000)\n",
    "    .dropDuplicates([\"order_id\"])\n",
    "    .select(\"is_target\", \"order_total_amount\")\n",
    "    .toPandas()\n",
    ")\n",
    "\n",
    "\n",
    "plt.figure(figsize=(10, 6))\n",
    "plt.hist(df_valores_pedidos['order_total_amount'], bins=30, color='skyblue', edgecolor='black')\n",
    "plt.title(\"Histograma do valor total dos pedidos\")\n",
    "plt.xlabel(\"Valor total do pedido\")\n",
    "plt.ylabel(\"Frequência\")\n",
    "plt.grid(axis='y', linestyle='--', alpha=0.5)\n",
    "plt.tight_layout()\n",
    "plt.show()"
   ]
  },
  {
   "cell_type": "code",
   "execution_count": 0,
   "metadata": {
    "application/vnd.databricks.v1+cell": {
     "cellMetadata": {
      "byteLimit": 2048000,
      "rowLimit": 10000
     },
     "inputWidgets": {},
     "nuid": "6b2eaeec-90e2-46d9-92a5-469c5579fab8",
     "showTitle": true,
     "tableResultSettingsMap": {},
     "title": "Histograma pedidos por usuário"
    }
   },
   "outputs": [
    {
     "output_type": "display_data",
     "data": {
      "image/png": "[encoded data removed]",
      "text/plain": [
       "<Figure size 1000x600 with 1 Axes>"
      ]
     },
     "metadata": {},
     "output_type": "display_data"
    }
   ],
   "source": [
    "df_user_counts = (\n",
    "    spark.table(\"workspace.default.result_order\")\n",
    "    .filter(F.col(\"customer_id_order\").isNotNull())\n",
    "    .filter(F.col(\"order_total_amount\") <= 5000)\n",
    "    .dropDuplicates([\"order_id\"])\n",
    "    .groupBy(\"customer_id_order\", \"is_target\")\n",
    "    .agg(F.count(\"order_id\").alias(\"num_pedidos\"))\n",
    ").toPandas()\n",
    "\n",
    "plt.figure(figsize=(10, 6))\n",
    "plt.hist(df_user_counts['num_pedidos'], bins=20, color='skyblue', edgecolor='black')\n",
    "plt.title(\"Histograma do número de pedidos por usuário\")\n",
    "plt.xlabel(\"Nº de Pedidos por Usuário\")\n",
    "plt.ylabel(\"Frequência\")\n",
    "plt.grid(axis='y', linestyle='--', alpha=0.5)\n",
    "plt.tight_layout()\n",
    "plt.show()"
   ]
  },
  {
   "cell_type": "markdown",
   "metadata": {
    "application/vnd.databricks.v1+cell": {
     "cellMetadata": {
      "byteLimit": 2048000,
      "rowLimit": 10000
     },
     "inputWidgets": {},
     "nuid": "9b091da7-bf79-4b87-84c6-bb34bdd1436f",
     "showTitle": false,
     "tableResultSettingsMap": {},
     "title": ""
    }
   },
   "source": [
    "Perceba que nos dois histogramas, a distribuição dos valores é muito assimétrica. Isso indica que não temos uma distribuição homogênea dos dados e provavelmente os dados não terão distribuição normal."
   ]
  },
  {
   "cell_type": "code",
   "execution_count": 0,
   "metadata": {
    "application/vnd.databricks.v1+cell": {
     "cellMetadata": {
      "byteLimit": 2048000,
      "rowLimit": 10000
     },
     "inputWidgets": {},
     "nuid": "fbde90f1-51bb-4267-b37b-9b59453cdb1b",
     "showTitle": true,
     "tableResultSettingsMap": {},
     "title": "Média valor total por estado"
    }
   },
   "outputs": [
    {
     "output_type": "display_data",
     "data": {
      "image/png": "[encoded data removed]",
      "text/plain": [
       "<Figure size 1400x600 with 1 Axes>"
      ]
     },
     "metadata": {},
     "output_type": "display_data"
    }
   ],
   "source": [
    "df_mapa = (\n",
    "    spark.table(\"workspace.default.result_order\")\n",
    "    .filter(F.col(\"delivery_address_state\").isNotNull())\n",
    "    .filter(F.col(\"order_total_amount\").isNotNull())\n",
    "    .filter(F.col(\"order_total_amount\") <= 5000)\n",
    "    .dropDuplicates([\"order_id\"])  # garantir 1 linha por pedido\n",
    "    .groupBy(\"is_target\", \"delivery_address_state\")\n",
    "    .agg(F.avg(\"order_total_amount\").alias(\"media_order_total\"))\n",
    "    .toPandas()\n",
    ")\n",
    "\n",
    "\n",
    "# Ordenar os estados pela média\n",
    "df_mapa_sorted = df_mapa.sort_values(by=\"media_order_total\", ascending=False)\n",
    "\n",
    "# Define a figura\n",
    "plt.figure(figsize=(14, 6))\n",
    "\n",
    "# Cria gráfico de barras com separação por grupo (control / target)\n",
    "sns.barplot(\n",
    "    data=df_mapa_sorted,\n",
    "    x=\"delivery_address_state\",\n",
    "    y=\"media_order_total\",\n",
    "    hue=\"is_target\",\n",
    "    palette={\"target\": \"skyblue\", \"control\": \"lightgray\"}\n",
    ")\n",
    "\n",
    "plt.title(\"Média do Valor Total dos Pedidos por Estado e Grupo\", fontsize=12)\n",
    "plt.xlabel(\"Estado\")\n",
    "plt.ylabel(\"Média R$\")\n",
    "plt.xticks(rotation=0)\n",
    "plt.grid(axis=\"y\", linestyle=\"--\", alpha=0.5)\n",
    "plt.tight_layout()\n",
    "plt.show()"
   ]
  },
  {
   "cell_type": "markdown",
   "metadata": {
    "application/vnd.databricks.v1+cell": {
     "cellMetadata": {
      "byteLimit": 2048000,
      "rowLimit": 10000
     },
     "inputWidgets": {},
     "nuid": "ee03eb60-6e01-4c77-81fe-f8c5093ee78d",
     "showTitle": false,
     "tableResultSettingsMap": {},
     "title": ""
    }
   },
   "source": [
    "- No gráfico acima podemos ver que a diferença entre os grupos é pequena na maioria dos estados, o que confirma o que já tínhamos observado anteriormente: parece não haver diferença estatística significativa no valor dos pedidos entre os grupos.\n",
    "\n",
    "- A média dos pedidos varia consideravelmente entre os estados, o que indica que o comportamento de consumo regional pode ter mais peso do que o cupom em si, quando se trata de valor dos pedidos.\n",
    "\n",
    "- Acre (AC): é o único estado com uma diferença extremamente alta entre os grupos — o grupo target tem uma média de pedidos quase 6 vezes maior. Isso pode indicar outliers (valores muito altos) no grupo target, onde os usuários impactam fortemente a média.\n"
   ]
  },
  {
   "cell_type": "code",
   "execution_count": 0,
   "metadata": {
    "application/vnd.databricks.v1+cell": {
     "cellMetadata": {
      "byteLimit": 2048000,
      "rowLimit": 10000
     },
     "inputWidgets": {},
     "nuid": "ad762ed4-a273-45fb-b3b8-639489e1c62c",
     "showTitle": true,
     "tableResultSettingsMap": {},
     "title": "Mapa pedidos por estado e grupo"
    }
   },
   "outputs": [
    {
     "output_type": "display_data",
     "data": {
      "image/png": "[encoded data removed]",
      "text/plain": [
       "<Figure size 2000x1000 with 4 Axes>"
      ]
     },
     "metadata": {},
     "output_type": "display_data"
    }
   ],
   "source": [
    "# Imports necessários\n",
    "import geopandas as gpd\n",
    "import matplotlib.pyplot as plt\n",
    "import pyspark.sql.functions as F\n",
    "\n",
    "# Caminho para o shapefile do Brasil (formato GeoJSON)\n",
    "path_geojson = \"/Volumes/workspace/default/brazil-states/brazil-states.geojson\"\n",
    "\n",
    "# Leitura do shapefile\n",
    "estados_br = gpd.read_file(path_geojson)\n",
    "estados_br[\"UF\"] = estados_br[\"sigla\"]\n",
    "\n",
    "# ---------------------------------------\n",
    "# Cálculo da MÉDIA DE PEDIDOS POR USUÁRIO\n",
    "# ---------------------------------------\n",
    "df_user_order_counts = (\n",
    "    spark.table(\"workspace.default.result_order\")\n",
    "    .filter(F.col(\"customer_id_order\").isNotNull())\n",
    "    .filter(F.col(\"delivery_address_state\").isNotNull())\n",
    "    .filter(F.col(\"order_id\").isNotNull())\n",
    "    .dropDuplicates([\"order_id\"])  # garante 1 linha por pedido\n",
    "    .groupBy(\"customer_id_order\", \"delivery_address_state\", \"is_target\")\n",
    "    .agg(F.count(\"order_id\").alias(\"num_pedidos\"))\n",
    "    .toPandas()\n",
    ")\n",
    "\n",
    "# Agrupar por estado e grupo para obter a média de pedidos por usuário\n",
    "df_mapa = (\n",
    "    df_user_order_counts\n",
    "    .groupby([\"delivery_address_state\", \"is_target\"])\n",
    "    .agg(media_pedidos=(\"num_pedidos\", \"mean\"))\n",
    "    .reset_index()\n",
    ")\n",
    "\n",
    "# Garantir estado em UPPERCASE\n",
    "df_mapa[\"delivery_address_state\"] = df_mapa[\"delivery_address_state\"].str.upper()\n",
    "\n",
    "# Separar grupos\n",
    "df_target = df_mapa[df_mapa[\"is_target\"] == \"target\"]\n",
    "df_control = df_mapa[df_mapa[\"is_target\"] == \"control\"]\n",
    "\n",
    "# Join com shapefile\n",
    "mapa_target = estados_br.merge(df_target, how=\"left\", left_on=\"UF\", right_on=\"delivery_address_state\")\n",
    "mapa_control = estados_br.merge(df_control, how=\"left\", left_on=\"UF\", right_on=\"delivery_address_state\")\n",
    "\n",
    "# ---------------------------------------\n",
    "# Plotagem dos dois mapas lado a lado\n",
    "# ---------------------------------------\n",
    "fig, axes = plt.subplots(1, 2, figsize=(20, 10))\n",
    "\n",
    "# Mapa TARGET\n",
    "mapa_target.plot(\n",
    "    column=\"media_pedidos\",\n",
    "    cmap=\"YlGnBu\",\n",
    "    linewidth=0.8,\n",
    "    ax=axes[0],\n",
    "    edgecolor=\"0.8\",\n",
    "    legend=True\n",
    ")\n",
    "axes[0].set_title(\"Grupo Target — Média de Pedidos por Usuário\", fontsize=14)\n",
    "axes[0].axis(\"off\")\n",
    "\n",
    "# Mapa CONTROL\n",
    "mapa_control.plot(\n",
    "    column=\"media_pedidos\",\n",
    "    cmap=\"YlGnBu\",\n",
    "    linewidth=0.8,\n",
    "    ax=axes[1],\n",
    "    edgecolor=\"0.8\",\n",
    "    legend=True\n",
    ")\n",
    "axes[1].set_title(\"Grupo Control — Média de Pedidos por Usuário\", fontsize=14)\n",
    "axes[1].axis(\"off\")\n",
    "\n",
    "plt.tight_layout()\n",
    "plt.show()\n"
   ]
  },
  {
   "cell_type": "markdown",
   "metadata": {
    "application/vnd.databricks.v1+cell": {
     "cellMetadata": {
      "byteLimit": 2048000,
      "rowLimit": 10000
     },
     "inputWidgets": {},
     "nuid": "08ec7572-2ae5-413f-a8e9-aee7c46ad5d2",
     "showTitle": false,
     "tableResultSettingsMap": {},
     "title": ""
    }
   },
   "source": [
    "O que o gráfico acima nos mostra:\n",
    "\n",
    "- Escala de cores: quanto mais escuro o azul, maior a média de pedidos por usuário naquele estado.\n",
    "- Aumento geral nos pedidos no grupo Target em vários estados, como: SP, RJ, RS, PR, BA, PE, CE, o mapa Target está mais escuro que o Control. Isso indica que os usuários que receberam cupom estão pedindo mais que os do grupo controle.\n",
    "\n",
    "Reforça o achado anterior: o cupom aumentou a frequência, mesmo que o valor médio dos pedidos não tenha subido.\n",
    "\n",
    "\n",
    "Conclusões:\n",
    "- A campanha foi eficaz em aumentar a frequência de pedidos em boa parte do país, com efeitos mais visíveis em estados populosos ou com alta concentração digital.\n",
    "- Porém, nem todas as regiões responderam da mesma forma. Isso abre espaço para:\n",
    "- Estratégias de customização regional de cupons.\n",
    "- Testes A/B por cluster geográfico.\n",
    "- Ajustes de verba e foco nas regiões que respondem melhor."
   ]
  },
  {
   "cell_type": "code",
   "execution_count": 0,
   "metadata": {
    "application/vnd.databricks.v1+cell": {
     "cellMetadata": {
      "byteLimit": 2048000,
      "rowLimit": 10000
     },
     "inputWidgets": {},
     "nuid": "bba6c3b3-7650-428f-a09a-64ce41429c1a",
     "showTitle": true,
     "tableResultSettingsMap": {},
     "title": "Teste de normalidade - valor total pedidos"
    }
   },
   "outputs": [
    {
     "output_type": "stream",
     "name": "stdout",
     "output_type": "stream",
     "text": [
      "Shapiro-Wilk Test: W = 0.69756, p-value = 0.00000\n"
     ]
    },
    {
     "output_type": "stream",
     "name": "stderr",
     "output_type": "stream",
     "text": [
      "/databricks/python/lib/python3.11/site-packages/scipy/stats/_morestats.py:1882: UserWarning: p-value may not be accurate for N > 5000.\n"
     ]
    }
   ],
   "source": [
    "df_pedidos = (\n",
    "    spark.table(\"workspace.default.result_order\")\n",
    "    .filter(F.col(\"order_id\").isNotNull())\n",
    "    .filter(F.col(\"order_total_amount\").isNotNull())\n",
    "    .filter(F.col(\"order_total_amount\") <= 5000)  # remove outliers\n",
    "    .dropDuplicates([\"order_id\"])\n",
    "    .select(\"customer_id_order\", \"is_target\", \"order_id\", \"order_total_amount\")\n",
    "    .toPandas()\n",
    ")\n",
    "\n",
    "# Teste de normalidade (Shapiro-Wilk)\n",
    "stat_shapiro, p_shapiro = shapiro(df_pedidos[\"order_total_amount\"])\n",
    "print(f\"Shapiro-Wilk Test: W = {stat_shapiro:.5f}, p-value = {p_shapiro:.5f}\")"
   ]
  },
  {
   "cell_type": "markdown",
   "metadata": {
    "application/vnd.databricks.v1+cell": {
     "cellMetadata": {
      "byteLimit": 2048000,
      "rowLimit": 10000
     },
     "inputWidgets": {},
     "nuid": "57527209-7a89-4998-9420-3ea03ebb8405",
     "showTitle": false,
     "tableResultSettingsMap": {},
     "title": ""
    }
   },
   "source": [
    "Antes de iniciar qualquer teste, devemos primeiro analisar a distruição da variável de interesse, que no caso acima é o valor total dos pedidos:\n",
    "\n",
    "O Teste de normalidade (Shapiro-Wilk) é usado para avaliar se uma variável segue uma distribuição normal.\n",
    "Hispóteses do teste:\n",
    "\n",
    "- Hipótese Nula (H₀): Os dados seguem uma distribuição normal.\n",
    "- Hipótese Alternativa (H₁): Os dados não seguem uma distribuição normal.\n",
    "\n",
    "\n",
    "Como interpretar o p-valor:\n",
    "- p > 0.05 → Não rejeitamos H₀ → A distribuição pode ser considerada normal\n",
    "- p ≤ 0.05 → Rejeitamos H₀ → Os dados não seguem uma distribuição normal\n",
    "\n",
    "O p-valor foi menor que 0.05. De acordo com o resultado do teste, a um nível de 95% de confiança, os dados não seguem uma distribuição normal. Portanto o teste não paramétrico de Wilcoxon-Mann-Whitney é o mais adequado."
   ]
  },
  {
   "cell_type": "code",
   "execution_count": 0,
   "metadata": {
    "application/vnd.databricks.v1+cell": {
     "cellMetadata": {
      "byteLimit": 2048000,
      "rowLimit": 10000
     },
     "inputWidgets": {},
     "nuid": "71b5fca2-237f-45c9-b080-62dbb80890f2",
     "showTitle": true,
     "tableResultSettingsMap": {},
     "title": "Teste de normalidade - volume de pedidos"
    }
   },
   "outputs": [
    {
     "output_type": "stream",
     "name": "stdout",
     "output_type": "stream",
     "text": [
      "Shapiro-Wilk Test para número de pedidos por usuário: W = 0.56490, p-value = 0.00000\n"
     ]
    },
    {
     "output_type": "stream",
     "name": "stderr",
     "output_type": "stream",
     "text": [
      "/databricks/python/lib/python3.11/site-packages/scipy/stats/_morestats.py:1882: UserWarning: p-value may not be accurate for N > 5000.\n"
     ]
    }
   ],
   "source": [
    "df_pedidos = (\n",
    "    spark.table(\"workspace.default.result_order\")\n",
    "    .filter(F.col(\"order_id\").isNotNull())\n",
    "    .filter(F.col(\"customer_id_order\").isNotNull())\n",
    "    .dropDuplicates([\"order_id\"])\n",
    "    .select(\"customer_id_order\", \"is_target\", \"order_id\")\n",
    "    .toPandas()\n",
    ")\n",
    "\n",
    "# Agrupando por usuário para contar o número de pedidos\n",
    "df_volume_usuarios = (\n",
    "    df_pedidos\n",
    "    .groupby([\"customer_id_order\", \"is_target\"])\n",
    "    .agg(num_pedidos=(\"order_id\", \"count\"))\n",
    "    .reset_index()\n",
    ")\n",
    "\n",
    "# Teste de normalidade (Shapiro-Wilk)\n",
    "stat_shapiro, p_shapiro = shapiro(df_volume_usuarios[\"num_pedidos\"])\n",
    "print(f\"Shapiro-Wilk Test para número de pedidos por usuário: W = {stat_shapiro:.5f}, p-value = {p_shapiro:.5f}\")"
   ]
  },
  {
   "cell_type": "markdown",
   "metadata": {
    "application/vnd.databricks.v1+cell": {
     "cellMetadata": {
      "byteLimit": 2048000,
      "rowLimit": 10000
     },
     "inputWidgets": {},
     "nuid": "ad43b92a-450d-4d11-8dea-f0686c91343d",
     "showTitle": false,
     "tableResultSettingsMap": {},
     "title": ""
    }
   },
   "source": [
    "Variável de interesse: volume de pedidos por usuário\n",
    "\n",
    "Hipóteses do Teste de normalidade:\n",
    "\n",
    "- Hipótese Nula (H₀): Os dados seguem uma distribuição normal.\n",
    "- Hipótese Alternativa (H₁): Os dados não seguem uma distribuição normal.\n",
    "\n",
    "\n",
    "Como interpretar o p-valor:\n",
    "- p > 0.05 → Não rejeitamos H₀ → A distribuição pode ser considerada normal\n",
    "- p ≤ 0.05 → Rejeitamos H₀ → Os dados não seguem uma distribuição normal\n",
    "\n",
    "O p-valor foi menor que 0.05. De acordo com o resultado do teste, a um nível de 95% de confiança, os dados não seguem uma distribuição normal. Portanto o teste não paramétrico de Wilcoxon-Mann-Whitney é o mais adequado."
   ]
  },
  {
   "cell_type": "code",
   "execution_count": 0,
   "metadata": {
    "application/vnd.databricks.v1+cell": {
     "cellMetadata": {
      "byteLimit": 2048000,
      "rowLimit": 10000
     },
     "inputWidgets": {},
     "nuid": "f0bea102-d860-4e7f-8963-0795b47ff543",
     "showTitle": true,
     "tableResultSettingsMap": {},
     "title": "Teste de Wilcoxon-Mann-Whitney - valor dos pedidos"
    }
   },
   "outputs": [
    {
     "output_type": "stream",
     "name": "stdout",
     "output_type": "stream",
     "text": [
      "Mann-Whitney Test: U = 716301934323.5, p-value = 0.49706\n"
     ]
    }
   ],
   "source": [
    "\n",
    "# Primeiro vamos analisar se existe diferneça entre os dois grupos em relação ao valor total dos pedidos.\n",
    "\n",
    "df_pedidos = (\n",
    "    spark.table(\"workspace.default.result_order\")\n",
    "    .filter(F.col(\"order_id\").isNotNull())\n",
    "    .filter(F.col(\"order_total_amount\").isNotNull())\n",
    "    .filter(F.col(\"order_total_amount\") <= 5000)  # remove outliers\n",
    "    .dropDuplicates([\"order_id\"])\n",
    "    .select(\"customer_id_order\", \"is_target\", \"order_id\", \"order_total_amount\")\n",
    "    .toPandas()\n",
    ")\n",
    "\n",
    "grupo_control = df_pedidos[df_pedidos[\"is_target\"] == \"control\"][\"order_total_amount\"]\n",
    "grupo_target = df_pedidos[df_pedidos[\"is_target\"] == \"target\"][\"order_total_amount\"]\n",
    "\n",
    "# Teste de Wilcoxon-Mann-Whitney\n",
    "stat_wilcoxon, p_wilcoxon = mannwhitneyu(grupo_control, grupo_target, alternative=\"two-sided\")\n",
    "print(f\"Mann-Whitney Test: U = {stat_wilcoxon}, p-value = {p_wilcoxon:.5f}\")"
   ]
  },
  {
   "cell_type": "markdown",
   "metadata": {
    "application/vnd.databricks.v1+cell": {
     "cellMetadata": {
      "byteLimit": 2048000,
      "rowLimit": 10000
     },
     "inputWidgets": {},
     "nuid": "a3c7bfc9-6ba7-4a51-a9dd-c879d62a442f",
     "showTitle": false,
     "tableResultSettingsMap": {},
     "title": ""
    }
   },
   "source": [
    "Teste de Wilcoxon-Mann-Whitney é um teste não paramétrico usado para comparar duas amostras independentes, quando não podemos assumir normalidade. Seu objetivo é verificar se as distribuições são estatisticamente diferentes.\n",
    "\n",
    "Hipóteses do teste:\n",
    "\n",
    "- Hipótese (H₀): Não há diferença significativa entre os dois grupos (teste e controle)\n",
    "- Hipótese Alternativa (H₁): Há diferença significativa entre os dois grupos (teste e controle)\n",
    "\n",
    "\n",
    "Como interpretar o p-valor:\n",
    "- p > 0.05 → Não rejeitamos a hipótese nula: não há evidência estatística suficiente de que os grupos são diferentes.\n",
    "- p ≤ 0.05 → Rejeitamos a hipóteses nula: há evidência de que as distribuições dos dois grupos são diferentes.\n",
    "\n",
    "\n",
    "\n",
    "O p-valor foi maior que 0.05. De acordo com o resultado do teste, a um nível de 95% de confiança, NÃO HÁ DIFERENÇA significativa entre os dois grupos (teste e controle), **em relação ao valor total dos pedidos.**"
   ]
  },
  {
   "cell_type": "code",
   "execution_count": 0,
   "metadata": {
    "application/vnd.databricks.v1+cell": {
     "cellMetadata": {
      "byteLimit": 2048000,
      "rowLimit": 10000
     },
     "inputWidgets": {},
     "nuid": "63dea9b8-2a92-472a-8425-d96b7f34fa1e",
     "showTitle": true,
     "tableResultSettingsMap": {},
     "title": "Teste de Wilcoxon-Mann-Whitney - volume de pedidos"
    }
   },
   "outputs": [
    {
     "output_type": "stream",
     "name": "stdout",
     "output_type": "stream",
     "text": [
      "Mann-Whitney Test (volume de pedidos): U = 72410958200.0, p-value = 0.00000\n"
     ]
    }
   ],
   "source": [
    "# Agora vamos analisar se existe diferneça entre os dois grupos em relação ao volume de pedidos por usuário. Queremos que o grupo teste tenha mais pedidos que o grupo controle.\n",
    "\n",
    "df_volume = (\n",
    "    spark.table(\"workspace.default.result_order\")\n",
    "    .filter(F.col(\"order_id\").isNotNull())\n",
    "    .filter(F.col(\"order_total_amount\").isNotNull())\n",
    "    .filter(F.col(\"order_total_amount\") <= 5000)\n",
    "    .groupBy(\"customer_id_order\", \"is_target\")\n",
    "    .agg(F.countDistinct(\"order_id\").alias(\"qtd_pedidos\"))\n",
    "    .toPandas()\n",
    ")\n",
    "\n",
    "grupo_control = df_volume[df_volume[\"is_target\"] == \"control\"][\"qtd_pedidos\"]\n",
    "grupo_target = df_volume[df_volume[\"is_target\"] == \"target\"][\"qtd_pedidos\"]\n",
    "\n",
    "stat_wilcoxon, p_wilcoxon = mannwhitneyu(grupo_control, grupo_target, alternative=\"two-sided\")\n",
    "print(f\"Mann-Whitney Test (volume de pedidos): U = {stat_wilcoxon}, p-value = {p_wilcoxon:.5f}\")"
   ]
  },
  {
   "cell_type": "markdown",
   "metadata": {
    "application/vnd.databricks.v1+cell": {
     "cellMetadata": {
      "byteLimit": 2048000,
      "rowLimit": 10000
     },
     "inputWidgets": {},
     "nuid": "f0075b6e-1839-4153-9432-78c85dfcee0b",
     "showTitle": false,
     "tableResultSettingsMap": {},
     "title": ""
    }
   },
   "source": [
    "Hipóteses do teste:\n",
    "\n",
    "Hipótese (H₀): Não há diferença significativa entre os dois grupos (teste e controle)\n",
    "Hipótese Alternativa (H₁): Há diferença significativa entre os dois grupos (teste e controle)\n",
    "Como interpretar o p-valor:\n",
    "\n",
    "p > 0.05 → Não rejeitamos a hipótese nula: não há evidência estatística suficiente de que os grupos são diferentes.\n",
    "p ≤ 0.05 → Rejeitamos a hipóteses nula: há evidência de que as distribuições dos dois grupos são diferentes.\n",
    "\n",
    "\n",
    "Nste caso, o p-valor foi menor que 0.05. De acordo com o resultado do teste, a um nível de 95% de confiança, HÁ DIFERENÇA SIGNIFICATIVA ENTRE OS GRUPOS (teste e controle), em relação ao volume de pedidos por usuário.\n",
    "\n",
    "✅ Isso sugere que o envio de cupons impactou positivamente o comportamento de compra, levando usuários do grupo teste a realizar mais pedidos do que os do grupo controle.\n",
    "Esse resultado é coerente com os dados descritivos e com os boxplots."
   ]
  },
  {
   "cell_type": "markdown",
   "metadata": {
    "application/vnd.databricks.v1+cell": {
     "cellMetadata": {
      "byteLimit": 2048000,
      "rowLimit": 10000
     },
     "inputWidgets": {},
     "nuid": "1adb2c44-1b2e-4402-bcee-c99d07c0df0e",
     "showTitle": true,
     "tableResultSettingsMap": {},
     "title": "Conclusão item 1"
    }
   },
   "source": [
    "\n",
    "**Conclusão item 1)**\n",
    "\n",
    "**a) Defina os indicadores relevantes para mensurar o sucesso da campanha e analise se ela teve impacto significativo dentro do\n",
    "período avaliado.**\n",
    "\n",
    "- Volume de Pedidos por Usuário\n",
    "→ Indicador de recorrência. Mede o quanto os usuários retornaram para fazer novos pedidos após a campanha.\n",
    "\n",
    "- Valor Total dos Pedidos\n",
    "→ Reflete o impacto financeiro direto da campanha.\n",
    "\n",
    "- Média e Mediana do Valor dos Pedidos\n",
    "→ Indicadores de comportamento de consumo: se a campanha incentivou pedidos maiores ou apenas aumentou o volume.\n",
    "\n",
    "- Desvio Padrão do Valor dos Pedidos\n",
    "→ Mede a dispersão dos valores e indica se houve aumento da variabilidade após a campanha.\n",
    "\n",
    "\n",
    "**b) Faça uma análise de viabilidade financeira dessa iniciativa como alavanca de crescimento, adotando as premissas que julgar necessárias (explicite as premissas adotadas).**\n",
    "\n",
    "Com base nas análises realizadas, observamos dois pontos relevantes: o grupo teste apresentou um volume maior de vendas e um valor total de pedidos superior ao grupo controle. Embora os impactos iniciais sejam positivos, ainda não é possível concluir sobre a viabilidade financeira da campanha, pois é necessário considerar os custos envolvidos para uma avaliação completa. A campanha mostra potencial de impacto positivo na recorrência, mas é necessário estimar o custo por pedido incremental para concluir sobre sua viabilidade financeira.\n",
    "\n",
    "**c) Recomende oportunidades de melhoria nessa ação e desenhe uma nova proposta de teste A/B para validar essas hipóteses.**\n",
    "- Segmentação mais precisa dos usuários: atualmente, a campanha é aplicada de forma ampla. Criar segmentos baseados em comportamento de compra (ex: frequência, ticket médio, tipo de item comprado, região) pode aumentar a efetividade da ação.\n",
    "\n",
    "- Diferenciação por perfil de consumo: usuários que consomem com menor frequência podem reagir melhor a incentivos maiores, enquanto usuários frequentes talvez necessitem apenas de um reforço de engajamento.\n"
   ]
  },
  {
   "cell_type": "markdown",
   "metadata": {
    "application/vnd.databricks.v1+cell": {
     "cellMetadata": {
      "byteLimit": 2048000,
      "rowLimit": 10000
     },
     "inputWidgets": {},
     "nuid": "c74a13f8-2c9e-453c-970d-83bcf75a740c",
     "showTitle": false,
     "tableResultSettingsMap": {},
     "title": ""
    }
   },
   "source": [
    "# Análise estatística - Parte II"
   ]
  },
  {
   "cell_type": "code",
   "execution_count": 0,
   "metadata": {
    "application/vnd.databricks.v1+cell": {
     "cellMetadata": {
      "byteLimit": 2048000,
      "rowLimit": 10000
     },
     "inputWidgets": {},
     "nuid": "29c6371e-0886-4e62-b257-dc704f1ec97c",
     "showTitle": true,
     "tableResultSettingsMap": {},
     "title": "Bibliotecas | Imports"
    }
   },
   "outputs": [],
   "source": [
    "# Standard Libraries\n",
    "from datetime import date, timedelta\n",
    "\n",
    "# Spark\n",
    "import pyspark.sql.functions as F\n",
    "from pyspark.sql import Window\n",
    "from pyspark.sql.functions import lower, get_json_object, when, coalesce, length\n",
    "from pyspark.sql.utils import AnalysisException\n",
    "from pyspark.sql import SparkSession\n",
    "\n",
    "import pandas as pd\n",
    "import seaborn as sns\n",
    "import matplotlib.pyplot as plt\n",
    "from pyspark.sql import SparkSession\n",
    "import numpy as np\n",
    "from plotnine import *\n",
    "import geopandas as gpd\n",
    "import plotly.express as px\n",
    "from scipy.stats import shapiro, mannwhitneyu\n",
    "\n",
    "from pyspark.ml import Pipeline\n",
    "from pyspark.ml.clustering import KMeans\n",
    "from sklearn.cluster import KMeans\n",
    "from pyspark.ml.feature import StringIndexer, OneHotEncoder, VectorAssembler\n",
    "from pyspark.sql import functions as F\n",
    "from pyspark.sql.functions import pandas_udf\n",
    "from pyspark.sql.types import StructType, StructField, StringType, IntegerType"
   ]
  },
  {
   "cell_type": "markdown",
   "metadata": {
    "application/vnd.databricks.v1+cell": {
     "cellMetadata": {
      "byteLimit": 2048000,
      "rowLimit": 10000
     },
     "inputWidgets": {},
     "nuid": "d4427b5a-61d4-4f76-8832-7e6fc4b8290c",
     "showTitle": false,
     "tableResultSettingsMap": {},
     "title": ""
    }
   },
   "source": [
    "Para análise de segmentação, foram utilizados os seguintes parâmetros: \n",
    "- Frequência de compra: pedidos por usuário \n",
    "- Ticket médio: valor médio do total do pedido\n",
    "- Localização geográfica do pedido\n",
    "- Tipo de produto comprado\n",
    "- Classificação do preço do restaurante"
   ]
  },
  {
   "cell_type": "code",
   "execution_count": 0,
   "metadata": {
    "application/vnd.databricks.v1+cell": {
     "cellMetadata": {
      "byteLimit": 2048000,
      "rowLimit": 10000
     },
     "inputWidgets": {},
     "nuid": "8d5f05ae-c9b1-4286-8e2e-90d4b2292331",
     "showTitle": true,
     "tableResultSettingsMap": {},
     "title": "Preparação das bases"
    }
   },
   "outputs": [],
   "source": [
    "import pandas as pd\n",
    "from pyspark.sql import functions as F\n",
    "from sklearn.preprocessing import StandardScaler, OneHotEncoder\n",
    "from sklearn.compose import ColumnTransformer\n",
    "from sklearn.pipeline import Pipeline\n",
    "from sklearn.cluster import KMeans\n",
    "from pyspark.sql import SparkSession\n",
    "\n",
    "df = spark.table(\"workspace.default.result_order\")\n",
    "\n",
    "\n",
    "# Volume de pedidos por usuário\n",
    "df_volume = (\n",
    "    df.groupBy(\"customer_id_order\")\n",
    "    .agg(F.countDistinct(\"order_id\").alias(\"volume_pedidos\"))\n",
    ")\n",
    "\n",
    "# Ticket médio por usuário\n",
    "df_ticket = (\n",
    "    df.groupBy(\"customer_id_order\")\n",
    "    .agg(F.avg(\"order_total_amount\").alias(\"ticket_medio\"))\n",
    ")\n",
    "\n",
    "# Localização geográfica do pedido\n",
    "df_estado = (\n",
    "    df.select(\"customer_id_order\", \"delivery_address_state\")\n",
    "    .dropna(subset=[\"delivery_address_state\"])\n",
    "    .dropDuplicates([\"customer_id_order\"])\n",
    ")\n",
    "\n",
    "# Faixa de preço do restaurante\n",
    "df_price_range = (\n",
    "    df.select(\"customer_id_order\", \"price_range\")\n",
    "    .dropna(subset=[\"price_range\"])\n",
    "    .dropDuplicates([\"customer_id_order\"])\n",
    ")\n",
    "\n",
    "# União dos DataFrames\n",
    "df_joined = (\n",
    "    df_volume\n",
    "    .join(df_ticket, on=\"customer_id_order\", how=\"inner\")\n",
    "    .join(df_price_range, on=\"customer_id_order\", how=\"inner\")\n",
    "    .join(df_estado, on=\"customer_id_order\", how=\"inner\")\n",
    ")\n",
    "\n",
    "df_joined = df_joined.filter(F.col(\"ticket_medio\") <= 20000) # Retirando outiler"
   ]
  },
  {
   "cell_type": "code",
   "execution_count": 0,
   "metadata": {
    "application/vnd.databricks.v1+cell": {
     "cellMetadata": {
      "byteLimit": 2048000,
      "rowLimit": 10000
     },
     "inputWidgets": {},
     "nuid": "c3006914-7082-4cd7-b111-9eb0a811adbe",
     "showTitle": true,
     "tableResultSettingsMap": {},
     "title": "Agrupamento por K-means"
    },
    "jupyter": {
     "outputs_hidden": true
    }
   },
   "outputs": [
    {
     "output_type": "stream",
     "name": "stdout",
     "output_type": "stream",
     "text": [
      "Centros dos clusters (no espaço transformado):\n[[-2.45517240e-01 -5.87006716e-03  4.65528340e-03  1.46261505e-02\n   3.31245147e-02  2.57517138e-02  3.63994718e-02  1.88434458e-02\n   6.38400945e-03  1.08501616e-03  4.85337350e-02  4.22724950e-03\n   1.43673394e-03  8.27864011e-03  1.25921600e-02  5.18617816e-02\n   5.47485218e-04  4.97614292e-02  1.57768649e-01  1.00239566e-02\n   2.99557366e-02  2.00313228e-02  1.92781159e-03  4.62183703e-01\n   0.00000000e+00  0.00000000e+00  1.00000000e+00  0.00000000e+00\n   0.00000000e+00]\n [-2.24682529e-01 -9.42050892e-03  5.51655650e-03  1.07461245e-02\n   2.73049048e-02  4.07022563e-02  3.52654188e-02  2.18247913e-02\n   1.14863726e-02  3.03387831e-03  6.35770610e-02  5.43228211e-03\n   9.58905982e-04  5.34573002e-03  1.64471736e-02  3.08193749e-02\n   0.00000000e+00  4.90272001e-02  2.01629912e-01  9.35445812e-03\n   3.13386874e-02  2.15423581e-02  3.05437749e-03  4.05592176e-01\n   3.17844306e-01  3.29972987e-01  0.00000000e+00  2.66550808e-01\n   8.56318985e-02]\n [-4.60116222e-01  2.05631973e+02  0.00000000e+00  0.00000000e+00\n   0.00000000e+00  0.00000000e+00  0.00000000e+00  1.42857143e-01\n   0.00000000e+00  0.00000000e+00  1.42857143e-01  0.00000000e+00\n   1.42857143e-01  0.00000000e+00  0.00000000e+00  0.00000000e+00\n   0.00000000e+00  0.00000000e+00  2.85714286e-01  0.00000000e+00\n   1.42857143e-01  0.00000000e+00  0.00000000e+00  1.42857143e-01\n   0.00000000e+00  0.00000000e+00  4.28571429e-01  4.28571429e-01\n   1.42857143e-01]\n [ 2.61427939e+00  6.76229500e-02  4.23998304e-03  1.24625216e-02\n   2.16996275e-02  5.88146219e-02  3.46467186e-02  2.42890457e-02\n   6.13283261e-03  1.21142373e-03  4.50801054e-02  2.61970381e-03\n   1.21142373e-04  6.11768981e-03  1.66419334e-02  3.84475605e-02\n   6.05711863e-05  4.24906872e-02  2.30670220e-01  8.35882371e-03\n   2.78021745e-02  1.66419334e-02  1.37799449e-03  4.00072685e-01\n   2.12317151e-01  2.04170326e-01  3.59565705e-01  1.57076229e-01\n   6.68705897e-02]]\n\nInertia (WSSSE): 1806940.7539457232\n"
     ]
    }
   ],
   "source": [
    "import warnings\n",
    "import sys\n",
    "import os\n",
    "\n",
    "# Suprime todos os warnings\n",
    "warnings.filterwarnings(\"ignore\")\n",
    "\n",
    "# Redireciona stderr para /dev/null temporariamente\n",
    "stderr_fileno = sys.stderr\n",
    "sys.stderr = open(os.devnull, \"w\")\n",
    "\n",
    "# --- SEU CÓDIGO AQUI ---\n",
    "pdf = df_joined.toPandas()\n",
    "pdf[\"price_range\"] = pd.to_numeric(pdf[\"price_range\"], errors=\"coerce\")\n",
    "\n",
    "# ... continua seu código normalmente ...\n",
    "# --- FIM DO SEU CÓDIGO ---\n",
    "\n",
    "# Volta o stderr ao normal\n",
    "sys.stderr = stderr_fileno\n",
    "\n",
    "#\n",
    "\n",
    "# Convertendo para Pandas\n",
    "pdf = df_joined.toPandas()\n",
    "\n",
    "# Convertendo de price_range para numérico (caso esteja como string)\n",
    "pdf[\"price_range\"] = pd.to_numeric(pdf[\"price_range\"], errors=\"coerce\")\n",
    "\n",
    "# Definição das features\n",
    "numerical_features = [\"volume_pedidos\", \"ticket_medio\"]\n",
    "categorical_features = [\"delivery_address_state\", \"price_range\"]\n",
    "\n",
    "# Pipeline de pré-processamento + KMeans\n",
    "preprocessor = ColumnTransformer([\n",
    "    (\"num\", StandardScaler(), numerical_features),\n",
    "    (\"cat\", OneHotEncoder(handle_unknown=\"ignore\"), categorical_features)\n",
    "])\n",
    "\n",
    "kmeans_pipeline = Pipeline([\n",
    "    (\"preprocessor\", preprocessor),\n",
    "    (\"kmeans\", KMeans(n_clusters=4, random_state=42, n_init=10)) # Definição do número de grupos\n",
    "])\n",
    "\n",
    "# Treinamento\n",
    "kmeans_pipeline.fit(pdf[numerical_features + categorical_features])\n",
    "\n",
    "# Atribuição de cluster\n",
    "pdf[\"cluster\"] = kmeans_pipeline.named_steps[\"kmeans\"].labels_\n",
    "\n",
    "# Avaliação do modelo\n",
    "print(\"Centros dos clusters (no espaço transformado):\")\n",
    "print(kmeans_pipeline.named_steps[\"kmeans\"].cluster_centers_)\n",
    "\n",
    "print(\"\\nInertia (WSSSE):\", kmeans_pipeline.named_steps[\"kmeans\"].inertia_)"
   ]
  },
  {
   "cell_type": "code",
   "execution_count": 0,
   "metadata": {
    "application/vnd.databricks.v1+cell": {
     "cellMetadata": {
      "byteLimit": 2048000,
      "rowLimit": 10000
     },
     "inputWidgets": {},
     "nuid": "71794b8d-16fb-44ce-97b7-22a66d668362",
     "showTitle": true,
     "tableResultSettingsMap": {
      "0": {
       "dataGridStateBlob": "{\"version\":1,\"tableState\":{\"columnPinning\":{\"left\":[\"#row_number#\"],\"right\":[]},\"columnSizing\":{},\"columnVisibility\":{}},\"settings\":{\"columns\":{}},\"syncTimestamp\":1752242273778}",
       "filterBlob": null,
       "queryPlanFiltersBlob": null,
       "tableResultIndex": 0
      }
     },
     "title": "Base final com cluster"
    }
   },
   "outputs": [
    {
     "output_type": "display_data",
     "data": {
      "text/html": [
       "<style scoped>\n",
       "  .table-result-container {\n",
       "    max-height: 300px;\n",
       "    overflow: auto;\n",
       "  }\n",
       "  table, th, td {\n",
       "    border: 1px solid black;\n",
       "    border-collapse: collapse;\n",
       "  }\n",
       "  th, td {\n",
       "    padding: 5px;\n",
       "  }\n",
       "  th {\n",
       "    text-align: left;\n",
       "  }\n",
       "</style><div class='table-result-container'><table class='table-result'><thead style='background-color: white'><tr><th>customer_id_order</th><th>delivery_address_state</th><th>price_range</th><th>volume_pedidos</th><th>ticket_medio</th><th>cluster</th></tr></thead><tbody><tr><td>357629c4b1ddfaed3acf5c69ad2951ffb571ffe593b3be49a72c707a2e3d512c</td><td>RJ</td><td>5</td><td>1</td><td>203.19999999999996</td><td>1</td></tr><tr><td>e9a3f6055c5cda4490a5bda6fac187f56fef06585084458b3dad315f54d9814e</td><td>SP</td><td>2</td><td>9</td><td>60.017647058823535</td><td>0</td></tr><tr><td>21c807fa621c9f990c9830bc3c54171e0e61d8f3214f0c59bc41e0890c4e5d7c</td><td>SP</td><td>3</td><td>19</td><td>42.733333333333334</td><td>0</td></tr><tr><td>02285ff9277c76ba5d859b12ef3c94ab18821eea0ee0fbb1ffaeefd3358ec9c2</td><td>SP</td><td>3</td><td>4</td><td>66.31666666666666</td><td>2</td></tr><tr><td>7ab956289331e01cd3a7e45203c826d31d3412a6a88f76434bbc5d43f14d63a2</td><td>SP</td><td>3</td><td>8</td><td>43.26975609756097</td><td>0</td></tr><tr><td>b5293754d3c63939d536d930a996c75b430c473bdb27c08ab5931088b15f4200</td><td>SP</td><td>3</td><td>9</td><td>66.91428571428571</td><td>0</td></tr><tr><td>cc56547865466c8409e7fd0a5907205d91bba8217a91ae55b4f9f37f21983921</td><td>SP</td><td>3</td><td>4</td><td>59.003809523809544</td><td>2</td></tr><tr><td>ea706c44d342b994da7d036f154ae4cf479b5adbc1768ab8ebd74d60c2695322</td><td>RJ</td><td>3</td><td>1</td><td>45.0</td><td>2</td></tr><tr><td>c7157eb6e2300c040762df6c8a3e5a171d8aeb7768caa11a9629db6a948aea30</td><td>DF</td><td>4</td><td>1</td><td>63.5</td><td>1</td></tr><tr><td>bb071dc77d6885ca4a1f0c86663239162902bf69617d5f2faae8b79c262a5ab7</td><td>SE</td><td>1</td><td>8</td><td>35.69057692307692</td><td>0</td></tr></tbody></table></div>"
      ]
     },
     "metadata": {
      "application/vnd.databricks.v1+output": {
       "addedWidgets": {},
       "aggData": [],
       "aggError": "",
       "aggOverflow": false,
       "aggSchema": [],
       "aggSeriesLimitReached": false,
       "aggType": "",
       "arguments": {},
       "columnCustomDisplayInfos": {},
       "data": [
        [
         "357629c4b1ddfaed3acf5c69ad2951ffb571ffe593b3be49a72c707a2e3d512c",
         "RJ",
         5,
         1,
         203.19999999999996,
         1
        ],
        [
         "e9a3f6055c5cda4490a5bda6fac187f56fef06585084458b3dad315f54d9814e",
         "SP",
         2,
         9,
         60.017647058823535,
         0
        ],
        [
         "21c807fa621c9f990c9830bc3c54171e0e61d8f3214f0c59bc41e0890c4e5d7c",
         "SP",
         3,
         19,
         42.733333333333334,
         0
        ],
        [
         "02285ff9277c76ba5d859b12ef3c94ab18821eea0ee0fbb1ffaeefd3358ec9c2",
         "SP",
         3,
         4,
         66.31666666666666,
         2
        ],
        [
         "7ab956289331e01cd3a7e45203c826d31d3412a6a88f76434bbc5d43f14d63a2",
         "SP",
         3,
         8,
         43.26975609756097,
         0
        ],
        [
         "b5293754d3c63939d536d930a996c75b430c473bdb27c08ab5931088b15f4200",
         "SP",
         3,
         9,
         66.91428571428571,
         0
        ],
        [
         "cc56547865466c8409e7fd0a5907205d91bba8217a91ae55b4f9f37f21983921",
         "SP",
         3,
         4,
         59.003809523809544,
         2
        ],
        [
         "ea706c44d342b994da7d036f154ae4cf479b5adbc1768ab8ebd74d60c2695322",
         "RJ",
         3,
         1,
         45.0,
         2
        ],
        [
         "c7157eb6e2300c040762df6c8a3e5a171d8aeb7768caa11a9629db6a948aea30",
         "DF",
         4,
         1,
         63.5,
         1
        ],
        [
         "bb071dc77d6885ca4a1f0c86663239162902bf69617d5f2faae8b79c262a5ab7",
         "SE",
         1,
         8,
         35.69057692307692,
         0
        ]
       ],
       "datasetInfos": [],
       "dbfsResultPath": null,
       "isJsonSchema": true,
       "metadata": {},
       "overflow": false,
       "plotOptions": {
        "customPlotOptions": {},
        "displayType": "table",
        "pivotAggregation": null,
        "pivotColumns": null,
        "xColumns": null,
        "yColumns": null
       },
       "removedWidgets": [],
       "schema": [
        {
         "metadata": "{}",
         "name": "customer_id_order",
         "type": "\"string\""
        },
        {
         "metadata": "{}",
         "name": "delivery_address_state",
         "type": "\"string\""
        },
        {
         "metadata": "{}",
         "name": "price_range",
         "type": "\"integer\""
        },
        {
         "metadata": "{}",
         "name": "volume_pedidos",
         "type": "\"long\""
        },
        {
         "metadata": "{}",
         "name": "ticket_medio",
         "type": "\"double\""
        },
        {
         "metadata": "{}",
         "name": "cluster",
         "type": "\"integer\""
        }
       ],
       "type": "table"
      }
     },
     "output_type": "display_data"
    }
   ],
   "source": [
    "# 1Conversão de volta para Spark\n",
    "df_result = spark.createDataFrame(pdf[[\"customer_id_order\", \"delivery_address_state\", \"price_range\", \n",
    "                                       \"volume_pedidos\", \"ticket_medio\", \"cluster\"]])\n",
    "\n",
    "\n",
    "# Salvando tabela\n",
    "df_result.write.mode(\"overwrite\").option(\"overwriteSchema\", \"true\").saveAsTable(\"workspace.default.customer_clusters_pandas_sklearn\")\n",
    "\n",
    "\n",
    "# Leitura da tabela\n",
    "df_agrup = spark.table(\"workspace.default.customer_clusters_pandas_sklearn\")\n",
    "display(df_agrup.limit(10))"
   ]
  },
  {
   "cell_type": "markdown",
   "metadata": {
    "application/vnd.databricks.v1+cell": {
     "cellMetadata": {
      "byteLimit": 2048000,
      "rowLimit": 10000
     },
     "inputWidgets": {},
     "nuid": "8ed7c2b2-a867-461d-8dd8-419be2a5b76a",
     "showTitle": true,
     "tableResultSettingsMap": {},
     "title": "Conclusões"
    }
   },
   "source": [
    "**Como foram definidos o número de grupos (k)?**\n",
    "\n",
    "Inicialmente foram escolhidos 4 grupos com base em conhecimento de negócio e uma análise preliminar da distribuição das variáveis. Em seguida, validei essa escolha utilizando o método do cotovelo (Elbow Method), que analisa a variação da Inertia (WSSSE) em diferentes valores de k e também utilizando a análise gráfica abaixo. A partir do ponto onde a redução da inércia se estabiliza, podemos considerar um número ótimo de clusters, e no nosso caso, k=4 mostrou-se adequado.\n",
    "\n",
    "**Qual abordagem utilizada?**\n",
    "\n",
    "Foi utilizado o algoritmo de KMeans com dados previamente tratados: variáveis numéricas foram padronizadas e variáveis categóricas, como localização e faixa de preço, foram transformadas em dummies. Todo o pipeline foi estruturado via Scikit-learn para garantir o pré-processamento correto e evitar viés no agrupamento.\n",
    "\n",
    "O K-Means é um dos algoritmos de clusterização mais populares e amplamente utilizados. Em termos simples, ele agrupa pontos de dados em um número pré-definido de \"clusters\" (grupos), de forma que os pontos dentro de um mesmo cluster sejam o mais semelhantes possível entre si, e diferentes dos pontos em outros clusters."
   ]
  },
  {
   "cell_type": "code",
   "execution_count": 0,
   "metadata": {
    "application/vnd.databricks.v1+cell": {
     "cellMetadata": {
      "byteLimit": 2048000,
      "rowLimit": 10000
     },
     "inputWidgets": {},
     "nuid": "2fa3b9a5-215c-43cf-8b1d-ebc67c14dedc",
     "showTitle": true,
     "tableResultSettingsMap": {},
     "title": "Scatter Plot"
    }
   },
   "outputs": [
    {
     "output_type": "display_data",
     "data": {
      "image/png": "[encoded data removed]",
      "text/plain": [
       "<Figure size 1000x600 with 1 Axes>"
      ]
     },
     "metadata": {},
     "output_type": "display_data"
    }
   ],
   "source": [
    "# 1. Carregar a base clusterizada salva no Delta Lake\n",
    "df_clusters = spark.table(\"workspace.default.customer_clusters_pandas_sklearn\").toPandas()\n",
    "\n",
    "# 2. Garantir que o cluster seja interpretado como categoria (como em R)\n",
    "df_clusters[\"cluster\"] = df_clusters[\"cluster\"].astype(str)\n",
    "\n",
    "# 3. Criar o scatter plot\n",
    "plt.figure(figsize=(10, 6))\n",
    "sns.scatterplot(\n",
    "    data=df_clusters,\n",
    "    x=\"volume_pedidos\",\n",
    "    y=\"ticket_medio\",\n",
    "    hue=\"cluster\",\n",
    "    palette=\"Set1\",\n",
    "    alpha=0.7\n",
    ")\n",
    "plt.title(\"Scatter Plot de volume_pedidos vs ticket_medio por Cluster\")\n",
    "plt.xlabel(\"Volume de Pedidos\")\n",
    "plt.ylabel(\"Ticket Médio\")\n",
    "plt.legend(title=\"Cluster\")\n",
    "plt.grid(True)\n",
    "plt.tight_layout()\n",
    "plt.show()"
   ]
  },
  {
   "cell_type": "code",
   "execution_count": 0,
   "metadata": {
    "application/vnd.databricks.v1+cell": {
     "cellMetadata": {
      "byteLimit": 2048000,
      "rowLimit": 10000
     },
     "inputWidgets": {},
     "nuid": "59529ab7-c77f-436e-a7c5-71dedb4e5cf9",
     "showTitle": true,
     "tableResultSettingsMap": {},
     "title": "Distribuição dos clusters"
    }
   },
   "outputs": [
    {
     "output_type": "display_data",
     "data": {
      "image/png": "[encoded data removed]",
      "text/plain": [
       "<Figure size 800x500 with 1 Axes>"
      ]
     },
     "metadata": {},
     "output_type": "display_data"
    }
   ],
   "source": [
    "# Garantir que o cluster esteja como string para fins de visualização\n",
    "df_clusters[\"cluster\"] = df_clusters[\"cluster\"].astype(str)\n",
    "\n",
    "# Criar o bar plot\n",
    "plt.figure(figsize=(8, 5))\n",
    "sns.countplot(data=df_clusters, x=\"cluster\", palette=\"Set2\")\n",
    "plt.title(\"Distribuição dos Clusters\")\n",
    "plt.xlabel(\"Cluster\")\n",
    "plt.ylabel(\"Quantidade de Clientes\")\n",
    "plt.grid(axis='y')\n",
    "plt.tight_layout()\n",
    "plt.show()"
   ]
  },
  {
   "cell_type": "code",
   "execution_count": 0,
   "metadata": {
    "application/vnd.databricks.v1+cell": {
     "cellMetadata": {
      "byteLimit": 2048000,
      "rowLimit": 10000
     },
     "inputWidgets": {},
     "nuid": "ed433066-15bd-48e0-9a88-9475b126e77c",
     "showTitle": true,
     "tableResultSettingsMap": {
      "0": {
       "dataGridStateBlob": "{\"version\":1,\"tableState\":{\"columnPinning\":{\"left\":[\"#row_number#\"],\"right\":[]},\"columnSizing\":{},\"columnVisibility\":{}},\"settings\":{\"columns\":{}},\"syncTimestamp\":1752248186536}",
       "filterBlob": null,
       "queryPlanFiltersBlob": null,
       "tableResultIndex": 0
      }
     },
     "title": "Unindo cluster à tabela original"
    }
   },
   "outputs": [
    {
     "output_type": "display_data",
     "data": {
      "text/html": [
       "<style scoped>\n",
       "  .table-result-container {\n",
       "    max-height: 300px;\n",
       "    overflow: auto;\n",
       "  }\n",
       "  table, th, td {\n",
       "    border: 1px solid black;\n",
       "    border-collapse: collapse;\n",
       "  }\n",
       "  th, td {\n",
       "    padding: 5px;\n",
       "  }\n",
       "  th {\n",
       "    text-align: left;\n",
       "  }\n",
       "</style><div class='table-result-container'><table class='table-result'><thead style='background-color: white'><tr><th>customer_id_order</th><th>cpf</th><th>customer_name</th><th>delivery_address_city</th><th>delivery_address_country</th><th>delivery_address_district</th><th>delivery_address_external_id</th><th>delivery_address_latitude</th><th>delivery_address_longitude</th><th>delivery_address_state</th><th>delivery_address_zip_code</th><th>merchant_id</th><th>merchant_latitude</th><th>merchant_longitude</th><th>merchant_timezone</th><th>order_created_at</th><th>order_id</th><th>order_scheduled</th><th>order_total_amount</th><th>origin_platform</th><th>item_name</th><th>item_addition_value</th><th>item_addition_currency</th><th>item_discount_value</th><th>item_discount_currency</th><th>item_quantity</th><th>item_sequence</th><th>item_unit_price_value</th><th>item_unit_price_currency</th><th>item_external_id</th><th>item_total_value_value</th><th>item_total_value_currency</th><th>item_customer_note</th><th>garnish_item_name</th><th>garnish_item_addition_value</th><th>garnish_item_addition_currency</th><th>garnish_item_discount_value</th><th>garnish_item_discount_currency</th><th>garnish_item_quantity</th><th>garnish_item_sequence</th><th>garnish_item_unit_price_value</th><th>garnish_item_unit_price_currency</th><th>garnish_item_category_id</th><th>garnish_item_external_id</th><th>garnish_item_total_value_value</th><th>garnish_item_total_value_currency</th><th>garnish_item_category_name</th><th>garnish_item_integration_id</th><th>customer_id_teste_ab</th><th>is_target</th><th>customer_id</th><th>language</th><th>consumer_created_at</th><th>active</th><th>customer_phone_area</th><th>customer_phone_number</th><th>restaurant_created_at</th><th>enabled</th><th>price_range</th><th>average_ticket</th><th>takeout_time</th><th>delivery_time</th><th>minimum_order_value</th><th>merchant_zip_code</th><th>merchant_city</th><th>merchant_state</th><th>merchant_country</th><th>cluster</th></tr></thead><tbody><tr><td>35419c42dd9e77fa6b34811ef3cdf1f242255b6ab4aa62e936e4b1a2e5dd1952</td><td>24917797900</td><td>ULISSES</td><td>JUIZ DE FORA</td><td>BR</td><td>CASCATINHA</td><td>6760884</td><td>-43.36</td><td>-21.78</td><td>MG</td><td>36033</td><td>dd3915c8589797c626a80b506abf4ad85f7ff7fb3a2a61c865da0c3c834ac0bd</td><td>-43.36</td><td>-21.78</td><td>America/Sao_Paulo</td><td>2019-01-06T23:07:53.000Z</td><td>1b3f0287d7cc080e3060df78054ba251745a48e2dd6c25c296bd61957a4b6040</td><td>false</td><td>90.9</td><td>DESKTOP</td><td>403 Mariano Procópio</td><td>0</td><td>BRL</td><td>0</td><td>BRL</td><td>1.0</td><td>1</td><td>0</td><td>BRL</td><td>ee0f88c318af4612998392a0ead7b10c</td><td>0</td><td>BRL</td><td>null</td><td>AO PONTO</td><td>0</td><td>BRL</td><td>0</td><td>BRL</td><td>1.0</td><td>2</td><td>0</td><td>BRL</td><td>ASC2</td><td>82d8b31676374f889675a55ea1504796</td><td>0</td><td>BRL</td><td>PONTO DA CARNE</td><td>null</td><td>35419c42dd9e77fa6b34811ef3cdf1f242255b6ab4aa62e936e4b1a2e5dd1952</td><td>target</td><td>35419c42dd9e77fa6b34811ef3cdf1f242255b6ab4aa62e936e4b1a2e5dd1952</td><td>pt-br</td><td>2018-01-03T21:51:47.815Z</td><td>true</td><td>2</td><td>210686545</td><td>2017-01-20T13:14:31.214Z</td><td>false</td><td>5</td><td>100.0</td><td>0</td><td>50</td><td>0.0</td><td>36035</td><td>JUIZ DE FORA</td><td>MG</td><td>BR</td><td>1</td></tr><tr><td>35419c42dd9e77fa6b34811ef3cdf1f242255b6ab4aa62e936e4b1a2e5dd1952</td><td>24917797900</td><td>ULISSES</td><td>JUIZ DE FORA</td><td>BR</td><td>CASCATINHA</td><td>6760884</td><td>-43.36</td><td>-21.78</td><td>MG</td><td>36033</td><td>dd3915c8589797c626a80b506abf4ad85f7ff7fb3a2a61c865da0c3c834ac0bd</td><td>-43.36</td><td>-21.78</td><td>America/Sao_Paulo</td><td>2019-01-06T23:07:53.000Z</td><td>1b3f0287d7cc080e3060df78054ba251745a48e2dd6c25c296bd61957a4b6040</td><td>false</td><td>90.9</td><td>DESKTOP</td><td>403 Mariano Procópio</td><td>0</td><td>BRL</td><td>0</td><td>BRL</td><td>1.0</td><td>1</td><td>0</td><td>BRL</td><td>ee0f88c318af4612998392a0ead7b10c</td><td>0</td><td>BRL</td><td>null</td><td>Inteira</td><td>0</td><td>BRL</td><td>0</td><td>BRL</td><td>1.0</td><td>3</td><td>8290</td><td>BRL</td><td>AXUI</td><td>2dc5b08c22954891a931d4f3c6b63c73</td><td>8290</td><td>BRL</td><td>Tamanho</td><td>null</td><td>35419c42dd9e77fa6b34811ef3cdf1f242255b6ab4aa62e936e4b1a2e5dd1952</td><td>target</td><td>35419c42dd9e77fa6b34811ef3cdf1f242255b6ab4aa62e936e4b1a2e5dd1952</td><td>pt-br</td><td>2018-01-03T21:51:47.815Z</td><td>true</td><td>2</td><td>210686545</td><td>2017-01-20T13:14:31.214Z</td><td>false</td><td>5</td><td>100.0</td><td>0</td><td>50</td><td>0.0</td><td>36035</td><td>JUIZ DE FORA</td><td>MG</td><td>BR</td><td>1</td></tr></tbody></table></div>"
      ]
     },
     "metadata": {
      "application/vnd.databricks.v1+output": {
       "addedWidgets": {},
       "aggData": [],
       "aggError": "",
       "aggOverflow": false,
       "aggSchema": [],
       "aggSeriesLimitReached": false,
       "aggType": "",
       "arguments": {},
       "columnCustomDisplayInfos": {},
       "data": [
        [
         "35419c42dd9e77fa6b34811ef3cdf1f242255b6ab4aa62e936e4b1a2e5dd1952",
         "24917797900",
         "ULISSES",
         "JUIZ DE FORA",
         "BR",
         "CASCATINHA",
         "6760884",
         "-43.36",
         "-21.78",
         "MG",
         "36033",
         "dd3915c8589797c626a80b506abf4ad85f7ff7fb3a2a61c865da0c3c834ac0bd",
         "-43.36",
         "-21.78",
         "America/Sao_Paulo",
         "2019-01-06T23:07:53.000Z",
         "1b3f0287d7cc080e3060df78054ba251745a48e2dd6c25c296bd61957a4b6040",
         false,
         90.9,
         "DESKTOP",
         "403 Mariano Procópio",
         "0",
         "BRL",
         "0",
         "BRL",
         1.0,
         1,
         "0",
         "BRL",
         "ee0f88c318af4612998392a0ead7b10c",
         "0",
         "BRL",
         null,
         "AO PONTO",
         "0",
         "BRL",
         "0",
         "BRL",
         1.0,
         2,
         "0",
         "BRL",
         "ASC2",
         "82d8b31676374f889675a55ea1504796",
         "0",
         "BRL",
         "PONTO DA CARNE",
         null,
         "35419c42dd9e77fa6b34811ef3cdf1f242255b6ab4aa62e936e4b1a2e5dd1952",
         "target",
         "35419c42dd9e77fa6b34811ef3cdf1f242255b6ab4aa62e936e4b1a2e5dd1952",
         "pt-br",
         "2018-01-03T21:51:47.815Z",
         true,
         2,
         210686545,
         "2017-01-20T13:14:31.214Z",
         false,
         5,
         100.0,
         0,
         50,
         0.0,
         36035,
         "JUIZ DE FORA",
         "MG",
         "BR",
         1
        ],
        [
         "35419c42dd9e77fa6b34811ef3cdf1f242255b6ab4aa62e936e4b1a2e5dd1952",
         "24917797900",
         "ULISSES",
         "JUIZ DE FORA",
         "BR",
         "CASCATINHA",
         "6760884",
         "-43.36",
         "-21.78",
         "MG",
         "36033",
         "dd3915c8589797c626a80b506abf4ad85f7ff7fb3a2a61c865da0c3c834ac0bd",
         "-43.36",
         "-21.78",
         "America/Sao_Paulo",
         "2019-01-06T23:07:53.000Z",
         "1b3f0287d7cc080e3060df78054ba251745a48e2dd6c25c296bd61957a4b6040",
         false,
         90.9,
         "DESKTOP",
         "403 Mariano Procópio",
         "0",
         "BRL",
         "0",
         "BRL",
         1.0,
         1,
         "0",
         "BRL",
         "ee0f88c318af4612998392a0ead7b10c",
         "0",
         "BRL",
         null,
         "Inteira",
         "0",
         "BRL",
         "0",
         "BRL",
         1.0,
         3,
         "8290",
         "BRL",
         "AXUI",
         "2dc5b08c22954891a931d4f3c6b63c73",
         "8290",
         "BRL",
         "Tamanho",
         null,
         "35419c42dd9e77fa6b34811ef3cdf1f242255b6ab4aa62e936e4b1a2e5dd1952",
         "target",
         "35419c42dd9e77fa6b34811ef3cdf1f242255b6ab4aa62e936e4b1a2e5dd1952",
         "pt-br",
         "2018-01-03T21:51:47.815Z",
         true,
         2,
         210686545,
         "2017-01-20T13:14:31.214Z",
         false,
         5,
         100.0,
         0,
         50,
         0.0,
         36035,
         "JUIZ DE FORA",
         "MG",
         "BR",
         1
        ]
       ],
       "datasetInfos": [],
       "dbfsResultPath": null,
       "isJsonSchema": true,
       "metadata": {},
       "overflow": false,
       "plotOptions": {
        "customPlotOptions": {},
        "displayType": "table",
        "pivotAggregation": null,
        "pivotColumns": null,
        "xColumns": null,
        "yColumns": null
       },
       "removedWidgets": [],
       "schema": [
        {
         "metadata": "{}",
         "name": "customer_id_order",
         "type": "\"string\""
        },
        {
         "metadata": "{}",
         "name": "cpf",
         "type": "\"string\""
        },
        {
         "metadata": "{}",
         "name": "customer_name",
         "type": "\"string\""
        },
        {
         "metadata": "{}",
         "name": "delivery_address_city",
         "type": "\"string\""
        },
        {
         "metadata": "{}",
         "name": "delivery_address_country",
         "type": "\"string\""
        },
        {
         "metadata": "{}",
         "name": "delivery_address_district",
         "type": "\"string\""
        },
        {
         "metadata": "{}",
         "name": "delivery_address_external_id",
         "type": "\"string\""
        },
        {
         "metadata": "{}",
         "name": "delivery_address_latitude",
         "type": "\"string\""
        },
        {
         "metadata": "{}",
         "name": "delivery_address_longitude",
         "type": "\"string\""
        },
        {
         "metadata": "{}",
         "name": "delivery_address_state",
         "type": "\"string\""
        },
        {
         "metadata": "{}",
         "name": "delivery_address_zip_code",
         "type": "\"string\""
        },
        {
         "metadata": "{}",
         "name": "merchant_id",
         "type": "\"string\""
        },
        {
         "metadata": "{}",
         "name": "merchant_latitude",
         "type": "\"string\""
        },
        {
         "metadata": "{}",
         "name": "merchant_longitude",
         "type": "\"string\""
        },
        {
         "metadata": "{}",
         "name": "merchant_timezone",
         "type": "\"string\""
        },
        {
         "metadata": "{}",
         "name": "order_created_at",
         "type": "\"string\""
        },
        {
         "metadata": "{}",
         "name": "order_id",
         "type": "\"string\""
        },
        {
         "metadata": "{}",
         "name": "order_scheduled",
         "type": "\"boolean\""
        },
        {
         "metadata": "{}",
         "name": "order_total_amount",
         "type": "\"double\""
        },
        {
         "metadata": "{}",
         "name": "origin_platform",
         "type": "\"string\""
        },
        {
         "metadata": "{}",
         "name": "item_name",
         "type": "\"string\""
        },
        {
         "metadata": "{}",
         "name": "item_addition_value",
         "type": "\"string\""
        },
        {
         "metadata": "{}",
         "name": "item_addition_currency",
         "type": "\"string\""
        },
        {
         "metadata": "{}",
         "name": "item_discount_value",
         "type": "\"string\""
        },
        {
         "metadata": "{}",
         "name": "item_discount_currency",
         "type": "\"string\""
        },
        {
         "metadata": "{}",
         "name": "item_quantity",
         "type": "\"double\""
        },
        {
         "metadata": "{}",
         "name": "item_sequence",
         "type": "\"long\""
        },
        {
         "metadata": "{}",
         "name": "item_unit_price_value",
         "type": "\"string\""
        },
        {
         "metadata": "{}",
         "name": "item_unit_price_currency",
         "type": "\"string\""
        },
        {
         "metadata": "{}",
         "name": "item_external_id",
         "type": "\"string\""
        },
        {
         "metadata": "{}",
         "name": "item_total_value_value",
         "type": "\"string\""
        },
        {
         "metadata": "{}",
         "name": "item_total_value_currency",
         "type": "\"string\""
        },
        {
         "metadata": "{}",
         "name": "item_customer_note",
         "type": "\"string\""
        },
        {
         "metadata": "{}",
         "name": "garnish_item_name",
         "type": "\"string\""
        },
        {
         "metadata": "{}",
         "name": "garnish_item_addition_value",
         "type": "\"string\""
        },
        {
         "metadata": "{}",
         "name": "garnish_item_addition_currency",
         "type": "\"string\""
        },
        {
         "metadata": "{}",
         "name": "garnish_item_discount_value",
         "type": "\"string\""
        },
        {
         "metadata": "{}",
         "name": "garnish_item_discount_currency",
         "type": "\"string\""
        },
        {
         "metadata": "{}",
         "name": "garnish_item_quantity",
         "type": "\"double\""
        },
        {
         "metadata": "{}",
         "name": "garnish_item_sequence",
         "type": "\"long\""
        },
        {
         "metadata": "{}",
         "name": "garnish_item_unit_price_value",
         "type": "\"string\""
        },
        {
         "metadata": "{}",
         "name": "garnish_item_unit_price_currency",
         "type": "\"string\""
        },
        {
         "metadata": "{}",
         "name": "garnish_item_category_id",
         "type": "\"string\""
        },
        {
         "metadata": "{}",
         "name": "garnish_item_external_id",
         "type": "\"string\""
        },
        {
         "metadata": "{}",
         "name": "garnish_item_total_value_value",
         "type": "\"string\""
        },
        {
         "metadata": "{}",
         "name": "garnish_item_total_value_currency",
         "type": "\"string\""
        },
        {
         "metadata": "{}",
         "name": "garnish_item_category_name",
         "type": "\"string\""
        },
        {
         "metadata": "{}",
         "name": "garnish_item_integration_id",
         "type": "\"string\""
        },
        {
         "metadata": "{}",
         "name": "customer_id_teste_ab",
         "type": "\"string\""
        },
        {
         "metadata": "{}",
         "name": "is_target",
         "type": "\"string\""
        },
        {
         "metadata": "{}",
         "name": "customer_id",
         "type": "\"string\""
        },
        {
         "metadata": "{}",
         "name": "language",
         "type": "\"string\""
        },
        {
         "metadata": "{}",
         "name": "consumer_created_at",
         "type": "\"timestamp\""
        },
        {
         "metadata": "{}",
         "name": "active",
         "type": "\"boolean\""
        },
        {
         "metadata": "{}",
         "name": "customer_phone_area",
         "type": "\"long\""
        },
        {
         "metadata": "{}",
         "name": "customer_phone_number",
         "type": "\"long\""
        },
        {
         "metadata": "{}",
         "name": "restaurant_created_at",
         "type": "\"timestamp\""
        },
        {
         "metadata": "{}",
         "name": "enabled",
         "type": "\"boolean\""
        },
        {
         "metadata": "{}",
         "name": "price_range",
         "type": "\"integer\""
        },
        {
         "metadata": "{}",
         "name": "average_ticket",
         "type": "\"double\""
        },
        {
         "metadata": "{}",
         "name": "takeout_time",
         "type": "\"integer\""
        },
        {
         "metadata": "{}",
         "name": "delivery_time",
         "type": "\"integer\""
        },
        {
         "metadata": "{}",
         "name": "minimum_order_value",
         "type": "\"double\""
        },
        {
         "metadata": "{}",
         "name": "merchant_zip_code",
         "type": "\"integer\""
        },
        {
         "metadata": "{}",
         "name": "merchant_city",
         "type": "\"string\""
        },
        {
         "metadata": "{}",
         "name": "merchant_state",
         "type": "\"string\""
        },
        {
         "metadata": "{}",
         "name": "merchant_country",
         "type": "\"string\""
        },
        {
         "metadata": "{}",
         "name": "cluster",
         "type": "\"integer\""
        }
       ],
       "type": "table"
      }
     },
     "output_type": "display_data"
    }
   ],
   "source": [
    "df_clusters = spark.table(\"workspace.default.customer_clusters_pandas_sklearn\")\n",
    "df_result_order = spark.table(\"workspace.default.result_order\")\n",
    "\n",
    "# Faz o join para adicionar a coluna 'cluster' na base original\n",
    "df_result_com_cluster = (\n",
    "    df_result_order\n",
    "    .join(df_clusters.select(\"customer_id_order\", \"cluster\"), on=\"customer_id_order\", how=\"left\")\n",
    ")\n",
    "\n",
    "# Exibe a nova base com todas as colunas + cluster\n",
    "display(df_result_com_cluster.limit(2))\n",
    "\n",
    "df_result_com_cluster.write.mode(\"overwrite\").option(\"overwriteSchema\", \"true\").saveAsTable(\"workspace.default.result_order_cluster\")"
   ]
  },
  {
   "cell_type": "code",
   "execution_count": 0,
   "metadata": {
    "application/vnd.databricks.v1+cell": {
     "cellMetadata": {
      "byteLimit": 2048000,
      "implicitDf": true,
      "rowLimit": 10000
     },
     "inputWidgets": {},
     "nuid": "f025eff0-7529-48c5-8f06-4a044e148a02",
     "showTitle": true,
     "tableResultSettingsMap": {
      "0": {
       "dataGridStateBlob": "{\"version\":1,\"tableState\":{\"columnPinning\":{\"left\":[\"#row_number#\"],\"right\":[]},\"columnSizing\":{},\"columnVisibility\":{}},\"settings\":{\"columns\":{}},\"syncTimestamp\":1752264343780}",
       "filterBlob": null,
       "queryPlanFiltersBlob": null,
       "tableResultIndex": 0
      }
     },
     "title": "Métricas por cluster"
    }
   },
   "outputs": [
    {
     "output_type": "display_data",
     "data": {
      "text/html": [
       "<style scoped>\n",
       "  .table-result-container {\n",
       "    max-height: 300px;\n",
       "    overflow: auto;\n",
       "  }\n",
       "  table, th, td {\n",
       "    border: 1px solid black;\n",
       "    border-collapse: collapse;\n",
       "  }\n",
       "  th, td {\n",
       "    padding: 5px;\n",
       "  }\n",
       "  th {\n",
       "    text-align: left;\n",
       "  }\n",
       "</style><div class='table-result-container'><table class='table-result'><thead style='background-color: white'><tr><th>cluster</th><th>usuarios_distintos</th><th>volume_pedidos_medio</th><th>media_valor_pedido</th><th>price_range_medio</th></tr></thead><tbody><tr><td>1</td><td>439204</td><td>2.14</td><td>49.04</td><td>2.52</td></tr><tr><td>0</td><td>66033</td><td>12.07</td><td>52.71</td><td>2.66</td></tr><tr><td>2</td><td>301220</td><td>2.06</td><td>49.16</td><td>2.94</td></tr><tr><td>3</td><td>8</td><td>1.44</td><td>8740.92</td><td>3.67</td></tr></tbody></table></div>"
      ]
     },
     "metadata": {
      "application/vnd.databricks.v1+output": {
       "addedWidgets": {},
       "aggData": [],
       "aggError": "",
       "aggOverflow": false,
       "aggSchema": [],
       "aggSeriesLimitReached": false,
       "aggType": "",
       "arguments": {},
       "columnCustomDisplayInfos": {},
       "data": [
        [
         1,
         439204,
         2.14,
         49.04,
         2.52
        ],
        [
         0,
         66033,
         12.07,
         52.71,
         2.66
        ],
        [
         2,
         301220,
         2.06,
         49.16,
         2.94
        ],
        [
         3,
         8,
         1.44,
         8740.92,
         3.67
        ]
       ],
       "datasetInfos": [],
       "dbfsResultPath": null,
       "isJsonSchema": true,
       "metadata": {},
       "overflow": false,
       "plotOptions": {
        "customPlotOptions": {},
        "displayType": "table",
        "pivotAggregation": null,
        "pivotColumns": null,
        "xColumns": null,
        "yColumns": null
       },
       "removedWidgets": [],
       "schema": [
        {
         "metadata": "{}",
         "name": "cluster",
         "type": "\"integer\""
        },
        {
         "metadata": "{}",
         "name": "usuarios_distintos",
         "type": "\"long\""
        },
        {
         "metadata": "{}",
         "name": "volume_pedidos_medio",
         "type": "\"double\""
        },
        {
         "metadata": "{}",
         "name": "media_valor_pedido",
         "type": "\"double\""
        },
        {
         "metadata": "{}",
         "name": "price_range_medio",
         "type": "\"double\""
        }
       ],
       "type": "table"
      }
     },
     "output_type": "display_data"
    }
   ],
   "source": [
    "df_orders = spark.table(\"workspace.default.result_order_cluster\")\n",
    "\n",
    "# Calculando métricas por cliente\n",
    "df_metrics = (\n",
    "    df_orders.groupBy(\"customer_id_order\", \"cluster\", \"delivery_address_state\")\n",
    "    .agg(\n",
    "        F.countDistinct(\"order_id\").alias(\"volume_pedidos\"),\n",
    "        F.avg(\"order_total_amount\").alias(\"media_valor_pedido\"),\n",
    "        F.avg(\"price_range\").alias(\"price_range_medio\")\n",
    "    )\n",
    ")\n",
    "\n",
    "# Agregando por cluster para obter médias\n",
    "df_summary = (\n",
    "    df_metrics.groupBy(\"cluster\")\n",
    "    .agg(\n",
    "        F.countDistinct(\"customer_id_order\").alias(\"usuarios_distintos\"),\n",
    "        F.round(F.avg(\"volume_pedidos\"), 2).alias(\"volume_pedidos_medio\"),\n",
    "        F.round(F.avg(\"media_valor_pedido\"), 2).alias(\"media_valor_pedido\"),\n",
    "        F.round(F.avg(\"price_range_medio\"), 2).alias(\"price_range_medio\")\n",
    "    )\n",
    ")\n",
    "\n",
    "# Percentual por estado dentro de cada cluster\n",
    "df_estado = (\n",
    "    df_metrics.groupBy(\"cluster\", \"delivery_address_state\")\n",
    "    .agg(F.countDistinct(\"customer_id_order\").alias(\"qtd_usuarios_estado\"))\n",
    ")\n",
    "\n",
    "window_cluster = Window.partitionBy(\"cluster\")\n",
    "\n",
    "df_percentual_estado = (\n",
    "    df_estado\n",
    "    .withColumn(\"total_cluster\", F.sum(\"qtd_usuarios_estado\").over(window_cluster))\n",
    "    .withColumn(\"percentual\", F.round(F.col(\"qtd_usuarios_estado\") / F.col(\"total_cluster\") * 100, 2))\n",
    "    .orderBy(\"cluster\", F.desc(\"percentual\"))\n",
    ")\n",
    "\n",
    "\n",
    "display(df_summary.where(F.col(\"cluster\").isNotNull()))\n",
    "# display(df_percentual_estado.where(F.col(\"cluster\").isNotNull()))"
   ]
  },
  {
   "cell_type": "code",
   "execution_count": 0,
   "metadata": {
    "application/vnd.databricks.v1+cell": {
     "cellMetadata": {
      "byteLimit": 2048000,
      "rowLimit": 10000
     },
     "inputWidgets": {},
     "nuid": "6ee2a711-e362-44a1-a9cc-a87b930559dc",
     "showTitle": true,
     "tableResultSettingsMap": {},
     "title": "Conclusão item 2"
    }
   },
   "outputs": [],
   "source": []
  },
  {
   "cell_type": "markdown",
   "metadata": {
    "application/vnd.databricks.v1+cell": {
     "cellMetadata": {
      "byteLimit": 2048000,
      "rowLimit": 10000
     },
     "inputWidgets": {},
     "nuid": "36484a74-7994-4af2-8c42-c3c9ff2c5489",
     "showTitle": true,
     "tableResultSettingsMap": {},
     "title": "Interpretação dos resultados"
    }
   },
   "source": [
    "**Abaixo estão as respostas do item 2, letras A e B.**\n",
    "\n",
    "\uD83D\uDFE2 **Cluster 0 – Clientes Engajados**\n",
    "\n",
    "- Usuários distintos: 66.033\n",
    "- Volume médio de pedidos: 12,07\n",
    "- Ticket médio: R$ 52,71\n",
    "- Classificação de preço do restaurante (média): 2,66\n",
    "- Distribuição geográfica: SP (39%) e RJ (23%) concentram mais de 60% dos usuários desse grupo. Presença considerável no Nordeste (ex: CE, PE) e MG.\n",
    "\n",
    "Interpretação:\n",
    "Esse é um grupo de clientes com alto engajamento (volume de pedidos significativamente superior aos demais) e ticket médio ligeiramente acima da média. Eles costumam consumir de restaurantes de preço intermediário para alto. Com forte presença em grandes centros urbanos, especialmente SP e RJ.\n",
    "\n",
    "Perfil: Cliente fiel, potencial promotor da marca, com poder de compra moderado. Pode ser ideal para programas de fidelidade ou campanhas de cashback.\n",
    "\n",
    "--------------------------\n",
    "\n",
    "\n",
    "\uD83D\uDD35 **Cluster 1 – Cliente Ocasional / Médio**\n",
    "\n",
    "- Usuários distintos: 439.204\n",
    "- Volume médio de pedidos: 2,14\n",
    "- Ticket médio: R$ 49,04\n",
    "- Classificação de preço do restaurante (média): 2,52\n",
    "- Distribuição geográfica: Grande presença em SP, RJ e MG, mas mais disperso que o Cluster 0.\n",
    "\n",
    "Interpretação:\n",
    "Maior grupo da base. São clientes com baixo volume de pedidos, ticket próximo do valor médio e preferência por estabelecimentos de preço intermediário.\n",
    "\n",
    "Perfil: Clientes ocasionais ou que usam o serviço em datas específicas. Pode ser interessante aplicar campanhas de reativação ou ofertas personalizadas para aumentar o LTV.\n",
    "\n",
    "--------------------------\n",
    "\n",
    "\uD83D\uDD34 **Cluster 2 – Cliente Econômico**\n",
    "\n",
    "- Usuários distintos: 301.220\n",
    "- Volume médio de pedidos: 2,06\n",
    "- Ticket médio: R$ 49,16\n",
    "- Classificação de preço do restaurante (média): 2,94\n",
    "- Também fortemente representado em SP e RJ, mas com leve viés para restaurantes mais caros.\n",
    "\n",
    "Interpretação:\n",
    "Também de baixa frequência, como o cluster 1, mas com preferência clara por restaurantes mais caros (faixa de preço média mais alta). Isso pode indicar usuários de ticket elevado pontual, como compras para grupos/família ou pedidos especiais.\n",
    "\n",
    "Perfil: Clientes com poder aquisitivo maior, mas uso pouco frequente. Pode valer a pena explorar ofertas premium, parcerias com restaurantes de alta qualidade ou programas de indicações.\n",
    "\n",
    "--------------------------\n",
    "\n",
    "⚫ **Cluster 3 – Outliers / Clientes Corporativos**\n",
    "\n",
    "- Usuários distintos: 8\n",
    "- Volume médio de pedidos: 1,44\n",
    "- Ticket médio: R$ 8.740,92\n",
    "- Classificação de preço do restaurante (média): 3,67\n",
    "- Distribuição geográfica: Não representativa\n",
    "\n",
    "Interpretação:\n",
    "Grupo muito pequeno e atípico. O valor médio do pedido é extremamente alto e a faixa de preço é elevada também. Isso sugere clientes corporativos ou erro de cadastro/registro.\n",
    "Perfil: Provável outlier. Pode ser interessante remover da análise geral ou criar um segmento separado para análise especializada (B2B, eventos, etc.).\n",
    "\n",
    "\n",
    "Resumindo, temos a seguinte proposta de teste com os grupos:\n",
    "- Focar ações de fidelização e retenção no Cluster 0.\n",
    "- Criar estratégias de reengajamento para Clusters 1 e 2, com diferenciação no tipo de benefício (econômico vs. premium).\n"
   ]
  },
  {
   "cell_type": "code",
   "execution_count": 0,
   "metadata": {
    "application/vnd.databricks.v1+cell": {
     "cellMetadata": {
      "byteLimit": 2048000,
      "rowLimit": 10000
     },
     "inputWidgets": {},
     "nuid": "ecbcd5fe-85ee-4f23-8b3f-0bdcc5150b63",
     "showTitle": true,
     "tableResultSettingsMap": {},
     "title": "Resultados por teste A/B"
    }
   },
   "outputs": [
    {
     "output_type": "display_data",
     "data": {
      "text/html": [
       "<style scoped>\n",
       "  .table-result-container {\n",
       "    max-height: 300px;\n",
       "    overflow: auto;\n",
       "  }\n",
       "  table, th, td {\n",
       "    border: 1px solid black;\n",
       "    border-collapse: collapse;\n",
       "  }\n",
       "  th, td {\n",
       "    padding: 5px;\n",
       "  }\n",
       "  th {\n",
       "    text-align: left;\n",
       "  }\n",
       "</style><div class='table-result-container'><table class='table-result'><thead style='background-color: white'><tr><th>cluster</th><th>is_target</th><th>usuarios_distintos</th><th>volume_pedidos_medio</th><th>media_valor_pedido</th><th>price_range_medio</th></tr></thead><tbody><tr><td>0</td><td>control</td><td>26476</td><td>12.05</td><td>52.9</td><td>2.65</td></tr><tr><td>0</td><td>target</td><td>39557</td><td>12.09</td><td>52.59</td><td>2.66</td></tr><tr><td>1</td><td>control</td><td>197858</td><td>2.01</td><td>48.79</td><td>2.51</td></tr><tr><td>1</td><td>target</td><td>241346</td><td>2.24</td><td>49.24</td><td>2.52</td></tr><tr><td>2</td><td>control</td><td>136203</td><td>1.94</td><td>49.05</td><td>2.95</td></tr><tr><td>2</td><td>target</td><td>165017</td><td>2.15</td><td>49.25</td><td>2.94</td></tr><tr><td>3</td><td>control</td><td>4</td><td>1.5</td><td>10020.41</td><td>3.75</td></tr><tr><td>3</td><td>target</td><td>4</td><td>1.4</td><td>7717.33</td><td>3.6</td></tr></tbody></table></div>"
      ]
     },
     "metadata": {
      "application/vnd.databricks.v1+output": {
       "addedWidgets": {},
       "aggData": [],
       "aggError": "",
       "aggOverflow": false,
       "aggSchema": [],
       "aggSeriesLimitReached": false,
       "aggType": "",
       "arguments": {},
       "columnCustomDisplayInfos": {},
       "data": [
        [
         0,
         "control",
         26476,
         12.05,
         52.9,
         2.65
        ],
        [
         0,
         "target",
         39557,
         12.09,
         52.59,
         2.66
        ],
        [
         1,
         "control",
         197858,
         2.01,
         48.79,
         2.51
        ],
        [
         1,
         "target",
         241346,
         2.24,
         49.24,
         2.52
        ],
        [
         2,
         "control",
         136203,
         1.94,
         49.05,
         2.95
        ],
        [
         2,
         "target",
         165017,
         2.15,
         49.25,
         2.94
        ],
        [
         3,
         "control",
         4,
         1.5,
         10020.41,
         3.75
        ],
        [
         3,
         "target",
         4,
         1.4,
         7717.33,
         3.6
        ]
       ],
       "datasetInfos": [],
       "dbfsResultPath": null,
       "isJsonSchema": true,
       "metadata": {},
       "overflow": false,
       "plotOptions": {
        "customPlotOptions": {},
        "displayType": "table",
        "pivotAggregation": null,
        "pivotColumns": null,
        "xColumns": null,
        "yColumns": null
       },
       "removedWidgets": [],
       "schema": [
        {
         "metadata": "{}",
         "name": "cluster",
         "type": "\"integer\""
        },
        {
         "metadata": "{}",
         "name": "is_target",
         "type": "\"string\""
        },
        {
         "metadata": "{}",
         "name": "usuarios_distintos",
         "type": "\"long\""
        },
        {
         "metadata": "{}",
         "name": "volume_pedidos_medio",
         "type": "\"double\""
        },
        {
         "metadata": "{}",
         "name": "media_valor_pedido",
         "type": "\"double\""
        },
        {
         "metadata": "{}",
         "name": "price_range_medio",
         "type": "\"double\""
        }
       ],
       "type": "table"
      }
     },
     "output_type": "display_data"
    }
   ],
   "source": [
    "df_orders = spark.table(\"workspace.default.result_order_cluster\")\n",
    "\n",
    "# Calculando métricas por cliente\n",
    "df_metrics = (\n",
    "    df_orders.groupBy(\"customer_id_order\", \"cluster\", \"delivery_address_state\", \"is_target\")\n",
    "    .agg(\n",
    "        F.countDistinct(\"order_id\").alias(\"volume_pedidos\"),\n",
    "        F.avg(\"order_total_amount\").alias(\"media_valor_pedido\"),\n",
    "        F.avg(\"price_range\").alias(\"price_range_medio\")\n",
    "    )\n",
    ")\n",
    "\n",
    "# Agregndo  por cluster e is_target para obter médias\n",
    "df_summary = (\n",
    "    df_metrics.groupBy(\"cluster\", \"is_target\")\n",
    "    .agg(\n",
    "        F.countDistinct(\"customer_id_order\").alias(\"usuarios_distintos\"),\n",
    "        F.round(F.avg(\"volume_pedidos\"), 2).alias(\"volume_pedidos_medio\"),\n",
    "        F.round(F.avg(\"media_valor_pedido\"), 2).alias(\"media_valor_pedido\"),\n",
    "        F.round(F.avg(\"price_range_medio\"), 2).alias(\"price_range_medio\")\n",
    "    )\n",
    "    .orderBy(\"cluster\", \"is_target\")\n",
    ")\n",
    "\n",
    "# Percentual por estado dentro de cada cluster e is_target\n",
    "df_estado = (\n",
    "    df_metrics.groupBy(\"cluster\", \"is_target\", \"delivery_address_state\")\n",
    "    .agg(F.countDistinct(\"customer_id_order\").alias(\"qtd_usuarios_estado\"))\n",
    ")\n",
    "\n",
    "window_cluster_target = Window.partitionBy(\"cluster\", \"is_target\")\n",
    "\n",
    "df_percentual_estado = (\n",
    "    df_estado\n",
    "    .withColumn(\"total_cluster\", F.sum(\"qtd_usuarios_estado\").over(window_cluster_target))\n",
    "    .withColumn(\"percentual\", F.round(F.col(\"qtd_usuarios_estado\") / F.col(\"total_cluster\") * 100, 2))\n",
    "    .orderBy(\"cluster\", \"is_target\", F.desc(\"percentual\"))\n",
    ")\n",
    "\n",
    "\n",
    "display(df_summary.where(F.col(\"cluster\").isNotNull()))\n",
    "# display(df_percentual_estado.where(F.col(\"cluster\").isNotNull()).limit(10))\n"
   ]
  },
  {
   "cell_type": "markdown",
   "metadata": {
    "application/vnd.databricks.v1+cell": {
     "cellMetadata": {
      "byteLimit": 2048000,
      "rowLimit": 10000
     },
     "inputWidgets": {},
     "nuid": "66436841-3d0f-4360-930c-3ccb0a857e0d",
     "showTitle": true,
     "tableResultSettingsMap": {},
     "title": "Interpretação dos resultados"
    }
   },
   "source": [
    "**Abaixo estão as respostas do item 2, letra C.**\n",
    "\n",
    "\uD83D\uDFE2 **Cluster 0 – Usuários de alta frequência e ticket médio alto**\n",
    "- Comportamento entre controle e target é praticamente idêntico.\n",
    "- Controle: 12.05 pedidos | R$ 52.9 | Price range: 2.65\n",
    "- Target: 12.09 pedidos | R$ 52.59 | Price range: 2.66\n",
    "\n",
    "Interpretação: O cupom não teve efeito prático aqui. Esses usuários já compram muito e com frequência, mesmo sem incentivo.\n",
    "\n",
    "Possível ação: Cupom pode ser desnecessário para este grupo. Avaliar estratégias mais sofisticadas, como programas de fidelidade.\n",
    "\n",
    "-----------------------------\n",
    "\n",
    "\uD83D\uDD35 **Cluster 1 – Maior grupo, usuários de baixa frequência**\n",
    "- Controle: 2.01 pedidos | R$ 48.79\n",
    "- Target: 2.24 pedidos | R$ 49.24\n",
    "- Aumento visível no volume de pedidos (coerente com o Wilcoxon).\n",
    "- Ticket médio estável.\n",
    "\n",
    "Interpretação: O cupom funcionou parcialmente aqui — aumentou o volume de pedidos, mas não o valor gasto.\n",
    "\n",
    "Possível ação: Grupo mais sensível a incentivo → foco da campanha de cupom. Incentivar recorrência e ticket maior.\n",
    "\n",
    "-----------------------------\n",
    "\n",
    "\uD83D\uDD34 **Cluster 2 – Similar ao cluster 1, mas com restaurantes mais caros**\n",
    "- Controle: 1.94 pedidos | R$ 49.05 | Price range: 2.95\n",
    "- Target: 2.15 pedidos | R$ 49.25 | Price range: 2.94\n",
    "- Comportamento parecido com o cluster 1.\n",
    "- Efeito do cupom também presente, mas levemente inferior.\n",
    "\n",
    "Interpretação: Usuários que compram pouco e usam restaurantes de ticket mais alto.\n",
    "\n",
    "Possível ação: Estratégia de cupom pode continuar, talvez com foco em promoções em restaurantes premium.\n",
    "\n",
    "-----------------------------\n",
    "\n",
    "⚫ **Cluster 3 – Outliers com ticket médio absurdamente alto**\n",
    "\n",
    "4 usuários por grupo. Ticket médio > R$ 7.000. Não confiável para análise estatística. Ignorar ou tratar como outlier."
   ]
  },
  {
   "cell_type": "markdown",
   "metadata": {
    "application/vnd.databricks.v1+cell": {
     "cellMetadata": {
      "byteLimit": 2048000,
      "rowLimit": 10000
     },
     "inputWidgets": {},
     "nuid": "1d6e05ea-6d9d-487a-8fe3-dc684cde6bbe",
     "showTitle": true,
     "tableResultSettingsMap": {},
     "title": "Conclusão item 3"
    }
   },
   "source": [
    "**Recomendação: Otimizar a distribuição dos cupons com base em segmentação de usuários**\n",
    "\n",
    "A análise mostrou que o cupom não aumentou o ticket médio, mas gerou aumento significativo no volume de pedidos — especialmente entre usuários dos clusters 1 e 2, que representam mais de 85% da base total.\n",
    "\n",
    "Resumo por cluster (segmento):\n",
    "- 0:\tPerfil: alta frequência | Ticket alto\t| Efeito do cupom: nenhum |\tRemover cupons e usar fidelidade\n",
    "- 1: \tPerfil: baixa frequência | Ticket médio\t|\tEfeito do cupom: aumento de pedidos  |\tManter cupons, com foco em recorrência\n",
    "- 2:\tPerfil: baixa frequência | Restaurantes caros\t|\tEfeito do cupom: aumento de pedidos | Manter cupons, com foco em valor\n",
    "\n",
    "\n",
    "**Impacto financeiro:**\n",
    "\n",
    "Eficiência de campanha: ao focar onde o cupom funciona, melhora-se o ROI. Além disso, essa economia pode ser reinvestida para ampliar o incentivo nos clusters com maior resposta (1 e 2), gerando mais receita.\n",
    "\n",
    "**Melhorias no processo/teste:**\n",
    "\n",
    "- Redefinir os critérios de distribuição dos cupons, focando nos clusters 1 e 2.\n",
    "- Testar novos valores de cupom por cluster. Exemplo: R$ 3 para cluster 1, e R$ 7 para cluster 2.\n",
    "- Realizar novo teste A/B segmentado, com foco em validar o desempenho por cluster."
   ]
  },
  {
   "cell_type": "markdown",
   "metadata": {
    "application/vnd.databricks.v1+cell": {
     "cellMetadata": {
      "byteLimit": 2048000,
      "rowLimit": 10000
     },
     "inputWidgets": {},
     "nuid": "03a71957-1295-4ecd-933f-fe011ddb934a",
     "showTitle": false,
     "tableResultSettingsMap": {},
     "title": ""
    }
   },
   "source": [
    "------------------------------------------------------------- FIM -------------------------------------------------------------"
   ]
  }
 ],
 "metadata": {
  "application/vnd.databricks.v1+notebook": {
   "computePreferences": null,
   "dashboards": [],
   "environmentMetadata": {
    "base_environment": "",
    "environment_version": "2"
   },
   "inputWidgetPreferences": null,
   "language": "python",
   "notebookMetadata": {
    "mostRecentlyExecutedCommandWithImplicitDF": {
     "commandId": -1,
     "dataframes": [
      "_sqldf"
     ]
    },
    "pythonIndentUnit": 4
   },
   "notebookName": "[iFood] Data Analysis | Analyse Data",
   "widgets": {}
  },
  "language_info": {
   "name": "python"
  }
 },
 "nbformat": 4,
 "nbformat_minor": 0
}