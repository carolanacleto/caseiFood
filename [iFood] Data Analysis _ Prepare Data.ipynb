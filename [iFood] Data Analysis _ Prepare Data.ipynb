{
 "cells": [
  {
   "cell_type": "markdown",
   "metadata": {
    "application/vnd.databricks.v1+cell": {
     "cellMetadata": {
      "byteLimit": 2048000,
      "rowLimit": 10000
     },
     "inputWidgets": {},
     "nuid": "02327baf-d0b1-4c42-bc6e-2ea29d3e53f8",
     "showTitle": true,
     "tableResultSettingsMap": {},
     "title": "Introdução"
    }
   },
   "source": [
    "**Introdução: Preparação e transformação da base de dados de pedidos**\n",
    "\n",
    "\n",
    "Este notebook foi desenvolvido com o objetivo de preparar e transformar a base de dados de pedidos (order.json), tornando-a apta para análises subsequentes.\n",
    "- A base de pedidos contém informações aninhadas em duas colunas de array: items e garnishItems. Para facilitar consultas e análises em um formato tabular, essas estruturas precisam ser desdobradas. Este notebook aplica técnicas de desaninhamento para garantir que cada componente seja representado de forma clara e acessível, sem perda de informações.\n",
    "- Dado o tamanho da base originail (order), optou-se por processar cada um dos 9 arquivos individualmente. Após a aplicação das transformações e do desaninhamento em cada parte, as bases processadas serão unificadas em uma tabela final."
   ]
  },
  {
   "cell_type": "code",
   "execution_count": 0,
   "metadata": {
    "application/vnd.databricks.v1+cell": {
     "cellMetadata": {
      "byteLimit": 2048000,
      "rowLimit": 10000
     },
     "inputWidgets": {},
     "nuid": "57bba14c-1609-49ea-8840-a9a5346b8320",
     "showTitle": true,
     "tableResultSettingsMap": {},
     "title": "Imports"
    }
   },
   "outputs": [],
   "source": [
    "# Importações necessárias\n",
    "from pyspark.sql import SparkSession\n",
    "from pyspark.sql.functions import col, from_json, explode_outer, length\n",
    "from pyspark.sql.types import (StructType, StructField, StringType, ArrayType, DoubleType, LongType, BooleanType)\n",
    "\n",
    "# Standard Libraries\n",
    "from datetime import date, timedelta\n",
    "\n",
    "# Spark\n",
    "import pyspark.sql.functions as F\n",
    "from pyspark.sql import Window\n",
    "from pyspark.sql.functions import lower, get_json_object, when, coalesce\n",
    "from pyspark.sql.utils import AnalysisException\n",
    "\n",
    "spark = SparkSession.builder.appName(\"ProcessaJsonPedidos\").getOrCreate()"
   ]
  },
  {
   "cell_type": "markdown",
   "metadata": {
    "application/vnd.databricks.v1+cell": {
     "cellMetadata": {
      "byteLimit": 2048000,
      "rowLimit": 10000
     },
     "inputWidgets": {},
     "nuid": "168afc88-e937-4d7e-953b-60b9f321084f",
     "showTitle": false,
     "tableResultSettingsMap": {},
     "title": ""
    }
   },
   "source": [
    "## Parte 00"
   ]
  },
  {
   "cell_type": "code",
   "execution_count": 0,
   "metadata": {
    "application/vnd.databricks.v1+cell": {
     "cellMetadata": {
      "byteLimit": 2048000,
      "rowLimit": 10000
     },
     "inputWidgets": {},
     "nuid": "dc0d551c-fa89-4ebd-bab6-6432d02543b8",
     "showTitle": true,
     "tableResultSettingsMap": {},
     "title": "Configurações iniciais"
    }
   },
   "outputs": [
    {
     "output_type": "stream",
     "name": "stdout",
     "output_type": "stream",
     "text": [
      "Lendo o arquivo JSON de: /Volumes/workspace/default/arq_json/part-00000.json\n"
     ]
    }
   ],
   "source": [
    "CATALOGO = \"workspace\"\n",
    "SCHEMA = \"default\"\n",
    "VOLUME = \"arq_json\"\n",
    "NOME_ARQUIVO_JSON = \"part-00000.json\"\n",
    "\n",
    "caminho_arquivo_json_volume = f\"/Volumes/{CATALOGO}/{SCHEMA}/{VOLUME}/{NOME_ARQUIVO_JSON}\"\n",
    "\n",
    "print(f\"Lendo o arquivo JSON de: {caminho_arquivo_json_volume}\")"
   ]
  },
  {
   "cell_type": "code",
   "execution_count": 0,
   "metadata": {
    "application/vnd.databricks.v1+cell": {
     "cellMetadata": {
      "byteLimit": 2048000,
      "rowLimit": 10000
     },
     "inputWidgets": {},
     "nuid": "c2015d53-19b8-414b-9b1e-004191a3f221",
     "showTitle": true,
     "tableResultSettingsMap": {},
     "title": "Leitura do json"
    }
   },
   "outputs": [
    {
     "output_type": "stream",
     "name": "stdout",
     "output_type": "stream",
     "text": [
      "Total de linhas: 367033\n"
     ]
    }
   ],
   "source": [
    "# Ler o arquivo JSON como um único objeto ou array JSON\n",
    "df_raw = spark.read.json(caminho_arquivo_json_volume, multiLine=True, encoding='UTF-8')\n",
    "\n",
    "print(f\"Total de linhas: {df_raw.count()}\")"
   ]
  },
  {
   "cell_type": "code",
   "execution_count": 0,
   "metadata": {
    "application/vnd.databricks.v1+cell": {
     "cellMetadata": {
      "byteLimit": 2048000,
      "rowLimit": 10000
     },
     "inputWidgets": {},
     "nuid": "76c6afda-5430-4cac-854c-42946801d0c3",
     "showTitle": true,
     "tableResultSettingsMap": {},
     "title": "Primeiras linhas"
    },
    "jupyter": {
     "outputs_hidden": true
    }
   },
   "outputs": [
    {
     "output_type": "stream",
     "name": "stdout",
     "output_type": "stream",
     "text": [
      "Retornando 10 primeiras linhas:\n{\"cpf\":\"24917797900\",\"customer_id\":\"35419c42dd9e77fa6b34811ef3cdf1f242255b6ab4aa62e936e4b1a2e5dd1952\",\"customer_name\":\"ULISSES\",\"delivery_address_city\":\"JUIZ DE FORA\",\"delivery_address_country\":\"BR\",\"delivery_address_district\":\"CASCATINHA\",\"delivery_address_external_id\":\"6760884\",\"delivery_address_latitude\":\"-43.36\",\"delivery_address_longitude\":\"-21.78\",\"delivery_address_state\":\"MG\",\"delivery_address_zip_code\":\"36033\",\"items\":\"[{\\\"name\\\": \\\"403 Mariano Procópio\\\", \\\"addition\\\": {\\\"value\\\": \\\"0\\\", \\\"currency\\\": \\\"BRL\\\"}, \\\"discount\\\": {\\\"value\\\": \\\"0\\\", \\\"currency\\\": \\\"BRL\\\"}, \\\"quantity\\\": 1.00, \\\"sequence\\\": 1, \\\"unitPrice\\\": {\\\"value\\\": \\\"0\\\", \\\"currency\\\": \\\"BRL\\\"}, \\\"externalId\\\": \\\"ee0f88c318af4612998392a0ead7b10c\\\", \\\"totalValue\\\": {\\\"value\\\": \\\"0\\\", \\\"currency\\\": \\\"BRL\\\"}, \\\"customerNote\\\": null, \\\"garnishItems\\\": [{\\\"name\\\": \\\"AO PONTO\\\", \\\"addition\\\": {\\\"value\\\": \\\"0\\\", \\\"currency\\\": \\\"BRL\\\"}, \\\"discount\\\": {\\\"value\\\": \\\"0\\\", \\\"currency\\\": \\\"BRL\\\"}, \\\"quantity\\\": 1.00, \\\"sequence\\\": 2, \\\"unitPrice\\\": {\\\"value\\\": \\\"0\\\", \\\"currency\\\": \\\"BRL\\\"}, \\\"categoryId\\\": \\\"ASC2\\\", \\\"externalId\\\": \\\"82d8b31676374f889675a55ea1504796\\\", \\\"totalValue\\\": {\\\"value\\\": \\\"0\\\", \\\"currency\\\": \\\"BRL\\\"}, \\\"categoryName\\\": \\\"PONTO DA CARNE\\\", \\\"integrationId\\\": null}, {\\\"name\\\": \\\"Inteira\\\", \\\"addition\\\": {\\\"value\\\": \\\"0\\\", \\\"currency\\\": \\\"BRL\\\"}, \\\"discount\\\": {\\\"value\\\": \\\"0\\\", \\\"currency\\\": \\\"BRL\\\"}, \\\"quantity\\\": 1.00, \\\"sequence\\\": 3, \\\"unitPrice\\\": {\\\"value\\\": \\\"8290\\\", \\\"currency\\\": \\\"BRL\\\"}, \\\"categoryId\\\": \\\"AXUI\\\", \\\"externalId\\\": \\\"2dc5b08c22954891a931d4f3c6b63c73\\\", \\\"totalValue\\\": {\\\"value\\\": \\\"8290\\\", \\\"currency\\\": \\\"BRL\\\"}, \\\"categoryName\\\": \\\"Tamanho\\\", \\\"integrationId\\\": null}], \\\"integrationId\\\": null, \\\"totalAddition\\\": {\\\"value\\\": \\\"0\\\", \\\"currency\\\": \\\"BRL\\\"}, \\\"totalDiscount\\\": {\\\"value\\\": \\\"0\\\", \\\"currency\\\": \\\"BRL\\\"}}, {\\\"name\\\": \\\"Refrigerantes 2LT\\\", \\\"addition\\\": {\\\"value\\\": \\\"0\\\", \\\"currency\\\": \\\"BRL\\\"}, \\\"discount\\\": {\\\"value\\\": \\\"0\\\", \\\"currency\\\": \\\"BRL\\\"}, \\\"quantity\\\": 1.00, \\\"sequence\\\": 4, \\\"unitPrice\\\": {\\\"value\\\": \\\"0\\\", \\\"currency\\\": \\\"BRL\\\"}, \\\"externalId\\\": \\\"21240296966a461989f5027060697375\\\", \\\"totalValue\\\": {\\\"value\\\": \\\"0\\\", \\\"currency\\\": \\\"BRL\\\"}, \\\"customerNote\\\": null, \\\"garnishItems\\\": [{\\\"name\\\": \\\"Coca-cola\\\", \\\"addition\\\": {\\\"value\\\": \\\"0\\\", \\\"currency\\\": \\\"BRL\\\"}, \\\"discount\\\": {\\\"value\\\": \\\"0\\\", \\\"currency\\\": \\\"BRL\\\"}, \\\"quantity\\\": 1.00, \\\"sequence\\\": 5, \\\"unitPrice\\\": {\\\"value\\\": \\\"800\\\", \\\"currency\\\": \\\"BRL\\\"}, \\\"categoryId\\\": \\\"AN5P\\\", \\\"externalId\\\": \\\"87b411e3029b4c319565e01663856586\\\", \\\"totalValue\\\": {\\\"value\\\": \\\"800\\\", \\\"currency\\\": \\\"BRL\\\"}, \\\"categoryName\\\": \\\"Escolha\\\", \\\"integrationId\\\": null}], \\\"integrationId\\\": null, \\\"totalAddition\\\": {\\\"value\\\": \\\"0\\\", \\\"currency\\\": \\\"BRL\\\"}, \\\"totalDiscount\\\": {\\\"value\\\": \\\"0\\\", \\\"currency\\\": \\\"BRL\\\"}}]\",\"merchant_id\":\"dd3915c8589797c626a80b506abf4ad85f7ff7fb3a2a61c865da0c3c834ac0bd\",\"merchant_latitude\":\"-43.36\",\"merchant_longitude\":\"-21.78\",\"merchant_timezone\":\"America/Sao_Paulo\",\"order_created_at\":\"2019-01-06T23:07:53.000Z\",\"order_id\":\"1b3f0287d7cc080e3060df78054ba251745a48e2dd6c25c296bd61957a4b6040\",\"order_scheduled\":false,\"order_total_amount\":90.9,\"origin_platform\":\"DESKTOP\"}\n{\"cpf\":\"40103289230\",\"customer_id\":\"23033ace6c281bc27e3525f16fa0339c5e7a988e15912e647cebe00207749785\",\"customer_name\":\"MARIA\",\"delivery_address_city\":\"RIO DE JANEIRO\",\"delivery_address_country\":\"BR\",\"delivery_address_district\":\"JARDIM GUANABARA\",\"delivery_address_external_id\":\"2190167\",\"delivery_address_latitude\":\"-43.21\",\"delivery_address_longitude\":\"-22.82\",\"delivery_address_state\":\"RJ\",\"delivery_address_zip_code\":\"21940\",\"items\":\"[{\\\"name\\\": \\\"HOT FILADÉFIA CROCANTE\\\", \\\"addition\\\": {\\\"value\\\": \\\"0\\\", \\\"currency\\\": \\\"BRL\\\"}, \\\"discount\\\": {\\\"value\\\": \\\"0\\\", \\\"currency\\\": \\\"BRL\\\"}, \\\"quantity\\\": 1.00, \\\"sequence\\\": 1, \\\"unitPrice\\\": {\\\"value\\\": \\\"0\\\", \\\"currency\\\": \\\"BRL\\\"}, \\\"externalId\\\": \\\"98fcfbce64da4889a852ff2ea5fe7983\\\", \\\"totalValue\\\": {\\\"value\\\": \\\"0\\\", \\\"currency\\\": \\\"BRL\\\"}, \\\"customerNote\\\": null, \\\"garnishItems\\\": [{\\\"name\\\": \\\"465- Salmão\\\", \\\"addition\\\": {\\\"value\\\": \\\"0\\\", \\\"currency\\\": \\\"BRL\\\"}, \\\"discount\\\": {\\\"value\\\": \\\"0\\\", \\\"currency\\\": \\\"BRL\\\"}, \\\"quantity\\\": 2.00, \\\"sequence\\\": 2, \\\"unitPrice\\\": {\\\"value\\\": \\\"1850\\\", \\\"currency\\\": \\\"BRL\\\"}, \\\"categoryId\\\": \\\"19VS\\\", \\\"externalId\\\": \\\"7877e08f04644d0c8f841f0d806c82f1\\\", \\\"totalValue\\\": {\\\"value\\\": \\\"3700\\\", \\\"currency\\\": \\\"BRL\\\"}, \\\"categoryName\\\": \\\"ESCOLHA UM ITEM\\\", \\\"integrationId\\\": null}], \\\"integrationId\\\": null, \\\"totalAddition\\\": {\\\"value\\\": \\\"0\\\", \\\"currency\\\": \\\"BRL\\\"}, \\\"totalDiscount\\\": {\\\"value\\\": \\\"0\\\", \\\"currency\\\": \\\"BRL\\\"}}, {\\\"name\\\": \\\"673 - HASHI EXTRA\\\", \\\"addition\\\": {\\\"value\\\": \\\"0\\\", \\\"currency\\\": \\\"BRL\\\"}, \\\"discount\\\": {\\\"value\\\": \\\"0\\\", \\\"currency\\\": \\\"BRL\\\"}, \\\"quantity\\\": 3.00, \\\"sequence\\\": 3, \\\"unitPrice\\\": {\\\"value\\\": \\\"30\\\", \\\"currency\\\": \\\"BRL\\\"}, \\\"externalId\\\": \\\"be71ce367a774194822cbb2d1be84b6b\\\", \\\"totalValue\\\": {\\\"value\\\": \\\"90\\\", \\\"currency\\\": \\\"BRL\\\"}, \\\"customerNote\\\": null, \\\"garnishItems\\\": [], \\\"integrationId\\\": null, \\\"totalAddition\\\": {\\\"value\\\": \\\"0\\\", \\\"currency\\\": \\\"BRL\\\"}, \\\"totalDiscount\\\": {\\\"value\\\": \\\"0\\\", \\\"currency\\\": \\\"BRL\\\"}}]\",\"merchant_id\":\"fa140fe3df83f225f95a07243a0b7134a3a119756a428c377a847e0b38e8c853\",\"merchant_latitude\":\"-43.21\",\"merchant_longitude\":\"-22.82\",\"merchant_timezone\":\"America/Sao_Paulo\",\"order_created_at\":\"2018-12-29T00:07:25.000Z\",\"order_id\":\"f9fa11446bab9d526332677d693e28e6d7467d15bc9d44082425aef289b5c28b\",\"order_scheduled\":false,\"order_total_amount\":37.9,\"origin_platform\":\"IOS\"}\n{\"cpf\":\"94554280152\",\"customer_id\":\"e2a4d4bd02ea325628327d1eb0a4d2536c98327c4363fddd706c9f1405a0b130\",\"customer_name\":\"JULIANA\",\"delivery_address_city\":\"SAO PAULO\",\"delivery_address_country\":\"BR\",\"delivery_address_district\":\"CONJUNTO HABITACIONAL TURISTICA\",\"delivery_address_external_id\":\"9411004\",\"delivery_address_latitude\":\"-46.76\",\"delivery_address_longitude\":\"-23.48\",\"delivery_address_state\":\"SP\",\"delivery_address_zip_code\":\"51640\",\"items\":\"[{\\\"name\\\": \\\"COCA-COLA 600 ML\\\", \\\"addition\\\": {\\\"value\\\": \\\"0\\\", \\\"currency\\\": \\\"BRL\\\"}, \\\"discount\\\": {\\\"value\\\": \\\"0\\\", \\\"currency\\\": \\\"BRL\\\"}, \\\"quantity\\\": 1.00, \\\"sequence\\\": 4, \\\"unitPrice\\\": {\\\"value\\\": \\\"590\\\", \\\"currency\\\": \\\"BRL\\\"}, \\\"externalId\\\": \\\"da77ebaded2a42748a8f5fa7358ae3f3\\\", \\\"totalValue\\\": {\\\"value\\\": \\\"590\\\", \\\"currency\\\": \\\"BRL\\\"}, \\\"customerNote\\\": null, \\\"garnishItems\\\": [], \\\"integrationId\\\": \\\"5401\\\", \\\"totalAddition\\\": {\\\"value\\\": \\\"0\\\", \\\"currency\\\": \\\"BRL\\\"}, \\\"totalDiscount\\\": {\\\"value\\\": \\\"0\\\", \\\"currency\\\": \\\"BRL\\\"}}, {\\\"name\\\": \\\"YAKISOBA CLASSICO GRANDE\\\", \\\"addition\\\": {\\\"value\\\": \\\"0\\\", \\\"currency\\\": \\\"BRL\\\"}, \\\"discount\\\": {\\\"value\\\": \\\"0\\\", \\\"currency\\\": \\\"BRL\\\"}, \\\"quantity\\\": 1.00, \\\"sequence\\\": 1, \\\"unitPrice\\\": {\\\"value\\\": \\\"3350\\\", \\\"currency\\\": \\\"BRL\\\"}, \\\"externalId\\\": \\\"d49ce7f899ee4dd5b077a7c713df48c3\\\", \\\"totalValue\\\": {\\\"value\\\": \\\"3350\\\", \\\"currency\\\": \\\"BRL\\\"}, \\\"customerNote\\\": null, \\\"garnishItems\\\": [], \\\"integrationId\\\": \\\"201\\\", \\\"totalAddition\\\": {\\\"value\\\": \\\"0\\\", \\\"currency\\\": \\\"BRL\\\"}, \\\"totalDiscount\\\": {\\\"value\\\": \\\"0\\\", \\\"currency\\\": \\\"BRL\\\"}}, {\\\"name\\\": \\\"CHA ICE TEA FUZE PESSEGO 300ML\\\", \\\"addition\\\": {\\\"value\\\": \\\"0\\\", \\\"currency\\\": \\\"BRL\\\"}, \\\"discount\\\": {\\\"value\\\": \\\"0\\\", \\\"currency\\\": \\\"BRL\\\"}, \\\"quantity\\\": 1.00, \\\"sequence\\\": 3, \\\"unitPrice\\\": {\\\"value\\\": \\\"550\\\", \\\"currency\\\": \\\"BRL\\\"}, \\\"externalId\\\": \\\"8f2c50416d7442289ab6cd756f18f3d5\\\", \\\"totalValue\\\": {\\\"value\\\": \\\"550\\\", \\\"currency\\\": \\\"BRL\\\"}, \\\"customerNote\\\": null, \\\"garnishItems\\\": [], \\\"integrationId\\\": \\\"5561\\\", \\\"totalAddition\\\": {\\\"value\\\": \\\"0\\\", \\\"currency\\\": \\\"BRL\\\"}, \\\"totalDiscount\\\": {\\\"value\\\": \\\"0\\\", \\\"currency\\\": \\\"BRL\\\"}}, {\\\"name\\\": \\\"YAKISOBA CLASSICO PEQUENO\\\", \\\"addition\\\": {\\\"value\\\": \\\"0\\\", \\\"currency\\\": \\\"BRL\\\"}, \\\"discount\\\": {\\\"value\\\": \\\"0\\\", \\\"currency\\\": \\\"BRL\\\"}, \\\"quantity\\\": 1.00, \\\"sequence\\\": 2, \\\"unitPrice\\\": {\\\"value\\\": \\\"2580\\\", \\\"currency\\\": \\\"BRL\\\"}, \\\"externalId\\\": \\\"26235047a2d64f1e8fc8fd12ebc4a1e6\\\", \\\"totalValue\\\": {\\\"value\\\": \\\"2580\\\", \\\"currency\\\": \\\"BRL\\\"}, \\\"customerNote\\\": null, \\\"garnishItems\\\": [], \\\"integrationId\\\": \\\"2201\\\", \\\"totalAddition\\\": {\\\"value\\\": \\\"0\\\", \\\"currency\\\": \\\"BRL\\\"}, \\\"totalDiscount\\\": {\\\"value\\\": \\\"0\\\", \\\"currency\\\": \\\"BRL\\\"}}]\",\"merchant_id\":\"410be56997129cd52afbfe92d6101ea82c6c4c9885969c40ffc2dad07bf3d71c\",\"merchant_latitude\":\"-46.76\",\"merchant_longitude\":\"-23.48\",\"merchant_timezone\":\"America/Sao_Paulo\",\"order_created_at\":\"2019-01-21T17:51:35.000Z\",\"order_id\":\"43d25ec73d3f01f27adea95082f22432f7d908cb4d94fc6f18fec664144869b2\",\"order_scheduled\":false,\"order_total_amount\":70.7,\"origin_platform\":\"IOS\"}\n{\"cpf\":\"36394163232\",\"customer_id\":\"ec5d13d99badeb9108b1c04a5b94ab4f7c8915165acf4ea9a3757ee354582047\",\"customer_name\":\"VICTOR\",\"delivery_address_city\":\"RIO DE JANEIRO\",\"delivery_address_country\":\"BR\",\"delivery_address_district\":\"COPACABANA\",\"delivery_address_external_id\":\"8149407\",\"delivery_address_latitude\":\"-43.18\",\"delivery_address_longitude\":\"-22.97\",\"delivery_address_state\":\"RJ\",\"delivery_address_zip_code\":\"22020\",\"items\":\"[{\\\"name\\\": \\\"Mini Kibe Frito\\\", \\\"addition\\\": {\\\"value\\\": \\\"0\\\", \\\"currency\\\": \\\"BRL\\\"}, \\\"discount\\\": {\\\"value\\\": \\\"0\\\", \\\"currency\\\": \\\"BRL\\\"}, \\\"quantity\\\": 2.00, \\\"sequence\\\": 3, \\\"unitPrice\\\": {\\\"value\\\": \\\"380\\\", \\\"currency\\\": \\\"BRL\\\"}, \\\"externalId\\\": \\\"bf778edf94d74ce39c35a40822f98376\\\", \\\"totalValue\\\": {\\\"value\\\": \\\"760\\\", \\\"currency\\\": \\\"BRL\\\"}, \\\"customerNote\\\": null, \\\"garnishItems\\\": [], \\\"integrationId\\\": null, \\\"totalAddition\\\": {\\\"value\\\": \\\"0\\\", \\\"currency\\\": \\\"BRL\\\"}, \\\"totalDiscount\\\": {\\\"value\\\": \\\"0\\\", \\\"currency\\\": \\\"BRL\\\"}}, {\\\"name\\\": \\\"Guaraná\\\", \\\"addition\\\": {\\\"value\\\": \\\"0\\\", \\\"currency\\\": \\\"BRL\\\"}, \\\"discount\\\": {\\\"value\\\": \\\"0\\\", \\\"currency\\\": \\\"BRL\\\"}, \\\"quantity\\\": 1.00, \\\"sequence\\\": 4, \\\"unitPrice\\\": {\\\"value\\\": \\\"700\\\", \\\"currency\\\": \\\"BRL\\\"}, \\\"externalId\\\": \\\"8cfa8747a8ec4c868ae2acc365074943\\\", \\\"totalValue\\\": {\\\"value\\\": \\\"700\\\", \\\"currency\\\": \\\"BRL\\\"}, \\\"customerNote\\\": null, \\\"garnishItems\\\": [{\\\"name\\\": \\\"Light\\\", \\\"addition\\\": {\\\"value\\\": \\\"0\\\", \\\"currency\\\": \\\"BRL\\\"}, \\\"discount\\\": {\\\"value\\\": \\\"0\\\", \\\"currency\\\": \\\"BRL\\\"}, \\\"quantity\\\": 1.00, \\\"sequence\\\": 5, \\\"unitPrice\\\": {\\\"value\\\": \\\"0\\\", \\\"currency\\\": \\\"BRL\\\"}, \\\"categoryId\\\": \\\"EYQ\\\", \\\"externalId\\\": \\\"c260e47f675543b3bf72c8828ffc92a4\\\", \\\"totalValue\\\": {\\\"value\\\": \\\"0\\\", \\\"currency\\\": \\\"BRL\\\"}, \\\"categoryName\\\": \\\"Escolha o seu Guaraná\\\", \\\"integrationId\\\": null}], \\\"integrationId\\\": null, \\\"totalAddition\\\": {\\\"value\\\": \\\"0\\\", \\\"currency\\\": \\\"BRL\\\"}, \\\"totalDiscount\\\": {\\\"value\\\": \\\"0\\\", \\\"currency\\\": \\\"BRL\\\"}}, {\\\"name\\\": \\\"Sanduíche Shawarma\\\", \\\"addition\\\": {\\\"value\\\": \\\"0\\\", \\\"currency\\\": \\\"BRL\\\"}, \\\"discount\\\": {\\\"value\\\": \\\"0\\\", \\\"currency\\\": \\\"BRL\\\"}, \\\"quantity\\\": 1.00, \\\"sequence\\\": 1, \\\"unitPrice\\\": {\\\"value\\\": \\\"0\\\", \\\"currency\\\": \\\"BRL\\\"}, \\\"externalId\\\": \\\"544efe9160e042d5a87cfd8fe8fe5337\\\", \\\"totalValue\\\": {\\\"value\\\": \\\"0\\\", \\\"currency\\\": \\\"BRL\\\"}, \\\"customerNote\\\": null, \\\"garnishItems\\\": [{\\\"name\\\": \\\"Pão árabe\\\", \\\"addition\\\": {\\\"value\\\": \\\"0\\\", \\\"currency\\\": \\\"BRL\\\"}, \\\"discount\\\": {\\\"value\\\": \\\"0\\\", \\\"currency\\\": \\\"BRL\\\"}, \\\"quantity\\\": 1.00, \\\"sequence\\\": 2, \\\"unitPrice\\\": {\\\"value\\\": \\\"3200\\\", \\\"currency\\\": \\\"BRL\\\"}, \\\"categoryId\\\": \\\"EYL\\\", \\\"externalId\\\": \\\"3dcf3ce0b81c4b5aad451d7282f9e286\\\", \\\"totalValue\\\": {\\\"value\\\": \\\"3200\\\", \\\"currency\\\": \\\"BRL\\\"}, \\\"categoryName\\\": \\\"Escolha o seu pão\\\", \\\"integrationId\\\": null}], \\\"integrationId\\\": null, \\\"totalAddition\\\": {\\\"value\\\": \\\"0\\\", \\\"currency\\\": \\\"BRL\\\"}, \\\"totalDiscount\\\": {\\\"value\\\": \\\"0\\\", \\\"currency\\\": \\\"BRL\\\"}}]\",\"merchant_id\":\"f5b685fda71643a4b5a29201c9fda17a3183499d1107eadd029c196ffa4ae854\",\"merchant_latitude\":\"-43.18\",\"merchant_longitude\":\"-22.97\",\"merchant_timezone\":\"America/Sao_Paulo\",\"order_created_at\":\"2018-12-31T22:46:13.000Z\",\"order_id\":\"9227ef1b80d2158e433cc3199ddedd57373cc358bb51d6cf532bc433d1453e2b\",\"order_scheduled\":false,\"order_total_amount\":46.6,\"origin_platform\":\"IOS\"}\n{\"cpf\":\"92377956839\",\"customer_id\":\"5930bb4ac3764773204820472c85c1dcae89aad56b1d3264be0be9e6f03db0da\",\"customer_name\":\"CAROLINE\",\"delivery_address_city\":\"CURITIBA\",\"delivery_address_country\":\"BR\",\"delivery_address_district\":\"CABRAL\",\"delivery_address_external_id\":\"8818871\",\"delivery_address_latitude\":\"-49.25\",\"delivery_address_longitude\":\"-25.40\",\"delivery_address_state\":\"PR\",\"delivery_address_zip_code\":\"80035\",\"items\":\"[{\\\"name\\\": \\\"MARMITEX DO DIA\\\", \\\"addition\\\": {\\\"value\\\": \\\"0\\\", \\\"currency\\\": \\\"BRL\\\"}, \\\"discount\\\": {\\\"value\\\": \\\"0\\\", \\\"currency\\\": \\\"BRL\\\"}, \\\"quantity\\\": 2.00, \\\"sequence\\\": 1, \\\"unitPrice\\\": {\\\"value\\\": \\\"1390\\\", \\\"currency\\\": \\\"BRL\\\"}, \\\"externalId\\\": \\\"26d4e0bf172548ac92ba84d0b155c9cc\\\", \\\"totalValue\\\": {\\\"value\\\": \\\"2780\\\", \\\"currency\\\": \\\"BRL\\\"}, \\\"customerNote\\\": null, \\\"garnishItems\\\": [], \\\"integrationId\\\": null, \\\"totalAddition\\\": {\\\"value\\\": \\\"0\\\", \\\"currency\\\": \\\"BRL\\\"}, \\\"totalDiscount\\\": {\\\"value\\\": \\\"0\\\", \\\"currency\\\": \\\"BRL\\\"}}]\",\"merchant_id\":\"eeea397c4a007f6be2f1b037eb071f19a5a2bee89fd907864244255547c0f046\",\"merchant_latitude\":\"-49.25\",\"merchant_longitude\":\"-25.40\",\"merchant_timezone\":\"America/Sao_Paulo\",\"order_created_at\":\"2018-12-03T14:09:09.000Z\",\"order_id\":\"6b9db5b22da7f68d9260446ad5defbfba0ee079b180c7213c33d257767a17c1c\",\"order_scheduled\":false,\"order_total_amount\":27.8,\"origin_platform\":\"ANDROID\"}\n{\"cpf\":\"63886824224\",\"customer_id\":\"82d0bb398a183c0ef726df5e72207d83e23b7fc5f23c53e3a0be619a6ea096ea\",\"customer_name\":\"MAX\",\"delivery_address_city\":\"SAO PAULO\",\"delivery_address_country\":\"BR\",\"delivery_address_district\":\"PARQUE BOTURUSSU\",\"delivery_address_external_id\":\"7201800\",\"delivery_address_latitude\":\"-46.49\",\"delivery_address_longitude\":\"-23.50\",\"delivery_address_state\":\"SP\",\"delivery_address_zip_code\":\"38020\",\"items\":\"[{\\\"name\\\": \\\"CHEESE BURGUER\\\", \\\"addition\\\": {\\\"value\\\": \\\"0\\\", \\\"currency\\\": \\\"BRL\\\"}, \\\"discount\\\": {\\\"value\\\": \\\"0\\\", \\\"currency\\\": \\\"BRL\\\"}, \\\"quantity\\\": 1.00, \\\"sequence\\\": 1, \\\"unitPrice\\\": {\\\"value\\\": \\\"650\\\", \\\"currency\\\": \\\"BRL\\\"}, \\\"externalId\\\": \\\"94d776bcb8ef49c1b759bc018f307dae\\\", \\\"totalValue\\\": {\\\"value\\\": \\\"650\\\", \\\"currency\\\": \\\"BRL\\\"}, \\\"customerNote\\\": null, \\\"garnishItems\\\": [{\\\"name\\\": \\\"Bacon\\\", \\\"addition\\\": {\\\"value\\\": \\\"0\\\", \\\"currency\\\": \\\"BRL\\\"}, \\\"discount\\\": {\\\"value\\\": \\\"0\\\", \\\"currency\\\": \\\"BRL\\\"}, \\\"quantity\\\": 1.00, \\\"sequence\\\": 2, \\\"unitPrice\\\": {\\\"value\\\": \\\"200\\\", \\\"currency\\\": \\\"BRL\\\"}, \\\"categoryId\\\": \\\"1K0LS\\\", \\\"externalId\\\": \\\"7ecf8d190ac44a2f927d75d1f77d2e46\\\", \\\"totalValue\\\": {\\\"value\\\": \\\"200\\\", \\\"currency\\\": \\\"BRL\\\"}, \\\"categoryName\\\": \\\"Adicionais \\\", \\\"integrationId\\\": null}, {\\\"name\\\": \\\"Catupiry\\\", \\\"addition\\\": {\\\"value\\\": \\\"0\\\", \\\"currency\\\": \\\"BRL\\\"}, \\\"discount\\\": {\\\"value\\\": \\\"0\\\", \\\"currency\\\": \\\"BRL\\\"}, \\\"quantity\\\": 1.00, \\\"sequence\\\": 3, \\\"unitPrice\\\": {\\\"value\\\": \\\"200\\\", \\\"currency\\\": \\\"BRL\\\"}, \\\"categoryId\\\": \\\"1K0LS\\\", \\\"externalId\\\": \\\"94b7eff72a33412c8a6f3f535b94e29f\\\", \\\"totalValue\\\": {\\\"value\\\": \\\"200\\\", \\\"currency\\\": \\\"BRL\\\"}, \\\"categoryName\\\": \\\"Adicionais \\\", \\\"integrationId\\\": null}, {\\\"name\\\": \\\"Hamburguer\\\", \\\"addition\\\": {\\\"value\\\": \\\"0\\\", \\\"currency\\\": \\\"BRL\\\"}, \\\"discount\\\": {\\\"value\\\": \\\"0\\\", \\\"currency\\\": \\\"BRL\\\"}, \\\"quantity\\\": 1.00, \\\"sequence\\\": 4, \\\"unitPrice\\\": {\\\"value\\\": \\\"300\\\", \\\"currency\\\": \\\"BRL\\\"}, \\\"categoryId\\\": \\\"1K0LS\\\", \\\"externalId\\\": \\\"45d17421bc9c455c83bb2d6596365c8e\\\", \\\"totalValue\\\": {\\\"value\\\": \\\"300\\\", \\\"currency\\\": \\\"BRL\\\"}, \\\"categoryName\\\": \\\"Adicionais \\\", \\\"integrationId\\\": null}, {\\\"name\\\": \\\"Parmesão\\\", \\\"addition\\\": {\\\"value\\\": \\\"0\\\", \\\"currency\\\": \\\"BRL\\\"}, \\\"discount\\\": {\\\"value\\\": \\\"0\\\", \\\"currency\\\": \\\"BRL\\\"}, \\\"quantity\\\": 1.00, \\\"sequence\\\": 5, \\\"unitPrice\\\": {\\\"value\\\": \\\"300\\\", \\\"currency\\\": \\\"BRL\\\"}, \\\"categoryId\\\": \\\"1K0LS\\\", \\\"externalId\\\": \\\"0a692570c46747c29c22c36851d98da5\\\", \\\"totalValue\\\": {\\\"value\\\": \\\"300\\\", \\\"currency\\\": \\\"BRL\\\"}, \\\"categoryName\\\": \\\"Adicionais \\\", \\\"integrationId\\\": null}, {\\\"name\\\": \\\"Provolone\\\", \\\"addition\\\": {\\\"value\\\": \\\"0\\\", \\\"currency\\\": \\\"BRL\\\"}, \\\"discount\\\": {\\\"value\\\": \\\"0\\\", \\\"currency\\\": \\\"BRL\\\"}, \\\"quantity\\\": 1.00, \\\"sequence\\\": 6, \\\"unitPrice\\\": {\\\"value\\\": \\\"300\\\", \\\"currency\\\": \\\"BRL\\\"}, \\\"categoryId\\\": \\\"1K0LS\\\", \\\"externalId\\\": \\\"ec9d6ca1cf5842228915d57c56897010\\\", \\\"totalValue\\\": {\\\"value\\\": \\\"300\\\", \\\"currency\\\": \\\"BRL\\\"}, \\\"categoryName\\\": \\\"Adicionais \\\", \\\"integrationId\\\": null}], \\\"integrationId\\\": null, \\\"totalAddition\\\": {\\\"value\\\": \\\"0\\\", \\\"currency\\\": \\\"BRL\\\"}, \\\"totalDiscount\\\": {\\\"value\\\": \\\"0\\\", \\\"currency\\\": \\\"BRL\\\"}}, {\\\"name\\\": \\\"Refrigerante 2 litros\\\", \\\"addition\\\": {\\\"value\\\": \\\"0\\\", \\\"currency\\\": \\\"BRL\\\"}, \\\"discount\\\": {\\\"value\\\": \\\"0\\\", \\\"currency\\\": \\\"BRL\\\"}, \\\"quantity\\\": 1.00, \\\"sequence\\\": 12, \\\"unitPrice\\\": {\\\"value\\\": \\\"0\\\", \\\"currency\\\": \\\"BRL\\\"}, \\\"externalId\\\": \\\"07474755460746c7a4b7f1c71f982da1\\\", \\\"totalValue\\\": {\\\"value\\\": \\\"0\\\", \\\"currency\\\": \\\"BRL\\\"}, \\\"customerNote\\\": null, \\\"garnishItems\\\": [{\\\"name\\\": \\\"Coca Cola\\\", \\\"addition\\\": {\\\"value\\\": \\\"0\\\", \\\"currency\\\": \\\"BRL\\\"}, \\\"discount\\\": {\\\"value\\\": \\\"0\\\", \\\"currency\\\": \\\"BRL\\\"}, \\\"quantity\\\": 1.00, \\\"sequence\\\": 13, \\\"unitPrice\\\": {\\\"value\\\": \\\"850\\\", \\\"currency\\\": \\\"BRL\\\"}, \\\"categoryId\\\": \\\"9IK8\\\", \\\"externalId\\\": \\\"00b28e3970ce429a80df2f70dbe434e0\\\", \\\"totalValue\\\": {\\\"value\\\": \\\"850\\\", \\\"currency\\\": \\\"BRL\\\"}, \\\"categoryName\\\": \\\"Escolha o refrigerante\\\", \\\"integrationId\\\": null}], \\\"integrationId\\\": null, \\\"totalAddition\\\": {\\\"value\\\": \\\"0\\\", \\\"currency\\\": \\\"BRL\\\"}, \\\"totalDiscount\\\": {\\\"value\\\": \\\"0\\\", \\\"currency\\\": \\\"BRL\\\"}}, {\\\"name\\\": \\\"CHEESE CHEDDAR\\\", \\\"addition\\\": {\\\"value\\\": \\\"0\\\", \\\"currency\\\": \\\"BRL\\\"}, \\\"discount\\\": {\\\"value\\\": \\\"0\\\", \\\"currency\\\": \\\"BRL\\\"}, \\\"quantity\\\": 1.00, \\\"sequence\\\": 7, \\\"unitPrice\\\": {\\\"value\\\": \\\"800\\\", \\\"currency\\\": \\\"BRL\\\"}, \\\"externalId\\\": \\\"502fe20e4eca459ebea1e082a9526ba2\\\", \\\"totalValue\\\": {\\\"value\\\": \\\"800\\\", \\\"currency\\\": \\\"BRL\\\"}, \\\"customerNote\\\": null, \\\"garnishItems\\\": [{\\\"name\\\": \\\"Bacon\\\", \\\"addition\\\": {\\\"value\\\": \\\"0\\\", \\\"currency\\\": \\\"BRL\\\"}, \\\"discount\\\": {\\\"value\\\": \\\"0\\\", \\\"currency\\\": \\\"BRL\\\"}, \\\"quantity\\\": 1.00, \\\"sequence\\\": 8, \\\"unitPrice\\\": {\\\"value\\\": \\\"200\\\", \\\"currency\\\": \\\"BRL\\\"}, \\\"categoryId\\\": \\\"1K0LZ\\\", \\\"externalId\\\": \\\"8af43bf2fde24d54ae868b48472317c5\\\", \\\"totalValue\\\": {\\\"value\\\": \\\"200\\\", \\\"currency\\\": \\\"BRL\\\"}, \\\"categoryName\\\": \\\"Adicionais \\\", \\\"integrationId\\\": null}, {\\\"name\\\": \\\"Catupiry\\\", \\\"addition\\\": {\\\"value\\\": \\\"0\\\", \\\"currency\\\": \\\"BRL\\\"}, \\\"discount\\\": {\\\"value\\\": \\\"0\\\", \\\"currency\\\": \\\"BRL\\\"}, \\\"quantity\\\": 1.00, \\\"sequence\\\": 9, \\\"unitPrice\\\": {\\\"value\\\": \\\"200\\\", \\\"currency\\\": \\\"BRL\\\"}, \\\"categoryId\\\": \\\"1K0LZ\\\", \\\"externalId\\\": \\\"2e3c0af534a646c493d5eae3b148da17\\\", \\\"totalValue\\\": {\\\"value\\\": \\\"200\\\", \\\"currency\\\": \\\"BRL\\\"}, \\\"categoryName\\\": \\\"Adicionais \\\", \\\"integrationId\\\": null}, {\\\"name\\\": \\\"Hamburguer\\\", \\\"addition\\\": {\\\"value\\\": \\\"0\\\", \\\"currency\\\": \\\"BRL\\\"}, \\\"discount\\\": {\\\"value\\\": \\\"0\\\", \\\"currency\\\": \\\"BRL\\\"}, \\\"quantity\\\": 1.00, \\\"sequence\\\": 10, \\\"unitPrice\\\": {\\\"value\\\": \\\"300\\\", \\\"currency\\\": \\\"BRL\\\"}, \\\"categoryId\\\": \\\"1K0LZ\\\", \\\"externalId\\\": \\\"67af92aac85343aeaed0fa8d492b16b7\\\", \\\"totalValue\\\": {\\\"value\\\": \\\"300\\\", \\\"currency\\\": \\\"BRL\\\"}, \\\"categoryName\\\": \\\"Adicionais \\\", \\\"integrationId\\\": null}, {\\\"name\\\": \\\"Mussarela\\\", \\\"addition\\\": {\\\"value\\\": \\\"0\\\", \\\"currency\\\": \\\"BRL\\\"}, \\\"discount\\\": {\\\"value\\\": \\\"0\\\", \\\"currency\\\": \\\"BRL\\\"}, \\\"quantity\\\": 1.00, \\\"sequence\\\": 11, \\\"unitPrice\\\": {\\\"value\\\": \\\"200\\\", \\\"currency\\\": \\\"BRL\\\"}, \\\"categoryId\\\": \\\"1K0LZ\\\", \\\"externalId\\\": \\\"e2ff5405600b460c87990b5dede4494b\\\", \\\"totalValue\\\": {\\\"value\\\": \\\"200\\\", \\\"currency\\\": \\\"BRL\\\"}, \\\"categoryName\\\": \\\"Adicionais \\\", \\\"integrationId\\\": null}], \\\"integrationId\\\": null, \\\"totalAddition\\\": {\\\"value\\\": \\\"0\\\", \\\"currency\\\": \\\"BRL\\\"}, \\\"totalDiscount\\\": {\\\"value\\\": \\\"0\\\", \\\"currency\\\": \\\"BRL\\\"}}]\",\"merchant_id\":\"a9d221d899645741aa6b9781c5435caceb6824fe5db114f1551c953a27181d8f\",\"merchant_latitude\":\"-46.49\",\"merchant_longitude\":\"-23.50\",\"merchant_timezone\":\"America/Sao_Paulo\",\"order_created_at\":\"2019-01-23T16:34:49.000Z\",\"order_id\":\"df9ae5ccc7648013e55848b242a73a71fab75bd9809c11b878a3740144b27db1\",\"order_scheduled\":false,\"order_total_amount\":45.0,\"origin_platform\":\"ANDROID\"}\n{\"cpf\":\"39546832887\",\"customer_id\":\"db78a24a21681173ee3822f888282905495bcdaf13690353a3439a8a095d9951\",\"customer_name\":\"ANDRÉ\",\"delivery_address_city\":\"RIO DE JANEIRO\",\"delivery_address_country\":\"BR\",\"delivery_address_district\":\"TIJUCA\",\"delivery_address_external_id\":\"6071737\",\"delivery_address_latitude\":\"-43.22\",\"delivery_address_longitude\":\"-22.92\",\"delivery_address_state\":\"RJ\",\"delivery_address_zip_code\":\"20270\",\"items\":\"[{\\\"name\\\": \\\"CREPE JAVA\\\", \\\"addition\\\": {\\\"value\\\": \\\"0\\\", \\\"currency\\\": \\\"BRL\\\"}, \\\"discount\\\": {\\\"value\\\": \\\"0\\\", \\\"currency\\\": \\\"BRL\\\"}, \\\"quantity\\\": 1.00, \\\"sequence\\\": 1, \\\"unitPrice\\\": {\\\"value\\\": \\\"2500\\\", \\\"currency\\\": \\\"BRL\\\"}, \\\"externalId\\\": \\\"2533cf9c187f4aa28aa0346b0baee142\\\", \\\"totalValue\\\": {\\\"value\\\": \\\"2500\\\", \\\"currency\\\": \\\"BRL\\\"}, \\\"customerNote\\\": null, \\\"garnishItems\\\": [{\\\"name\\\": \\\"EMBALAGEM\\\", \\\"addition\\\": {\\\"value\\\": \\\"0\\\", \\\"currency\\\": \\\"BRL\\\"}, \\\"discount\\\": {\\\"value\\\": \\\"0\\\", \\\"currency\\\": \\\"BRL\\\"}, \\\"quantity\\\": 1.00, \\\"sequence\\\": 2, \\\"unitPrice\\\": {\\\"value\\\": \\\"70\\\", \\\"currency\\\": \\\"BRL\\\"}, \\\"categoryId\\\": \\\"R01R\\\", \\\"externalId\\\": \\\"62131c8e126f4d83a78c3cc3cfd79e71\\\", \\\"totalValue\\\": {\\\"value\\\": \\\"70\\\", \\\"currency\\\": \\\"BRL\\\"}, \\\"categoryName\\\": \\\"EMBALAGEM\\\", \\\"integrationId\\\": null}], \\\"integrationId\\\": null, \\\"totalAddition\\\": {\\\"value\\\": \\\"0\\\", \\\"currency\\\": \\\"BRL\\\"}, \\\"totalDiscount\\\": {\\\"value\\\": \\\"0\\\", \\\"currency\\\": \\\"BRL\\\"}}]\",\"merchant_id\":\"768d0fd5c5f51250d59f00dfa2e5f58f373d5f173f9142adb610170d6cc4f38d\",\"merchant_latitude\":\"-43.22\",\"merchant_longitude\":\"-22.92\",\"merchant_timezone\":\"America/Sao_Paulo\",\"order_created_at\":\"2019-01-04T23:05:29.000Z\",\"order_id\":\"9dfc350bff61f1e0523e574eb0cb364f4d3013def279b350b1c7e78de8bef405\",\"order_scheduled\":false,\"order_total_amount\":25.7,\"origin_platform\":\"ANDROID\"}\n{\"cpf\":\"90423467747\",\"customer_id\":\"f68178ed8997b3230af10c4143146751e500774016bb2c0b1af127d8a1a16c1e\",\"customer_name\":\"MARCOS\",\"delivery_address_city\":\"SAO BERNARDO DO CAMPO\",\"delivery_address_country\":\"BR\",\"delivery_address_district\":\"CENTRO\",\"delivery_address_external_id\":\"8266605\",\"delivery_address_latitude\":\"-46.55\",\"delivery_address_longitude\":\"-23.68\",\"delivery_address_state\":\"SP\",\"delivery_address_zip_code\":\"97502\",\"items\":\"[{\\\"name\\\": \\\"GRANDE - 8 PEDAÇOS 2 SABORES\\\", \\\"addition\\\": {\\\"value\\\": \\\"0\\\", \\\"currency\\\": \\\"BRL\\\"}, \\\"discount\\\": {\\\"value\\\": \\\"0\\\", \\\"currency\\\": \\\"BRL\\\"}, \\\"quantity\\\": 1.00, \\\"sequence\\\": 1, \\\"unitPrice\\\": {\\\"value\\\": \\\"0\\\", \\\"currency\\\": \\\"BRL\\\"}, \\\"externalId\\\": \\\"20b817aa0585406a8642c827ec530b3c\\\", \\\"totalValue\\\": {\\\"value\\\": \\\"0\\\", \\\"currency\\\": \\\"BRL\\\"}, \\\"customerNote\\\": null, \\\"garnishItems\\\": [{\\\"name\\\": \\\"MASSA TRADICIONAL\\\", \\\"addition\\\": {\\\"value\\\": \\\"0\\\", \\\"currency\\\": \\\"BRL\\\"}, \\\"discount\\\": {\\\"value\\\": \\\"0\\\", \\\"currency\\\": \\\"BRL\\\"}, \\\"quantity\\\": 1.00, \\\"sequence\\\": 2, \\\"unitPrice\\\": {\\\"value\\\": \\\"0\\\", \\\"currency\\\": \\\"BRL\\\"}, \\\"categoryId\\\": \\\"0025\\\", \\\"externalId\\\": \\\"0c3dbde82571482987910f1d61d29aa5\\\", \\\"totalValue\\\": {\\\"value\\\": \\\"0\\\", \\\"currency\\\": \\\"BRL\\\"}, \\\"categoryName\\\": \\\"Escolha a sua Preferência\\\", \\\"integrationId\\\": null}, {\\\"name\\\": \\\"1/2 PEITO DE PERU\\\", \\\"addition\\\": {\\\"value\\\": \\\"0\\\", \\\"currency\\\": \\\"BRL\\\"}, \\\"discount\\\": {\\\"value\\\": \\\"0\\\", \\\"currency\\\": \\\"BRL\\\"}, \\\"quantity\\\": 1.00, \\\"sequence\\\": 3, \\\"unitPrice\\\": {\\\"value\\\": \\\"2800\\\", \\\"currency\\\": \\\"BRL\\\"}, \\\"categoryId\\\": \\\"SABOR\\\", \\\"externalId\\\": \\\"c7dcda2c4ba5486f997904cdfc61fd06\\\", \\\"totalValue\\\": {\\\"value\\\": \\\"2800\\\", \\\"currency\\\": \\\"BRL\\\"}, \\\"categoryName\\\": \\\"Escolha um sabor\\\", \\\"integrationId\\\": null}, {\\\"name\\\": \\\"1/2 PEITO DE PERU\\\", \\\"addition\\\": {\\\"value\\\": \\\"0\\\", \\\"currency\\\": \\\"BRL\\\"}, \\\"discount\\\": {\\\"value\\\": \\\"0\\\", \\\"currency\\\": \\\"BRL\\\"}, \\\"quantity\\\": 1.00, \\\"sequence\\\": 3, \\\"unitPrice\\\": {\\\"value\\\": \\\"2800\\\", \\\"currency\\\": \\\"BRL\\\"}, \\\"categoryId\\\": \\\"SABOR2\\\", \\\"externalId\\\": \\\"c7dcda2c4ba5486f997904cdfc61fd06\\\", \\\"totalValue\\\": {\\\"value\\\": \\\"2800\\\", \\\"currency\\\": \\\"BRL\\\"}, \\\"categoryName\\\": \\\"Escolha o segundo sabor\\\", \\\"integrationId\\\": null}, {\\\"name\\\": \\\"1/2 AMERICANA\\\", \\\"addition\\\": {\\\"value\\\": \\\"0\\\", \\\"currency\\\": \\\"BRL\\\"}, \\\"discount\\\": {\\\"value\\\": \\\"0\\\", \\\"currency\\\": \\\"BRL\\\"}, \\\"quantity\\\": 1.00, \\\"sequence\\\": 4, \\\"unitPrice\\\": {\\\"value\\\": \\\"2800\\\", \\\"currency\\\": \\\"BRL\\\"}, \\\"categoryId\\\": \\\"SABOR\\\", \\\"externalId\\\": \\\"5e03603622be4505afd916dd3cab3809\\\", \\\"totalValue\\\": {\\\"value\\\": \\\"2800\\\", \\\"currency\\\": \\\"BRL\\\"}, \\\"categoryName\\\": \\\"Escolha um sabor\\\", \\\"integrationId\\\": null}, {\\\"name\\\": \\\"1/2 AMERICANA\\\", \\\"addition\\\": {\\\"value\\\": \\\"0\\\", \\\"currency\\\": \\\"BRL\\\"}, \\\"discount\\\": {\\\"value\\\": \\\"0\\\", \\\"currency\\\": \\\"BRL\\\"}, \\\"quantity\\\": 1.00, \\\"sequence\\\": 4, \\\"unitPrice\\\": {\\\"value\\\": \\\"2800\\\", \\\"currency\\\": \\\"BRL\\\"}, \\\"categoryId\\\": \\\"SABOR2\\\", \\\"externalId\\\": \\\"5e03603622be4505afd916dd3cab3809\\\", \\\"totalValue\\\": {\\\"value\\\": \\\"2800\\\", \\\"currency\\\": \\\"BRL\\\"}, \\\"categoryName\\\": \\\"Escolha o segundo sabor\\\", \\\"integrationId\\\": null}], \\\"integrationId\\\": null, \\\"totalAddition\\\": {\\\"value\\\": \\\"0\\\", \\\"currency\\\": \\\"BRL\\\"}, \\\"totalDiscount\\\": {\\\"value\\\": \\\"0\\\", \\\"currency\\\": \\\"BRL\\\"}}]\",\"merchant_id\":\"4948a30009ca54693ee7466c3ab8de6c89c659a9041b5ef5aefe6a37bb10b5ed\",\"merchant_latitude\":\"-46.55\",\"merchant_longitude\":\"-23.68\",\"merchant_timezone\":\"America/Sao_Paulo\",\"order_created_at\":\"2019-01-25T22:56:38.000Z\",\"order_id\":\"b4c797f0877120de32bd88383e31d5f505b557eb356b5374d0ab2f7da8d2e873\",\"order_scheduled\":false,\"order_total_amount\":56.0,\"origin_platform\":\"IOS\"}\n{\"cpf\":\"10407951659\",\"customer_id\":\"815d4f41571a3d272828b1b06e422a89e155521b47859e56ab53e8b58d458b4e\",\"customer_name\":\"PUBLIUS\",\"delivery_address_city\":\"GOIANIA\",\"delivery_address_country\":\"BR\",\"delivery_address_district\":\"ALTO DA GLORIA\",\"delivery_address_external_id\":\"8542118\",\"delivery_address_latitude\":\"-49.24\",\"delivery_address_longitude\":\"-16.71\",\"delivery_address_state\":\"GO\",\"delivery_address_zip_code\":\"74815\",\"items\":\"[{\\\"name\\\": \\\"43-Lombo de Porco (Pratos Individuais)\\\", \\\"addition\\\": {\\\"value\\\": \\\"0\\\", \\\"currency\\\": \\\"BRL\\\"}, \\\"discount\\\": {\\\"value\\\": \\\"0\\\", \\\"currency\\\": \\\"BRL\\\"}, \\\"quantity\\\": 1.00, \\\"sequence\\\": 1, \\\"unitPrice\\\": {\\\"value\\\": \\\"4390\\\", \\\"currency\\\": \\\"BRL\\\"}, \\\"externalId\\\": \\\"ba9d9f09dfeb494eaca2c71e96057b18\\\", \\\"totalValue\\\": {\\\"value\\\": \\\"4390\\\", \\\"currency\\\": \\\"BRL\\\"}, \\\"customerNote\\\": null, \\\"garnishItems\\\": [], \\\"integrationId\\\": \\\"38383\\\", \\\"totalAddition\\\": {\\\"value\\\": \\\"0\\\", \\\"currency\\\": \\\"BRL\\\"}, \\\"totalDiscount\\\": {\\\"value\\\": \\\"0\\\", \\\"currency\\\": \\\"BRL\\\"}}]\",\"merchant_id\":\"db7c33d9da45416b88a0cea83fd7efbbd19ff3120c91b3f6065ac904ecd60513\",\"merchant_latitude\":\"-49.24\",\"merchant_longitude\":\"-16.71\",\"merchant_timezone\":\"America/Sao_Paulo\",\"order_created_at\":\"2019-01-01T15:14:01.000Z\",\"order_id\":\"1416715aabdbe054b34a5e3c351db819dab160ba9795514ce18f3f764b302d4b\",\"order_scheduled\":false,\"order_total_amount\":43.9,\"origin_platform\":\"IOS\"}\n{\"cpf\":\"46551915844\",\"customer_id\":\"1097d61859735ecc79c575df85fa6168b2f5217dee34ae1695382205c771c86e\",\"customer_name\":\"CATHARINE\",\"delivery_address_city\":\"SAO PAULO\",\"delivery_address_country\":\"BR\",\"delivery_address_district\":\"MOOCA\",\"delivery_address_external_id\":\"9024315\",\"delivery_address_latitude\":\"-46.61\",\"delivery_address_longitude\":\"-23.55\",\"delivery_address_state\":\"SP\",\"delivery_address_zip_code\":\"31642\",\"items\":\"[{\\\"name\\\": \\\"Refrigerantes Lata\\\", \\\"addition\\\": {\\\"value\\\": \\\"0\\\", \\\"currency\\\": \\\"BRL\\\"}, \\\"discount\\\": {\\\"value\\\": \\\"0\\\", \\\"currency\\\": \\\"BRL\\\"}, \\\"quantity\\\": 1.00, \\\"sequence\\\": 4, \\\"unitPrice\\\": {\\\"value\\\": \\\"550\\\", \\\"currency\\\": \\\"BRL\\\"}, \\\"externalId\\\": \\\"b01ff7068973444ea6d28e7c46b007ef\\\", \\\"totalValue\\\": {\\\"value\\\": \\\"550\\\", \\\"currency\\\": \\\"BRL\\\"}, \\\"customerNote\\\": null, \\\"garnishItems\\\": [{\\\"name\\\": \\\"Pepsi Twist\\\", \\\"addition\\\": {\\\"value\\\": \\\"0\\\", \\\"currency\\\": \\\"BRL\\\"}, \\\"discount\\\": {\\\"value\\\": \\\"0\\\", \\\"currency\\\": \\\"BRL\\\"}, \\\"quantity\\\": 1.00, \\\"sequence\\\": 5, \\\"unitPrice\\\": {\\\"value\\\": \\\"0\\\", \\\"currency\\\": \\\"BRL\\\"}, \\\"categoryId\\\": \\\"2BC5\\\", \\\"externalId\\\": \\\"fb48011323be47a9880b5429936a43a1\\\", \\\"totalValue\\\": {\\\"value\\\": \\\"0\\\", \\\"currency\\\": \\\"BRL\\\"}, \\\"categoryName\\\": \\\"Tipo:\\\", \\\"integrationId\\\": \\\"0\\\"}], \\\"integrationId\\\": \\\"0\\\", \\\"totalAddition\\\": {\\\"value\\\": \\\"0\\\", \\\"currency\\\": \\\"BRL\\\"}, \\\"totalDiscount\\\": {\\\"value\\\": \\\"0\\\", \\\"currency\\\": \\\"BRL\\\"}}, {\\\"name\\\": \\\"Hot Clássico\\\", \\\"addition\\\": {\\\"value\\\": \\\"0\\\", \\\"currency\\\": \\\"BRL\\\"}, \\\"discount\\\": {\\\"value\\\": \\\"0\\\", \\\"currency\\\": \\\"BRL\\\"}, \\\"quantity\\\": 1.00, \\\"sequence\\\": 1, \\\"unitPrice\\\": {\\\"value\\\": \\\"0\\\", \\\"currency\\\": \\\"BRL\\\"}, \\\"externalId\\\": \\\"df0bd97d6b3f410383b82db72db2c138\\\", \\\"totalValue\\\": {\\\"value\\\": \\\"0\\\", \\\"currency\\\": \\\"BRL\\\"}, \\\"customerNote\\\": null, \\\"garnishItems\\\": [{\\\"name\\\": \\\"Fome 16cm\\\", \\\"addition\\\": {\\\"value\\\": \\\"0\\\", \\\"currency\\\": \\\"BRL\\\"}, \\\"discount\\\": {\\\"value\\\": \\\"0\\\", \\\"currency\\\": \\\"BRL\\\"}, \\\"quantity\\\": 1.00, \\\"sequence\\\": 2, \\\"unitPrice\\\": {\\\"value\\\": \\\"850\\\", \\\"currency\\\": \\\"BRL\\\"}, \\\"categoryId\\\": \\\"1LF9T\\\", \\\"externalId\\\": \\\"395edd227d5d47a78dece811edf2da32\\\", \\\"totalValue\\\": {\\\"value\\\": \\\"850\\\", \\\"currency\\\": \\\"BRL\\\"}, \\\"categoryName\\\": \\\"Tamanho:\\\", \\\"integrationId\\\": null}], \\\"integrationId\\\": null, \\\"totalAddition\\\": {\\\"value\\\": \\\"0\\\", \\\"currency\\\": \\\"BRL\\\"}, \\\"totalDiscount\\\": {\\\"value\\\": \\\"0\\\", \\\"currency\\\": \\\"BRL\\\"}}, {\\\"name\\\": \\\"Nuggets\\\", \\\"addition\\\": {\\\"value\\\": \\\"0\\\", \\\"currency\\\": \\\"BRL\\\"}, \\\"discount\\\": {\\\"value\\\": \\\"0\\\", \\\"currency\\\": \\\"BRL\\\"}, \\\"quantity\\\": 1.00, \\\"sequence\\\": 3, \\\"unitPrice\\\": {\\\"value\\\": \\\"600\\\", \\\"currency\\\": \\\"BRL\\\"}, \\\"externalId\\\": \\\"53ee2984acea48058157dfa28428d10f\\\", \\\"totalValue\\\": {\\\"value\\\": \\\"600\\\", \\\"currency\\\": \\\"BRL\\\"}, \\\"customerNote\\\": null, \\\"garnishItems\\\": [], \\\"integrationId\\\": \\\"703\\\", \\\"totalAddition\\\": {\\\"value\\\": \\\"0\\\", \\\"currency\\\": \\\"BRL\\\"}, \\\"totalDiscount\\\": {\\\"value\\\": \\\"0\\\", \\\"currency\\\": \\\"BRL\\\"}}]\",\"merchant_id\":\"74187b5b95d7aaef4ee41a345bc01dc71006e5e7909df5d2c4f140b1481bb37d\",\"merchant_latitude\":\"-46.61\",\"merchant_longitude\":\"-23.55\",\"merchant_timezone\":\"America/Sao_Paulo\",\"order_created_at\":\"2019-01-11T17:03:41.000Z\",\"order_id\":\"e612156c14b79aa37dcd800ad5230322a81cef132694e8ff89e2d713a1dcdb48\",\"order_scheduled\":false,\"order_total_amount\":20.0,\"origin_platform\":\"IOS\"}\n"
     ]
    }
   ],
   "source": [
    "print(\"Retornando 10 primeiras linhas:\")\n",
    "try:\n",
    "    df_raw_text = spark.read.text(caminho_arquivo_json_volume)\n",
    "    for row in df_raw_text.limit(10).collect():\n",
    "        print(row[0])\n",
    "except Exception as e:\n",
    "    print(f\"Erro ao ler arquivo como texto: {e}\")\n",
    "\n",
    "# Os dados contêm dois arrays aninhados: items e garnishItems. Para transformar essa estrutura hierárquica em um formato tabular e facilitar a análise, é necessário desaninhá-los. Isso é feito aplicando a função explode_outer() a cada array, o que cria uma nova linha para cada elemento do array, garantindo que todos os registros originais (pedidos e itens) sejam mantidos."
   ]
  },
  {
   "cell_type": "code",
   "execution_count": 0,
   "metadata": {
    "application/vnd.databricks.v1+cell": {
     "cellMetadata": {
      "byteLimit": 2048000,
      "rowLimit": 10000
     },
     "inputWidgets": {},
     "nuid": "c5828003-b575-46ec-9d94-1e0d36677c80",
     "showTitle": true,
     "tableResultSettingsMap": {},
     "title": "Aplicando array item"
    }
   },
   "outputs": [],
   "source": [
    "# Primeiramente, devemos definir como o Spark deve interpretar a string JSON da coluna 'items'\n",
    "\n",
    "item_schema = ArrayType(StructType([\n",
    "    StructField(\"name\", StringType(), True),\n",
    "    StructField(\"addition\", StructType([\n",
    "        StructField(\"value\", StringType(), True),\n",
    "        StructField(\"currency\", StringType(), True)\n",
    "    ]), True),\n",
    "    StructField(\"discount\", StructType([\n",
    "        StructField(\"value\", StringType(), True),\n",
    "        StructField(\"currency\", StringType(), True)\n",
    "    ]), True),\n",
    "    StructField(\"quantity\", DoubleType(), True),\n",
    "    StructField(\"sequence\", LongType(), True),\n",
    "    StructField(\"unitPrice\", StructType([\n",
    "        StructField(\"value\", StringType(), True),\n",
    "        StructField(\"currency\", StringType(), True)\n",
    "    ]), True),\n",
    "    StructField(\"externalId\", StringType(), True),\n",
    "    StructField(\"totalValue\", StructType([\n",
    "        StructField(\"value\", StringType(), True),\n",
    "        StructField(\"currency\", StringType(), True)\n",
    "    ]), True),\n",
    "    StructField(\"customerNote\", StringType(), True),\n",
    "    StructField(\"garnishItems\", ArrayType(StructType([\n",
    "        StructField(\"name\", StringType(), True),\n",
    "        StructField(\"addition\", StructType([\n",
    "            StructField(\"value\", StringType(), True),\n",
    "            StructField(\"currency\", StringType(), True)\n",
    "        ]), True),\n",
    "        StructField(\"discount\", StructType([\n",
    "            StructField(\"value\", StringType(), True),\n",
    "            StructField(\"currency\", StringType(), True)\n",
    "        ]), True),\n",
    "        StructField(\"quantity\", DoubleType(), True),\n",
    "        StructField(\"sequence\", LongType(), True),\n",
    "        StructField(\"unitPrice\", StructType([\n",
    "            StructField(\"value\", StringType(), True),\n",
    "            StructField(\"currency\", StringType(), True)\n",
    "        ]), True),\n",
    "        StructField(\"categoryId\", StringType(), True),\n",
    "        StructField(\"externalId\", StringType(), True),\n",
    "        StructField(\"totalValue\", StructType([\n",
    "            StructField(\"value\", StringType(), True),\n",
    "            StructField(\"currency\", StringType(), True)\n",
    "        ]), True),\n",
    "        StructField(\"categoryName\", StringType(), True),\n",
    "        StructField(\"integrationId\", StringType(), True)\n",
    "    ])), True)\n",
    "]))"
   ]
  },
  {
   "cell_type": "code",
   "execution_count": 0,
   "metadata": {
    "application/vnd.databricks.v1+cell": {
     "cellMetadata": {
      "byteLimit": 2048000,
      "rowLimit": 10000
     },
     "inputWidgets": {},
     "nuid": "cf8ed859-2504-465c-8361-98df59f15c20",
     "showTitle": true,
     "tableResultSettingsMap": {},
     "title": "Checando array"
    }
   },
   "outputs": [
    {
     "output_type": "stream",
     "name": "stdout",
     "output_type": "stream",
     "text": [
      "A coluna 'items' é uma string. Aplicando from_json.\n"
     ]
    }
   ],
   "source": [
    "# Checar se 'items' já mesmo um array:\n",
    "if \"array\" in str(df_raw.schema[\"items\"].dataType).lower():\n",
    "   print(\"A coluna 'items' é um array. Pulando from_json.\")\n",
    "   df_parsed_items = df_raw\n",
    "else:\n",
    "   print(\"A coluna 'items' é uma string. Aplicando from_json.\")\n",
    "   df_parsed_items = df_raw.withColumn(\"items\", from_json(col(\"items\"), item_schema))\n",
    "\n",
    "# Assumindo que 'items' ainda vem como string:\n",
    "df_parsed_items = df_raw.withColumn(\"items\", from_json(col(\"items\"), item_schema))\n",
    "\n",
    "# display(df_parsed_items)"
   ]
  },
  {
   "cell_type": "code",
   "execution_count": 0,
   "metadata": {
    "application/vnd.databricks.v1+cell": {
     "cellMetadata": {
      "byteLimit": 2048000,
      "rowLimit": 10000
     },
     "inputWidgets": {},
     "nuid": "0140a4bf-d4b4-42db-824a-30cb83d8fa83",
     "showTitle": true,
     "tableResultSettingsMap": {},
     "title": "Explode item"
    }
   },
   "outputs": [],
   "source": [
    "# Explodir o array 'items' para criar uma linha para cada item.\n",
    "df_exploded_items = df_parsed_items.withColumn(\"item\", explode_outer(col(\"items\")))\n",
    "\n",
    "# Seleciona as colunas principais e desaninha os campos do 'item'\n",
    "df_flattened = df_exploded_items.select(\n",
    "    col(\"cpf\"),\n",
    "    col(\"customer_id\"),\n",
    "    col(\"customer_name\"),\n",
    "    col(\"delivery_address_city\"),\n",
    "    col(\"delivery_address_country\"),\n",
    "    col(\"delivery_address_district\"),\n",
    "    col(\"delivery_address_external_id\"),\n",
    "    col(\"delivery_address_latitude\"),\n",
    "    col(\"delivery_address_longitude\"),\n",
    "    col(\"delivery_address_state\"),\n",
    "    col(\"delivery_address_zip_code\"),\n",
    "    col(\"merchant_id\"),\n",
    "    col(\"merchant_latitude\"),\n",
    "    col(\"merchant_longitude\"),\n",
    "    col(\"merchant_timezone\"),\n",
    "    col(\"order_created_at\"),\n",
    "    col(\"order_id\"),\n",
    "    col(\"order_scheduled\"),\n",
    "    col(\"order_total_amount\"),\n",
    "    col(\"origin_platform\"),\n",
    "    # Campos do item\n",
    "    col(\"item.name\").alias(\"item_name\"),\n",
    "    col(\"item.addition.value\").alias(\"item_addition_value\"),\n",
    "    col(\"item.addition.currency\").alias(\"item_addition_currency\"),\n",
    "    col(\"item.discount.value\").alias(\"item_discount_value\"),\n",
    "    col(\"item.discount.currency\").alias(\"item_discount_currency\"),\n",
    "    col(\"item.quantity\").alias(\"item_quantity\"),\n",
    "    col(\"item.sequence\").alias(\"item_sequence\"),\n",
    "    col(\"item.unitPrice.value\").alias(\"item_unit_price_value\"),\n",
    "    col(\"item.unitPrice.currency\").alias(\"item_unit_price_currency\"),\n",
    "    col(\"item.externalId\").alias(\"item_external_id\"),\n",
    "    col(\"item.totalValue.value\").alias(\"item_total_value_value\"),\n",
    "    col(\"item.totalValue.currency\").alias(\"item_total_value_currency\"),\n",
    "    col(\"item.customerNote\").alias(\"item_customer_note\"),\n",
    "    # Mantém o array 'garnishItems' por enquanto para explodir na próxima etapa\n",
    "    col(\"item.garnishItems\").alias(\"garnish_items_array\") \n",
    ")\n",
    "\n",
    "# display(df_flattened)"
   ]
  },
  {
   "cell_type": "code",
   "execution_count": 0,
   "metadata": {
    "application/vnd.databricks.v1+cell": {
     "cellMetadata": {
      "byteLimit": 2048000,
      "rowLimit": 10000
     },
     "inputWidgets": {},
     "nuid": "c1d16a51-d416-4d3c-9e01-cf026293248d",
     "showTitle": true,
     "tableResultSettingsMap": {},
     "title": "Explode garnishItems"
    }
   },
   "outputs": [],
   "source": [
    "# Explodir o array 'garnishItems'.\n",
    "\n",
    "df_final = df_flattened.withColumn(\"garnish_item\", explode_outer(col(\"garnish_items_array\"))) \\\n",
    "    .select(\n",
    "        col(\"*\"), # Seleciona todas as colunas já existentes\n",
    "        # Campos do garnish_item\n",
    "        col(\"garnish_item.name\").alias(\"garnish_item_name\"),\n",
    "        col(\"garnish_item.addition.value\").alias(\"garnish_item_addition_value\"),\n",
    "        col(\"garnish_item.addition.currency\").alias(\"garnish_item_addition_currency\"),\n",
    "        col(\"garnish_item.discount.value\").alias(\"garnish_item_discount_value\"),\n",
    "        col(\"garnish_item.discount.currency\").alias(\"garnish_item_discount_currency\"),\n",
    "        col(\"garnish_item.quantity\").alias(\"garnish_item_quantity\"),\n",
    "        col(\"garnish_item.sequence\").alias(\"garnish_item_sequence\"),\n",
    "        col(\"garnish_item.unitPrice.value\").alias(\"garnish_item_unit_price_value\"),\n",
    "        col(\"garnish_item.unitPrice.currency\").alias(\"garnish_item_unit_price_currency\"), \n",
    "        col(\"garnish_item.categoryId\").alias(\"garnish_item_category_id\"),\n",
    "        col(\"garnish_item.externalId\").alias(\"garnish_item_external_id\"),\n",
    "        col(\"garnish_item.totalValue.value\").alias(\"garnish_item_total_value_value\"),\n",
    "        col(\"garnish_item.totalValue.currency\").alias(\"garnish_item_total_value_currency\"),\n",
    "        col(\"garnish_item.categoryName\").alias(\"garnish_item_category_name\"),\n",
    "        col(\"garnish_item.integrationId\").alias(\"garnish_item_integration_id\")\n",
    "    ).drop(\"garnish_items_array\", \"garnish_item\") # Remove as colunas de array originais\n",
    "\n",
    "# display(df_final)"
   ]
  },
  {
   "cell_type": "code",
   "execution_count": 0,
   "metadata": {
    "application/vnd.databricks.v1+cell": {
     "cellMetadata": {
      "byteLimit": 2048000,
      "rowLimit": 10000
     },
     "inputWidgets": {},
     "nuid": "8dd95daf-6416-4092-9753-8633d9105bd8",
     "showTitle": true,
     "tableResultSettingsMap": {},
     "title": "Salvando tabela 00"
    }
   },
   "outputs": [
    {
     "output_type": "stream",
     "name": "stdout",
     "output_type": "stream",
     "text": [
      "\nTabela 'workspace.default.order00_sql' criada com sucesso.\n"
     ]
    }
   ],
   "source": [
    "CATALOGO = \"workspace\"\n",
    "SCHEMA = \"default\"\n",
    "VOLUME = \"arq_json\"\n",
    "NOME_TABELA_SQL = \"order00_sql\" \n",
    "\n",
    "\n",
    "# Salavando tabela\n",
    "df_final.write \\\n",
    "    .format(\"delta\") \\\n",
    "    .mode(\"overwrite\") \\\n",
    "    .option(\"overwriteSchema\", \"true\") \\\n",
    "    .saveAsTable(f\"{CATALOGO}.{SCHEMA}.{NOME_TABELA_SQL}\")\n",
    "\n",
    "print(f\"\\nTabela '{CATALOGO}.{SCHEMA}.{NOME_TABELA_SQL}' criada com sucesso.\")"
   ]
  },
  {
   "cell_type": "markdown",
   "metadata": {
    "application/vnd.databricks.v1+cell": {
     "cellMetadata": {
      "byteLimit": 2048000,
      "rowLimit": 10000
     },
     "inputWidgets": {},
     "nuid": "b1a6a71a-61da-4842-8830-9ea4fc56ac54",
     "showTitle": false,
     "tableResultSettingsMap": {},
     "title": ""
    }
   },
   "source": [
    "# Parte 01"
   ]
  },
  {
   "cell_type": "code",
   "execution_count": 0,
   "metadata": {
    "application/vnd.databricks.v1+cell": {
     "cellMetadata": {
      "byteLimit": 2048000,
      "rowLimit": 10000
     },
     "inputWidgets": {},
     "nuid": "41410ae9-72b4-4545-a3bf-8ac22cef1abe",
     "showTitle": true,
     "tableResultSettingsMap": {},
     "title": "Configurações iniciais"
    }
   },
   "outputs": [
    {
     "output_type": "stream",
     "name": "stdout",
     "output_type": "stream",
     "text": [
      "Lendo o arquivo JSON de: /Volumes/workspace/default/arq_json/part-00001.json\n"
     ]
    }
   ],
   "source": [
    "CATALOGO = \"workspace\"\n",
    "SCHEMA = \"default\"\n",
    "VOLUME = \"arq_json\"\n",
    "NOME_ARQUIVO_JSON = \"part-00001.json\"\n",
    "\n",
    "caminho_arquivo_json_volume = f\"/Volumes/{CATALOGO}/{SCHEMA}/{VOLUME}/{NOME_ARQUIVO_JSON}\"\n",
    "\n",
    "print(f\"Lendo o arquivo JSON de: {caminho_arquivo_json_volume}\")"
   ]
  },
  {
   "cell_type": "code",
   "execution_count": 0,
   "metadata": {
    "application/vnd.databricks.v1+cell": {
     "cellMetadata": {
      "byteLimit": 2048000,
      "rowLimit": 10000
     },
     "inputWidgets": {},
     "nuid": "36306a52-7cdf-41c9-b9fe-8c9ec7746b38",
     "showTitle": true,
     "tableResultSettingsMap": {},
     "title": "Leitura do json"
    }
   },
   "outputs": [
    {
     "output_type": "stream",
     "name": "stdout",
     "output_type": "stream",
     "text": [
      "Total de linhas: 367077\n"
     ]
    }
   ],
   "source": [
    "# Ler o arquivo JSON como um único objeto ou array JSON\n",
    "df_raw = spark.read.json(caminho_arquivo_json_volume, multiLine=True, encoding='UTF-8')\n",
    "\n",
    "print(f\"Total de linhas: {df_raw.count()}\")"
   ]
  },
  {
   "cell_type": "code",
   "execution_count": 0,
   "metadata": {
    "application/vnd.databricks.v1+cell": {
     "cellMetadata": {
      "byteLimit": 2048000,
      "rowLimit": 10000
     },
     "inputWidgets": {},
     "nuid": "94b9ffc4-0fb1-4621-a6fe-60266f1e8ebc",
     "showTitle": true,
     "tableResultSettingsMap": {},
     "title": "Aplicando array item"
    }
   },
   "outputs": [],
   "source": [
    "# Primeiramente, devemos definir como o Spark deve interpretar a string JSON da coluna 'items'\n",
    "\n",
    "item_schema = ArrayType(StructType([\n",
    "    StructField(\"name\", StringType(), True),\n",
    "    StructField(\"addition\", StructType([\n",
    "        StructField(\"value\", StringType(), True),\n",
    "        StructField(\"currency\", StringType(), True)\n",
    "    ]), True),\n",
    "    StructField(\"discount\", StructType([\n",
    "        StructField(\"value\", StringType(), True),\n",
    "        StructField(\"currency\", StringType(), True)\n",
    "    ]), True),\n",
    "    StructField(\"quantity\", DoubleType(), True),\n",
    "    StructField(\"sequence\", LongType(), True),\n",
    "    StructField(\"unitPrice\", StructType([\n",
    "        StructField(\"value\", StringType(), True),\n",
    "        StructField(\"currency\", StringType(), True)\n",
    "    ]), True),\n",
    "    StructField(\"externalId\", StringType(), True),\n",
    "    StructField(\"totalValue\", StructType([\n",
    "        StructField(\"value\", StringType(), True),\n",
    "        StructField(\"currency\", StringType(), True)\n",
    "    ]), True),\n",
    "    StructField(\"customerNote\", StringType(), True),\n",
    "    StructField(\"garnishItems\", ArrayType(StructType([\n",
    "        StructField(\"name\", StringType(), True),\n",
    "        StructField(\"addition\", StructType([\n",
    "            StructField(\"value\", StringType(), True),\n",
    "            StructField(\"currency\", StringType(), True)\n",
    "        ]), True),\n",
    "        StructField(\"discount\", StructType([\n",
    "            StructField(\"value\", StringType(), True),\n",
    "            StructField(\"currency\", StringType(), True)\n",
    "        ]), True),\n",
    "        StructField(\"quantity\", DoubleType(), True),\n",
    "        StructField(\"sequence\", LongType(), True),\n",
    "        StructField(\"unitPrice\", StructType([\n",
    "            StructField(\"value\", StringType(), True),\n",
    "            StructField(\"currency\", StringType(), True)\n",
    "        ]), True),\n",
    "        StructField(\"categoryId\", StringType(), True),\n",
    "        StructField(\"externalId\", StringType(), True),\n",
    "        StructField(\"totalValue\", StructType([\n",
    "            StructField(\"value\", StringType(), True),\n",
    "            StructField(\"currency\", StringType(), True)\n",
    "        ]), True),\n",
    "        StructField(\"categoryName\", StringType(), True),\n",
    "        StructField(\"integrationId\", StringType(), True)\n",
    "    ])), True)\n",
    "]))"
   ]
  },
  {
   "cell_type": "code",
   "execution_count": 0,
   "metadata": {
    "application/vnd.databricks.v1+cell": {
     "cellMetadata": {
      "byteLimit": 2048000,
      "rowLimit": 10000
     },
     "inputWidgets": {},
     "nuid": "7c095fe7-67a2-4105-b245-36b24bef44eb",
     "showTitle": true,
     "tableResultSettingsMap": {},
     "title": "Checando array"
    }
   },
   "outputs": [
    {
     "output_type": "stream",
     "name": "stdout",
     "output_type": "stream",
     "text": [
      "A coluna 'items' é uma string. Aplicando from_json.\n"
     ]
    }
   ],
   "source": [
    "# Checar se 'items' é mesmo um array:\n",
    "if \"array\" in str(df_raw.schema[\"items\"].dataType).lower():\n",
    "   print(\"A coluna 'items' é um array. Pulando from_json.\")\n",
    "   df_parsed_items = df_raw\n",
    "else:\n",
    "   print(\"A coluna 'items' é uma string. Aplicando from_json.\")\n",
    "   df_parsed_items = df_raw.withColumn(\"items\", from_json(col(\"items\"), item_schema))\n",
    "\n",
    "# Assumindo que 'items' ainda vem como string:\n",
    "df_parsed_items = df_raw.withColumn(\"items\", from_json(col(\"items\"), item_schema))\n",
    "\n",
    "# display(df_parsed_items)"
   ]
  },
  {
   "cell_type": "code",
   "execution_count": 0,
   "metadata": {
    "application/vnd.databricks.v1+cell": {
     "cellMetadata": {
      "byteLimit": 2048000,
      "rowLimit": 10000
     },
     "inputWidgets": {},
     "nuid": "2eeee0d0-a560-4d06-9b9f-615ecdc22ecd",
     "showTitle": true,
     "tableResultSettingsMap": {},
     "title": "Explode item"
    }
   },
   "outputs": [],
   "source": [
    "# Explodir o array 'items' para criar uma linha para cada item.\n",
    "df_exploded_items = df_parsed_items.withColumn(\"item\", explode_outer(col(\"items\")))\n",
    "\n",
    "# Seleciona as colunas principais e desaninha os campos do 'item'\n",
    "df_flattened = df_exploded_items.select(\n",
    "    col(\"cpf\"),\n",
    "    col(\"customer_id\"),\n",
    "    col(\"customer_name\"),\n",
    "    col(\"delivery_address_city\"),\n",
    "    col(\"delivery_address_country\"),\n",
    "    col(\"delivery_address_district\"),\n",
    "    col(\"delivery_address_external_id\"),\n",
    "    col(\"delivery_address_latitude\"),\n",
    "    col(\"delivery_address_longitude\"),\n",
    "    col(\"delivery_address_state\"),\n",
    "    col(\"delivery_address_zip_code\"),\n",
    "    col(\"merchant_id\"),\n",
    "    col(\"merchant_latitude\"),\n",
    "    col(\"merchant_longitude\"),\n",
    "    col(\"merchant_timezone\"),\n",
    "    col(\"order_created_at\"),\n",
    "    col(\"order_id\"),\n",
    "    col(\"order_scheduled\"),\n",
    "    col(\"order_total_amount\"),\n",
    "    col(\"origin_platform\"),\n",
    "    # Campos do item\n",
    "    col(\"item.name\").alias(\"item_name\"),\n",
    "    col(\"item.addition.value\").alias(\"item_addition_value\"),\n",
    "    col(\"item.addition.currency\").alias(\"item_addition_currency\"),\n",
    "    col(\"item.discount.value\").alias(\"item_discount_value\"),\n",
    "    col(\"item.discount.currency\").alias(\"item_discount_currency\"),\n",
    "    col(\"item.quantity\").alias(\"item_quantity\"),\n",
    "    col(\"item.sequence\").alias(\"item_sequence\"),\n",
    "    col(\"item.unitPrice.value\").alias(\"item_unit_price_value\"),\n",
    "    col(\"item.unitPrice.currency\").alias(\"item_unit_price_currency\"),\n",
    "    col(\"item.externalId\").alias(\"item_external_id\"),\n",
    "    col(\"item.totalValue.value\").alias(\"item_total_value_value\"),\n",
    "    col(\"item.totalValue.currency\").alias(\"item_total_value_currency\"),\n",
    "    col(\"item.customerNote\").alias(\"item_customer_note\"),\n",
    "    # Mantém o array 'garnishItems' por enquanto para explodir na próxima etapa\n",
    "    col(\"item.garnishItems\").alias(\"garnish_items_array\") \n",
    ")\n",
    "\n",
    "# display(df_flattened)"
   ]
  },
  {
   "cell_type": "code",
   "execution_count": 0,
   "metadata": {
    "application/vnd.databricks.v1+cell": {
     "cellMetadata": {
      "byteLimit": 2048000,
      "rowLimit": 10000
     },
     "inputWidgets": {},
     "nuid": "a83cd0f8-1e65-4a8f-ada4-c096df9f812e",
     "showTitle": true,
     "tableResultSettingsMap": {},
     "title": "Explode garnishItems"
    }
   },
   "outputs": [],
   "source": [
    "# Explodir o array 'garnishItems'.\n",
    "\n",
    "df_final = df_flattened.withColumn(\"garnish_item\", explode_outer(col(\"garnish_items_array\"))) \\\n",
    "    .select(\n",
    "        col(\"*\"), # Seleciona todas as colunas já existentes\n",
    "        # Campos do garnish_item\n",
    "        col(\"garnish_item.name\").alias(\"garnish_item_name\"),\n",
    "        col(\"garnish_item.addition.value\").alias(\"garnish_item_addition_value\"),\n",
    "        col(\"garnish_item.addition.currency\").alias(\"garnish_item_addition_currency\"),\n",
    "        col(\"garnish_item.discount.value\").alias(\"garnish_item_discount_value\"),\n",
    "        col(\"garnish_item.discount.currency\").alias(\"garnish_item_discount_currency\"),\n",
    "        col(\"garnish_item.quantity\").alias(\"garnish_item_quantity\"),\n",
    "        col(\"garnish_item.sequence\").alias(\"garnish_item_sequence\"),\n",
    "        col(\"garnish_item.unitPrice.value\").alias(\"garnish_item_unit_price_value\"),\n",
    "        col(\"garnish_item.unitPrice.currency\").alias(\"garnish_item_unit_price_currency\"), \n",
    "        col(\"garnish_item.categoryId\").alias(\"garnish_item_category_id\"),\n",
    "        col(\"garnish_item.externalId\").alias(\"garnish_item_external_id\"),\n",
    "        col(\"garnish_item.totalValue.value\").alias(\"garnish_item_total_value_value\"),\n",
    "        col(\"garnish_item.totalValue.currency\").alias(\"garnish_item_total_value_currency\"),\n",
    "        col(\"garnish_item.categoryName\").alias(\"garnish_item_category_name\"),\n",
    "        col(\"garnish_item.integrationId\").alias(\"garnish_item_integration_id\")\n",
    "    ).drop(\"garnish_items_array\", \"garnish_item\") # Remove as colunas de array originais\n",
    "\n",
    "# display(df_final)"
   ]
  },
  {
   "cell_type": "code",
   "execution_count": 0,
   "metadata": {
    "application/vnd.databricks.v1+cell": {
     "cellMetadata": {
      "byteLimit": 2048000,
      "rowLimit": 10000
     },
     "inputWidgets": {},
     "nuid": "ac0a6c92-72f7-496c-a5a1-fb554d10019d",
     "showTitle": true,
     "tableResultSettingsMap": {},
     "title": "Salvando tabela"
    }
   },
   "outputs": [
    {
     "output_type": "stream",
     "name": "stdout",
     "output_type": "stream",
     "text": [
      "\nTabela 'workspace.default.order01_sql' criada com sucesso.\n"
     ]
    }
   ],
   "source": [
    "CATALOGO = \"workspace\"\n",
    "SCHEMA = \"default\"\n",
    "VOLUME = \"arq_json\"\n",
    "NOME_TABELA_SQL = \"order01_sql\" \n",
    "\n",
    "\n",
    "# Salavando tabela\n",
    "df_final.write \\\n",
    "    .format(\"delta\") \\\n",
    "    .mode(\"overwrite\") \\\n",
    "    .option(\"overwriteSchema\", \"true\") \\\n",
    "    .saveAsTable(f\"{CATALOGO}.{SCHEMA}.{NOME_TABELA_SQL}\")\n",
    "\n",
    "print(f\"\\nTabela '{CATALOGO}.{SCHEMA}.{NOME_TABELA_SQL}' criada com sucesso.\")"
   ]
  },
  {
   "cell_type": "markdown",
   "metadata": {
    "application/vnd.databricks.v1+cell": {
     "cellMetadata": {
      "byteLimit": 2048000,
      "rowLimit": 10000
     },
     "inputWidgets": {},
     "nuid": "3dc98de8-2f01-4706-b1ff-ad9bddd4e55e",
     "showTitle": false,
     "tableResultSettingsMap": {},
     "title": ""
    }
   },
   "source": [
    "# Parte 02"
   ]
  },
  {
   "cell_type": "code",
   "execution_count": 0,
   "metadata": {
    "application/vnd.databricks.v1+cell": {
     "cellMetadata": {
      "byteLimit": 2048000,
      "rowLimit": 10000
     },
     "inputWidgets": {},
     "nuid": "c353aeb4-e39a-415d-9f6b-e6eb1e3956b0",
     "showTitle": true,
     "tableResultSettingsMap": {},
     "title": "Configurações iniciais"
    }
   },
   "outputs": [
    {
     "output_type": "stream",
     "name": "stdout",
     "output_type": "stream",
     "text": [
      "Lendo o arquivo JSON de: /Volumes/workspace/default/arq_json/part-00002.json\n"
     ]
    }
   ],
   "source": [
    "CATALOGO = \"workspace\"\n",
    "SCHEMA = \"default\"\n",
    "VOLUME = \"arq_json\"\n",
    "NOME_ARQUIVO_JSON = \"part-00002.json\"\n",
    "\n",
    "caminho_arquivo_json_volume = f\"/Volumes/{CATALOGO}/{SCHEMA}/{VOLUME}/{NOME_ARQUIVO_JSON}\"\n",
    "\n",
    "print(f\"Lendo o arquivo JSON de: {caminho_arquivo_json_volume}\")"
   ]
  },
  {
   "cell_type": "code",
   "execution_count": 0,
   "metadata": {
    "application/vnd.databricks.v1+cell": {
     "cellMetadata": {
      "byteLimit": 2048000,
      "rowLimit": 10000
     },
     "inputWidgets": {},
     "nuid": "3c9d808d-d0bb-47a6-b753-989f6d3d7270",
     "showTitle": true,
     "tableResultSettingsMap": {},
     "title": "Leitura do json"
    }
   },
   "outputs": [
    {
     "output_type": "stream",
     "name": "stdout",
     "output_type": "stream",
     "text": [
      "Total de linhas: 367129\n"
     ]
    }
   ],
   "source": [
    "# Ler o arquivo JSON como um único objeto ou array JSON\n",
    "df_raw = spark.read.json(caminho_arquivo_json_volume, multiLine=True, encoding='UTF-8')\n",
    "\n",
    "print(f\"Total de linhas: {df_raw.count()}\")"
   ]
  },
  {
   "cell_type": "code",
   "execution_count": 0,
   "metadata": {
    "application/vnd.databricks.v1+cell": {
     "cellMetadata": {
      "byteLimit": 2048000,
      "rowLimit": 10000
     },
     "inputWidgets": {},
     "nuid": "aec1162a-671d-4b17-88cd-57b43019c0c0",
     "showTitle": true,
     "tableResultSettingsMap": {},
     "title": "Aplicando array item"
    }
   },
   "outputs": [],
   "source": [
    "# Primeiramente, devemos definir como o Spark deve interpretar a string JSON da coluna 'items'\n",
    "\n",
    "item_schema = ArrayType(StructType([\n",
    "    StructField(\"name\", StringType(), True),\n",
    "    StructField(\"addition\", StructType([\n",
    "        StructField(\"value\", StringType(), True),\n",
    "        StructField(\"currency\", StringType(), True)\n",
    "    ]), True),\n",
    "    StructField(\"discount\", StructType([\n",
    "        StructField(\"value\", StringType(), True),\n",
    "        StructField(\"currency\", StringType(), True)\n",
    "    ]), True),\n",
    "    StructField(\"quantity\", DoubleType(), True),\n",
    "    StructField(\"sequence\", LongType(), True),\n",
    "    StructField(\"unitPrice\", StructType([\n",
    "        StructField(\"value\", StringType(), True),\n",
    "        StructField(\"currency\", StringType(), True)\n",
    "    ]), True),\n",
    "    StructField(\"externalId\", StringType(), True),\n",
    "    StructField(\"totalValue\", StructType([\n",
    "        StructField(\"value\", StringType(), True),\n",
    "        StructField(\"currency\", StringType(), True)\n",
    "    ]), True),\n",
    "    StructField(\"customerNote\", StringType(), True),\n",
    "    StructField(\"garnishItems\", ArrayType(StructType([\n",
    "        StructField(\"name\", StringType(), True),\n",
    "        StructField(\"addition\", StructType([\n",
    "            StructField(\"value\", StringType(), True),\n",
    "            StructField(\"currency\", StringType(), True)\n",
    "        ]), True),\n",
    "        StructField(\"discount\", StructType([\n",
    "            StructField(\"value\", StringType(), True),\n",
    "            StructField(\"currency\", StringType(), True)\n",
    "        ]), True),\n",
    "        StructField(\"quantity\", DoubleType(), True),\n",
    "        StructField(\"sequence\", LongType(), True),\n",
    "        StructField(\"unitPrice\", StructType([\n",
    "            StructField(\"value\", StringType(), True),\n",
    "            StructField(\"currency\", StringType(), True)\n",
    "        ]), True),\n",
    "        StructField(\"categoryId\", StringType(), True),\n",
    "        StructField(\"externalId\", StringType(), True),\n",
    "        StructField(\"totalValue\", StructType([\n",
    "            StructField(\"value\", StringType(), True),\n",
    "            StructField(\"currency\", StringType(), True)\n",
    "        ]), True),\n",
    "        StructField(\"categoryName\", StringType(), True),\n",
    "        StructField(\"integrationId\", StringType(), True)\n",
    "    ])), True)\n",
    "]))"
   ]
  },
  {
   "cell_type": "code",
   "execution_count": 0,
   "metadata": {
    "application/vnd.databricks.v1+cell": {
     "cellMetadata": {
      "byteLimit": 2048000,
      "rowLimit": 10000
     },
     "inputWidgets": {},
     "nuid": "0e814dc7-cf96-4005-a2a5-d54463da4eb2",
     "showTitle": true,
     "tableResultSettingsMap": {},
     "title": "Checando array"
    }
   },
   "outputs": [
    {
     "output_type": "stream",
     "name": "stdout",
     "output_type": "stream",
     "text": [
      "A coluna 'items' é uma string. Aplicando from_json.\n"
     ]
    }
   ],
   "source": [
    "# Checar se 'items' é mesmo um array:\n",
    "if \"array\" in str(df_raw.schema[\"items\"].dataType).lower():\n",
    "   print(\"A coluna 'items' é um array. Pulando from_json.\")\n",
    "   df_parsed_items = df_raw\n",
    "else:\n",
    "   print(\"A coluna 'items' é uma string. Aplicando from_json.\")\n",
    "   df_parsed_items = df_raw.withColumn(\"items\", from_json(col(\"items\"), item_schema))\n",
    "\n",
    "# Assumindo que 'items' ainda vem como string:\n",
    "df_parsed_items = df_raw.withColumn(\"items\", from_json(col(\"items\"), item_schema))\n",
    "\n",
    "# display(df_parsed_items)"
   ]
  },
  {
   "cell_type": "code",
   "execution_count": 0,
   "metadata": {
    "application/vnd.databricks.v1+cell": {
     "cellMetadata": {
      "byteLimit": 2048000,
      "rowLimit": 10000
     },
     "inputWidgets": {},
     "nuid": "66d944a4-d2ab-4cf6-8017-f880425f9bcf",
     "showTitle": true,
     "tableResultSettingsMap": {},
     "title": "Explode item"
    }
   },
   "outputs": [],
   "source": [
    "# Explodir o array 'items' para criar uma linha para cada item.\n",
    "df_exploded_items = df_parsed_items.withColumn(\"item\", explode_outer(col(\"items\")))\n",
    "\n",
    "# Seleciona as colunas principais e desaninha os campos do 'item'\n",
    "df_flattened = df_exploded_items.select(\n",
    "    col(\"cpf\"),\n",
    "    col(\"customer_id\"),\n",
    "    col(\"customer_name\"),\n",
    "    col(\"delivery_address_city\"),\n",
    "    col(\"delivery_address_country\"),\n",
    "    col(\"delivery_address_district\"),\n",
    "    col(\"delivery_address_external_id\"),\n",
    "    col(\"delivery_address_latitude\"),\n",
    "    col(\"delivery_address_longitude\"),\n",
    "    col(\"delivery_address_state\"),\n",
    "    col(\"delivery_address_zip_code\"),\n",
    "    col(\"merchant_id\"),\n",
    "    col(\"merchant_latitude\"),\n",
    "    col(\"merchant_longitude\"),\n",
    "    col(\"merchant_timezone\"),\n",
    "    col(\"order_created_at\"),\n",
    "    col(\"order_id\"),\n",
    "    col(\"order_scheduled\"),\n",
    "    col(\"order_total_amount\"),\n",
    "    col(\"origin_platform\"),\n",
    "    # Campos do item\n",
    "    col(\"item.name\").alias(\"item_name\"),\n",
    "    col(\"item.addition.value\").alias(\"item_addition_value\"),\n",
    "    col(\"item.addition.currency\").alias(\"item_addition_currency\"),\n",
    "    col(\"item.discount.value\").alias(\"item_discount_value\"),\n",
    "    col(\"item.discount.currency\").alias(\"item_discount_currency\"),\n",
    "    col(\"item.quantity\").alias(\"item_quantity\"),\n",
    "    col(\"item.sequence\").alias(\"item_sequence\"),\n",
    "    col(\"item.unitPrice.value\").alias(\"item_unit_price_value\"),\n",
    "    col(\"item.unitPrice.currency\").alias(\"item_unit_price_currency\"),\n",
    "    col(\"item.externalId\").alias(\"item_external_id\"),\n",
    "    col(\"item.totalValue.value\").alias(\"item_total_value_value\"),\n",
    "    col(\"item.totalValue.currency\").alias(\"item_total_value_currency\"),\n",
    "    col(\"item.customerNote\").alias(\"item_customer_note\"),\n",
    "    # Mantém o array 'garnishItems' por enquanto para explodir na próxima etapa\n",
    "    col(\"item.garnishItems\").alias(\"garnish_items_array\") \n",
    ")\n",
    "\n",
    "# display(df_flattened)"
   ]
  },
  {
   "cell_type": "code",
   "execution_count": 0,
   "metadata": {
    "application/vnd.databricks.v1+cell": {
     "cellMetadata": {
      "byteLimit": 2048000,
      "rowLimit": 10000
     },
     "inputWidgets": {},
     "nuid": "efe21f7e-ae93-4e54-83d8-7f8984ad516c",
     "showTitle": true,
     "tableResultSettingsMap": {},
     "title": "Explode garnishItems"
    }
   },
   "outputs": [],
   "source": [
    "# Explodir o array 'garnishItems'.\n",
    "\n",
    "df_final = df_flattened.withColumn(\"garnish_item\", explode_outer(col(\"garnish_items_array\"))) \\\n",
    "    .select(\n",
    "        col(\"*\"), # Seleciona todas as colunas já existentes\n",
    "        # Campos do garnish_item\n",
    "        col(\"garnish_item.name\").alias(\"garnish_item_name\"),\n",
    "        col(\"garnish_item.addition.value\").alias(\"garnish_item_addition_value\"),\n",
    "        col(\"garnish_item.addition.currency\").alias(\"garnish_item_addition_currency\"),\n",
    "        col(\"garnish_item.discount.value\").alias(\"garnish_item_discount_value\"),\n",
    "        col(\"garnish_item.discount.currency\").alias(\"garnish_item_discount_currency\"),\n",
    "        col(\"garnish_item.quantity\").alias(\"garnish_item_quantity\"),\n",
    "        col(\"garnish_item.sequence\").alias(\"garnish_item_sequence\"),\n",
    "        col(\"garnish_item.unitPrice.value\").alias(\"garnish_item_unit_price_value\"),\n",
    "        col(\"garnish_item.unitPrice.currency\").alias(\"garnish_item_unit_price_currency\"), \n",
    "        col(\"garnish_item.categoryId\").alias(\"garnish_item_category_id\"),\n",
    "        col(\"garnish_item.externalId\").alias(\"garnish_item_external_id\"),\n",
    "        col(\"garnish_item.totalValue.value\").alias(\"garnish_item_total_value_value\"),\n",
    "        col(\"garnish_item.totalValue.currency\").alias(\"garnish_item_total_value_currency\"),\n",
    "        col(\"garnish_item.categoryName\").alias(\"garnish_item_category_name\"),\n",
    "        col(\"garnish_item.integrationId\").alias(\"garnish_item_integration_id\")\n",
    "    ).drop(\"garnish_items_array\", \"garnish_item\") # Remove as colunas de array originais\n",
    "\n",
    "# display(df_final)"
   ]
  },
  {
   "cell_type": "code",
   "execution_count": 0,
   "metadata": {
    "application/vnd.databricks.v1+cell": {
     "cellMetadata": {
      "byteLimit": 2048000,
      "rowLimit": 10000
     },
     "inputWidgets": {},
     "nuid": "b5db94eb-afac-40b3-a11c-5d5f0e6626fa",
     "showTitle": true,
     "tableResultSettingsMap": {},
     "title": "Salvando tabela"
    }
   },
   "outputs": [
    {
     "output_type": "stream",
     "name": "stdout",
     "output_type": "stream",
     "text": [
      "\nTabela 'workspace.default.order02_sql' criada com sucesso.\n"
     ]
    }
   ],
   "source": [
    "CATALOGO = \"workspace\"\n",
    "SCHEMA = \"default\"\n",
    "VOLUME = \"arq_json\"\n",
    "NOME_TABELA_SQL = \"order02_sql\" \n",
    "\n",
    "\n",
    "# Salavando tabela\n",
    "df_final.write \\\n",
    "    .format(\"delta\") \\\n",
    "    .mode(\"overwrite\") \\\n",
    "    .option(\"overwriteSchema\", \"true\") \\\n",
    "    .saveAsTable(f\"{CATALOGO}.{SCHEMA}.{NOME_TABELA_SQL}\")\n",
    "\n",
    "print(f\"\\nTabela '{CATALOGO}.{SCHEMA}.{NOME_TABELA_SQL}' criada com sucesso.\")"
   ]
  },
  {
   "cell_type": "markdown",
   "metadata": {
    "application/vnd.databricks.v1+cell": {
     "cellMetadata": {
      "byteLimit": 2048000,
      "rowLimit": 10000
     },
     "inputWidgets": {},
     "nuid": "c7f9b29f-c56c-43aa-a6f8-eeea86b91de0",
     "showTitle": false,
     "tableResultSettingsMap": {},
     "title": ""
    }
   },
   "source": [
    "# Parte 03"
   ]
  },
  {
   "cell_type": "code",
   "execution_count": 0,
   "metadata": {
    "application/vnd.databricks.v1+cell": {
     "cellMetadata": {
      "byteLimit": 2048000,
      "rowLimit": 10000
     },
     "inputWidgets": {},
     "nuid": "e20af210-5719-4c4d-85cc-3378f1991a29",
     "showTitle": true,
     "tableResultSettingsMap": {},
     "title": "Configurações iniciais"
    }
   },
   "outputs": [
    {
     "output_type": "stream",
     "name": "stdout",
     "output_type": "stream",
     "text": [
      "Lendo o arquivo JSON de: /Volumes/workspace/default/arq_json/part-00003.json\n"
     ]
    }
   ],
   "source": [
    "CATALOGO = \"workspace\"\n",
    "SCHEMA = \"default\"\n",
    "VOLUME = \"arq_json\"\n",
    "NOME_ARQUIVO_JSON = \"part-00003.json\"\n",
    "\n",
    "caminho_arquivo_json_volume = f\"/Volumes/{CATALOGO}/{SCHEMA}/{VOLUME}/{NOME_ARQUIVO_JSON}\"\n",
    "\n",
    "print(f\"Lendo o arquivo JSON de: {caminho_arquivo_json_volume}\")"
   ]
  },
  {
   "cell_type": "code",
   "execution_count": 0,
   "metadata": {
    "application/vnd.databricks.v1+cell": {
     "cellMetadata": {
      "byteLimit": 2048000,
      "rowLimit": 10000
     },
     "inputWidgets": {},
     "nuid": "87dbd3e4-aac0-4683-a232-c9121c02e4e1",
     "showTitle": true,
     "tableResultSettingsMap": {},
     "title": "Leitura do json"
    }
   },
   "outputs": [
    {
     "output_type": "stream",
     "name": "stdout",
     "output_type": "stream",
     "text": [
      "Total de linhas: 367127\n"
     ]
    }
   ],
   "source": [
    "# Ler o arquivo JSON como um único objeto ou array JSON\n",
    "df_raw = spark.read.json(caminho_arquivo_json_volume, multiLine=True, encoding='UTF-8')\n",
    "\n",
    "print(f\"Total de linhas: {df_raw.count()}\")"
   ]
  },
  {
   "cell_type": "code",
   "execution_count": 0,
   "metadata": {
    "application/vnd.databricks.v1+cell": {
     "cellMetadata": {
      "byteLimit": 2048000,
      "rowLimit": 10000
     },
     "inputWidgets": {},
     "nuid": "27d05324-da37-4bc6-be0c-b57cb176ffc6",
     "showTitle": true,
     "tableResultSettingsMap": {},
     "title": "Aplicando array"
    }
   },
   "outputs": [],
   "source": [
    "# Primeiramente, devemos definir como o Spark deve interpretar a string JSON da coluna 'items'\n",
    "\n",
    "item_schema = ArrayType(StructType([\n",
    "    StructField(\"name\", StringType(), True),\n",
    "    StructField(\"addition\", StructType([\n",
    "        StructField(\"value\", StringType(), True),\n",
    "        StructField(\"currency\", StringType(), True)\n",
    "    ]), True),\n",
    "    StructField(\"discount\", StructType([\n",
    "        StructField(\"value\", StringType(), True),\n",
    "        StructField(\"currency\", StringType(), True)\n",
    "    ]), True),\n",
    "    StructField(\"quantity\", DoubleType(), True),\n",
    "    StructField(\"sequence\", LongType(), True),\n",
    "    StructField(\"unitPrice\", StructType([\n",
    "        StructField(\"value\", StringType(), True),\n",
    "        StructField(\"currency\", StringType(), True)\n",
    "    ]), True),\n",
    "    StructField(\"externalId\", StringType(), True),\n",
    "    StructField(\"totalValue\", StructType([\n",
    "        StructField(\"value\", StringType(), True),\n",
    "        StructField(\"currency\", StringType(), True)\n",
    "    ]), True),\n",
    "    StructField(\"customerNote\", StringType(), True),\n",
    "    StructField(\"garnishItems\", ArrayType(StructType([\n",
    "        StructField(\"name\", StringType(), True),\n",
    "        StructField(\"addition\", StructType([\n",
    "            StructField(\"value\", StringType(), True),\n",
    "            StructField(\"currency\", StringType(), True)\n",
    "        ]), True),\n",
    "        StructField(\"discount\", StructType([\n",
    "            StructField(\"value\", StringType(), True),\n",
    "            StructField(\"currency\", StringType(), True)\n",
    "        ]), True),\n",
    "        StructField(\"quantity\", DoubleType(), True),\n",
    "        StructField(\"sequence\", LongType(), True),\n",
    "        StructField(\"unitPrice\", StructType([\n",
    "            StructField(\"value\", StringType(), True),\n",
    "            StructField(\"currency\", StringType(), True)\n",
    "        ]), True),\n",
    "        StructField(\"categoryId\", StringType(), True),\n",
    "        StructField(\"externalId\", StringType(), True),\n",
    "        StructField(\"totalValue\", StructType([\n",
    "            StructField(\"value\", StringType(), True),\n",
    "            StructField(\"currency\", StringType(), True)\n",
    "        ]), True),\n",
    "        StructField(\"categoryName\", StringType(), True),\n",
    "        StructField(\"integrationId\", StringType(), True)\n",
    "    ])), True)\n",
    "]))"
   ]
  },
  {
   "cell_type": "code",
   "execution_count": 0,
   "metadata": {
    "application/vnd.databricks.v1+cell": {
     "cellMetadata": {
      "byteLimit": 2048000,
      "rowLimit": 10000
     },
     "inputWidgets": {},
     "nuid": "b19d5783-3472-403d-b6b3-0129f172c45e",
     "showTitle": true,
     "tableResultSettingsMap": {},
     "title": "Checando array"
    }
   },
   "outputs": [
    {
     "output_type": "stream",
     "name": "stdout",
     "output_type": "stream",
     "text": [
      "A coluna 'items' é uma string. Aplicando from_json.\n"
     ]
    }
   ],
   "source": [
    "# Checar se 'items' é mesmo um array:\n",
    "if \"array\" in str(df_raw.schema[\"items\"].dataType).lower():\n",
    "   print(\"A coluna 'items' é um array. Pulando from_json.\")\n",
    "   df_parsed_items = df_raw\n",
    "else:\n",
    "   print(\"A coluna 'items' é uma string. Aplicando from_json.\")\n",
    "   df_parsed_items = df_raw.withColumn(\"items\", from_json(col(\"items\"), item_schema))\n",
    "\n",
    "# Assumindo que 'items' ainda vem como string:\n",
    "df_parsed_items = df_raw.withColumn(\"items\", from_json(col(\"items\"), item_schema))\n",
    "\n",
    "# display(df_parsed_items)"
   ]
  },
  {
   "cell_type": "code",
   "execution_count": 0,
   "metadata": {
    "application/vnd.databricks.v1+cell": {
     "cellMetadata": {
      "byteLimit": 2048000,
      "rowLimit": 10000
     },
     "inputWidgets": {},
     "nuid": "e6644a46-e227-4f64-a1c7-b0edd244e24e",
     "showTitle": true,
     "tableResultSettingsMap": {},
     "title": "Explode item"
    }
   },
   "outputs": [],
   "source": [
    "# Explodir o array 'items' para criar uma linha para cada item.\n",
    "df_exploded_items = df_parsed_items.withColumn(\"item\", explode_outer(col(\"items\")))\n",
    "\n",
    "# Seleciona as colunas principais e desaninha os campos do 'item'\n",
    "df_flattened = df_exploded_items.select(\n",
    "    col(\"cpf\"),\n",
    "    col(\"customer_id\"),\n",
    "    col(\"customer_name\"),\n",
    "    col(\"delivery_address_city\"),\n",
    "    col(\"delivery_address_country\"),\n",
    "    col(\"delivery_address_district\"),\n",
    "    col(\"delivery_address_external_id\"),\n",
    "    col(\"delivery_address_latitude\"),\n",
    "    col(\"delivery_address_longitude\"),\n",
    "    col(\"delivery_address_state\"),\n",
    "    col(\"delivery_address_zip_code\"),\n",
    "    col(\"merchant_id\"),\n",
    "    col(\"merchant_latitude\"),\n",
    "    col(\"merchant_longitude\"),\n",
    "    col(\"merchant_timezone\"),\n",
    "    col(\"order_created_at\"),\n",
    "    col(\"order_id\"),\n",
    "    col(\"order_scheduled\"),\n",
    "    col(\"order_total_amount\"),\n",
    "    col(\"origin_platform\"),\n",
    "    # Campos do item\n",
    "    col(\"item.name\").alias(\"item_name\"),\n",
    "    col(\"item.addition.value\").alias(\"item_addition_value\"),\n",
    "    col(\"item.addition.currency\").alias(\"item_addition_currency\"),\n",
    "    col(\"item.discount.value\").alias(\"item_discount_value\"),\n",
    "    col(\"item.discount.currency\").alias(\"item_discount_currency\"),\n",
    "    col(\"item.quantity\").alias(\"item_quantity\"),\n",
    "    col(\"item.sequence\").alias(\"item_sequence\"),\n",
    "    col(\"item.unitPrice.value\").alias(\"item_unit_price_value\"),\n",
    "    col(\"item.unitPrice.currency\").alias(\"item_unit_price_currency\"),\n",
    "    col(\"item.externalId\").alias(\"item_external_id\"),\n",
    "    col(\"item.totalValue.value\").alias(\"item_total_value_value\"),\n",
    "    col(\"item.totalValue.currency\").alias(\"item_total_value_currency\"),\n",
    "    col(\"item.customerNote\").alias(\"item_customer_note\"),\n",
    "    # Mantém o array 'garnishItems' por enquanto para explodir na próxima etapa\n",
    "    col(\"item.garnishItems\").alias(\"garnish_items_array\") \n",
    ")\n",
    "\n",
    "# display(df_flattened)"
   ]
  },
  {
   "cell_type": "code",
   "execution_count": 0,
   "metadata": {
    "application/vnd.databricks.v1+cell": {
     "cellMetadata": {
      "byteLimit": 2048000,
      "rowLimit": 10000
     },
     "inputWidgets": {},
     "nuid": "969200e0-ff0e-4975-9ba3-b5408b7f6156",
     "showTitle": true,
     "tableResultSettingsMap": {},
     "title": "Explode garnishItems"
    }
   },
   "outputs": [],
   "source": [
    "# Explodir o array 'garnishItems'.\n",
    "\n",
    "df_final = df_flattened.withColumn(\"garnish_item\", explode_outer(col(\"garnish_items_array\"))) \\\n",
    "    .select(\n",
    "        col(\"*\"), # Seleciona todas as colunas já existentes\n",
    "        # Campos do garnish_item\n",
    "        col(\"garnish_item.name\").alias(\"garnish_item_name\"),\n",
    "        col(\"garnish_item.addition.value\").alias(\"garnish_item_addition_value\"),\n",
    "        col(\"garnish_item.addition.currency\").alias(\"garnish_item_addition_currency\"),\n",
    "        col(\"garnish_item.discount.value\").alias(\"garnish_item_discount_value\"),\n",
    "        col(\"garnish_item.discount.currency\").alias(\"garnish_item_discount_currency\"),\n",
    "        col(\"garnish_item.quantity\").alias(\"garnish_item_quantity\"),\n",
    "        col(\"garnish_item.sequence\").alias(\"garnish_item_sequence\"),\n",
    "        col(\"garnish_item.unitPrice.value\").alias(\"garnish_item_unit_price_value\"),\n",
    "        col(\"garnish_item.unitPrice.currency\").alias(\"garnish_item_unit_price_currency\"), \n",
    "        col(\"garnish_item.categoryId\").alias(\"garnish_item_category_id\"),\n",
    "        col(\"garnish_item.externalId\").alias(\"garnish_item_external_id\"),\n",
    "        col(\"garnish_item.totalValue.value\").alias(\"garnish_item_total_value_value\"),\n",
    "        col(\"garnish_item.totalValue.currency\").alias(\"garnish_item_total_value_currency\"),\n",
    "        col(\"garnish_item.categoryName\").alias(\"garnish_item_category_name\"),\n",
    "        col(\"garnish_item.integrationId\").alias(\"garnish_item_integration_id\")\n",
    "    ).drop(\"garnish_items_array\", \"garnish_item\") # Remove as colunas de array originais\n",
    "\n",
    "# display(df_final)"
   ]
  },
  {
   "cell_type": "code",
   "execution_count": 0,
   "metadata": {
    "application/vnd.databricks.v1+cell": {
     "cellMetadata": {
      "byteLimit": 2048000,
      "rowLimit": 10000
     },
     "inputWidgets": {},
     "nuid": "dcea33ab-5575-428f-94fc-5ec2a7c6f065",
     "showTitle": true,
     "tableResultSettingsMap": {},
     "title": "Salvando tabela"
    }
   },
   "outputs": [
    {
     "output_type": "stream",
     "name": "stdout",
     "output_type": "stream",
     "text": [
      "\nTabela 'workspace.default.order03_sql' criada com sucesso.\n"
     ]
    }
   ],
   "source": [
    "CATALOGO = \"workspace\"\n",
    "SCHEMA = \"default\"\n",
    "VOLUME = \"arq_json\"\n",
    "NOME_TABELA_SQL = \"order03_sql\" \n",
    "\n",
    "\n",
    "# Salavando tabela\n",
    "df_final.write \\\n",
    "    .format(\"delta\") \\\n",
    "    .mode(\"overwrite\") \\\n",
    "    .option(\"overwriteSchema\", \"true\") \\\n",
    "    .saveAsTable(f\"{CATALOGO}.{SCHEMA}.{NOME_TABELA_SQL}\")\n",
    "\n",
    "print(f\"\\nTabela '{CATALOGO}.{SCHEMA}.{NOME_TABELA_SQL}' criada com sucesso.\")"
   ]
  },
  {
   "cell_type": "markdown",
   "metadata": {
    "application/vnd.databricks.v1+cell": {
     "cellMetadata": {
      "byteLimit": 2048000,
      "rowLimit": 10000
     },
     "inputWidgets": {},
     "nuid": "f93d0474-ac29-457e-b951-bac3c122d883",
     "showTitle": false,
     "tableResultSettingsMap": {},
     "title": ""
    }
   },
   "source": [
    "# Parte 04"
   ]
  },
  {
   "cell_type": "code",
   "execution_count": 0,
   "metadata": {
    "application/vnd.databricks.v1+cell": {
     "cellMetadata": {
      "byteLimit": 2048000,
      "rowLimit": 10000
     },
     "inputWidgets": {},
     "nuid": "61d1b14e-a798-45e4-827f-01ea2cfea027",
     "showTitle": true,
     "tableResultSettingsMap": {},
     "title": "Configurações iniciais"
    }
   },
   "outputs": [
    {
     "output_type": "stream",
     "name": "stdout",
     "output_type": "stream",
     "text": [
      "Lendo o arquivo JSON de: /Volumes/workspace/default/arq_json/part-00004.json\n"
     ]
    }
   ],
   "source": [
    "CATALOGO = \"workspace\"\n",
    "SCHEMA = \"default\"\n",
    "VOLUME = \"arq_json\"\n",
    "NOME_ARQUIVO_JSON = \"part-00004.json\"\n",
    "\n",
    "caminho_arquivo_json_volume = f\"/Volumes/{CATALOGO}/{SCHEMA}/{VOLUME}/{NOME_ARQUIVO_JSON}\"\n",
    "\n",
    "print(f\"Lendo o arquivo JSON de: {caminho_arquivo_json_volume}\")"
   ]
  },
  {
   "cell_type": "code",
   "execution_count": 0,
   "metadata": {
    "application/vnd.databricks.v1+cell": {
     "cellMetadata": {
      "byteLimit": 2048000,
      "rowLimit": 10000
     },
     "inputWidgets": {},
     "nuid": "3f0ae6d9-de76-4f4b-8c7b-a58cf1e89565",
     "showTitle": true,
     "tableResultSettingsMap": {},
     "title": "Leitura do json"
    }
   },
   "outputs": [
    {
     "output_type": "stream",
     "name": "stdout",
     "output_type": "stream",
     "text": [
      "Total de linhas: 367093\n"
     ]
    }
   ],
   "source": [
    "# Ler o arquivo JSON como um único objeto ou array JSON\n",
    "df_raw = spark.read.json(caminho_arquivo_json_volume, multiLine=True, encoding='UTF-8')\n",
    "\n",
    "print(f\"Total de linhas: {df_raw.count()}\")"
   ]
  },
  {
   "cell_type": "code",
   "execution_count": 0,
   "metadata": {
    "application/vnd.databricks.v1+cell": {
     "cellMetadata": {
      "byteLimit": 2048000,
      "rowLimit": 10000
     },
     "inputWidgets": {},
     "nuid": "94c85d2a-cd03-4a02-aa16-e29fecb6fddb",
     "showTitle": true,
     "tableResultSettingsMap": {},
     "title": "Aplicando array item"
    }
   },
   "outputs": [],
   "source": [
    "# Primeiramente, devemos definir como o Spark deve interpretar a string JSON da coluna 'items'\n",
    "\n",
    "item_schema = ArrayType(StructType([\n",
    "    StructField(\"name\", StringType(), True),\n",
    "    StructField(\"addition\", StructType([\n",
    "        StructField(\"value\", StringType(), True),\n",
    "        StructField(\"currency\", StringType(), True)\n",
    "    ]), True),\n",
    "    StructField(\"discount\", StructType([\n",
    "        StructField(\"value\", StringType(), True),\n",
    "        StructField(\"currency\", StringType(), True)\n",
    "    ]), True),\n",
    "    StructField(\"quantity\", DoubleType(), True),\n",
    "    StructField(\"sequence\", LongType(), True),\n",
    "    StructField(\"unitPrice\", StructType([\n",
    "        StructField(\"value\", StringType(), True),\n",
    "        StructField(\"currency\", StringType(), True)\n",
    "    ]), True),\n",
    "    StructField(\"externalId\", StringType(), True),\n",
    "    StructField(\"totalValue\", StructType([\n",
    "        StructField(\"value\", StringType(), True),\n",
    "        StructField(\"currency\", StringType(), True)\n",
    "    ]), True),\n",
    "    StructField(\"customerNote\", StringType(), True),\n",
    "    StructField(\"garnishItems\", ArrayType(StructType([\n",
    "        StructField(\"name\", StringType(), True),\n",
    "        StructField(\"addition\", StructType([\n",
    "            StructField(\"value\", StringType(), True),\n",
    "            StructField(\"currency\", StringType(), True)\n",
    "        ]), True),\n",
    "        StructField(\"discount\", StructType([\n",
    "            StructField(\"value\", StringType(), True),\n",
    "            StructField(\"currency\", StringType(), True)\n",
    "        ]), True),\n",
    "        StructField(\"quantity\", DoubleType(), True),\n",
    "        StructField(\"sequence\", LongType(), True),\n",
    "        StructField(\"unitPrice\", StructType([\n",
    "            StructField(\"value\", StringType(), True),\n",
    "            StructField(\"currency\", StringType(), True)\n",
    "        ]), True),\n",
    "        StructField(\"categoryId\", StringType(), True),\n",
    "        StructField(\"externalId\", StringType(), True),\n",
    "        StructField(\"totalValue\", StructType([\n",
    "            StructField(\"value\", StringType(), True),\n",
    "            StructField(\"currency\", StringType(), True)\n",
    "        ]), True),\n",
    "        StructField(\"categoryName\", StringType(), True),\n",
    "        StructField(\"integrationId\", StringType(), True)\n",
    "    ])), True)\n",
    "]))"
   ]
  },
  {
   "cell_type": "code",
   "execution_count": 0,
   "metadata": {
    "application/vnd.databricks.v1+cell": {
     "cellMetadata": {
      "byteLimit": 2048000,
      "rowLimit": 10000
     },
     "inputWidgets": {},
     "nuid": "02aea238-60fb-4115-a299-668d6f24bf46",
     "showTitle": true,
     "tableResultSettingsMap": {},
     "title": "Checando array"
    }
   },
   "outputs": [
    {
     "output_type": "stream",
     "name": "stdout",
     "output_type": "stream",
     "text": [
      "A coluna 'items' é uma string. Aplicando from_json.\n"
     ]
    }
   ],
   "source": [
    "# Checar se 'items' é mesmo um array:\n",
    "if \"array\" in str(df_raw.schema[\"items\"].dataType).lower():\n",
    "   print(\"A coluna 'items' é um array. Pulando from_json.\")\n",
    "   df_parsed_items = df_raw\n",
    "else:\n",
    "   print(\"A coluna 'items' é uma string. Aplicando from_json.\")\n",
    "   df_parsed_items = df_raw.withColumn(\"items\", from_json(col(\"items\"), item_schema))\n",
    "\n",
    "# Assumindo que 'items' ainda vem como string:\n",
    "df_parsed_items = df_raw.withColumn(\"items\", from_json(col(\"items\"), item_schema))\n",
    "\n",
    "# display(df_parsed_items)"
   ]
  },
  {
   "cell_type": "code",
   "execution_count": 0,
   "metadata": {
    "application/vnd.databricks.v1+cell": {
     "cellMetadata": {
      "byteLimit": 2048000,
      "rowLimit": 10000
     },
     "inputWidgets": {},
     "nuid": "6c058580-bed5-4f42-93d7-0f67df38b8fd",
     "showTitle": true,
     "tableResultSettingsMap": {},
     "title": "Explode item"
    }
   },
   "outputs": [],
   "source": [
    "# Explodir o array 'items' para criar uma linha para cada item.\n",
    "df_exploded_items = df_parsed_items.withColumn(\"item\", explode_outer(col(\"items\")))\n",
    "\n",
    "# Seleciona as colunas principais e desaninha os campos do 'item'\n",
    "df_flattened = df_exploded_items.select(\n",
    "    col(\"cpf\"),\n",
    "    col(\"customer_id\"),\n",
    "    col(\"customer_name\"),\n",
    "    col(\"delivery_address_city\"),\n",
    "    col(\"delivery_address_country\"),\n",
    "    col(\"delivery_address_district\"),\n",
    "    col(\"delivery_address_external_id\"),\n",
    "    col(\"delivery_address_latitude\"),\n",
    "    col(\"delivery_address_longitude\"),\n",
    "    col(\"delivery_address_state\"),\n",
    "    col(\"delivery_address_zip_code\"),\n",
    "    col(\"merchant_id\"),\n",
    "    col(\"merchant_latitude\"),\n",
    "    col(\"merchant_longitude\"),\n",
    "    col(\"merchant_timezone\"),\n",
    "    col(\"order_created_at\"),\n",
    "    col(\"order_id\"),\n",
    "    col(\"order_scheduled\"),\n",
    "    col(\"order_total_amount\"),\n",
    "    col(\"origin_platform\"),\n",
    "    # Campos do item\n",
    "    col(\"item.name\").alias(\"item_name\"),\n",
    "    col(\"item.addition.value\").alias(\"item_addition_value\"),\n",
    "    col(\"item.addition.currency\").alias(\"item_addition_currency\"),\n",
    "    col(\"item.discount.value\").alias(\"item_discount_value\"),\n",
    "    col(\"item.discount.currency\").alias(\"item_discount_currency\"),\n",
    "    col(\"item.quantity\").alias(\"item_quantity\"),\n",
    "    col(\"item.sequence\").alias(\"item_sequence\"),\n",
    "    col(\"item.unitPrice.value\").alias(\"item_unit_price_value\"),\n",
    "    col(\"item.unitPrice.currency\").alias(\"item_unit_price_currency\"),\n",
    "    col(\"item.externalId\").alias(\"item_external_id\"),\n",
    "    col(\"item.totalValue.value\").alias(\"item_total_value_value\"),\n",
    "    col(\"item.totalValue.currency\").alias(\"item_total_value_currency\"),\n",
    "    col(\"item.customerNote\").alias(\"item_customer_note\"),\n",
    "    # Mantém o array 'garnishItems' por enquanto para explodir na próxima etapa\n",
    "    col(\"item.garnishItems\").alias(\"garnish_items_array\") \n",
    ")\n",
    "\n",
    "# display(df_flattened)"
   ]
  },
  {
   "cell_type": "code",
   "execution_count": 0,
   "metadata": {
    "application/vnd.databricks.v1+cell": {
     "cellMetadata": {
      "byteLimit": 2048000,
      "rowLimit": 10000
     },
     "inputWidgets": {},
     "nuid": "b9d96fac-d05a-4089-9873-f73a568f4aca",
     "showTitle": true,
     "tableResultSettingsMap": {},
     "title": "Explode garnishItems"
    }
   },
   "outputs": [],
   "source": [
    "# Explodir o array 'garnishItems'.\n",
    "\n",
    "df_final = df_flattened.withColumn(\"garnish_item\", explode_outer(col(\"garnish_items_array\"))) \\\n",
    "    .select(\n",
    "        col(\"*\"), # Seleciona todas as colunas já existentes\n",
    "        # Campos do garnish_item\n",
    "        col(\"garnish_item.name\").alias(\"garnish_item_name\"),\n",
    "        col(\"garnish_item.addition.value\").alias(\"garnish_item_addition_value\"),\n",
    "        col(\"garnish_item.addition.currency\").alias(\"garnish_item_addition_currency\"),\n",
    "        col(\"garnish_item.discount.value\").alias(\"garnish_item_discount_value\"),\n",
    "        col(\"garnish_item.discount.currency\").alias(\"garnish_item_discount_currency\"),\n",
    "        col(\"garnish_item.quantity\").alias(\"garnish_item_quantity\"),\n",
    "        col(\"garnish_item.sequence\").alias(\"garnish_item_sequence\"),\n",
    "        col(\"garnish_item.unitPrice.value\").alias(\"garnish_item_unit_price_value\"),\n",
    "        col(\"garnish_item.unitPrice.currency\").alias(\"garnish_item_unit_price_currency\"), \n",
    "        col(\"garnish_item.categoryId\").alias(\"garnish_item_category_id\"),\n",
    "        col(\"garnish_item.externalId\").alias(\"garnish_item_external_id\"),\n",
    "        col(\"garnish_item.totalValue.value\").alias(\"garnish_item_total_value_value\"),\n",
    "        col(\"garnish_item.totalValue.currency\").alias(\"garnish_item_total_value_currency\"),\n",
    "        col(\"garnish_item.categoryName\").alias(\"garnish_item_category_name\"),\n",
    "        col(\"garnish_item.integrationId\").alias(\"garnish_item_integration_id\")\n",
    "    ).drop(\"garnish_items_array\", \"garnish_item\") # Remove as colunas de array originais\n",
    "\n",
    "# display(df_final)"
   ]
  },
  {
   "cell_type": "code",
   "execution_count": 0,
   "metadata": {
    "application/vnd.databricks.v1+cell": {
     "cellMetadata": {
      "byteLimit": 2048000,
      "rowLimit": 10000
     },
     "inputWidgets": {},
     "nuid": "98df1c68-2615-479c-9d1e-2cb54b70129b",
     "showTitle": true,
     "tableResultSettingsMap": {},
     "title": "Salvando tabela"
    }
   },
   "outputs": [
    {
     "output_type": "stream",
     "name": "stdout",
     "output_type": "stream",
     "text": [
      "\nTabela 'workspace.default.order04_sql' criada com sucesso.\n"
     ]
    }
   ],
   "source": [
    "CATALOGO = \"workspace\"\n",
    "SCHEMA = \"default\"\n",
    "VOLUME = \"arq_json\"\n",
    "NOME_TABELA_SQL = \"order04_sql\" \n",
    "\n",
    "\n",
    "# Salavando tabela\n",
    "df_final.write \\\n",
    "    .format(\"delta\") \\\n",
    "    .mode(\"overwrite\") \\\n",
    "    .option(\"overwriteSchema\", \"true\") \\\n",
    "    .saveAsTable(f\"{CATALOGO}.{SCHEMA}.{NOME_TABELA_SQL}\")\n",
    "\n",
    "print(f\"\\nTabela '{CATALOGO}.{SCHEMA}.{NOME_TABELA_SQL}' criada com sucesso.\")"
   ]
  },
  {
   "cell_type": "markdown",
   "metadata": {
    "application/vnd.databricks.v1+cell": {
     "cellMetadata": {
      "byteLimit": 2048000,
      "rowLimit": 10000
     },
     "inputWidgets": {},
     "nuid": "09046a4d-700a-4fca-9be6-e574849c48e1",
     "showTitle": false,
     "tableResultSettingsMap": {},
     "title": ""
    }
   },
   "source": [
    "# Parte 05"
   ]
  },
  {
   "cell_type": "code",
   "execution_count": 0,
   "metadata": {
    "application/vnd.databricks.v1+cell": {
     "cellMetadata": {
      "byteLimit": 2048000,
      "rowLimit": 10000
     },
     "inputWidgets": {},
     "nuid": "1607e2ab-4d99-445a-be8b-f2fe0b80d830",
     "showTitle": true,
     "tableResultSettingsMap": {},
     "title": "Configurações iniciais"
    }
   },
   "outputs": [
    {
     "output_type": "stream",
     "name": "stdout",
     "output_type": "stream",
     "text": [
      "Lendo o arquivo JSON de: /Volumes/workspace/default/arq_json/part-00005.json\n"
     ]
    }
   ],
   "source": [
    "CATALOGO = \"workspace\"\n",
    "SCHEMA = \"default\"\n",
    "VOLUME = \"arq_json\"\n",
    "NOME_ARQUIVO_JSON = \"part-00005.json\"\n",
    "\n",
    "caminho_arquivo_json_volume = f\"/Volumes/{CATALOGO}/{SCHEMA}/{VOLUME}/{NOME_ARQUIVO_JSON}\"\n",
    "\n",
    "print(f\"Lendo o arquivo JSON de: {caminho_arquivo_json_volume}\")"
   ]
  },
  {
   "cell_type": "code",
   "execution_count": 0,
   "metadata": {
    "application/vnd.databricks.v1+cell": {
     "cellMetadata": {
      "byteLimit": 2048000,
      "rowLimit": 10000
     },
     "inputWidgets": {},
     "nuid": "65130f47-6455-4928-aa31-36c1f01aebf5",
     "showTitle": true,
     "tableResultSettingsMap": {},
     "title": "Leitura do json"
    }
   },
   "outputs": [
    {
     "output_type": "stream",
     "name": "stdout",
     "output_type": "stream",
     "text": [
      "Total de linhas: 367030\n"
     ]
    }
   ],
   "source": [
    "# Ler o arquivo JSON como um único objeto ou array JSON\n",
    "df_raw = spark.read.json(caminho_arquivo_json_volume, multiLine=True, encoding='UTF-8')\n",
    "\n",
    "print(f\"Total de linhas: {df_raw.count()}\")"
   ]
  },
  {
   "cell_type": "code",
   "execution_count": 0,
   "metadata": {
    "application/vnd.databricks.v1+cell": {
     "cellMetadata": {
      "byteLimit": 2048000,
      "rowLimit": 10000
     },
     "inputWidgets": {},
     "nuid": "3b1112b9-262a-4a1b-8ded-f772e340edcb",
     "showTitle": true,
     "tableResultSettingsMap": {},
     "title": "Aplicando array item"
    }
   },
   "outputs": [],
   "source": [
    "# Primeiramente, devemos definir como o Spark deve interpretar a string JSON da coluna 'items'\n",
    "\n",
    "item_schema = ArrayType(StructType([\n",
    "    StructField(\"name\", StringType(), True),\n",
    "    StructField(\"addition\", StructType([\n",
    "        StructField(\"value\", StringType(), True),\n",
    "        StructField(\"currency\", StringType(), True)\n",
    "    ]), True),\n",
    "    StructField(\"discount\", StructType([\n",
    "        StructField(\"value\", StringType(), True),\n",
    "        StructField(\"currency\", StringType(), True)\n",
    "    ]), True),\n",
    "    StructField(\"quantity\", DoubleType(), True),\n",
    "    StructField(\"sequence\", LongType(), True),\n",
    "    StructField(\"unitPrice\", StructType([\n",
    "        StructField(\"value\", StringType(), True),\n",
    "        StructField(\"currency\", StringType(), True)\n",
    "    ]), True),\n",
    "    StructField(\"externalId\", StringType(), True),\n",
    "    StructField(\"totalValue\", StructType([\n",
    "        StructField(\"value\", StringType(), True),\n",
    "        StructField(\"currency\", StringType(), True)\n",
    "    ]), True),\n",
    "    StructField(\"customerNote\", StringType(), True),\n",
    "    StructField(\"garnishItems\", ArrayType(StructType([\n",
    "        StructField(\"name\", StringType(), True),\n",
    "        StructField(\"addition\", StructType([\n",
    "            StructField(\"value\", StringType(), True),\n",
    "            StructField(\"currency\", StringType(), True)\n",
    "        ]), True),\n",
    "        StructField(\"discount\", StructType([\n",
    "            StructField(\"value\", StringType(), True),\n",
    "            StructField(\"currency\", StringType(), True)\n",
    "        ]), True),\n",
    "        StructField(\"quantity\", DoubleType(), True),\n",
    "        StructField(\"sequence\", LongType(), True),\n",
    "        StructField(\"unitPrice\", StructType([\n",
    "            StructField(\"value\", StringType(), True),\n",
    "            StructField(\"currency\", StringType(), True)\n",
    "        ]), True),\n",
    "        StructField(\"categoryId\", StringType(), True),\n",
    "        StructField(\"externalId\", StringType(), True),\n",
    "        StructField(\"totalValue\", StructType([\n",
    "            StructField(\"value\", StringType(), True),\n",
    "            StructField(\"currency\", StringType(), True)\n",
    "        ]), True),\n",
    "        StructField(\"categoryName\", StringType(), True),\n",
    "        StructField(\"integrationId\", StringType(), True)\n",
    "    ])), True)\n",
    "]))"
   ]
  },
  {
   "cell_type": "code",
   "execution_count": 0,
   "metadata": {
    "application/vnd.databricks.v1+cell": {
     "cellMetadata": {
      "byteLimit": 2048000,
      "rowLimit": 10000
     },
     "inputWidgets": {},
     "nuid": "1fd6d0f3-fb03-4b5e-845d-58fff2cc2531",
     "showTitle": true,
     "tableResultSettingsMap": {},
     "title": "Checando array"
    }
   },
   "outputs": [
    {
     "output_type": "stream",
     "name": "stdout",
     "output_type": "stream",
     "text": [
      "A coluna 'items' é uma string. Aplicando from_json.\n"
     ]
    }
   ],
   "source": [
    "# Checar se 'items' é mesmo um array:\n",
    "if \"array\" in str(df_raw.schema[\"items\"].dataType).lower():\n",
    "   print(\"A coluna 'items' é um array. Pulando from_json.\")\n",
    "   df_parsed_items = df_raw\n",
    "else:\n",
    "   print(\"A coluna 'items' é uma string. Aplicando from_json.\")\n",
    "   df_parsed_items = df_raw.withColumn(\"items\", from_json(col(\"items\"), item_schema))\n",
    "\n",
    "# Assumindo que 'items' ainda vem como string:\n",
    "df_parsed_items = df_raw.withColumn(\"items\", from_json(col(\"items\"), item_schema))\n",
    "\n",
    "# display(df_parsed_items)"
   ]
  },
  {
   "cell_type": "code",
   "execution_count": 0,
   "metadata": {
    "application/vnd.databricks.v1+cell": {
     "cellMetadata": {
      "byteLimit": 2048000,
      "rowLimit": 10000
     },
     "inputWidgets": {},
     "nuid": "b874d4c0-0bb2-476a-898b-a110a53eb1e2",
     "showTitle": true,
     "tableResultSettingsMap": {},
     "title": "Explode item"
    }
   },
   "outputs": [],
   "source": [
    "# Explodir o array 'items' para criar uma linha para cada item.\n",
    "df_exploded_items = df_parsed_items.withColumn(\"item\", explode_outer(col(\"items\")))\n",
    "\n",
    "# Seleciona as colunas principais e desaninha os campos do 'item'\n",
    "df_flattened = df_exploded_items.select(\n",
    "    col(\"cpf\"),\n",
    "    col(\"customer_id\"),\n",
    "    col(\"customer_name\"),\n",
    "    col(\"delivery_address_city\"),\n",
    "    col(\"delivery_address_country\"),\n",
    "    col(\"delivery_address_district\"),\n",
    "    col(\"delivery_address_external_id\"),\n",
    "    col(\"delivery_address_latitude\"),\n",
    "    col(\"delivery_address_longitude\"),\n",
    "    col(\"delivery_address_state\"),\n",
    "    col(\"delivery_address_zip_code\"),\n",
    "    col(\"merchant_id\"),\n",
    "    col(\"merchant_latitude\"),\n",
    "    col(\"merchant_longitude\"),\n",
    "    col(\"merchant_timezone\"),\n",
    "    col(\"order_created_at\"),\n",
    "    col(\"order_id\"),\n",
    "    col(\"order_scheduled\"),\n",
    "    col(\"order_total_amount\"),\n",
    "    col(\"origin_platform\"),\n",
    "    # Campos do item\n",
    "    col(\"item.name\").alias(\"item_name\"),\n",
    "    col(\"item.addition.value\").alias(\"item_addition_value\"),\n",
    "    col(\"item.addition.currency\").alias(\"item_addition_currency\"),\n",
    "    col(\"item.discount.value\").alias(\"item_discount_value\"),\n",
    "    col(\"item.discount.currency\").alias(\"item_discount_currency\"),\n",
    "    col(\"item.quantity\").alias(\"item_quantity\"),\n",
    "    col(\"item.sequence\").alias(\"item_sequence\"),\n",
    "    col(\"item.unitPrice.value\").alias(\"item_unit_price_value\"),\n",
    "    col(\"item.unitPrice.currency\").alias(\"item_unit_price_currency\"),\n",
    "    col(\"item.externalId\").alias(\"item_external_id\"),\n",
    "    col(\"item.totalValue.value\").alias(\"item_total_value_value\"),\n",
    "    col(\"item.totalValue.currency\").alias(\"item_total_value_currency\"),\n",
    "    col(\"item.customerNote\").alias(\"item_customer_note\"),\n",
    "    # Mantém o array 'garnishItems' por enquanto para explodir na próxima etapa\n",
    "    col(\"item.garnishItems\").alias(\"garnish_items_array\") \n",
    ")\n",
    "\n",
    "# display(df_flattened)"
   ]
  },
  {
   "cell_type": "code",
   "execution_count": 0,
   "metadata": {
    "application/vnd.databricks.v1+cell": {
     "cellMetadata": {
      "byteLimit": 2048000,
      "rowLimit": 10000
     },
     "inputWidgets": {},
     "nuid": "482740b4-cd71-466d-b0c6-e5cdf61e20f0",
     "showTitle": true,
     "tableResultSettingsMap": {},
     "title": "Explode garnishItems"
    }
   },
   "outputs": [],
   "source": [
    "# Explodir o array 'garnishItems'.\n",
    "\n",
    "df_final = df_flattened.withColumn(\"garnish_item\", explode_outer(col(\"garnish_items_array\"))) \\\n",
    "    .select(\n",
    "        col(\"*\"), # Seleciona todas as colunas já existentes\n",
    "        # Campos do garnish_item\n",
    "        col(\"garnish_item.name\").alias(\"garnish_item_name\"),\n",
    "        col(\"garnish_item.addition.value\").alias(\"garnish_item_addition_value\"),\n",
    "        col(\"garnish_item.addition.currency\").alias(\"garnish_item_addition_currency\"),\n",
    "        col(\"garnish_item.discount.value\").alias(\"garnish_item_discount_value\"),\n",
    "        col(\"garnish_item.discount.currency\").alias(\"garnish_item_discount_currency\"),\n",
    "        col(\"garnish_item.quantity\").alias(\"garnish_item_quantity\"),\n",
    "        col(\"garnish_item.sequence\").alias(\"garnish_item_sequence\"),\n",
    "        col(\"garnish_item.unitPrice.value\").alias(\"garnish_item_unit_price_value\"),\n",
    "        col(\"garnish_item.unitPrice.currency\").alias(\"garnish_item_unit_price_currency\"), \n",
    "        col(\"garnish_item.categoryId\").alias(\"garnish_item_category_id\"),\n",
    "        col(\"garnish_item.externalId\").alias(\"garnish_item_external_id\"),\n",
    "        col(\"garnish_item.totalValue.value\").alias(\"garnish_item_total_value_value\"),\n",
    "        col(\"garnish_item.totalValue.currency\").alias(\"garnish_item_total_value_currency\"),\n",
    "        col(\"garnish_item.categoryName\").alias(\"garnish_item_category_name\"),\n",
    "        col(\"garnish_item.integrationId\").alias(\"garnish_item_integration_id\")\n",
    "    ).drop(\"garnish_items_array\", \"garnish_item\") # Remove as colunas de array originais\n",
    "\n",
    "# display(df_final)"
   ]
  },
  {
   "cell_type": "code",
   "execution_count": 0,
   "metadata": {
    "application/vnd.databricks.v1+cell": {
     "cellMetadata": {
      "byteLimit": 2048000,
      "rowLimit": 10000
     },
     "inputWidgets": {},
     "nuid": "4aa962f3-54af-4ebc-8da0-2b119fdb529e",
     "showTitle": true,
     "tableResultSettingsMap": {},
     "title": "Salvando tabela"
    }
   },
   "outputs": [
    {
     "output_type": "stream",
     "name": "stdout",
     "output_type": "stream",
     "text": [
      "\nTabela 'workspace.default.order05_sql' criada com sucesso.\n"
     ]
    }
   ],
   "source": [
    "CATALOGO = \"workspace\"\n",
    "SCHEMA = \"default\"\n",
    "VOLUME = \"arq_json\"\n",
    "NOME_TABELA_SQL = \"order05_sql\" \n",
    "\n",
    "\n",
    "# Salavando tabela\n",
    "df_final.write \\\n",
    "    .format(\"delta\") \\\n",
    "    .mode(\"overwrite\") \\\n",
    "    .option(\"overwriteSchema\", \"true\") \\\n",
    "    .saveAsTable(f\"{CATALOGO}.{SCHEMA}.{NOME_TABELA_SQL}\")\n",
    "\n",
    "print(f\"\\nTabela '{CATALOGO}.{SCHEMA}.{NOME_TABELA_SQL}' criada com sucesso.\")"
   ]
  },
  {
   "cell_type": "markdown",
   "metadata": {
    "application/vnd.databricks.v1+cell": {
     "cellMetadata": {
      "byteLimit": 2048000,
      "rowLimit": 10000
     },
     "inputWidgets": {},
     "nuid": "6a5af01f-b2ee-4572-89e8-5e311480c473",
     "showTitle": false,
     "tableResultSettingsMap": {},
     "title": ""
    }
   },
   "source": [
    "# Parte 06"
   ]
  },
  {
   "cell_type": "code",
   "execution_count": 0,
   "metadata": {
    "application/vnd.databricks.v1+cell": {
     "cellMetadata": {
      "byteLimit": 2048000,
      "rowLimit": 10000
     },
     "inputWidgets": {},
     "nuid": "64d95cf1-0fba-42ce-90d7-768693be3474",
     "showTitle": true,
     "tableResultSettingsMap": {},
     "title": "Configurações iniciais"
    }
   },
   "outputs": [
    {
     "output_type": "stream",
     "name": "stdout",
     "output_type": "stream",
     "text": [
      "Lendo o arquivo JSON de: /Volumes/workspace/default/arq_json/part-00006.json\n"
     ]
    }
   ],
   "source": [
    "CATALOGO = \"workspace\"\n",
    "SCHEMA = \"default\"\n",
    "VOLUME = \"arq_json\"\n",
    "NOME_ARQUIVO_JSON = \"part-00006.json\"\n",
    "\n",
    "caminho_arquivo_json_volume = f\"/Volumes/{CATALOGO}/{SCHEMA}/{VOLUME}/{NOME_ARQUIVO_JSON}\"\n",
    "\n",
    "print(f\"Lendo o arquivo JSON de: {caminho_arquivo_json_volume}\")"
   ]
  },
  {
   "cell_type": "code",
   "execution_count": 0,
   "metadata": {
    "application/vnd.databricks.v1+cell": {
     "cellMetadata": {
      "byteLimit": 2048000,
      "rowLimit": 10000
     },
     "inputWidgets": {},
     "nuid": "b7d7a405-40ba-4b22-aec6-bd35d6949d61",
     "showTitle": true,
     "tableResultSettingsMap": {},
     "title": "Leitura do json"
    }
   },
   "outputs": [
    {
     "output_type": "stream",
     "name": "stdout",
     "output_type": "stream",
     "text": [
      "Total de linhas: 367083\n"
     ]
    }
   ],
   "source": [
    "# Ler o arquivo JSON como um único objeto ou array JSON\n",
    "df_raw = spark.read.json(caminho_arquivo_json_volume, multiLine=True, encoding='UTF-8')\n",
    "\n",
    "print(f\"Total de linhas: {df_raw.count()}\")"
   ]
  },
  {
   "cell_type": "code",
   "execution_count": 0,
   "metadata": {
    "application/vnd.databricks.v1+cell": {
     "cellMetadata": {
      "byteLimit": 2048000,
      "rowLimit": 10000
     },
     "inputWidgets": {},
     "nuid": "cfa47f7a-1070-4fbb-94cb-13ba15bf9457",
     "showTitle": true,
     "tableResultSettingsMap": {},
     "title": "Aplicando array item"
    }
   },
   "outputs": [],
   "source": [
    "# Primeiramente, devemos definir como o Spark deve interpretar a string JSON da coluna 'items'\n",
    "\n",
    "item_schema = ArrayType(StructType([\n",
    "    StructField(\"name\", StringType(), True),\n",
    "    StructField(\"addition\", StructType([\n",
    "        StructField(\"value\", StringType(), True),\n",
    "        StructField(\"currency\", StringType(), True)\n",
    "    ]), True),\n",
    "    StructField(\"discount\", StructType([\n",
    "        StructField(\"value\", StringType(), True),\n",
    "        StructField(\"currency\", StringType(), True)\n",
    "    ]), True),\n",
    "    StructField(\"quantity\", DoubleType(), True),\n",
    "    StructField(\"sequence\", LongType(), True),\n",
    "    StructField(\"unitPrice\", StructType([\n",
    "        StructField(\"value\", StringType(), True),\n",
    "        StructField(\"currency\", StringType(), True)\n",
    "    ]), True),\n",
    "    StructField(\"externalId\", StringType(), True),\n",
    "    StructField(\"totalValue\", StructType([\n",
    "        StructField(\"value\", StringType(), True),\n",
    "        StructField(\"currency\", StringType(), True)\n",
    "    ]), True),\n",
    "    StructField(\"customerNote\", StringType(), True),\n",
    "    StructField(\"garnishItems\", ArrayType(StructType([\n",
    "        StructField(\"name\", StringType(), True),\n",
    "        StructField(\"addition\", StructType([\n",
    "            StructField(\"value\", StringType(), True),\n",
    "            StructField(\"currency\", StringType(), True)\n",
    "        ]), True),\n",
    "        StructField(\"discount\", StructType([\n",
    "            StructField(\"value\", StringType(), True),\n",
    "            StructField(\"currency\", StringType(), True)\n",
    "        ]), True),\n",
    "        StructField(\"quantity\", DoubleType(), True),\n",
    "        StructField(\"sequence\", LongType(), True),\n",
    "        StructField(\"unitPrice\", StructType([\n",
    "            StructField(\"value\", StringType(), True),\n",
    "            StructField(\"currency\", StringType(), True)\n",
    "        ]), True),\n",
    "        StructField(\"categoryId\", StringType(), True),\n",
    "        StructField(\"externalId\", StringType(), True),\n",
    "        StructField(\"totalValue\", StructType([\n",
    "            StructField(\"value\", StringType(), True),\n",
    "            StructField(\"currency\", StringType(), True)\n",
    "        ]), True),\n",
    "        StructField(\"categoryName\", StringType(), True),\n",
    "        StructField(\"integrationId\", StringType(), True)\n",
    "    ])), True)\n",
    "]))"
   ]
  },
  {
   "cell_type": "code",
   "execution_count": 0,
   "metadata": {
    "application/vnd.databricks.v1+cell": {
     "cellMetadata": {
      "byteLimit": 2048000,
      "rowLimit": 10000
     },
     "inputWidgets": {},
     "nuid": "e0efe932-4ec0-40ea-ba9d-fda2f74d1e37",
     "showTitle": true,
     "tableResultSettingsMap": {},
     "title": "Checando array"
    }
   },
   "outputs": [
    {
     "output_type": "stream",
     "name": "stdout",
     "output_type": "stream",
     "text": [
      "A coluna 'items' é uma string. Aplicando from_json.\n"
     ]
    }
   ],
   "source": [
    "# Checar se 'items' é mesmo um array:\n",
    "if \"array\" in str(df_raw.schema[\"items\"].dataType).lower():\n",
    "   print(\"A coluna 'items' é um array. Pulando from_json.\")\n",
    "   df_parsed_items = df_raw\n",
    "else:\n",
    "   print(\"A coluna 'items' é uma string. Aplicando from_json.\")\n",
    "   df_parsed_items = df_raw.withColumn(\"items\", from_json(col(\"items\"), item_schema))\n",
    "\n",
    "# Assumindo que 'items' ainda vem como string:\n",
    "df_parsed_items = df_raw.withColumn(\"items\", from_json(col(\"items\"), item_schema))\n",
    "\n",
    "# display(df_parsed_items)"
   ]
  },
  {
   "cell_type": "code",
   "execution_count": 0,
   "metadata": {
    "application/vnd.databricks.v1+cell": {
     "cellMetadata": {
      "byteLimit": 2048000,
      "rowLimit": 10000
     },
     "inputWidgets": {},
     "nuid": "8afa4400-2db4-4700-8b9f-70c5d7dfa277",
     "showTitle": true,
     "tableResultSettingsMap": {},
     "title": "Explode item"
    }
   },
   "outputs": [],
   "source": [
    "# Explodir o array 'items' para criar uma linha para cada item.\n",
    "df_exploded_items = df_parsed_items.withColumn(\"item\", explode_outer(col(\"items\")))\n",
    "\n",
    "# Seleciona as colunas principais e desaninha os campos do 'item'\n",
    "df_flattened = df_exploded_items.select(\n",
    "    col(\"cpf\"),\n",
    "    col(\"customer_id\"),\n",
    "    col(\"customer_name\"),\n",
    "    col(\"delivery_address_city\"),\n",
    "    col(\"delivery_address_country\"),\n",
    "    col(\"delivery_address_district\"),\n",
    "    col(\"delivery_address_external_id\"),\n",
    "    col(\"delivery_address_latitude\"),\n",
    "    col(\"delivery_address_longitude\"),\n",
    "    col(\"delivery_address_state\"),\n",
    "    col(\"delivery_address_zip_code\"),\n",
    "    col(\"merchant_id\"),\n",
    "    col(\"merchant_latitude\"),\n",
    "    col(\"merchant_longitude\"),\n",
    "    col(\"merchant_timezone\"),\n",
    "    col(\"order_created_at\"),\n",
    "    col(\"order_id\"),\n",
    "    col(\"order_scheduled\"),\n",
    "    col(\"order_total_amount\"),\n",
    "    col(\"origin_platform\"),\n",
    "    # Campos do item\n",
    "    col(\"item.name\").alias(\"item_name\"),\n",
    "    col(\"item.addition.value\").alias(\"item_addition_value\"),\n",
    "    col(\"item.addition.currency\").alias(\"item_addition_currency\"),\n",
    "    col(\"item.discount.value\").alias(\"item_discount_value\"),\n",
    "    col(\"item.discount.currency\").alias(\"item_discount_currency\"),\n",
    "    col(\"item.quantity\").alias(\"item_quantity\"),\n",
    "    col(\"item.sequence\").alias(\"item_sequence\"),\n",
    "    col(\"item.unitPrice.value\").alias(\"item_unit_price_value\"),\n",
    "    col(\"item.unitPrice.currency\").alias(\"item_unit_price_currency\"),\n",
    "    col(\"item.externalId\").alias(\"item_external_id\"),\n",
    "    col(\"item.totalValue.value\").alias(\"item_total_value_value\"),\n",
    "    col(\"item.totalValue.currency\").alias(\"item_total_value_currency\"),\n",
    "    col(\"item.customerNote\").alias(\"item_customer_note\"),\n",
    "    # Mantém o array 'garnishItems' por enquanto para explodir na próxima etapa\n",
    "    col(\"item.garnishItems\").alias(\"garnish_items_array\") \n",
    ")\n",
    "\n",
    "# display(df_flattened)"
   ]
  },
  {
   "cell_type": "code",
   "execution_count": 0,
   "metadata": {
    "application/vnd.databricks.v1+cell": {
     "cellMetadata": {
      "byteLimit": 2048000,
      "rowLimit": 10000
     },
     "inputWidgets": {},
     "nuid": "f016d6b2-4c99-4ac6-a42a-a6821c608d70",
     "showTitle": true,
     "tableResultSettingsMap": {},
     "title": "Explode garnishItems"
    }
   },
   "outputs": [],
   "source": [
    "# Explodir o array 'garnishItems'.\n",
    "\n",
    "df_final = df_flattened.withColumn(\"garnish_item\", explode_outer(col(\"garnish_items_array\"))) \\\n",
    "    .select(\n",
    "        col(\"*\"), # Seleciona todas as colunas já existentes\n",
    "        # Campos do garnish_item\n",
    "        col(\"garnish_item.name\").alias(\"garnish_item_name\"),\n",
    "        col(\"garnish_item.addition.value\").alias(\"garnish_item_addition_value\"),\n",
    "        col(\"garnish_item.addition.currency\").alias(\"garnish_item_addition_currency\"),\n",
    "        col(\"garnish_item.discount.value\").alias(\"garnish_item_discount_value\"),\n",
    "        col(\"garnish_item.discount.currency\").alias(\"garnish_item_discount_currency\"),\n",
    "        col(\"garnish_item.quantity\").alias(\"garnish_item_quantity\"),\n",
    "        col(\"garnish_item.sequence\").alias(\"garnish_item_sequence\"),\n",
    "        col(\"garnish_item.unitPrice.value\").alias(\"garnish_item_unit_price_value\"),\n",
    "        col(\"garnish_item.unitPrice.currency\").alias(\"garnish_item_unit_price_currency\"), \n",
    "        col(\"garnish_item.categoryId\").alias(\"garnish_item_category_id\"),\n",
    "        col(\"garnish_item.externalId\").alias(\"garnish_item_external_id\"),\n",
    "        col(\"garnish_item.totalValue.value\").alias(\"garnish_item_total_value_value\"),\n",
    "        col(\"garnish_item.totalValue.currency\").alias(\"garnish_item_total_value_currency\"),\n",
    "        col(\"garnish_item.categoryName\").alias(\"garnish_item_category_name\"),\n",
    "        col(\"garnish_item.integrationId\").alias(\"garnish_item_integration_id\")\n",
    "    ).drop(\"garnish_items_array\", \"garnish_item\") # Remove as colunas de array originais\n",
    "\n",
    "# display(df_final)"
   ]
  },
  {
   "cell_type": "code",
   "execution_count": 0,
   "metadata": {
    "application/vnd.databricks.v1+cell": {
     "cellMetadata": {
      "byteLimit": 2048000,
      "rowLimit": 10000
     },
     "inputWidgets": {},
     "nuid": "02615f14-29e5-4459-ac46-abe92f499576",
     "showTitle": true,
     "tableResultSettingsMap": {},
     "title": "Salvando tabela"
    }
   },
   "outputs": [
    {
     "output_type": "stream",
     "name": "stdout",
     "output_type": "stream",
     "text": [
      "\nTabela 'workspace.default.order06_sql' criada com sucesso.\n"
     ]
    }
   ],
   "source": [
    "CATALOGO = \"workspace\"\n",
    "SCHEMA = \"default\"\n",
    "VOLUME = \"arq_json\"\n",
    "NOME_TABELA_SQL = \"order06_sql\" \n",
    "\n",
    "\n",
    "# Salavando tabela\n",
    "df_final.write \\\n",
    "    .format(\"delta\") \\\n",
    "    .mode(\"overwrite\") \\\n",
    "    .option(\"overwriteSchema\", \"true\") \\\n",
    "    .saveAsTable(f\"{CATALOGO}.{SCHEMA}.{NOME_TABELA_SQL}\")\n",
    "\n",
    "print(f\"\\nTabela '{CATALOGO}.{SCHEMA}.{NOME_TABELA_SQL}' criada com sucesso.\")"
   ]
  },
  {
   "cell_type": "markdown",
   "metadata": {
    "application/vnd.databricks.v1+cell": {
     "cellMetadata": {
      "byteLimit": 2048000,
      "rowLimit": 10000
     },
     "inputWidgets": {},
     "nuid": "8c090bac-9de0-493f-85f0-2762de5114c4",
     "showTitle": false,
     "tableResultSettingsMap": {},
     "title": ""
    }
   },
   "source": [
    "# Parte 07"
   ]
  },
  {
   "cell_type": "code",
   "execution_count": 0,
   "metadata": {
    "application/vnd.databricks.v1+cell": {
     "cellMetadata": {
      "byteLimit": 2048000,
      "rowLimit": 10000
     },
     "inputWidgets": {},
     "nuid": "6529592a-61c2-4afa-a9fb-473668def043",
     "showTitle": true,
     "tableResultSettingsMap": {},
     "title": "Configurações iniciais"
    }
   },
   "outputs": [
    {
     "output_type": "stream",
     "name": "stdout",
     "output_type": "stream",
     "text": [
      "Lendo o arquivo JSON de: /Volumes/workspace/default/arq_json/part-00007.json\n"
     ]
    }
   ],
   "source": [
    "CATALOGO = \"workspace\"\n",
    "SCHEMA = \"default\"\n",
    "VOLUME = \"arq_json\"\n",
    "NOME_ARQUIVO_JSON = \"part-00007.json\"\n",
    "\n",
    "caminho_arquivo_json_volume = f\"/Volumes/{CATALOGO}/{SCHEMA}/{VOLUME}/{NOME_ARQUIVO_JSON}\"\n",
    "\n",
    "print(f\"Lendo o arquivo JSON de: {caminho_arquivo_json_volume}\")"
   ]
  },
  {
   "cell_type": "code",
   "execution_count": 0,
   "metadata": {
    "application/vnd.databricks.v1+cell": {
     "cellMetadata": {
      "byteLimit": 2048000,
      "rowLimit": 10000
     },
     "inputWidgets": {},
     "nuid": "4a2a5ec0-d023-480a-9913-d57104160298",
     "showTitle": true,
     "tableResultSettingsMap": {},
     "title": "Leitura do json"
    }
   },
   "outputs": [
    {
     "output_type": "stream",
     "name": "stdout",
     "output_type": "stream",
     "text": [
      "Total de linhas: 367086\n"
     ]
    }
   ],
   "source": [
    "# Ler o arquivo JSON como um único objeto ou array JSON\n",
    "df_raw = spark.read.json(caminho_arquivo_json_volume, multiLine=True, encoding='UTF-8')\n",
    "\n",
    "print(f\"Total de linhas: {df_raw.count()}\")"
   ]
  },
  {
   "cell_type": "code",
   "execution_count": 0,
   "metadata": {
    "application/vnd.databricks.v1+cell": {
     "cellMetadata": {
      "byteLimit": 2048000,
      "rowLimit": 10000
     },
     "inputWidgets": {},
     "nuid": "3a95d4fb-7b19-44ae-8c14-ff1fb5f3ce83",
     "showTitle": true,
     "tableResultSettingsMap": {},
     "title": "Aplicando array item"
    }
   },
   "outputs": [],
   "source": [
    "# Primeiramente, devemos definir como o Spark deve interpretar a string JSON da coluna 'items'\n",
    "\n",
    "item_schema = ArrayType(StructType([\n",
    "    StructField(\"name\", StringType(), True),\n",
    "    StructField(\"addition\", StructType([\n",
    "        StructField(\"value\", StringType(), True),\n",
    "        StructField(\"currency\", StringType(), True)\n",
    "    ]), True),\n",
    "    StructField(\"discount\", StructType([\n",
    "        StructField(\"value\", StringType(), True),\n",
    "        StructField(\"currency\", StringType(), True)\n",
    "    ]), True),\n",
    "    StructField(\"quantity\", DoubleType(), True),\n",
    "    StructField(\"sequence\", LongType(), True),\n",
    "    StructField(\"unitPrice\", StructType([\n",
    "        StructField(\"value\", StringType(), True),\n",
    "        StructField(\"currency\", StringType(), True)\n",
    "    ]), True),\n",
    "    StructField(\"externalId\", StringType(), True),\n",
    "    StructField(\"totalValue\", StructType([\n",
    "        StructField(\"value\", StringType(), True),\n",
    "        StructField(\"currency\", StringType(), True)\n",
    "    ]), True),\n",
    "    StructField(\"customerNote\", StringType(), True),\n",
    "    StructField(\"garnishItems\", ArrayType(StructType([\n",
    "        StructField(\"name\", StringType(), True),\n",
    "        StructField(\"addition\", StructType([\n",
    "            StructField(\"value\", StringType(), True),\n",
    "            StructField(\"currency\", StringType(), True)\n",
    "        ]), True),\n",
    "        StructField(\"discount\", StructType([\n",
    "            StructField(\"value\", StringType(), True),\n",
    "            StructField(\"currency\", StringType(), True)\n",
    "        ]), True),\n",
    "        StructField(\"quantity\", DoubleType(), True),\n",
    "        StructField(\"sequence\", LongType(), True),\n",
    "        StructField(\"unitPrice\", StructType([\n",
    "            StructField(\"value\", StringType(), True),\n",
    "            StructField(\"currency\", StringType(), True)\n",
    "        ]), True),\n",
    "        StructField(\"categoryId\", StringType(), True),\n",
    "        StructField(\"externalId\", StringType(), True),\n",
    "        StructField(\"totalValue\", StructType([\n",
    "            StructField(\"value\", StringType(), True),\n",
    "            StructField(\"currency\", StringType(), True)\n",
    "        ]), True),\n",
    "        StructField(\"categoryName\", StringType(), True),\n",
    "        StructField(\"integrationId\", StringType(), True)\n",
    "    ])), True)\n",
    "]))"
   ]
  },
  {
   "cell_type": "code",
   "execution_count": 0,
   "metadata": {
    "application/vnd.databricks.v1+cell": {
     "cellMetadata": {
      "byteLimit": 2048000,
      "rowLimit": 10000
     },
     "inputWidgets": {},
     "nuid": "ec9e1639-1296-4781-90a5-9a63d1e7c1aa",
     "showTitle": true,
     "tableResultSettingsMap": {},
     "title": "Checando array"
    }
   },
   "outputs": [
    {
     "output_type": "stream",
     "name": "stdout",
     "output_type": "stream",
     "text": [
      "A coluna 'items' é uma string. Aplicando from_json.\n"
     ]
    }
   ],
   "source": [
    "# Checar se 'items' é mesmo um array:\n",
    "if \"array\" in str(df_raw.schema[\"items\"].dataType).lower():\n",
    "   print(\"A coluna 'items' é um array. Pulando from_json.\")\n",
    "   df_parsed_items = df_raw\n",
    "else:\n",
    "   print(\"A coluna 'items' é uma string. Aplicando from_json.\")\n",
    "   df_parsed_items = df_raw.withColumn(\"items\", from_json(col(\"items\"), item_schema))\n",
    "\n",
    "# Assumindo que 'items' ainda vem como string:\n",
    "df_parsed_items = df_raw.withColumn(\"items\", from_json(col(\"items\"), item_schema))\n",
    "\n",
    "# display(df_parsed_items)"
   ]
  },
  {
   "cell_type": "code",
   "execution_count": 0,
   "metadata": {
    "application/vnd.databricks.v1+cell": {
     "cellMetadata": {
      "byteLimit": 2048000,
      "rowLimit": 10000
     },
     "inputWidgets": {},
     "nuid": "939d79aa-a206-44a9-8d62-be12119b8eca",
     "showTitle": true,
     "tableResultSettingsMap": {},
     "title": "Explode item"
    }
   },
   "outputs": [],
   "source": [
    "# Explodir o array 'items' para criar uma linha para cada item.\n",
    "df_exploded_items = df_parsed_items.withColumn(\"item\", explode_outer(col(\"items\")))\n",
    "\n",
    "# Seleciona as colunas principais e desaninha os campos do 'item'\n",
    "df_flattened = df_exploded_items.select(\n",
    "    col(\"cpf\"),\n",
    "    col(\"customer_id\"),\n",
    "    col(\"customer_name\"),\n",
    "    col(\"delivery_address_city\"),\n",
    "    col(\"delivery_address_country\"),\n",
    "    col(\"delivery_address_district\"),\n",
    "    col(\"delivery_address_external_id\"),\n",
    "    col(\"delivery_address_latitude\"),\n",
    "    col(\"delivery_address_longitude\"),\n",
    "    col(\"delivery_address_state\"),\n",
    "    col(\"delivery_address_zip_code\"),\n",
    "    col(\"merchant_id\"),\n",
    "    col(\"merchant_latitude\"),\n",
    "    col(\"merchant_longitude\"),\n",
    "    col(\"merchant_timezone\"),\n",
    "    col(\"order_created_at\"),\n",
    "    col(\"order_id\"),\n",
    "    col(\"order_scheduled\"),\n",
    "    col(\"order_total_amount\"),\n",
    "    col(\"origin_platform\"),\n",
    "    # Campos do item\n",
    "    col(\"item.name\").alias(\"item_name\"),\n",
    "    col(\"item.addition.value\").alias(\"item_addition_value\"),\n",
    "    col(\"item.addition.currency\").alias(\"item_addition_currency\"),\n",
    "    col(\"item.discount.value\").alias(\"item_discount_value\"),\n",
    "    col(\"item.discount.currency\").alias(\"item_discount_currency\"),\n",
    "    col(\"item.quantity\").alias(\"item_quantity\"),\n",
    "    col(\"item.sequence\").alias(\"item_sequence\"),\n",
    "    col(\"item.unitPrice.value\").alias(\"item_unit_price_value\"),\n",
    "    col(\"item.unitPrice.currency\").alias(\"item_unit_price_currency\"),\n",
    "    col(\"item.externalId\").alias(\"item_external_id\"),\n",
    "    col(\"item.totalValue.value\").alias(\"item_total_value_value\"),\n",
    "    col(\"item.totalValue.currency\").alias(\"item_total_value_currency\"),\n",
    "    col(\"item.customerNote\").alias(\"item_customer_note\"),\n",
    "    # Mantém o array 'garnishItems' por enquanto para explodir na próxima etapa\n",
    "    col(\"item.garnishItems\").alias(\"garnish_items_array\") \n",
    ")\n",
    "\n",
    "# display(df_flattened)"
   ]
  },
  {
   "cell_type": "code",
   "execution_count": 0,
   "metadata": {
    "application/vnd.databricks.v1+cell": {
     "cellMetadata": {
      "byteLimit": 2048000,
      "rowLimit": 10000
     },
     "inputWidgets": {},
     "nuid": "c013156e-cb50-4bb3-a74b-5d5267b00d54",
     "showTitle": true,
     "tableResultSettingsMap": {},
     "title": "Explode garnishItems"
    }
   },
   "outputs": [],
   "source": [
    "# Explodir o array 'garnishItems'.\n",
    "\n",
    "df_final = df_flattened.withColumn(\"garnish_item\", explode_outer(col(\"garnish_items_array\"))) \\\n",
    "    .select(\n",
    "        col(\"*\"), # Seleciona todas as colunas já existentes\n",
    "        # Campos do garnish_item\n",
    "        col(\"garnish_item.name\").alias(\"garnish_item_name\"),\n",
    "        col(\"garnish_item.addition.value\").alias(\"garnish_item_addition_value\"),\n",
    "        col(\"garnish_item.addition.currency\").alias(\"garnish_item_addition_currency\"),\n",
    "        col(\"garnish_item.discount.value\").alias(\"garnish_item_discount_value\"),\n",
    "        col(\"garnish_item.discount.currency\").alias(\"garnish_item_discount_currency\"),\n",
    "        col(\"garnish_item.quantity\").alias(\"garnish_item_quantity\"),\n",
    "        col(\"garnish_item.sequence\").alias(\"garnish_item_sequence\"),\n",
    "        col(\"garnish_item.unitPrice.value\").alias(\"garnish_item_unit_price_value\"),\n",
    "        col(\"garnish_item.unitPrice.currency\").alias(\"garnish_item_unit_price_currency\"), \n",
    "        col(\"garnish_item.categoryId\").alias(\"garnish_item_category_id\"),\n",
    "        col(\"garnish_item.externalId\").alias(\"garnish_item_external_id\"),\n",
    "        col(\"garnish_item.totalValue.value\").alias(\"garnish_item_total_value_value\"),\n",
    "        col(\"garnish_item.totalValue.currency\").alias(\"garnish_item_total_value_currency\"),\n",
    "        col(\"garnish_item.categoryName\").alias(\"garnish_item_category_name\"),\n",
    "        col(\"garnish_item.integrationId\").alias(\"garnish_item_integration_id\")\n",
    "    ).drop(\"garnish_items_array\", \"garnish_item\") # Remove as colunas de array originais\n",
    "\n",
    "# display(df_final)"
   ]
  },
  {
   "cell_type": "code",
   "execution_count": 0,
   "metadata": {
    "application/vnd.databricks.v1+cell": {
     "cellMetadata": {
      "byteLimit": 2048000,
      "rowLimit": 10000
     },
     "inputWidgets": {},
     "nuid": "8d5768cd-cbe3-4da2-b79c-63c585057b45",
     "showTitle": true,
     "tableResultSettingsMap": {},
     "title": "Salvando tabela"
    }
   },
   "outputs": [
    {
     "output_type": "stream",
     "name": "stdout",
     "output_type": "stream",
     "text": [
      "\nTabela 'workspace.default.order07_sql' criada com sucesso.\n"
     ]
    }
   ],
   "source": [
    "CATALOGO = \"workspace\"\n",
    "SCHEMA = \"default\"\n",
    "VOLUME = \"arq_json\"\n",
    "NOME_TABELA_SQL = \"order07_sql\" \n",
    "\n",
    "\n",
    "# Salavando tabela\n",
    "df_final.write \\\n",
    "    .format(\"delta\") \\\n",
    "    .mode(\"overwrite\") \\\n",
    "    .option(\"overwriteSchema\", \"true\") \\\n",
    "    .saveAsTable(f\"{CATALOGO}.{SCHEMA}.{NOME_TABELA_SQL}\")\n",
    "\n",
    "print(f\"\\nTabela '{CATALOGO}.{SCHEMA}.{NOME_TABELA_SQL}' criada com sucesso.\")"
   ]
  },
  {
   "cell_type": "markdown",
   "metadata": {
    "application/vnd.databricks.v1+cell": {
     "cellMetadata": {
      "byteLimit": 2048000,
      "rowLimit": 10000
     },
     "inputWidgets": {},
     "nuid": "c9c1ed73-d4a1-4395-b729-92053110fc98",
     "showTitle": false,
     "tableResultSettingsMap": {},
     "title": ""
    }
   },
   "source": [
    "# Parte 08"
   ]
  },
  {
   "cell_type": "code",
   "execution_count": 0,
   "metadata": {
    "application/vnd.databricks.v1+cell": {
     "cellMetadata": {
      "byteLimit": 2048000,
      "rowLimit": 10000
     },
     "inputWidgets": {},
     "nuid": "2f9b460e-70d1-4834-8415-67c6e1fe0dff",
     "showTitle": true,
     "tableResultSettingsMap": {},
     "title": "Configurações iniciais"
    }
   },
   "outputs": [
    {
     "output_type": "stream",
     "name": "stdout",
     "output_type": "stream",
     "text": [
      "Lendo o arquivo JSON de: /Volumes/workspace/default/arq_json/part-00008.json\n"
     ]
    }
   ],
   "source": [
    "CATALOGO = \"workspace\"\n",
    "SCHEMA = \"default\"\n",
    "VOLUME = \"arq_json\"\n",
    "NOME_ARQUIVO_JSON = \"part-00008.json\"\n",
    "\n",
    "caminho_arquivo_json_volume = f\"/Volumes/{CATALOGO}/{SCHEMA}/{VOLUME}/{NOME_ARQUIVO_JSON}\"\n",
    "\n",
    "print(f\"Lendo o arquivo JSON de: {caminho_arquivo_json_volume}\")"
   ]
  },
  {
   "cell_type": "code",
   "execution_count": 0,
   "metadata": {
    "application/vnd.databricks.v1+cell": {
     "cellMetadata": {
      "byteLimit": 2048000,
      "rowLimit": 10000
     },
     "inputWidgets": {},
     "nuid": "da9db333-755b-42aa-97ee-ca3370f0fac3",
     "showTitle": true,
     "tableResultSettingsMap": {},
     "title": "Leitura do json"
    }
   },
   "outputs": [
    {
     "output_type": "stream",
     "name": "stdout",
     "output_type": "stream",
     "text": [
      "Total de linhas: 367071\n"
     ]
    }
   ],
   "source": [
    "# Ler o arquivo JSON como um único objeto ou array JSON\n",
    "df_raw = spark.read.json(caminho_arquivo_json_volume, multiLine=True, encoding='UTF-8')\n",
    "\n",
    "print(f\"Total de linhas: {df_raw.count()}\")"
   ]
  },
  {
   "cell_type": "code",
   "execution_count": 0,
   "metadata": {
    "application/vnd.databricks.v1+cell": {
     "cellMetadata": {
      "byteLimit": 2048000,
      "rowLimit": 10000
     },
     "inputWidgets": {},
     "nuid": "41a21a32-e24a-435b-86da-d151e280176b",
     "showTitle": true,
     "tableResultSettingsMap": {},
     "title": "Aplicando array item"
    }
   },
   "outputs": [],
   "source": [
    "# Primeiramente, devemos definir como o Spark deve interpretar a string JSON da coluna 'items'\n",
    "\n",
    "item_schema = ArrayType(StructType([\n",
    "    StructField(\"name\", StringType(), True),\n",
    "    StructField(\"addition\", StructType([\n",
    "        StructField(\"value\", StringType(), True),\n",
    "        StructField(\"currency\", StringType(), True)\n",
    "    ]), True),\n",
    "    StructField(\"discount\", StructType([\n",
    "        StructField(\"value\", StringType(), True),\n",
    "        StructField(\"currency\", StringType(), True)\n",
    "    ]), True),\n",
    "    StructField(\"quantity\", DoubleType(), True),\n",
    "    StructField(\"sequence\", LongType(), True),\n",
    "    StructField(\"unitPrice\", StructType([\n",
    "        StructField(\"value\", StringType(), True),\n",
    "        StructField(\"currency\", StringType(), True)\n",
    "    ]), True),\n",
    "    StructField(\"externalId\", StringType(), True),\n",
    "    StructField(\"totalValue\", StructType([\n",
    "        StructField(\"value\", StringType(), True),\n",
    "        StructField(\"currency\", StringType(), True)\n",
    "    ]), True),\n",
    "    StructField(\"customerNote\", StringType(), True),\n",
    "    StructField(\"garnishItems\", ArrayType(StructType([\n",
    "        StructField(\"name\", StringType(), True),\n",
    "        StructField(\"addition\", StructType([\n",
    "            StructField(\"value\", StringType(), True),\n",
    "            StructField(\"currency\", StringType(), True)\n",
    "        ]), True),\n",
    "        StructField(\"discount\", StructType([\n",
    "            StructField(\"value\", StringType(), True),\n",
    "            StructField(\"currency\", StringType(), True)\n",
    "        ]), True),\n",
    "        StructField(\"quantity\", DoubleType(), True),\n",
    "        StructField(\"sequence\", LongType(), True),\n",
    "        StructField(\"unitPrice\", StructType([\n",
    "            StructField(\"value\", StringType(), True),\n",
    "            StructField(\"currency\", StringType(), True)\n",
    "        ]), True),\n",
    "        StructField(\"categoryId\", StringType(), True),\n",
    "        StructField(\"externalId\", StringType(), True),\n",
    "        StructField(\"totalValue\", StructType([\n",
    "            StructField(\"value\", StringType(), True),\n",
    "            StructField(\"currency\", StringType(), True)\n",
    "        ]), True),\n",
    "        StructField(\"categoryName\", StringType(), True),\n",
    "        StructField(\"integrationId\", StringType(), True)\n",
    "    ])), True)\n",
    "]))"
   ]
  },
  {
   "cell_type": "code",
   "execution_count": 0,
   "metadata": {
    "application/vnd.databricks.v1+cell": {
     "cellMetadata": {
      "byteLimit": 2048000,
      "rowLimit": 10000
     },
     "inputWidgets": {},
     "nuid": "625bd262-f785-41be-96c7-1f1c70a153d1",
     "showTitle": true,
     "tableResultSettingsMap": {},
     "title": "Checando array"
    }
   },
   "outputs": [
    {
     "output_type": "stream",
     "name": "stdout",
     "output_type": "stream",
     "text": [
      "A coluna 'items' é uma string. Aplicando from_json.\n"
     ]
    }
   ],
   "source": [
    "# Checar se 'items' é mesmo um array:\n",
    "if \"array\" in str(df_raw.schema[\"items\"].dataType).lower():\n",
    "   print(\"A coluna 'items' é um array. Pulando from_json.\")\n",
    "   df_parsed_items = df_raw\n",
    "else:\n",
    "   print(\"A coluna 'items' é uma string. Aplicando from_json.\")\n",
    "   df_parsed_items = df_raw.withColumn(\"items\", from_json(col(\"items\"), item_schema))\n",
    "\n",
    "# Assumindo que 'items' ainda vem como string:\n",
    "df_parsed_items = df_raw.withColumn(\"items\", from_json(col(\"items\"), item_schema))\n",
    "\n",
    "# display(df_parsed_items)"
   ]
  },
  {
   "cell_type": "code",
   "execution_count": 0,
   "metadata": {
    "application/vnd.databricks.v1+cell": {
     "cellMetadata": {
      "byteLimit": 2048000,
      "rowLimit": 10000
     },
     "inputWidgets": {},
     "nuid": "dcd15185-5717-42fb-a4bd-884ba21b0589",
     "showTitle": true,
     "tableResultSettingsMap": {},
     "title": "Explode item"
    }
   },
   "outputs": [],
   "source": [
    "# Explodir o array 'items' para criar uma linha para cada item.\n",
    "df_exploded_items = df_parsed_items.withColumn(\"item\", explode_outer(col(\"items\")))\n",
    "\n",
    "# Seleciona as colunas principais e desaninha os campos do 'item'\n",
    "df_flattened = df_exploded_items.select(\n",
    "    col(\"cpf\"),\n",
    "    col(\"customer_id\"),\n",
    "    col(\"customer_name\"),\n",
    "    col(\"delivery_address_city\"),\n",
    "    col(\"delivery_address_country\"),\n",
    "    col(\"delivery_address_district\"),\n",
    "    col(\"delivery_address_external_id\"),\n",
    "    col(\"delivery_address_latitude\"),\n",
    "    col(\"delivery_address_longitude\"),\n",
    "    col(\"delivery_address_state\"),\n",
    "    col(\"delivery_address_zip_code\"),\n",
    "    col(\"merchant_id\"),\n",
    "    col(\"merchant_latitude\"),\n",
    "    col(\"merchant_longitude\"),\n",
    "    col(\"merchant_timezone\"),\n",
    "    col(\"order_created_at\"),\n",
    "    col(\"order_id\"),\n",
    "    col(\"order_scheduled\"),\n",
    "    col(\"order_total_amount\"),\n",
    "    col(\"origin_platform\"),\n",
    "    # Campos do item\n",
    "    col(\"item.name\").alias(\"item_name\"),\n",
    "    col(\"item.addition.value\").alias(\"item_addition_value\"),\n",
    "    col(\"item.addition.currency\").alias(\"item_addition_currency\"),\n",
    "    col(\"item.discount.value\").alias(\"item_discount_value\"),\n",
    "    col(\"item.discount.currency\").alias(\"item_discount_currency\"),\n",
    "    col(\"item.quantity\").alias(\"item_quantity\"),\n",
    "    col(\"item.sequence\").alias(\"item_sequence\"),\n",
    "    col(\"item.unitPrice.value\").alias(\"item_unit_price_value\"),\n",
    "    col(\"item.unitPrice.currency\").alias(\"item_unit_price_currency\"),\n",
    "    col(\"item.externalId\").alias(\"item_external_id\"),\n",
    "    col(\"item.totalValue.value\").alias(\"item_total_value_value\"),\n",
    "    col(\"item.totalValue.currency\").alias(\"item_total_value_currency\"),\n",
    "    col(\"item.customerNote\").alias(\"item_customer_note\"),\n",
    "    # Mantém o array 'garnishItems' por enquanto para explodir na próxima etapa\n",
    "    col(\"item.garnishItems\").alias(\"garnish_items_array\") \n",
    ")\n",
    "\n",
    "# display(df_flattened)"
   ]
  },
  {
   "cell_type": "code",
   "execution_count": 0,
   "metadata": {
    "application/vnd.databricks.v1+cell": {
     "cellMetadata": {
      "byteLimit": 2048000,
      "rowLimit": 10000
     },
     "inputWidgets": {},
     "nuid": "25e6c1d3-8edc-41a9-a960-37bf469abc69",
     "showTitle": true,
     "tableResultSettingsMap": {},
     "title": "Explode garnishItems"
    }
   },
   "outputs": [],
   "source": [
    "# Explodir o array 'garnishItems'.\n",
    "\n",
    "df_final = df_flattened.withColumn(\"garnish_item\", explode_outer(col(\"garnish_items_array\"))) \\\n",
    "    .select(\n",
    "        col(\"*\"), # Seleciona todas as colunas já existentes\n",
    "        # Campos do garnish_item\n",
    "        col(\"garnish_item.name\").alias(\"garnish_item_name\"),\n",
    "        col(\"garnish_item.addition.value\").alias(\"garnish_item_addition_value\"),\n",
    "        col(\"garnish_item.addition.currency\").alias(\"garnish_item_addition_currency\"),\n",
    "        col(\"garnish_item.discount.value\").alias(\"garnish_item_discount_value\"),\n",
    "        col(\"garnish_item.discount.currency\").alias(\"garnish_item_discount_currency\"),\n",
    "        col(\"garnish_item.quantity\").alias(\"garnish_item_quantity\"),\n",
    "        col(\"garnish_item.sequence\").alias(\"garnish_item_sequence\"),\n",
    "        col(\"garnish_item.unitPrice.value\").alias(\"garnish_item_unit_price_value\"),\n",
    "        col(\"garnish_item.unitPrice.currency\").alias(\"garnish_item_unit_price_currency\"), \n",
    "        col(\"garnish_item.categoryId\").alias(\"garnish_item_category_id\"),\n",
    "        col(\"garnish_item.externalId\").alias(\"garnish_item_external_id\"),\n",
    "        col(\"garnish_item.totalValue.value\").alias(\"garnish_item_total_value_value\"),\n",
    "        col(\"garnish_item.totalValue.currency\").alias(\"garnish_item_total_value_currency\"),\n",
    "        col(\"garnish_item.categoryName\").alias(\"garnish_item_category_name\"),\n",
    "        col(\"garnish_item.integrationId\").alias(\"garnish_item_integration_id\")\n",
    "    ).drop(\"garnish_items_array\", \"garnish_item\") # Remove as colunas de array originais\n",
    "\n",
    "# display(df_final)"
   ]
  },
  {
   "cell_type": "code",
   "execution_count": 0,
   "metadata": {
    "application/vnd.databricks.v1+cell": {
     "cellMetadata": {
      "byteLimit": 2048000,
      "rowLimit": 10000
     },
     "inputWidgets": {},
     "nuid": "c0655f1f-a9ed-4f36-9ee0-76dc4dc7b505",
     "showTitle": true,
     "tableResultSettingsMap": {},
     "title": "Salvando tabela"
    }
   },
   "outputs": [
    {
     "output_type": "stream",
     "name": "stdout",
     "output_type": "stream",
     "text": [
      "\nTabela 'workspace.default.order08_sql' criada com sucesso.\n"
     ]
    }
   ],
   "source": [
    "CATALOGO = \"workspace\"\n",
    "SCHEMA = \"default\"\n",
    "VOLUME = \"arq_json\"\n",
    "NOME_TABELA_SQL = \"order08_sql\" \n",
    "\n",
    "\n",
    "# Salavando tabela\n",
    "df_final.write \\\n",
    "    .format(\"delta\") \\\n",
    "    .mode(\"overwrite\") \\\n",
    "    .option(\"overwriteSchema\", \"true\") \\\n",
    "    .saveAsTable(f\"{CATALOGO}.{SCHEMA}.{NOME_TABELA_SQL}\")\n",
    "\n",
    "print(f\"\\nTabela '{CATALOGO}.{SCHEMA}.{NOME_TABELA_SQL}' criada com sucesso.\")"
   ]
  },
  {
   "cell_type": "markdown",
   "metadata": {
    "application/vnd.databricks.v1+cell": {
     "cellMetadata": {
      "byteLimit": 2048000,
      "rowLimit": 10000
     },
     "inputWidgets": {},
     "nuid": "e313b999-82ea-407b-9566-2312bab0ea7b",
     "showTitle": false,
     "tableResultSettingsMap": {},
     "title": ""
    }
   },
   "source": [
    "# Parte 09"
   ]
  },
  {
   "cell_type": "code",
   "execution_count": 0,
   "metadata": {
    "application/vnd.databricks.v1+cell": {
     "cellMetadata": {
      "byteLimit": 2048000,
      "rowLimit": 10000
     },
     "inputWidgets": {},
     "nuid": "440b39e8-99d0-4b8e-845a-318f702d18a3",
     "showTitle": true,
     "tableResultSettingsMap": {},
     "title": "Configurações iniciais"
    }
   },
   "outputs": [
    {
     "output_type": "stream",
     "name": "stdout",
     "output_type": "stream",
     "text": [
      "Lendo o arquivo JSON de: /Volumes/workspace/default/arq_json/part-00009.json\n"
     ]
    }
   ],
   "source": [
    "CATALOGO = \"workspace\"\n",
    "SCHEMA = \"default\"\n",
    "VOLUME = \"arq_json\"\n",
    "NOME_ARQUIVO_JSON = \"part-00009.json\"\n",
    "\n",
    "caminho_arquivo_json_volume = f\"/Volumes/{CATALOGO}/{SCHEMA}/{VOLUME}/{NOME_ARQUIVO_JSON}\"\n",
    "\n",
    "print(f\"Lendo o arquivo JSON de: {caminho_arquivo_json_volume}\")"
   ]
  },
  {
   "cell_type": "code",
   "execution_count": 0,
   "metadata": {
    "application/vnd.databricks.v1+cell": {
     "cellMetadata": {
      "byteLimit": 2048000,
      "rowLimit": 10000
     },
     "inputWidgets": {},
     "nuid": "e833e2a4-4dee-47e2-9ae1-bb7ee36993d3",
     "showTitle": true,
     "tableResultSettingsMap": {},
     "title": "Leitura do json"
    }
   },
   "outputs": [
    {
     "output_type": "stream",
     "name": "stdout",
     "output_type": "stream",
     "text": [
      "Total de linhas: 367097\n"
     ]
    }
   ],
   "source": [
    "# Ler o arquivo JSON como um único objeto ou array JSON\n",
    "df_raw = spark.read.json(caminho_arquivo_json_volume, multiLine=True, encoding='UTF-8')\n",
    "\n",
    "print(f\"Total de linhas: {df_raw.count()}\")"
   ]
  },
  {
   "cell_type": "code",
   "execution_count": 0,
   "metadata": {
    "application/vnd.databricks.v1+cell": {
     "cellMetadata": {
      "byteLimit": 2048000,
      "rowLimit": 10000
     },
     "inputWidgets": {},
     "nuid": "3be7e981-b6f4-4198-b839-03c0632119c8",
     "showTitle": true,
     "tableResultSettingsMap": {},
     "title": "Aplicando array item"
    }
   },
   "outputs": [],
   "source": [
    "# Primeiramente, devemos definir como o Spark deve interpretar a string JSON da coluna 'items'\n",
    "\n",
    "item_schema = ArrayType(StructType([\n",
    "    StructField(\"name\", StringType(), True),\n",
    "    StructField(\"addition\", StructType([\n",
    "        StructField(\"value\", StringType(), True),\n",
    "        StructField(\"currency\", StringType(), True)\n",
    "    ]), True),\n",
    "    StructField(\"discount\", StructType([\n",
    "        StructField(\"value\", StringType(), True),\n",
    "        StructField(\"currency\", StringType(), True)\n",
    "    ]), True),\n",
    "    StructField(\"quantity\", DoubleType(), True),\n",
    "    StructField(\"sequence\", LongType(), True),\n",
    "    StructField(\"unitPrice\", StructType([\n",
    "        StructField(\"value\", StringType(), True),\n",
    "        StructField(\"currency\", StringType(), True)\n",
    "    ]), True),\n",
    "    StructField(\"externalId\", StringType(), True),\n",
    "    StructField(\"totalValue\", StructType([\n",
    "        StructField(\"value\", StringType(), True),\n",
    "        StructField(\"currency\", StringType(), True)\n",
    "    ]), True),\n",
    "    StructField(\"customerNote\", StringType(), True),\n",
    "    StructField(\"garnishItems\", ArrayType(StructType([\n",
    "        StructField(\"name\", StringType(), True),\n",
    "        StructField(\"addition\", StructType([\n",
    "            StructField(\"value\", StringType(), True),\n",
    "            StructField(\"currency\", StringType(), True)\n",
    "        ]), True),\n",
    "        StructField(\"discount\", StructType([\n",
    "            StructField(\"value\", StringType(), True),\n",
    "            StructField(\"currency\", StringType(), True)\n",
    "        ]), True),\n",
    "        StructField(\"quantity\", DoubleType(), True),\n",
    "        StructField(\"sequence\", LongType(), True),\n",
    "        StructField(\"unitPrice\", StructType([\n",
    "            StructField(\"value\", StringType(), True),\n",
    "            StructField(\"currency\", StringType(), True)\n",
    "        ]), True),\n",
    "        StructField(\"categoryId\", StringType(), True),\n",
    "        StructField(\"externalId\", StringType(), True),\n",
    "        StructField(\"totalValue\", StructType([\n",
    "            StructField(\"value\", StringType(), True),\n",
    "            StructField(\"currency\", StringType(), True)\n",
    "        ]), True),\n",
    "        StructField(\"categoryName\", StringType(), True),\n",
    "        StructField(\"integrationId\", StringType(), True)\n",
    "    ])), True)\n",
    "]))"
   ]
  },
  {
   "cell_type": "code",
   "execution_count": 0,
   "metadata": {
    "application/vnd.databricks.v1+cell": {
     "cellMetadata": {
      "byteLimit": 2048000,
      "rowLimit": 10000
     },
     "inputWidgets": {},
     "nuid": "f6ee44ea-54cc-4bf4-93ae-de45bb0ec3ed",
     "showTitle": true,
     "tableResultSettingsMap": {},
     "title": "Checando array"
    }
   },
   "outputs": [
    {
     "output_type": "stream",
     "name": "stdout",
     "output_type": "stream",
     "text": [
      "A coluna 'items' é uma string. Aplicando from_json.\n"
     ]
    }
   ],
   "source": [
    "# Checar se 'items' é mesmo um array:\n",
    "if \"array\" in str(df_raw.schema[\"items\"].dataType).lower():\n",
    "   print(\"A coluna 'items' é um array. Pulando from_json.\")\n",
    "   df_parsed_items = df_raw\n",
    "else:\n",
    "   print(\"A coluna 'items' é uma string. Aplicando from_json.\")\n",
    "   df_parsed_items = df_raw.withColumn(\"items\", from_json(col(\"items\"), item_schema))\n",
    "\n",
    "# Assumindo que 'items' ainda vem como string:\n",
    "df_parsed_items = df_raw.withColumn(\"items\", from_json(col(\"items\"), item_schema))\n",
    "\n",
    "# display(df_parsed_items)"
   ]
  },
  {
   "cell_type": "code",
   "execution_count": 0,
   "metadata": {
    "application/vnd.databricks.v1+cell": {
     "cellMetadata": {
      "byteLimit": 2048000,
      "rowLimit": 10000
     },
     "inputWidgets": {},
     "nuid": "890f0d5e-289a-4194-b066-af4c4d01b906",
     "showTitle": true,
     "tableResultSettingsMap": {},
     "title": "Explode item"
    }
   },
   "outputs": [],
   "source": [
    "# Explodir o array 'items' para criar uma linha para cada item.\n",
    "df_exploded_items = df_parsed_items.withColumn(\"item\", explode_outer(col(\"items\")))\n",
    "\n",
    "# Seleciona as colunas principais e desaninha os campos do 'item'\n",
    "df_flattened = df_exploded_items.select(\n",
    "    col(\"cpf\"),\n",
    "    col(\"customer_id\"),\n",
    "    col(\"customer_name\"),\n",
    "    col(\"delivery_address_city\"),\n",
    "    col(\"delivery_address_country\"),\n",
    "    col(\"delivery_address_district\"),\n",
    "    col(\"delivery_address_external_id\"),\n",
    "    col(\"delivery_address_latitude\"),\n",
    "    col(\"delivery_address_longitude\"),\n",
    "    col(\"delivery_address_state\"),\n",
    "    col(\"delivery_address_zip_code\"),\n",
    "    col(\"merchant_id\"),\n",
    "    col(\"merchant_latitude\"),\n",
    "    col(\"merchant_longitude\"),\n",
    "    col(\"merchant_timezone\"),\n",
    "    col(\"order_created_at\"),\n",
    "    col(\"order_id\"),\n",
    "    col(\"order_scheduled\"),\n",
    "    col(\"order_total_amount\"),\n",
    "    col(\"origin_platform\"),\n",
    "    # Campos do item\n",
    "    col(\"item.name\").alias(\"item_name\"),\n",
    "    col(\"item.addition.value\").alias(\"item_addition_value\"),\n",
    "    col(\"item.addition.currency\").alias(\"item_addition_currency\"),\n",
    "    col(\"item.discount.value\").alias(\"item_discount_value\"),\n",
    "    col(\"item.discount.currency\").alias(\"item_discount_currency\"),\n",
    "    col(\"item.quantity\").alias(\"item_quantity\"),\n",
    "    col(\"item.sequence\").alias(\"item_sequence\"),\n",
    "    col(\"item.unitPrice.value\").alias(\"item_unit_price_value\"),\n",
    "    col(\"item.unitPrice.currency\").alias(\"item_unit_price_currency\"),\n",
    "    col(\"item.externalId\").alias(\"item_external_id\"),\n",
    "    col(\"item.totalValue.value\").alias(\"item_total_value_value\"),\n",
    "    col(\"item.totalValue.currency\").alias(\"item_total_value_currency\"),\n",
    "    col(\"item.customerNote\").alias(\"item_customer_note\"),\n",
    "    # Mantém o array 'garnishItems' por enquanto para explodir na próxima etapa\n",
    "    col(\"item.garnishItems\").alias(\"garnish_items_array\") \n",
    ")\n",
    "\n",
    "# display(df_flattened)"
   ]
  },
  {
   "cell_type": "code",
   "execution_count": 0,
   "metadata": {
    "application/vnd.databricks.v1+cell": {
     "cellMetadata": {
      "byteLimit": 2048000,
      "rowLimit": 10000
     },
     "inputWidgets": {},
     "nuid": "423b0762-759f-49dd-8388-f461c834d181",
     "showTitle": true,
     "tableResultSettingsMap": {},
     "title": "Explode garnishItems"
    }
   },
   "outputs": [],
   "source": [
    "# Explodir o array 'garnishItems'.\n",
    "\n",
    "df_final = df_flattened.withColumn(\"garnish_item\", explode_outer(col(\"garnish_items_array\"))) \\\n",
    "    .select(\n",
    "        col(\"*\"), # Seleciona todas as colunas já existentes\n",
    "        # Campos do garnish_item\n",
    "        col(\"garnish_item.name\").alias(\"garnish_item_name\"),\n",
    "        col(\"garnish_item.addition.value\").alias(\"garnish_item_addition_value\"),\n",
    "        col(\"garnish_item.addition.currency\").alias(\"garnish_item_addition_currency\"),\n",
    "        col(\"garnish_item.discount.value\").alias(\"garnish_item_discount_value\"),\n",
    "        col(\"garnish_item.discount.currency\").alias(\"garnish_item_discount_currency\"),\n",
    "        col(\"garnish_item.quantity\").alias(\"garnish_item_quantity\"),\n",
    "        col(\"garnish_item.sequence\").alias(\"garnish_item_sequence\"),\n",
    "        col(\"garnish_item.unitPrice.value\").alias(\"garnish_item_unit_price_value\"),\n",
    "        col(\"garnish_item.unitPrice.currency\").alias(\"garnish_item_unit_price_currency\"), \n",
    "        col(\"garnish_item.categoryId\").alias(\"garnish_item_category_id\"),\n",
    "        col(\"garnish_item.externalId\").alias(\"garnish_item_external_id\"),\n",
    "        col(\"garnish_item.totalValue.value\").alias(\"garnish_item_total_value_value\"),\n",
    "        col(\"garnish_item.totalValue.currency\").alias(\"garnish_item_total_value_currency\"),\n",
    "        col(\"garnish_item.categoryName\").alias(\"garnish_item_category_name\"),\n",
    "        col(\"garnish_item.integrationId\").alias(\"garnish_item_integration_id\")\n",
    "    ).drop(\"garnish_items_array\", \"garnish_item\") # Remove as colunas de array originais\n",
    "\n",
    "# display(df_final)"
   ]
  },
  {
   "cell_type": "code",
   "execution_count": 0,
   "metadata": {
    "application/vnd.databricks.v1+cell": {
     "cellMetadata": {
      "byteLimit": 2048000,
      "rowLimit": 10000
     },
     "inputWidgets": {},
     "nuid": "225f374e-dc4a-4e32-ad6b-7abaa03e3088",
     "showTitle": true,
     "tableResultSettingsMap": {},
     "title": "Salvando tabela"
    }
   },
   "outputs": [
    {
     "output_type": "stream",
     "name": "stdout",
     "output_type": "stream",
     "text": [
      "\nTabela 'workspace.default.order09_sql' criada com sucesso.\n"
     ]
    }
   ],
   "source": [
    "CATALOGO = \"workspace\"\n",
    "SCHEMA = \"default\"\n",
    "VOLUME = \"arq_json\"\n",
    "NOME_TABELA_SQL = \"order09_sql\" \n",
    "\n",
    "\n",
    "# Salavando tabela\n",
    "df_final.write \\\n",
    "    .format(\"delta\") \\\n",
    "    .mode(\"overwrite\") \\\n",
    "    .option(\"overwriteSchema\", \"true\") \\\n",
    "    .saveAsTable(f\"{CATALOGO}.{SCHEMA}.{NOME_TABELA_SQL}\")\n",
    "\n",
    "print(f\"\\nTabela '{CATALOGO}.{SCHEMA}.{NOME_TABELA_SQL}' criada com sucesso.\")"
   ]
  },
  {
   "cell_type": "markdown",
   "metadata": {
    "application/vnd.databricks.v1+cell": {
     "cellMetadata": {
      "byteLimit": 2048000,
      "rowLimit": 10000
     },
     "inputWidgets": {},
     "nuid": "4df198dc-c7e9-4aa3-9d60-7d3d961c6c0f",
     "showTitle": false,
     "tableResultSettingsMap": {},
     "title": ""
    }
   },
   "source": [
    "# Tabela final order"
   ]
  },
  {
   "cell_type": "code",
   "execution_count": 0,
   "metadata": {
    "application/vnd.databricks.v1+cell": {
     "cellMetadata": {
      "byteLimit": 2048000,
      "implicitDf": true,
      "rowLimit": 10000
     },
     "inputWidgets": {},
     "nuid": "7b77a514-abae-4c9c-abb6-b756f846dd87",
     "showTitle": false,
     "tableResultSettingsMap": {},
     "title": ""
    }
   },
   "outputs": [
    {
     "output_type": "stream",
     "name": "stdout",
     "output_type": "stream",
     "text": [
      "Número total de registros no DataFrame unificado: 14385062\n\nSalvando o DataFrame unificado em 'workspace.default.final_order'...\nTabela final 'workspace.default.final_order' criada com sucesso.\n"
     ]
    }
   ],
   "source": [
    "CATALOGO = \"workspace\"\n",
    "SCHEMA = \"default\"\n",
    "NOME_TABELA_FINAL_UNIFICADA = \"final_order\"\n",
    "\n",
    "\n",
    "# Lendo as tabelas criadas e unindo-as\n",
    "df_unificado = spark.table(\"workspace.default.order00_sql\")\n",
    "\n",
    "df_unificado = df_unificado.unionByName(\n",
    "    spark.table(\"workspace.default.order01_sql\"),\n",
    "    allowMissingColumns=True\n",
    ")\n",
    "df_unificado = df_unificado.unionByName(\n",
    "    spark.table(\"workspace.default.order02_sql\"),\n",
    "    allowMissingColumns=True\n",
    ")\n",
    "df_unificado = df_unificado.unionByName(\n",
    "    spark.table(\"workspace.default.order03_sql\"),\n",
    "    allowMissingColumns=True\n",
    ")\n",
    "df_unificado = df_unificado.unionByName(\n",
    "    spark.table(\"workspace.default.order04_sql\"),\n",
    "    allowMissingColumns=True\n",
    ")\n",
    "df_unificado = df_unificado.unionByName(\n",
    "    spark.table(\"workspace.default.order05_sql\"),\n",
    "    allowMissingColumns=True\n",
    ")\n",
    "df_unificado = df_unificado.unionByName(\n",
    "    spark.table(\"workspace.default.order06_sql\"),\n",
    "    allowMissingColumns=True\n",
    ")\n",
    "df_unificado = df_unificado.unionByName(\n",
    "    spark.table(\"workspace.default.order07_sql\"),\n",
    "    allowMissingColumns=True\n",
    ")\n",
    "df_unificado = df_unificado.unionByName(\n",
    "    spark.table(\"workspace.default.order08_sql\"),\n",
    "    allowMissingColumns=True\n",
    ")\n",
    "df_unificado = df_unificado.unionByName(\n",
    "    spark.table(\"workspace.default.order09_sql\"),\n",
    "    allowMissingColumns=True\n",
    ")\n",
    "\n",
    "print(f\"Número total de registros no DataFrame unificado: {df_unificado.count()}\")\n",
    "\n",
    "# Salvando tabela final\n",
    "\n",
    "print(f\"\\nSalvando o DataFrame unificado em '{CATALOGO}.{SCHEMA}.{NOME_TABELA_FINAL_UNIFICADA}'...\")\n",
    "df_unificado.write \\\n",
    "    .format(\"delta\") \\\n",
    "    .mode(\"overwrite\") \\\n",
    "    .option(\"overwriteSchema\", \"true\") \\\n",
    "    .saveAsTable(f\"{CATALOGO}.{SCHEMA}.{NOME_TABELA_FINAL_UNIFICADA}\")\n",
    "print(f\"Tabela final '{CATALOGO}.{SCHEMA}.{NOME_TABELA_FINAL_UNIFICADA}' criada com sucesso.\")"
   ]
  },
  {
   "cell_type": "code",
   "execution_count": 0,
   "metadata": {
    "application/vnd.databricks.v1+cell": {
     "cellMetadata": {
      "byteLimit": 2048000,
      "rowLimit": 10000
     },
     "inputWidgets": {},
     "nuid": "6edeae5d-fd06-4878-86ed-5c257896e729",
     "showTitle": false,
     "tableResultSettingsMap": {},
     "title": ""
    }
   },
   "outputs": [
    {
     "output_type": "display_data",
     "data": {
      "text/html": [
       "<style scoped>\n",
       "  .table-result-container {\n",
       "    max-height: 300px;\n",
       "    overflow: auto;\n",
       "  }\n",
       "  table, th, td {\n",
       "    border: 1px solid black;\n",
       "    border-collapse: collapse;\n",
       "  }\n",
       "  th, td {\n",
       "    padding: 5px;\n",
       "  }\n",
       "  th {\n",
       "    text-align: left;\n",
       "  }\n",
       "</style><div class='table-result-container'><table class='table-result'><thead style='background-color: white'><tr><th>cpf</th><th>customer_id</th><th>customer_name</th><th>delivery_address_city</th><th>delivery_address_country</th><th>delivery_address_district</th><th>delivery_address_external_id</th><th>delivery_address_latitude</th><th>delivery_address_longitude</th><th>delivery_address_state</th><th>delivery_address_zip_code</th><th>merchant_id</th><th>merchant_latitude</th><th>merchant_longitude</th><th>merchant_timezone</th><th>order_created_at</th><th>order_id</th><th>order_scheduled</th><th>order_total_amount</th><th>origin_platform</th><th>item_name</th><th>item_addition_value</th><th>item_addition_currency</th><th>item_discount_value</th><th>item_discount_currency</th><th>item_quantity</th><th>item_sequence</th><th>item_unit_price_value</th><th>item_unit_price_currency</th><th>item_external_id</th><th>item_total_value_value</th><th>item_total_value_currency</th><th>item_customer_note</th><th>garnish_item_name</th><th>garnish_item_addition_value</th><th>garnish_item_addition_currency</th><th>garnish_item_discount_value</th><th>garnish_item_discount_currency</th><th>garnish_item_quantity</th><th>garnish_item_sequence</th><th>garnish_item_unit_price_value</th><th>garnish_item_unit_price_currency</th><th>garnish_item_category_id</th><th>garnish_item_external_id</th><th>garnish_item_total_value_value</th><th>garnish_item_total_value_currency</th><th>garnish_item_category_name</th><th>garnish_item_integration_id</th></tr></thead><tbody><tr><td>24917797900</td><td>35419c42dd9e77fa6b34811ef3cdf1f242255b6ab4aa62e936e4b1a2e5dd1952</td><td>ULISSES</td><td>JUIZ DE FORA</td><td>BR</td><td>CASCATINHA</td><td>6760884</td><td>-43.36</td><td>-21.78</td><td>MG</td><td>36033</td><td>dd3915c8589797c626a80b506abf4ad85f7ff7fb3a2a61c865da0c3c834ac0bd</td><td>-43.36</td><td>-21.78</td><td>America/Sao_Paulo</td><td>2019-01-06T23:07:53.000Z</td><td>1b3f0287d7cc080e3060df78054ba251745a48e2dd6c25c296bd61957a4b6040</td><td>false</td><td>90.9</td><td>DESKTOP</td><td>403 Mariano Procópio</td><td>0</td><td>BRL</td><td>0</td><td>BRL</td><td>1.0</td><td>1</td><td>0</td><td>BRL</td><td>ee0f88c318af4612998392a0ead7b10c</td><td>0</td><td>BRL</td><td>null</td><td>AO PONTO</td><td>0</td><td>BRL</td><td>0</td><td>BRL</td><td>1.0</td><td>2</td><td>0</td><td>BRL</td><td>ASC2</td><td>82d8b31676374f889675a55ea1504796</td><td>0</td><td>BRL</td><td>PONTO DA CARNE</td><td>null</td></tr><tr><td>24917797900</td><td>35419c42dd9e77fa6b34811ef3cdf1f242255b6ab4aa62e936e4b1a2e5dd1952</td><td>ULISSES</td><td>JUIZ DE FORA</td><td>BR</td><td>CASCATINHA</td><td>6760884</td><td>-43.36</td><td>-21.78</td><td>MG</td><td>36033</td><td>dd3915c8589797c626a80b506abf4ad85f7ff7fb3a2a61c865da0c3c834ac0bd</td><td>-43.36</td><td>-21.78</td><td>America/Sao_Paulo</td><td>2019-01-06T23:07:53.000Z</td><td>1b3f0287d7cc080e3060df78054ba251745a48e2dd6c25c296bd61957a4b6040</td><td>false</td><td>90.9</td><td>DESKTOP</td><td>403 Mariano Procópio</td><td>0</td><td>BRL</td><td>0</td><td>BRL</td><td>1.0</td><td>1</td><td>0</td><td>BRL</td><td>ee0f88c318af4612998392a0ead7b10c</td><td>0</td><td>BRL</td><td>null</td><td>Inteira</td><td>0</td><td>BRL</td><td>0</td><td>BRL</td><td>1.0</td><td>3</td><td>8290</td><td>BRL</td><td>AXUI</td><td>2dc5b08c22954891a931d4f3c6b63c73</td><td>8290</td><td>BRL</td><td>Tamanho</td><td>null</td></tr><tr><td>24917797900</td><td>35419c42dd9e77fa6b34811ef3cdf1f242255b6ab4aa62e936e4b1a2e5dd1952</td><td>ULISSES</td><td>JUIZ DE FORA</td><td>BR</td><td>CASCATINHA</td><td>6760884</td><td>-43.36</td><td>-21.78</td><td>MG</td><td>36033</td><td>dd3915c8589797c626a80b506abf4ad85f7ff7fb3a2a61c865da0c3c834ac0bd</td><td>-43.36</td><td>-21.78</td><td>America/Sao_Paulo</td><td>2019-01-06T23:07:53.000Z</td><td>1b3f0287d7cc080e3060df78054ba251745a48e2dd6c25c296bd61957a4b6040</td><td>false</td><td>90.9</td><td>DESKTOP</td><td>Refrigerantes 2LT</td><td>0</td><td>BRL</td><td>0</td><td>BRL</td><td>1.0</td><td>4</td><td>0</td><td>BRL</td><td>21240296966a461989f5027060697375</td><td>0</td><td>BRL</td><td>null</td><td>Coca-cola</td><td>0</td><td>BRL</td><td>0</td><td>BRL</td><td>1.0</td><td>5</td><td>800</td><td>BRL</td><td>AN5P</td><td>87b411e3029b4c319565e01663856586</td><td>800</td><td>BRL</td><td>Escolha</td><td>null</td></tr><tr><td>40103289230</td><td>23033ace6c281bc27e3525f16fa0339c5e7a988e15912e647cebe00207749785</td><td>MARIA</td><td>RIO DE JANEIRO</td><td>BR</td><td>JARDIM GUANABARA</td><td>2190167</td><td>-43.21</td><td>-22.82</td><td>RJ</td><td>21940</td><td>fa140fe3df83f225f95a07243a0b7134a3a119756a428c377a847e0b38e8c853</td><td>-43.21</td><td>-22.82</td><td>America/Sao_Paulo</td><td>2018-12-29T00:07:25.000Z</td><td>f9fa11446bab9d526332677d693e28e6d7467d15bc9d44082425aef289b5c28b</td><td>false</td><td>37.9</td><td>IOS</td><td>HOT FILADÉFIA CROCANTE</td><td>0</td><td>BRL</td><td>0</td><td>BRL</td><td>1.0</td><td>1</td><td>0</td><td>BRL</td><td>98fcfbce64da4889a852ff2ea5fe7983</td><td>0</td><td>BRL</td><td>null</td><td>465- Salmão</td><td>0</td><td>BRL</td><td>0</td><td>BRL</td><td>2.0</td><td>2</td><td>1850</td><td>BRL</td><td>19VS</td><td>7877e08f04644d0c8f841f0d806c82f1</td><td>3700</td><td>BRL</td><td>ESCOLHA UM ITEM</td><td>null</td></tr><tr><td>40103289230</td><td>23033ace6c281bc27e3525f16fa0339c5e7a988e15912e647cebe00207749785</td><td>MARIA</td><td>RIO DE JANEIRO</td><td>BR</td><td>JARDIM GUANABARA</td><td>2190167</td><td>-43.21</td><td>-22.82</td><td>RJ</td><td>21940</td><td>fa140fe3df83f225f95a07243a0b7134a3a119756a428c377a847e0b38e8c853</td><td>-43.21</td><td>-22.82</td><td>America/Sao_Paulo</td><td>2018-12-29T00:07:25.000Z</td><td>f9fa11446bab9d526332677d693e28e6d7467d15bc9d44082425aef289b5c28b</td><td>false</td><td>37.9</td><td>IOS</td><td>673 - HASHI EXTRA</td><td>0</td><td>BRL</td><td>0</td><td>BRL</td><td>3.0</td><td>3</td><td>30</td><td>BRL</td><td>be71ce367a774194822cbb2d1be84b6b</td><td>90</td><td>BRL</td><td>null</td><td>null</td><td>null</td><td>null</td><td>null</td><td>null</td><td>null</td><td>null</td><td>null</td><td>null</td><td>null</td><td>null</td><td>null</td><td>null</td><td>null</td><td>null</td></tr><tr><td>94554280152</td><td>e2a4d4bd02ea325628327d1eb0a4d2536c98327c4363fddd706c9f1405a0b130</td><td>JULIANA</td><td>SAO PAULO</td><td>BR</td><td>CONJUNTO HABITACIONAL TURISTICA</td><td>9411004</td><td>-46.76</td><td>-23.48</td><td>SP</td><td>51640</td><td>410be56997129cd52afbfe92d6101ea82c6c4c9885969c40ffc2dad07bf3d71c</td><td>-46.76</td><td>-23.48</td><td>America/Sao_Paulo</td><td>2019-01-21T17:51:35.000Z</td><td>43d25ec73d3f01f27adea95082f22432f7d908cb4d94fc6f18fec664144869b2</td><td>false</td><td>70.7</td><td>IOS</td><td>COCA-COLA 600 ML</td><td>0</td><td>BRL</td><td>0</td><td>BRL</td><td>1.0</td><td>4</td><td>590</td><td>BRL</td><td>da77ebaded2a42748a8f5fa7358ae3f3</td><td>590</td><td>BRL</td><td>null</td><td>null</td><td>null</td><td>null</td><td>null</td><td>null</td><td>null</td><td>null</td><td>null</td><td>null</td><td>null</td><td>null</td><td>null</td><td>null</td><td>null</td><td>null</td></tr><tr><td>94554280152</td><td>e2a4d4bd02ea325628327d1eb0a4d2536c98327c4363fddd706c9f1405a0b130</td><td>JULIANA</td><td>SAO PAULO</td><td>BR</td><td>CONJUNTO HABITACIONAL TURISTICA</td><td>9411004</td><td>-46.76</td><td>-23.48</td><td>SP</td><td>51640</td><td>410be56997129cd52afbfe92d6101ea82c6c4c9885969c40ffc2dad07bf3d71c</td><td>-46.76</td><td>-23.48</td><td>America/Sao_Paulo</td><td>2019-01-21T17:51:35.000Z</td><td>43d25ec73d3f01f27adea95082f22432f7d908cb4d94fc6f18fec664144869b2</td><td>false</td><td>70.7</td><td>IOS</td><td>YAKISOBA CLASSICO GRANDE</td><td>0</td><td>BRL</td><td>0</td><td>BRL</td><td>1.0</td><td>1</td><td>3350</td><td>BRL</td><td>d49ce7f899ee4dd5b077a7c713df48c3</td><td>3350</td><td>BRL</td><td>null</td><td>null</td><td>null</td><td>null</td><td>null</td><td>null</td><td>null</td><td>null</td><td>null</td><td>null</td><td>null</td><td>null</td><td>null</td><td>null</td><td>null</td><td>null</td></tr><tr><td>94554280152</td><td>e2a4d4bd02ea325628327d1eb0a4d2536c98327c4363fddd706c9f1405a0b130</td><td>JULIANA</td><td>SAO PAULO</td><td>BR</td><td>CONJUNTO HABITACIONAL TURISTICA</td><td>9411004</td><td>-46.76</td><td>-23.48</td><td>SP</td><td>51640</td><td>410be56997129cd52afbfe92d6101ea82c6c4c9885969c40ffc2dad07bf3d71c</td><td>-46.76</td><td>-23.48</td><td>America/Sao_Paulo</td><td>2019-01-21T17:51:35.000Z</td><td>43d25ec73d3f01f27adea95082f22432f7d908cb4d94fc6f18fec664144869b2</td><td>false</td><td>70.7</td><td>IOS</td><td>CHA ICE TEA FUZE PESSEGO 300ML</td><td>0</td><td>BRL</td><td>0</td><td>BRL</td><td>1.0</td><td>3</td><td>550</td><td>BRL</td><td>8f2c50416d7442289ab6cd756f18f3d5</td><td>550</td><td>BRL</td><td>null</td><td>null</td><td>null</td><td>null</td><td>null</td><td>null</td><td>null</td><td>null</td><td>null</td><td>null</td><td>null</td><td>null</td><td>null</td><td>null</td><td>null</td><td>null</td></tr><tr><td>94554280152</td><td>e2a4d4bd02ea325628327d1eb0a4d2536c98327c4363fddd706c9f1405a0b130</td><td>JULIANA</td><td>SAO PAULO</td><td>BR</td><td>CONJUNTO HABITACIONAL TURISTICA</td><td>9411004</td><td>-46.76</td><td>-23.48</td><td>SP</td><td>51640</td><td>410be56997129cd52afbfe92d6101ea82c6c4c9885969c40ffc2dad07bf3d71c</td><td>-46.76</td><td>-23.48</td><td>America/Sao_Paulo</td><td>2019-01-21T17:51:35.000Z</td><td>43d25ec73d3f01f27adea95082f22432f7d908cb4d94fc6f18fec664144869b2</td><td>false</td><td>70.7</td><td>IOS</td><td>YAKISOBA CLASSICO PEQUENO</td><td>0</td><td>BRL</td><td>0</td><td>BRL</td><td>1.0</td><td>2</td><td>2580</td><td>BRL</td><td>26235047a2d64f1e8fc8fd12ebc4a1e6</td><td>2580</td><td>BRL</td><td>null</td><td>null</td><td>null</td><td>null</td><td>null</td><td>null</td><td>null</td><td>null</td><td>null</td><td>null</td><td>null</td><td>null</td><td>null</td><td>null</td><td>null</td><td>null</td></tr><tr><td>36394163232</td><td>ec5d13d99badeb9108b1c04a5b94ab4f7c8915165acf4ea9a3757ee354582047</td><td>VICTOR</td><td>RIO DE JANEIRO</td><td>BR</td><td>COPACABANA</td><td>8149407</td><td>-43.18</td><td>-22.97</td><td>RJ</td><td>22020</td><td>f5b685fda71643a4b5a29201c9fda17a3183499d1107eadd029c196ffa4ae854</td><td>-43.18</td><td>-22.97</td><td>America/Sao_Paulo</td><td>2018-12-31T22:46:13.000Z</td><td>9227ef1b80d2158e433cc3199ddedd57373cc358bb51d6cf532bc433d1453e2b</td><td>false</td><td>46.6</td><td>IOS</td><td>Mini Kibe Frito</td><td>0</td><td>BRL</td><td>0</td><td>BRL</td><td>2.0</td><td>3</td><td>380</td><td>BRL</td><td>bf778edf94d74ce39c35a40822f98376</td><td>760</td><td>BRL</td><td>null</td><td>null</td><td>null</td><td>null</td><td>null</td><td>null</td><td>null</td><td>null</td><td>null</td><td>null</td><td>null</td><td>null</td><td>null</td><td>null</td><td>null</td><td>null</td></tr></tbody></table></div>"
      ]
     },
     "metadata": {
      "application/vnd.databricks.v1+output": {
       "addedWidgets": {},
       "aggData": [],
       "aggError": "",
       "aggOverflow": false,
       "aggSchema": [],
       "aggSeriesLimitReached": false,
       "aggType": "",
       "arguments": {},
       "columnCustomDisplayInfos": {},
       "data": [
        [
         "24917797900",
         "35419c42dd9e77fa6b34811ef3cdf1f242255b6ab4aa62e936e4b1a2e5dd1952",
         "ULISSES",
         "JUIZ DE FORA",
         "BR",
         "CASCATINHA",
         "6760884",
         "-43.36",
         "-21.78",
         "MG",
         "36033",
         "dd3915c8589797c626a80b506abf4ad85f7ff7fb3a2a61c865da0c3c834ac0bd",
         "-43.36",
         "-21.78",
         "America/Sao_Paulo",
         "2019-01-06T23:07:53.000Z",
         "1b3f0287d7cc080e3060df78054ba251745a48e2dd6c25c296bd61957a4b6040",
         false,
         90.9,
         "DESKTOP",
         "403 Mariano Procópio",
         "0",
         "BRL",
         "0",
         "BRL",
         1.0,
         1,
         "0",
         "BRL",
         "ee0f88c318af4612998392a0ead7b10c",
         "0",
         "BRL",
         null,
         "AO PONTO",
         "0",
         "BRL",
         "0",
         "BRL",
         1.0,
         2,
         "0",
         "BRL",
         "ASC2",
         "82d8b31676374f889675a55ea1504796",
         "0",
         "BRL",
         "PONTO DA CARNE",
         null
        ],
        [
         "24917797900",
         "35419c42dd9e77fa6b34811ef3cdf1f242255b6ab4aa62e936e4b1a2e5dd1952",
         "ULISSES",
         "JUIZ DE FORA",
         "BR",
         "CASCATINHA",
         "6760884",
         "-43.36",
         "-21.78",
         "MG",
         "36033",
         "dd3915c8589797c626a80b506abf4ad85f7ff7fb3a2a61c865da0c3c834ac0bd",
         "-43.36",
         "-21.78",
         "America/Sao_Paulo",
         "2019-01-06T23:07:53.000Z",
         "1b3f0287d7cc080e3060df78054ba251745a48e2dd6c25c296bd61957a4b6040",
         false,
         90.9,
         "DESKTOP",
         "403 Mariano Procópio",
         "0",
         "BRL",
         "0",
         "BRL",
         1.0,
         1,
         "0",
         "BRL",
         "ee0f88c318af4612998392a0ead7b10c",
         "0",
         "BRL",
         null,
         "Inteira",
         "0",
         "BRL",
         "0",
         "BRL",
         1.0,
         3,
         "8290",
         "BRL",
         "AXUI",
         "2dc5b08c22954891a931d4f3c6b63c73",
         "8290",
         "BRL",
         "Tamanho",
         null
        ],
        [
         "24917797900",
         "35419c42dd9e77fa6b34811ef3cdf1f242255b6ab4aa62e936e4b1a2e5dd1952",
         "ULISSES",
         "JUIZ DE FORA",
         "BR",
         "CASCATINHA",
         "6760884",
         "-43.36",
         "-21.78",
         "MG",
         "36033",
         "dd3915c8589797c626a80b506abf4ad85f7ff7fb3a2a61c865da0c3c834ac0bd",
         "-43.36",
         "-21.78",
         "America/Sao_Paulo",
         "2019-01-06T23:07:53.000Z",
         "1b3f0287d7cc080e3060df78054ba251745a48e2dd6c25c296bd61957a4b6040",
         false,
         90.9,
         "DESKTOP",
         "Refrigerantes 2LT",
         "0",
         "BRL",
         "0",
         "BRL",
         1.0,
         4,
         "0",
         "BRL",
         "21240296966a461989f5027060697375",
         "0",
         "BRL",
         null,
         "Coca-cola",
         "0",
         "BRL",
         "0",
         "BRL",
         1.0,
         5,
         "800",
         "BRL",
         "AN5P",
         "87b411e3029b4c319565e01663856586",
         "800",
         "BRL",
         "Escolha",
         null
        ],
        [
         "40103289230",
         "23033ace6c281bc27e3525f16fa0339c5e7a988e15912e647cebe00207749785",
         "MARIA",
         "RIO DE JANEIRO",
         "BR",
         "JARDIM GUANABARA",
         "2190167",
         "-43.21",
         "-22.82",
         "RJ",
         "21940",
         "fa140fe3df83f225f95a07243a0b7134a3a119756a428c377a847e0b38e8c853",
         "-43.21",
         "-22.82",
         "America/Sao_Paulo",
         "2018-12-29T00:07:25.000Z",
         "f9fa11446bab9d526332677d693e28e6d7467d15bc9d44082425aef289b5c28b",
         false,
         37.9,
         "IOS",
         "HOT FILADÉFIA CROCANTE",
         "0",
         "BRL",
         "0",
         "BRL",
         1.0,
         1,
         "0",
         "BRL",
         "98fcfbce64da4889a852ff2ea5fe7983",
         "0",
         "BRL",
         null,
         "465- Salmão",
         "0",
         "BRL",
         "0",
         "BRL",
         2.0,
         2,
         "1850",
         "BRL",
         "19VS",
         "7877e08f04644d0c8f841f0d806c82f1",
         "3700",
         "BRL",
         "ESCOLHA UM ITEM",
         null
        ],
        [
         "40103289230",
         "23033ace6c281bc27e3525f16fa0339c5e7a988e15912e647cebe00207749785",
         "MARIA",
         "RIO DE JANEIRO",
         "BR",
         "JARDIM GUANABARA",
         "2190167",
         "-43.21",
         "-22.82",
         "RJ",
         "21940",
         "fa140fe3df83f225f95a07243a0b7134a3a119756a428c377a847e0b38e8c853",
         "-43.21",
         "-22.82",
         "America/Sao_Paulo",
         "2018-12-29T00:07:25.000Z",
         "f9fa11446bab9d526332677d693e28e6d7467d15bc9d44082425aef289b5c28b",
         false,
         37.9,
         "IOS",
         "673 - HASHI EXTRA",
         "0",
         "BRL",
         "0",
         "BRL",
         3.0,
         3,
         "30",
         "BRL",
         "be71ce367a774194822cbb2d1be84b6b",
         "90",
         "BRL",
         null,
         null,
         null,
         null,
         null,
         null,
         null,
         null,
         null,
         null,
         null,
         null,
         null,
         null,
         null,
         null
        ],
        [
         "94554280152",
         "e2a4d4bd02ea325628327d1eb0a4d2536c98327c4363fddd706c9f1405a0b130",
         "JULIANA",
         "SAO PAULO",
         "BR",
         "CONJUNTO HABITACIONAL TURISTICA",
         "9411004",
         "-46.76",
         "-23.48",
         "SP",
         "51640",
         "410be56997129cd52afbfe92d6101ea82c6c4c9885969c40ffc2dad07bf3d71c",
         "-46.76",
         "-23.48",
         "America/Sao_Paulo",
         "2019-01-21T17:51:35.000Z",
         "43d25ec73d3f01f27adea95082f22432f7d908cb4d94fc6f18fec664144869b2",
         false,
         70.7,
         "IOS",
         "COCA-COLA 600 ML",
         "0",
         "BRL",
         "0",
         "BRL",
         1.0,
         4,
         "590",
         "BRL",
         "da77ebaded2a42748a8f5fa7358ae3f3",
         "590",
         "BRL",
         null,
         null,
         null,
         null,
         null,
         null,
         null,
         null,
         null,
         null,
         null,
         null,
         null,
         null,
         null,
         null
        ],
        [
         "94554280152",
         "e2a4d4bd02ea325628327d1eb0a4d2536c98327c4363fddd706c9f1405a0b130",
         "JULIANA",
         "SAO PAULO",
         "BR",
         "CONJUNTO HABITACIONAL TURISTICA",
         "9411004",
         "-46.76",
         "-23.48",
         "SP",
         "51640",
         "410be56997129cd52afbfe92d6101ea82c6c4c9885969c40ffc2dad07bf3d71c",
         "-46.76",
         "-23.48",
         "America/Sao_Paulo",
         "2019-01-21T17:51:35.000Z",
         "43d25ec73d3f01f27adea95082f22432f7d908cb4d94fc6f18fec664144869b2",
         false,
         70.7,
         "IOS",
         "YAKISOBA CLASSICO GRANDE",
         "0",
         "BRL",
         "0",
         "BRL",
         1.0,
         1,
         "3350",
         "BRL",
         "d49ce7f899ee4dd5b077a7c713df48c3",
         "3350",
         "BRL",
         null,
         null,
         null,
         null,
         null,
         null,
         null,
         null,
         null,
         null,
         null,
         null,
         null,
         null,
         null,
         null
        ],
        [
         "94554280152",
         "e2a4d4bd02ea325628327d1eb0a4d2536c98327c4363fddd706c9f1405a0b130",
         "JULIANA",
         "SAO PAULO",
         "BR",
         "CONJUNTO HABITACIONAL TURISTICA",
         "9411004",
         "-46.76",
         "-23.48",
         "SP",
         "51640",
         "410be56997129cd52afbfe92d6101ea82c6c4c9885969c40ffc2dad07bf3d71c",
         "-46.76",
         "-23.48",
         "America/Sao_Paulo",
         "2019-01-21T17:51:35.000Z",
         "43d25ec73d3f01f27adea95082f22432f7d908cb4d94fc6f18fec664144869b2",
         false,
         70.7,
         "IOS",
         "CHA ICE TEA FUZE PESSEGO 300ML",
         "0",
         "BRL",
         "0",
         "BRL",
         1.0,
         3,
         "550",
         "BRL",
         "8f2c50416d7442289ab6cd756f18f3d5",
         "550",
         "BRL",
         null,
         null,
         null,
         null,
         null,
         null,
         null,
         null,
         null,
         null,
         null,
         null,
         null,
         null,
         null,
         null
        ],
        [
         "94554280152",
         "e2a4d4bd02ea325628327d1eb0a4d2536c98327c4363fddd706c9f1405a0b130",
         "JULIANA",
         "SAO PAULO",
         "BR",
         "CONJUNTO HABITACIONAL TURISTICA",
         "9411004",
         "-46.76",
         "-23.48",
         "SP",
         "51640",
         "410be56997129cd52afbfe92d6101ea82c6c4c9885969c40ffc2dad07bf3d71c",
         "-46.76",
         "-23.48",
         "America/Sao_Paulo",
         "2019-01-21T17:51:35.000Z",
         "43d25ec73d3f01f27adea95082f22432f7d908cb4d94fc6f18fec664144869b2",
         false,
         70.7,
         "IOS",
         "YAKISOBA CLASSICO PEQUENO",
         "0",
         "BRL",
         "0",
         "BRL",
         1.0,
         2,
         "2580",
         "BRL",
         "26235047a2d64f1e8fc8fd12ebc4a1e6",
         "2580",
         "BRL",
         null,
         null,
         null,
         null,
         null,
         null,
         null,
         null,
         null,
         null,
         null,
         null,
         null,
         null,
         null,
         null
        ],
        [
         "36394163232",
         "ec5d13d99badeb9108b1c04a5b94ab4f7c8915165acf4ea9a3757ee354582047",
         "VICTOR",
         "RIO DE JANEIRO",
         "BR",
         "COPACABANA",
         "8149407",
         "-43.18",
         "-22.97",
         "RJ",
         "22020",
         "f5b685fda71643a4b5a29201c9fda17a3183499d1107eadd029c196ffa4ae854",
         "-43.18",
         "-22.97",
         "America/Sao_Paulo",
         "2018-12-31T22:46:13.000Z",
         "9227ef1b80d2158e433cc3199ddedd57373cc358bb51d6cf532bc433d1453e2b",
         false,
         46.6,
         "IOS",
         "Mini Kibe Frito",
         "0",
         "BRL",
         "0",
         "BRL",
         2.0,
         3,
         "380",
         "BRL",
         "bf778edf94d74ce39c35a40822f98376",
         "760",
         "BRL",
         null,
         null,
         null,
         null,
         null,
         null,
         null,
         null,
         null,
         null,
         null,
         null,
         null,
         null,
         null,
         null
        ]
       ],
       "datasetInfos": [],
       "dbfsResultPath": null,
       "isJsonSchema": true,
       "metadata": {},
       "overflow": false,
       "plotOptions": {
        "customPlotOptions": {},
        "displayType": "table",
        "pivotAggregation": null,
        "pivotColumns": null,
        "xColumns": null,
        "yColumns": null
       },
       "removedWidgets": [],
       "schema": [
        {
         "metadata": "{}",
         "name": "cpf",
         "type": "\"string\""
        },
        {
         "metadata": "{}",
         "name": "customer_id",
         "type": "\"string\""
        },
        {
         "metadata": "{}",
         "name": "customer_name",
         "type": "\"string\""
        },
        {
         "metadata": "{}",
         "name": "delivery_address_city",
         "type": "\"string\""
        },
        {
         "metadata": "{}",
         "name": "delivery_address_country",
         "type": "\"string\""
        },
        {
         "metadata": "{}",
         "name": "delivery_address_district",
         "type": "\"string\""
        },
        {
         "metadata": "{}",
         "name": "delivery_address_external_id",
         "type": "\"string\""
        },
        {
         "metadata": "{}",
         "name": "delivery_address_latitude",
         "type": "\"string\""
        },
        {
         "metadata": "{}",
         "name": "delivery_address_longitude",
         "type": "\"string\""
        },
        {
         "metadata": "{}",
         "name": "delivery_address_state",
         "type": "\"string\""
        },
        {
         "metadata": "{}",
         "name": "delivery_address_zip_code",
         "type": "\"string\""
        },
        {
         "metadata": "{}",
         "name": "merchant_id",
         "type": "\"string\""
        },
        {
         "metadata": "{}",
         "name": "merchant_latitude",
         "type": "\"string\""
        },
        {
         "metadata": "{}",
         "name": "merchant_longitude",
         "type": "\"string\""
        },
        {
         "metadata": "{}",
         "name": "merchant_timezone",
         "type": "\"string\""
        },
        {
         "metadata": "{}",
         "name": "order_created_at",
         "type": "\"string\""
        },
        {
         "metadata": "{}",
         "name": "order_id",
         "type": "\"string\""
        },
        {
         "metadata": "{}",
         "name": "order_scheduled",
         "type": "\"boolean\""
        },
        {
         "metadata": "{}",
         "name": "order_total_amount",
         "type": "\"double\""
        },
        {
         "metadata": "{}",
         "name": "origin_platform",
         "type": "\"string\""
        },
        {
         "metadata": "{}",
         "name": "item_name",
         "type": "\"string\""
        },
        {
         "metadata": "{}",
         "name": "item_addition_value",
         "type": "\"string\""
        },
        {
         "metadata": "{}",
         "name": "item_addition_currency",
         "type": "\"string\""
        },
        {
         "metadata": "{}",
         "name": "item_discount_value",
         "type": "\"string\""
        },
        {
         "metadata": "{}",
         "name": "item_discount_currency",
         "type": "\"string\""
        },
        {
         "metadata": "{}",
         "name": "item_quantity",
         "type": "\"double\""
        },
        {
         "metadata": "{}",
         "name": "item_sequence",
         "type": "\"long\""
        },
        {
         "metadata": "{}",
         "name": "item_unit_price_value",
         "type": "\"string\""
        },
        {
         "metadata": "{}",
         "name": "item_unit_price_currency",
         "type": "\"string\""
        },
        {
         "metadata": "{}",
         "name": "item_external_id",
         "type": "\"string\""
        },
        {
         "metadata": "{}",
         "name": "item_total_value_value",
         "type": "\"string\""
        },
        {
         "metadata": "{}",
         "name": "item_total_value_currency",
         "type": "\"string\""
        },
        {
         "metadata": "{}",
         "name": "item_customer_note",
         "type": "\"string\""
        },
        {
         "metadata": "{}",
         "name": "garnish_item_name",
         "type": "\"string\""
        },
        {
         "metadata": "{}",
         "name": "garnish_item_addition_value",
         "type": "\"string\""
        },
        {
         "metadata": "{}",
         "name": "garnish_item_addition_currency",
         "type": "\"string\""
        },
        {
         "metadata": "{}",
         "name": "garnish_item_discount_value",
         "type": "\"string\""
        },
        {
         "metadata": "{}",
         "name": "garnish_item_discount_currency",
         "type": "\"string\""
        },
        {
         "metadata": "{}",
         "name": "garnish_item_quantity",
         "type": "\"double\""
        },
        {
         "metadata": "{}",
         "name": "garnish_item_sequence",
         "type": "\"long\""
        },
        {
         "metadata": "{}",
         "name": "garnish_item_unit_price_value",
         "type": "\"string\""
        },
        {
         "metadata": "{}",
         "name": "garnish_item_unit_price_currency",
         "type": "\"string\""
        },
        {
         "metadata": "{}",
         "name": "garnish_item_category_id",
         "type": "\"string\""
        },
        {
         "metadata": "{}",
         "name": "garnish_item_external_id",
         "type": "\"string\""
        },
        {
         "metadata": "{}",
         "name": "garnish_item_total_value_value",
         "type": "\"string\""
        },
        {
         "metadata": "{}",
         "name": "garnish_item_total_value_currency",
         "type": "\"string\""
        },
        {
         "metadata": "{}",
         "name": "garnish_item_category_name",
         "type": "\"string\""
        },
        {
         "metadata": "{}",
         "name": "garnish_item_integration_id",
         "type": "\"string\""
        }
       ],
       "type": "table"
      }
     },
     "output_type": "display_data"
    }
   ],
   "source": [
    "display(df_unificado.limit(10))"
   ]
  },
  {
   "cell_type": "markdown",
   "metadata": {
    "application/vnd.databricks.v1+cell": {
     "cellMetadata": {
      "byteLimit": 2048000,
      "rowLimit": 10000
     },
     "inputWidgets": {},
     "nuid": "db95f9ed-ef17-47b3-b952-4f4ec813d67c",
     "showTitle": false,
     "tableResultSettingsMap": {},
     "title": ""
    }
   },
   "source": [
    "# Tabela usuários, restaurantes, teste A/B"
   ]
  },
  {
   "cell_type": "code",
   "execution_count": 0,
   "metadata": {
    "application/vnd.databricks.v1+cell": {
     "cellMetadata": {
      "byteLimit": 2048000,
      "rowLimit": 10000
     },
     "inputWidgets": {},
     "nuid": "2eb1879f-bf67-46f1-b901-5a76d88a41dd",
     "showTitle": true,
     "tableResultSettingsMap": {},
     "title": "Usuários"
    }
   },
   "outputs": [],
   "source": [
    "df_consumer = (spark.table('workspace.default.consumer'))\n",
    "\n",
    "# display(df_consumer.limit(100))"
   ]
  },
  {
   "cell_type": "code",
   "execution_count": 0,
   "metadata": {
    "application/vnd.databricks.v1+cell": {
     "cellMetadata": {
      "byteLimit": 2048000,
      "rowLimit": 10000
     },
     "inputWidgets": {},
     "nuid": "703a17e9-e768-4121-a396-f25abd787089",
     "showTitle": true,
     "tableResultSettingsMap": {},
     "title": "Restaurantes"
    }
   },
   "outputs": [],
   "source": [
    "df_rest = (spark.table('workspace.default.restaurant'))\n",
    "\n",
    "# display(df_rest.limit(100))"
   ]
  },
  {
   "cell_type": "code",
   "execution_count": 0,
   "metadata": {
    "application/vnd.databricks.v1+cell": {
     "cellMetadata": {
      "byteLimit": 2048000,
      "rowLimit": 10000
     },
     "inputWidgets": {},
     "nuid": "5e728d03-6f06-4f9a-bf68-395b22e14087",
     "showTitle": true,
     "tableResultSettingsMap": {},
     "title": "Teste A/B"
    }
   },
   "outputs": [
    {
     "output_type": "stream",
     "name": "stdout",
     "output_type": "stream",
     "text": [
      "Número total de registros no DataFrame final: 806467\n"
     ]
    }
   ],
   "source": [
    "df_teste = (spark.table('workspace.default.ab_test_ref'))\n",
    "\n",
    "print(f\"Número total de registros no DataFrame final: {df_teste.count()}\")\n",
    "\n",
    "# display(df_teste.limit(100))"
   ]
  },
  {
   "cell_type": "code",
   "execution_count": 0,
   "metadata": {
    "application/vnd.databricks.v1+cell": {
     "cellMetadata": {
      "byteLimit": 2048000,
      "rowLimit": 10000
     },
     "inputWidgets": {},
     "nuid": "3c0e12d0-2523-4d35-89de-4d8f02d3d097",
     "showTitle": true,
     "tableResultSettingsMap": {},
     "title": "Teste A/B por grupo"
    }
   },
   "outputs": [
    {
     "output_type": "display_data",
     "data": {
      "text/html": [
       "<style scoped>\n",
       "  .table-result-container {\n",
       "    max-height: 300px;\n",
       "    overflow: auto;\n",
       "  }\n",
       "  table, th, td {\n",
       "    border: 1px solid black;\n",
       "    border-collapse: collapse;\n",
       "  }\n",
       "  th, td {\n",
       "    padding: 5px;\n",
       "  }\n",
       "  th {\n",
       "    text-align: left;\n",
       "  }\n",
       "</style><div class='table-result-container'><table class='table-result'><thead style='background-color: white'><tr><th>is_target</th><th>Freq</th><th>Percent</th></tr></thead><tbody><tr><td>target</td><td>445925</td><td>55.29</td></tr><tr><td>control</td><td>360542</td><td>44.71</td></tr></tbody></table></div>"
      ]
     },
     "metadata": {
      "application/vnd.databricks.v1+output": {
       "addedWidgets": {},
       "aggData": [],
       "aggError": "",
       "aggOverflow": false,
       "aggSchema": [],
       "aggSeriesLimitReached": false,
       "aggType": "",
       "arguments": {},
       "columnCustomDisplayInfos": {},
       "data": [
        [
         "target",
         445925,
         55.29
        ],
        [
         "control",
         360542,
         44.71
        ]
       ],
       "datasetInfos": [],
       "dbfsResultPath": null,
       "isJsonSchema": true,
       "metadata": {},
       "overflow": false,
       "plotOptions": {
        "customPlotOptions": {},
        "displayType": "table",
        "pivotAggregation": null,
        "pivotColumns": null,
        "xColumns": null,
        "yColumns": null
       },
       "removedWidgets": [],
       "schema": [
        {
         "metadata": "{}",
         "name": "is_target",
         "type": "\"string\""
        },
        {
         "metadata": "{}",
         "name": "Freq",
         "type": "\"long\""
        },
        {
         "metadata": "{}",
         "name": "Percent",
         "type": "\"double\""
        }
       ],
       "type": "table"
      }
     },
     "output_type": "display_data"
    }
   ],
   "source": [
    "df_rest = (spark.table(\"workspace.default.ab_test_ref\")\n",
    "    .groupBy(\"is_target\")\n",
    "    .agg(\n",
    "        F.count(\"is_target\").alias(\"Freq\"),\n",
    "        (F.count(\"is_target\") * 1.0 / F.sum(F.count(\"is_target\")).over(Window.partitionBy(F.lit(1))) * 100).alias(\"Percent\")\n",
    "    )\n",
    "    .withColumn(\"Percent\", F.round(\"Percent\", 2))\n",
    "    .orderBy(F.desc(\"Freq\"))\n",
    ")\n",
    "\n",
    "display(df_rest)"
   ]
  },
  {
   "cell_type": "markdown",
   "metadata": {
    "application/vnd.databricks.v1+cell": {
     "cellMetadata": {
      "byteLimit": 2048000,
      "rowLimit": 10000
     },
     "inputWidgets": {},
     "nuid": "3c181a3e-3dea-4452-b26b-e5ffe8bd1e9e",
     "showTitle": false,
     "tableResultSettingsMap": {},
     "title": ""
    }
   },
   "source": [
    "# Join entre as tabelas"
   ]
  },
  {
   "cell_type": "code",
   "execution_count": 0,
   "metadata": {
    "application/vnd.databricks.v1+cell": {
     "cellMetadata": {
      "byteLimit": 2048000,
      "rowLimit": 10000
     },
     "inputWidgets": {},
     "nuid": "b9c1e725-59d7-4b74-9e18-5a6fc31026cd",
     "showTitle": true,
     "tableResultSettingsMap": {},
     "title": "Tabela order"
    }
   },
   "outputs": [
    {
     "output_type": "stream",
     "name": "stdout",
     "output_type": "stream",
     "text": [
      "Número total de registros na tabela teste ab: 806467\nNúmero total de registros na tabela order: 14385062\nNúmero total de registros no DataFrame final: 14385062\n"
     ]
    }
   ],
   "source": [
    "CATALOGO = \"workspace\"\n",
    "SCHEMA = \"default\"\n",
    "\n",
    "# 1. Leitura das tabelas\n",
    "df_teste = spark.table(\"workspace.default.ab_test_ref\").withColumnRenamed(\"customer_id\", \"customer_id_teste_ab\")\n",
    "df_order = spark.table(\"workspace.default.final_order\").withColumnRenamed(\"customer_id\", \"customer_id_order\")\n",
    "df_consumer = spark.table(\"workspace.default.consumer\").withColumnRenamed(\"created_at\", \"consumer_created_at\")\n",
    "df_restaurant = spark.table(\"workspace.default.restaurant\").withColumnRenamed(\"created_at\", \"restaurant_created_at\")\n",
    "\n",
    "\n",
    "# União: tabela order e tabela teste A/B\n",
    "df_final_result = (\n",
    "    df_order.join(\n",
    "        df_teste,\n",
    "        on=df_teste[\"customer_id_teste_ab\"] == df_order[\"customer_id_order\"],\n",
    "        how=\"left_outer\"\n",
    "    )\n",
    "    .join(\n",
    "        df_consumer,\n",
    "        on=df_consumer[\"customer_id\"] == df_order[\"customer_id_order\"],\n",
    "        how=\"left_outer\"\n",
    "    ).drop(df_consumer[\"customer_name\"])\n",
    "    .join(\n",
    "        df_restaurant,\n",
    "        on=df_order[\"merchant_id\"] == df_restaurant[\"id\"],\n",
    "        how=\"left_outer\"\n",
    "    ).drop(df_restaurant[\"id\"])\n",
    ")\n",
    "\n",
    "\n",
    "print(f\"Número total de registros na tabela teste ab: {df_teste.count()}\")\n",
    "print(f\"Número total de registros na tabela order: {df_order.count()}\")\n",
    "print(f\"Número total de registros no DataFrame final: {df_final_result.count()}\")\n",
    "\n",
    "# display(df_final_result.limit(10))"
   ]
  },
  {
   "cell_type": "code",
   "execution_count": 0,
   "metadata": {
    "application/vnd.databricks.v1+cell": {
     "cellMetadata": {
      "byteLimit": 2048000,
      "rowLimit": 10000
     },
     "inputWidgets": {},
     "nuid": "2c944e17-bf37-44fd-8955-687b91b40564",
     "showTitle": true,
     "tableResultSettingsMap": {},
     "title": "Salvando tabela"
    }
   },
   "outputs": [
    {
     "output_type": "stream",
     "name": "stdout",
     "output_type": "stream",
     "text": [
      "Tabela final 'workspace.default.result_order' criada com sucesso.\n"
     ]
    }
   ],
   "source": [
    "CATALOGO = \"workspace\"\n",
    "SCHEMA = \"default\"\n",
    "\n",
    "NOME_TABELA_RESULTADO_FINAL = \"result_order\"\n",
    "\n",
    "df_final_result.write \\\n",
    "    .format(\"delta\") \\\n",
    "    .mode(\"overwrite\") \\\n",
    "    .option(\"overwriteSchema\", \"true\") \\\n",
    "    .saveAsTable(f\"{CATALOGO}.{SCHEMA}.{NOME_TABELA_RESULTADO_FINAL}\")\n",
    "print(f\"Tabela final '{CATALOGO}.{SCHEMA}.{NOME_TABELA_RESULTADO_FINAL}' criada com sucesso.\")"
   ]
  },
  {
   "cell_type": "code",
   "execution_count": 0,
   "metadata": {
    "application/vnd.databricks.v1+cell": {
     "cellMetadata": {
      "byteLimit": 2048000,
      "rowLimit": 10000
     },
     "inputWidgets": {},
     "nuid": "6c07e89c-fae1-4751-902b-d6b3d9c95b43",
     "showTitle": true,
     "tableResultSettingsMap": {},
     "title": "Tabela teste A/B"
    }
   },
   "outputs": [
    {
     "output_type": "stream",
     "name": "stdout",
     "output_type": "stream",
     "text": [
      "Número total de registros na tabela teste ab: 806467\nNúmero total de registros na tabela order: 14385062\nNúmero total de registros no primeiro join: 806467\nNúmero total de registros no segundo join: 14385062\nNúmero total de registros no DataFrame final: 14337897\n"
     ]
    }
   ],
   "source": [
    "CATALOGO = \"workspace\"\n",
    "SCHEMA = \"default\"\n",
    "\n",
    "# 1. Leitura das tabelas\n",
    "df_consumer = spark.table(\"workspace.default.consumer\").withColumnRenamed(\"created_at\", \"consumer_created_at\")\n",
    "df_teste = spark.table(\"workspace.default.ab_test_ref\").withColumnRenamed(\"customer_id\", \"customer_id_teste_ab\")\n",
    "df_restaurant = spark.table(\"workspace.default.restaurant\").withColumnRenamed(\"created_at\", \"restaurant_created_at\")\n",
    "df_order = spark.table(\"workspace.default.final_order\")\n",
    "\n",
    "\n",
    "# Primeira união: tabela teste A/B e tabela comsumer\n",
    "df_final1 = df_teste.join(\n",
    "    df_consumer,\n",
    "    on=df_teste[\"customer_id_teste_ab\"] == df_consumer[\"customer_id\"],\n",
    "    how=\"left_outer\"\n",
    ").drop(df_consumer[\"customer_id\"])\n",
    "\n",
    "# Segunda união: tabela order e tabela restaurant\n",
    "df_final2 = df_order.join(\n",
    "    df_restaurant,\n",
    "    on=df_order[\"merchant_id\"] == df_restaurant[\"id\"],\n",
    "    how=\"left_outer\"\n",
    ").drop(df_restaurant[\"id\"], df_order[\"customer_name\"])\n",
    "\n",
    "# Terceira e última união: df_final1 e df_final2 (unindo todos os dados)\n",
    "df_final_result = df_final1.join(\n",
    "    df_final2,\n",
    "    on=df_final1[\"customer_id_teste_ab\"] == df_final2[\"customer_id\"],\n",
    "    how=\"left_outer\"\n",
    ").drop(df_final2[\"customer_id\"])\n",
    "\n",
    "print(f\"Número total de registros na tabela teste ab: {df_teste.count()}\")\n",
    "print(f\"Número total de registros na tabela order: {df_order.count()}\")\n",
    "print(f\"Número total de registros no primeiro join: {df_final1.count()}\")\n",
    "print(f\"Número total de registros no segundo join: {df_final2.count()}\")\n",
    "print(f\"Número total de registros no DataFrame final: {df_final_result.count()}\")\n",
    "\n",
    "# display(df_final_result.limit(10))"
   ]
  },
  {
   "cell_type": "code",
   "execution_count": 0,
   "metadata": {
    "application/vnd.databricks.v1+cell": {
     "cellMetadata": {
      "byteLimit": 2048000,
      "rowLimit": 10000
     },
     "inputWidgets": {},
     "nuid": "8580b547-6e0e-49a0-bc28-ec8de9c3c65d",
     "showTitle": true,
     "tableResultSettingsMap": {},
     "title": "Salvando tabela"
    }
   },
   "outputs": [
    {
     "output_type": "stream",
     "name": "stdout",
     "output_type": "stream",
     "text": [
      "Tabela final 'workspace.default.result_teste' criada com sucesso.\n"
     ]
    }
   ],
   "source": [
    "CATALOGO = \"workspace\"\n",
    "SCHEMA = \"default\"\n",
    "\n",
    "NOME_TABELA_RESULTADO_FINAL = \"result_teste\"\n",
    "\n",
    "df_final_result.write \\\n",
    "    .format(\"delta\") \\\n",
    "    .mode(\"overwrite\") \\\n",
    "    .option(\"overwriteSchema\", \"true\") \\\n",
    "    .saveAsTable(f\"{CATALOGO}.{SCHEMA}.{NOME_TABELA_RESULTADO_FINAL}\")\n",
    "print(f\"Tabela final '{CATALOGO}.{SCHEMA}.{NOME_TABELA_RESULTADO_FINAL}' criada com sucesso.\")"
   ]
  },
  {
   "cell_type": "code",
   "execution_count": 0,
   "metadata": {
    "application/vnd.databricks.v1+cell": {
     "cellMetadata": {
      "byteLimit": 2048000,
      "rowLimit": 10000
     },
     "inputWidgets": {},
     "nuid": "cdbff12c-cd02-4312-a5c6-e656ac097da2",
     "showTitle": true,
     "tableResultSettingsMap": {},
     "title": "Exportando dados csv"
    }
   },
   "outputs": [
    {
     "output_type": "stream",
     "name": "stdout",
     "output_type": "stream",
     "text": [
      "Exportando o DataFrame para CSV em: /Volumes/workspace/default/arq_json/arq_csv\nO arquivo CSV (ou diretório com arquivos CSV) foi salvo em: /Volumes/workspace/default/arq_json/arq_csv\n"
     ]
    }
   ],
   "source": [
    "caminho_exportacao_csv = \"/Volumes/workspace/default/arq_json/arq_csv\"\n",
    "\n",
    "print(f\"Exportando o DataFrame para CSV em: {caminho_exportacao_csv}\")\n",
    "\n",
    "# O método coalesce(1) ainda é recomendado para criar um único arquivo CSV para download fácil.\n",
    "# Se o seu DataFrame for muito grande, remova '.coalesce(1)' para que o Spark escreva em múltiplos arquivos.\n",
    "df_final_result.coalesce(1).write \\\n",
    "    .format(\"csv\") \\\n",
    "    .option(\"header\", \"true\") \\\n",
    "    .mode(\"overwrite\") \\\n",
    "    .save(caminho_exportacao_csv)\n",
    "\n",
    "print(f\"O arquivo CSV (ou diretório com arquivos CSV) foi salvo em: {caminho_exportacao_csv}\")"
   ]
  }
 ],
 "metadata": {
  "application/vnd.databricks.v1+notebook": {
   "computePreferences": null,
   "dashboards": [],
   "environmentMetadata": {
    "base_environment": "",
    "environment_version": "2"
   },
   "inputWidgetPreferences": null,
   "language": "python",
   "notebookMetadata": {
    "mostRecentlyExecutedCommandWithImplicitDF": {
     "commandId": 8629001307364090,
     "dataframes": [
      "_sqldf"
     ]
    },
    "pythonIndentUnit": 4
   },
   "notebookName": "[iFood] Data Analysis | Prepare Data",
   "widgets": {}
  },
  "language_info": {
   "name": "python"
  }
 },
 "nbformat": 4,
 "nbformat_minor": 0
}